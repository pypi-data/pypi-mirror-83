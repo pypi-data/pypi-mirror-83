{
 "cells": [
  {
   "cell_type": "code",
   "execution_count": 1,
   "metadata": {
    "hide_input": false,
    "scrolled": true
   },
   "outputs": [],
   "source": [
    "import pandas as pd\n",
    "from src.isotope_correction import (\n",
    "    calc_correction_factor,\n",
    "    calc_probability_table,\n",
    "    calc_isotopologue_correction,\n",
    "    calc_transition_prob,\n",
    ")"
   ]
  },
  {
   "cell_type": "markdown",
   "metadata": {},
   "source": [
    "# Calculation of Isotopologue Correction Factors\n",
    "## Background\n",
    "Most elements occur naturally in different isotopes which almost excactly the same chemical properties.\n",
    "\n",
    "The most important element with  for biological compounds are:\n",
    "\n",
    "|Isotope | % nat. abundance | atomic mass\n",
    "| --- | --- | --- \n",
    "| <sup>1</sup>H | 99.985 | 1.007825\n",
    "| <sup>2</sup>H | 0.015 | 2.0140\n",
    "| <sup>12</sup>C | 98.89 | 12\n",
    "| <sup>13</sup>C | 1.11 | 13.00335\n",
    "| <sup>14</sup>N | 99.64 | 14.00307\n",
    "| <sup>15</sup>N | 0.36 | 15.00011\n",
    "| <sup>16</sup>O | 99.76 | 15.99491\n",
    "| <sup>17</sup>O | 0.04| 16.99913\n",
    "| <sup>18</sup>O | 0.2| 17.99916\n",
    "| <sup>28</sup>Si | 92.23 | 27.97693\n",
    "| <sup>29</sup>Si | 4.67 | 28.97649\n",
    "| <sup>30</sup>Si | 3.10 | 29.97376\n",
    "| <sup>32</sup>S  | 95.0 | 31.97207\n",
    "| <sup>33</sup>S  | 0.76 | 32.97146\n",
    "| <sup>34</sup>S  | 4.22 | 33.96786\n",
    "| <sup>35</sup>Cl | 75.77 | 34.96885\n",
    "| <sup>37</sup>Cl | 24.23 | 36.96590\n",
    "| <sup>79</sup>Br  | 50.69 | 78.9183\n",
    "| <sup>81</sup>Br  | 49.31 | 80.9163\n",
    "\n",
    "Every naturally occuring chemical compound have an isotope composition reflecting the natural isotope distribution as shown above.\n"
   ]
  },
  {
   "cell_type": "markdown",
   "metadata": {},
   "source": [
    "## Probabilities for unlabelled NAD isotopologues"
   ]
  },
  {
   "cell_type": "code",
   "execution_count": 2,
   "metadata": {
    "scrolled": true
   },
   "outputs": [
    {
     "name": "stdout",
     "output_type": "stream",
     "text": [
      "Correction factor: 1.3347164372034768\n"
     ]
    },
    {
     "data": {
      "text/html": [
       "<style  type=\"text/css\" >\n",
       "</style><table id=\"T_e706b2f2_eb35_11ea_b864_28d2440e4b52\" ><thead>    <tr>        <th class=\"blank level0\" ></th>        <th class=\"col_heading level0 col0\" >C</th>        <th class=\"col_heading level0 col1\" >N</th>        <th class=\"col_heading level0 col2\" >O</th>        <th class=\"col_heading level0 col3\" >H</th>        <th class=\"col_heading level0 col4\" >total</th>    </tr></thead><tbody>\n",
       "                <tr>\n",
       "                        <th id=\"T_e706b2f2_eb35_11ea_b864_28d2440e4b52level0_row0\" class=\"row_heading level0 row0\" >0</th>\n",
       "                        <td id=\"T_e706b2f2_eb35_11ea_b864_28d2440e4b52row0_col0\" class=\"data row0 col0\" >79.8%</td>\n",
       "                        <td id=\"T_e706b2f2_eb35_11ea_b864_28d2440e4b52row0_col1\" class=\"data row0 col1\" >97.5%</td>\n",
       "                        <td id=\"T_e706b2f2_eb35_11ea_b864_28d2440e4b52row0_col2\" class=\"data row0 col2\" >96.7%</td>\n",
       "                        <td id=\"T_e706b2f2_eb35_11ea_b864_28d2440e4b52row0_col3\" class=\"data row0 col3\" >99.7%</td>\n",
       "                        <td id=\"T_e706b2f2_eb35_11ea_b864_28d2440e4b52row0_col4\" class=\"data row0 col4\" >74.9%</td>\n",
       "            </tr>\n",
       "            <tr>\n",
       "                        <th id=\"T_e706b2f2_eb35_11ea_b864_28d2440e4b52level0_row1\" class=\"row_heading level0 row1\" >1</th>\n",
       "                        <td id=\"T_e706b2f2_eb35_11ea_b864_28d2440e4b52row1_col0\" class=\"data row1 col0\" >18.1%</td>\n",
       "                        <td id=\"T_e706b2f2_eb35_11ea_b864_28d2440e4b52row1_col1\" class=\"data row1 col1\" >2.5%</td>\n",
       "                        <td id=\"T_e706b2f2_eb35_11ea_b864_28d2440e4b52row1_col2\" class=\"data row1 col2\" >0.5%</td>\n",
       "                        <td id=\"T_e706b2f2_eb35_11ea_b864_28d2440e4b52row1_col3\" class=\"data row1 col3\" >0.3%</td>\n",
       "                        <td id=\"T_e706b2f2_eb35_11ea_b864_28d2440e4b52row1_col4\" class=\"data row1 col4\" >19.6%</td>\n",
       "            </tr>\n",
       "            <tr>\n",
       "                        <th id=\"T_e706b2f2_eb35_11ea_b864_28d2440e4b52level0_row2\" class=\"row_heading level0 row2\" >2</th>\n",
       "                        <td id=\"T_e706b2f2_eb35_11ea_b864_28d2440e4b52row2_col0\" class=\"data row2 col0\" >2.0%</td>\n",
       "                        <td id=\"T_e706b2f2_eb35_11ea_b864_28d2440e4b52row2_col1\" class=\"data row2 col1\" >0.0%</td>\n",
       "                        <td id=\"T_e706b2f2_eb35_11ea_b864_28d2440e4b52row2_col2\" class=\"data row2 col2\" >2.8%</td>\n",
       "                        <td id=\"T_e706b2f2_eb35_11ea_b864_28d2440e4b52row2_col3\" class=\"data row2 col3\" >0.0%</td>\n",
       "                        <td id=\"T_e706b2f2_eb35_11ea_b864_28d2440e4b52row2_col4\" class=\"data row2 col4\" >4.6%</td>\n",
       "            </tr>\n",
       "            <tr>\n",
       "                        <th id=\"T_e706b2f2_eb35_11ea_b864_28d2440e4b52level0_row3\" class=\"row_heading level0 row3\" >3</th>\n",
       "                        <td id=\"T_e706b2f2_eb35_11ea_b864_28d2440e4b52row3_col0\" class=\"data row3 col0\" >0.1%</td>\n",
       "                        <td id=\"T_e706b2f2_eb35_11ea_b864_28d2440e4b52row3_col1\" class=\"data row3 col1\" >0.0%</td>\n",
       "                        <td id=\"T_e706b2f2_eb35_11ea_b864_28d2440e4b52row3_col2\" class=\"data row3 col2\" >0.0%</td>\n",
       "                        <td id=\"T_e706b2f2_eb35_11ea_b864_28d2440e4b52row3_col3\" class=\"data row3 col3\" >0.0%</td>\n",
       "                        <td id=\"T_e706b2f2_eb35_11ea_b864_28d2440e4b52row3_col4\" class=\"data row3 col4\" >0.8%</td>\n",
       "            </tr>\n",
       "            <tr>\n",
       "                        <th id=\"T_e706b2f2_eb35_11ea_b864_28d2440e4b52level0_row4\" class=\"row_heading level0 row4\" >4</th>\n",
       "                        <td id=\"T_e706b2f2_eb35_11ea_b864_28d2440e4b52row4_col0\" class=\"data row4 col0\" >0.0%</td>\n",
       "                        <td id=\"T_e706b2f2_eb35_11ea_b864_28d2440e4b52row4_col1\" class=\"data row4 col1\" >0.0%</td>\n",
       "                        <td id=\"T_e706b2f2_eb35_11ea_b864_28d2440e4b52row4_col2\" class=\"data row4 col2\" >0.0%</td>\n",
       "                        <td id=\"T_e706b2f2_eb35_11ea_b864_28d2440e4b52row4_col3\" class=\"data row4 col3\" >0.0%</td>\n",
       "                        <td id=\"T_e706b2f2_eb35_11ea_b864_28d2440e4b52row4_col4\" class=\"data row4 col4\" >0.1%</td>\n",
       "            </tr>\n",
       "            <tr>\n",
       "                        <th id=\"T_e706b2f2_eb35_11ea_b864_28d2440e4b52level0_row5\" class=\"row_heading level0 row5\" >5</th>\n",
       "                        <td id=\"T_e706b2f2_eb35_11ea_b864_28d2440e4b52row5_col0\" class=\"data row5 col0\" >0.0%</td>\n",
       "                        <td id=\"T_e706b2f2_eb35_11ea_b864_28d2440e4b52row5_col1\" class=\"data row5 col1\" >0.0%</td>\n",
       "                        <td id=\"T_e706b2f2_eb35_11ea_b864_28d2440e4b52row5_col2\" class=\"data row5 col2\" >0.0%</td>\n",
       "                        <td id=\"T_e706b2f2_eb35_11ea_b864_28d2440e4b52row5_col3\" class=\"data row5 col3\" >0.0%</td>\n",
       "                        <td id=\"T_e706b2f2_eb35_11ea_b864_28d2440e4b52row5_col4\" class=\"data row5 col4\" >0.0%</td>\n",
       "            </tr>\n",
       "    </tbody></table>"
      ],
      "text/plain": [
       "<pandas.io.formats.style.Styler at 0x7f71d821c610>"
      ]
     },
     "execution_count": 2,
     "metadata": {},
     "output_type": "execute_result"
    }
   ],
   "source": [
    "df = calc_probability_table('NAD')\n",
    "corr_factor = calc_correction_factor('NAD')\n",
    "print(f\"Correction factor: {corr_factor}\")\n",
    "df.loc[:5].style.format(\"{:.1%}\")"
   ]
  },
  {
   "cell_type": "code",
   "execution_count": 3,
   "metadata": {
    "scrolled": true
   },
   "outputs": [
    {
     "name": "stdout",
     "output_type": "stream",
     "text": [
      "Correction factor: 1.3204349713253993\n"
     ]
    },
    {
     "data": {
      "text/html": [
       "<style  type=\"text/css\" >\n",
       "</style><table id=\"T_e724bf36_eb35_11ea_b864_28d2440e4b52\" ><thead>    <tr>        <th class=\"blank level0\" ></th>        <th class=\"col_heading level0 col0\" >C</th>        <th class=\"col_heading level0 col1\" >N</th>        <th class=\"col_heading level0 col2\" >O</th>        <th class=\"col_heading level0 col3\" >H</th>        <th class=\"col_heading level0 col4\" >total</th>    </tr></thead><tbody>\n",
       "                <tr>\n",
       "                        <th id=\"T_e724bf36_eb35_11ea_b864_28d2440e4b52level0_row0\" class=\"row_heading level0 row0\" >0</th>\n",
       "                        <td id=\"T_e724bf36_eb35_11ea_b864_28d2440e4b52row0_col0\" class=\"data row0 col0\" >80.6%</td>\n",
       "                        <td id=\"T_e724bf36_eb35_11ea_b864_28d2440e4b52row0_col1\" class=\"data row0 col1\" >97.5%</td>\n",
       "                        <td id=\"T_e724bf36_eb35_11ea_b864_28d2440e4b52row0_col2\" class=\"data row0 col2\" >96.7%</td>\n",
       "                        <td id=\"T_e724bf36_eb35_11ea_b864_28d2440e4b52row0_col3\" class=\"data row0 col3\" >99.7%</td>\n",
       "                        <td id=\"T_e724bf36_eb35_11ea_b864_28d2440e4b52row0_col4\" class=\"data row0 col4\" >75.7%</td>\n",
       "            </tr>\n",
       "            <tr>\n",
       "                        <th id=\"T_e724bf36_eb35_11ea_b864_28d2440e4b52level0_row1\" class=\"row_heading level0 row1\" >1</th>\n",
       "                        <td id=\"T_e724bf36_eb35_11ea_b864_28d2440e4b52row1_col0\" class=\"data row1 col0\" >17.4%</td>\n",
       "                        <td id=\"T_e724bf36_eb35_11ea_b864_28d2440e4b52row1_col1\" class=\"data row1 col1\" >2.5%</td>\n",
       "                        <td id=\"T_e724bf36_eb35_11ea_b864_28d2440e4b52row1_col2\" class=\"data row1 col2\" >0.5%</td>\n",
       "                        <td id=\"T_e724bf36_eb35_11ea_b864_28d2440e4b52row1_col3\" class=\"data row1 col3\" >0.3%</td>\n",
       "                        <td id=\"T_e724bf36_eb35_11ea_b864_28d2440e4b52row1_col4\" class=\"data row1 col4\" >19.0%</td>\n",
       "            </tr>\n",
       "            <tr>\n",
       "                        <th id=\"T_e724bf36_eb35_11ea_b864_28d2440e4b52level0_row2\" class=\"row_heading level0 row2\" >2</th>\n",
       "                        <td id=\"T_e724bf36_eb35_11ea_b864_28d2440e4b52row2_col0\" class=\"data row2 col0\" >1.8%</td>\n",
       "                        <td id=\"T_e724bf36_eb35_11ea_b864_28d2440e4b52row2_col1\" class=\"data row2 col1\" >0.0%</td>\n",
       "                        <td id=\"T_e724bf36_eb35_11ea_b864_28d2440e4b52row2_col2\" class=\"data row2 col2\" >2.8%</td>\n",
       "                        <td id=\"T_e724bf36_eb35_11ea_b864_28d2440e4b52row2_col3\" class=\"data row2 col3\" >0.0%</td>\n",
       "                        <td id=\"T_e724bf36_eb35_11ea_b864_28d2440e4b52row2_col4\" class=\"data row2 col4\" >4.5%</td>\n",
       "            </tr>\n",
       "            <tr>\n",
       "                        <th id=\"T_e724bf36_eb35_11ea_b864_28d2440e4b52level0_row3\" class=\"row_heading level0 row3\" >3</th>\n",
       "                        <td id=\"T_e724bf36_eb35_11ea_b864_28d2440e4b52row3_col0\" class=\"data row3 col0\" >0.1%</td>\n",
       "                        <td id=\"T_e724bf36_eb35_11ea_b864_28d2440e4b52row3_col1\" class=\"data row3 col1\" >0.0%</td>\n",
       "                        <td id=\"T_e724bf36_eb35_11ea_b864_28d2440e4b52row3_col2\" class=\"data row3 col2\" >0.0%</td>\n",
       "                        <td id=\"T_e724bf36_eb35_11ea_b864_28d2440e4b52row3_col3\" class=\"data row3 col3\" >0.0%</td>\n",
       "                        <td id=\"T_e724bf36_eb35_11ea_b864_28d2440e4b52row3_col4\" class=\"data row3 col4\" >0.7%</td>\n",
       "            </tr>\n",
       "            <tr>\n",
       "                        <th id=\"T_e724bf36_eb35_11ea_b864_28d2440e4b52level0_row4\" class=\"row_heading level0 row4\" >4</th>\n",
       "                        <td id=\"T_e724bf36_eb35_11ea_b864_28d2440e4b52row4_col0\" class=\"data row4 col0\" >0.0%</td>\n",
       "                        <td id=\"T_e724bf36_eb35_11ea_b864_28d2440e4b52row4_col1\" class=\"data row4 col1\" >0.0%</td>\n",
       "                        <td id=\"T_e724bf36_eb35_11ea_b864_28d2440e4b52row4_col2\" class=\"data row4 col2\" >0.0%</td>\n",
       "                        <td id=\"T_e724bf36_eb35_11ea_b864_28d2440e4b52row4_col3\" class=\"data row4 col3\" >0.0%</td>\n",
       "                        <td id=\"T_e724bf36_eb35_11ea_b864_28d2440e4b52row4_col4\" class=\"data row4 col4\" >0.1%</td>\n",
       "            </tr>\n",
       "            <tr>\n",
       "                        <th id=\"T_e724bf36_eb35_11ea_b864_28d2440e4b52level0_row5\" class=\"row_heading level0 row5\" >5</th>\n",
       "                        <td id=\"T_e724bf36_eb35_11ea_b864_28d2440e4b52row5_col0\" class=\"data row5 col0\" >0.0%</td>\n",
       "                        <td id=\"T_e724bf36_eb35_11ea_b864_28d2440e4b52row5_col1\" class=\"data row5 col1\" >0.0%</td>\n",
       "                        <td id=\"T_e724bf36_eb35_11ea_b864_28d2440e4b52row5_col2\" class=\"data row5 col2\" >0.0%</td>\n",
       "                        <td id=\"T_e724bf36_eb35_11ea_b864_28d2440e4b52row5_col3\" class=\"data row5 col3\" >0.0%</td>\n",
       "                        <td id=\"T_e724bf36_eb35_11ea_b864_28d2440e4b52row5_col4\" class=\"data row5 col4\" >0.0%</td>\n",
       "            </tr>\n",
       "    </tbody></table>"
      ],
      "text/plain": [
       "<pandas.io.formats.style.Styler at 0x7f719eb3f550>"
      ]
     },
     "execution_count": 3,
     "metadata": {},
     "output_type": "execute_result"
    }
   ],
   "source": [
    "df = calc_probability_table('NAD', label='C13')\n",
    "corr_factor = calc_correction_factor('NAD', label='C13')\n",
    "print(f\"Correction factor: {corr_factor}\")\n",
    "df.loc[:5].style.format(\"{:.1%}\")"
   ]
  },
  {
   "cell_type": "code",
   "execution_count": 4,
   "metadata": {
    "scrolled": true
   },
   "outputs": [
    {
     "name": "stdout",
     "output_type": "stream",
     "text": [
      "Correction factor: 1.198585721319107\n"
     ]
    },
    {
     "data": {
      "text/html": [
       "<style  type=\"text/css\" >\n",
       "</style><table id=\"T_e73d2bca_eb35_11ea_b864_28d2440e4b52\" ><thead>    <tr>        <th class=\"blank level0\" ></th>        <th class=\"col_heading level0 col0\" >C</th>        <th class=\"col_heading level0 col1\" >N</th>        <th class=\"col_heading level0 col2\" >O</th>        <th class=\"col_heading level0 col3\" >H</th>        <th class=\"col_heading level0 col4\" >total</th>    </tr></thead><tbody>\n",
       "                <tr>\n",
       "                        <th id=\"T_e73d2bca_eb35_11ea_b864_28d2440e4b52level0_row0\" class=\"row_heading level0 row0\" >0</th>\n",
       "                        <td id=\"T_e73d2bca_eb35_11ea_b864_28d2440e4b52row0_col0\" class=\"data row0 col0\" >88.8%</td>\n",
       "                        <td id=\"T_e73d2bca_eb35_11ea_b864_28d2440e4b52row0_col1\" class=\"data row0 col1\" >97.5%</td>\n",
       "                        <td id=\"T_e73d2bca_eb35_11ea_b864_28d2440e4b52row0_col2\" class=\"data row0 col2\" >96.7%</td>\n",
       "                        <td id=\"T_e73d2bca_eb35_11ea_b864_28d2440e4b52row0_col3\" class=\"data row0 col3\" >99.7%</td>\n",
       "                        <td id=\"T_e73d2bca_eb35_11ea_b864_28d2440e4b52row0_col4\" class=\"data row0 col4\" >83.4%</td>\n",
       "            </tr>\n",
       "            <tr>\n",
       "                        <th id=\"T_e73d2bca_eb35_11ea_b864_28d2440e4b52level0_row1\" class=\"row_heading level0 row1\" >1</th>\n",
       "                        <td id=\"T_e73d2bca_eb35_11ea_b864_28d2440e4b52row1_col0\" class=\"data row1 col0\" >10.6%</td>\n",
       "                        <td id=\"T_e73d2bca_eb35_11ea_b864_28d2440e4b52row1_col1\" class=\"data row1 col1\" >2.5%</td>\n",
       "                        <td id=\"T_e73d2bca_eb35_11ea_b864_28d2440e4b52row1_col2\" class=\"data row1 col2\" >0.5%</td>\n",
       "                        <td id=\"T_e73d2bca_eb35_11ea_b864_28d2440e4b52row1_col3\" class=\"data row1 col3\" >0.3%</td>\n",
       "                        <td id=\"T_e73d2bca_eb35_11ea_b864_28d2440e4b52row1_col4\" class=\"data row1 col4\" >12.8%</td>\n",
       "            </tr>\n",
       "            <tr>\n",
       "                        <th id=\"T_e73d2bca_eb35_11ea_b864_28d2440e4b52level0_row2\" class=\"row_heading level0 row2\" >2</th>\n",
       "                        <td id=\"T_e73d2bca_eb35_11ea_b864_28d2440e4b52row2_col0\" class=\"data row2 col0\" >0.6%</td>\n",
       "                        <td id=\"T_e73d2bca_eb35_11ea_b864_28d2440e4b52row2_col1\" class=\"data row2 col1\" >0.0%</td>\n",
       "                        <td id=\"T_e73d2bca_eb35_11ea_b864_28d2440e4b52row2_col2\" class=\"data row2 col2\" >2.8%</td>\n",
       "                        <td id=\"T_e73d2bca_eb35_11ea_b864_28d2440e4b52row2_col3\" class=\"data row2 col3\" >0.0%</td>\n",
       "                        <td id=\"T_e73d2bca_eb35_11ea_b864_28d2440e4b52row2_col4\" class=\"data row2 col4\" >3.3%</td>\n",
       "            </tr>\n",
       "            <tr>\n",
       "                        <th id=\"T_e73d2bca_eb35_11ea_b864_28d2440e4b52level0_row3\" class=\"row_heading level0 row3\" >3</th>\n",
       "                        <td id=\"T_e73d2bca_eb35_11ea_b864_28d2440e4b52row3_col0\" class=\"data row3 col0\" >0.0%</td>\n",
       "                        <td id=\"T_e73d2bca_eb35_11ea_b864_28d2440e4b52row3_col1\" class=\"data row3 col1\" >0.0%</td>\n",
       "                        <td id=\"T_e73d2bca_eb35_11ea_b864_28d2440e4b52row3_col2\" class=\"data row3 col2\" >0.0%</td>\n",
       "                        <td id=\"T_e73d2bca_eb35_11ea_b864_28d2440e4b52row3_col3\" class=\"data row3 col3\" >0.0%</td>\n",
       "                        <td id=\"T_e73d2bca_eb35_11ea_b864_28d2440e4b52row3_col4\" class=\"data row3 col4\" >0.4%</td>\n",
       "            </tr>\n",
       "            <tr>\n",
       "                        <th id=\"T_e73d2bca_eb35_11ea_b864_28d2440e4b52level0_row4\" class=\"row_heading level0 row4\" >4</th>\n",
       "                        <td id=\"T_e73d2bca_eb35_11ea_b864_28d2440e4b52row4_col0\" class=\"data row4 col0\" >0.0%</td>\n",
       "                        <td id=\"T_e73d2bca_eb35_11ea_b864_28d2440e4b52row4_col1\" class=\"data row4 col1\" >0.0%</td>\n",
       "                        <td id=\"T_e73d2bca_eb35_11ea_b864_28d2440e4b52row4_col2\" class=\"data row4 col2\" >0.0%</td>\n",
       "                        <td id=\"T_e73d2bca_eb35_11ea_b864_28d2440e4b52row4_col3\" class=\"data row4 col3\" >0.0%</td>\n",
       "                        <td id=\"T_e73d2bca_eb35_11ea_b864_28d2440e4b52row4_col4\" class=\"data row4 col4\" >0.1%</td>\n",
       "            </tr>\n",
       "            <tr>\n",
       "                        <th id=\"T_e73d2bca_eb35_11ea_b864_28d2440e4b52level0_row5\" class=\"row_heading level0 row5\" >5</th>\n",
       "                        <td id=\"T_e73d2bca_eb35_11ea_b864_28d2440e4b52row5_col0\" class=\"data row5 col0\" >0.0%</td>\n",
       "                        <td id=\"T_e73d2bca_eb35_11ea_b864_28d2440e4b52row5_col1\" class=\"data row5 col1\" >0.0%</td>\n",
       "                        <td id=\"T_e73d2bca_eb35_11ea_b864_28d2440e4b52row5_col2\" class=\"data row5 col2\" >0.0%</td>\n",
       "                        <td id=\"T_e73d2bca_eb35_11ea_b864_28d2440e4b52row5_col3\" class=\"data row5 col3\" >0.0%</td>\n",
       "                        <td id=\"T_e73d2bca_eb35_11ea_b864_28d2440e4b52row5_col4\" class=\"data row5 col4\" >0.0%</td>\n",
       "            </tr>\n",
       "    </tbody></table>"
      ],
      "text/plain": [
       "<pandas.io.formats.style.Styler at 0x7f71d8201f40>"
      ]
     },
     "execution_count": 4,
     "metadata": {},
     "output_type": "execute_result"
    }
   ],
   "source": [
    "df = calc_probability_table('NAD', label='10C13')\n",
    "corr_factor = calc_correction_factor('NAD', label='10C13')\n",
    "print(f\"Correction factor: {corr_factor}\")\n",
    "df.loc[:5].style.format(\"{:.1%}\")"
   ]
  },
  {
   "cell_type": "code",
   "execution_count": 5,
   "metadata": {
    "scrolled": true
   },
   "outputs": [
    {
     "name": "stdout",
     "output_type": "stream",
     "text": [
      "Correction factor: 1.1925758837118374\n"
     ]
    },
    {
     "data": {
      "text/html": [
       "<style  type=\"text/css\" >\n",
       "</style><table id=\"T_e74ac3b6_eb35_11ea_b864_28d2440e4b52\" ><thead>    <tr>        <th class=\"blank level0\" ></th>        <th class=\"col_heading level0 col0\" >C</th>        <th class=\"col_heading level0 col1\" >N</th>        <th class=\"col_heading level0 col2\" >O</th>        <th class=\"col_heading level0 col3\" >H</th>        <th class=\"col_heading level0 col4\" >total</th>    </tr></thead><tbody>\n",
       "                <tr>\n",
       "                        <th id=\"T_e74ac3b6_eb35_11ea_b864_28d2440e4b52level0_row0\" class=\"row_heading level0 row0\" >0</th>\n",
       "                        <td id=\"T_e74ac3b6_eb35_11ea_b864_28d2440e4b52row0_col0\" class=\"data row0 col0\" >88.8%</td>\n",
       "                        <td id=\"T_e74ac3b6_eb35_11ea_b864_28d2440e4b52row0_col1\" class=\"data row0 col1\" >97.8%</td>\n",
       "                        <td id=\"T_e74ac3b6_eb35_11ea_b864_28d2440e4b52row0_col2\" class=\"data row0 col2\" >96.7%</td>\n",
       "                        <td id=\"T_e74ac3b6_eb35_11ea_b864_28d2440e4b52row0_col3\" class=\"data row0 col3\" >99.8%</td>\n",
       "                        <td id=\"T_e74ac3b6_eb35_11ea_b864_28d2440e4b52row0_col4\" class=\"data row0 col4\" >83.9%</td>\n",
       "            </tr>\n",
       "            <tr>\n",
       "                        <th id=\"T_e74ac3b6_eb35_11ea_b864_28d2440e4b52level0_row1\" class=\"row_heading level0 row1\" >1</th>\n",
       "                        <td id=\"T_e74ac3b6_eb35_11ea_b864_28d2440e4b52row1_col0\" class=\"data row1 col0\" >10.6%</td>\n",
       "                        <td id=\"T_e74ac3b6_eb35_11ea_b864_28d2440e4b52row1_col1\" class=\"data row1 col1\" >2.1%</td>\n",
       "                        <td id=\"T_e74ac3b6_eb35_11ea_b864_28d2440e4b52row1_col2\" class=\"data row1 col2\" >0.5%</td>\n",
       "                        <td id=\"T_e74ac3b6_eb35_11ea_b864_28d2440e4b52row1_col3\" class=\"data row1 col3\" >0.2%</td>\n",
       "                        <td id=\"T_e74ac3b6_eb35_11ea_b864_28d2440e4b52row1_col4\" class=\"data row1 col4\" >12.4%</td>\n",
       "            </tr>\n",
       "            <tr>\n",
       "                        <th id=\"T_e74ac3b6_eb35_11ea_b864_28d2440e4b52level0_row2\" class=\"row_heading level0 row2\" >2</th>\n",
       "                        <td id=\"T_e74ac3b6_eb35_11ea_b864_28d2440e4b52row2_col0\" class=\"data row2 col0\" >0.6%</td>\n",
       "                        <td id=\"T_e74ac3b6_eb35_11ea_b864_28d2440e4b52row2_col1\" class=\"data row2 col1\" >0.0%</td>\n",
       "                        <td id=\"T_e74ac3b6_eb35_11ea_b864_28d2440e4b52row2_col2\" class=\"data row2 col2\" >2.8%</td>\n",
       "                        <td id=\"T_e74ac3b6_eb35_11ea_b864_28d2440e4b52row2_col3\" class=\"data row2 col3\" >0.0%</td>\n",
       "                        <td id=\"T_e74ac3b6_eb35_11ea_b864_28d2440e4b52row2_col4\" class=\"data row2 col4\" >3.3%</td>\n",
       "            </tr>\n",
       "            <tr>\n",
       "                        <th id=\"T_e74ac3b6_eb35_11ea_b864_28d2440e4b52level0_row3\" class=\"row_heading level0 row3\" >3</th>\n",
       "                        <td id=\"T_e74ac3b6_eb35_11ea_b864_28d2440e4b52row3_col0\" class=\"data row3 col0\" >0.0%</td>\n",
       "                        <td id=\"T_e74ac3b6_eb35_11ea_b864_28d2440e4b52row3_col1\" class=\"data row3 col1\" >0.0%</td>\n",
       "                        <td id=\"T_e74ac3b6_eb35_11ea_b864_28d2440e4b52row3_col2\" class=\"data row3 col2\" >0.0%</td>\n",
       "                        <td id=\"T_e74ac3b6_eb35_11ea_b864_28d2440e4b52row3_col3\" class=\"data row3 col3\" >0.0%</td>\n",
       "                        <td id=\"T_e74ac3b6_eb35_11ea_b864_28d2440e4b52row3_col4\" class=\"data row3 col4\" >0.4%</td>\n",
       "            </tr>\n",
       "            <tr>\n",
       "                        <th id=\"T_e74ac3b6_eb35_11ea_b864_28d2440e4b52level0_row4\" class=\"row_heading level0 row4\" >4</th>\n",
       "                        <td id=\"T_e74ac3b6_eb35_11ea_b864_28d2440e4b52row4_col0\" class=\"data row4 col0\" >0.0%</td>\n",
       "                        <td id=\"T_e74ac3b6_eb35_11ea_b864_28d2440e4b52row4_col1\" class=\"data row4 col1\" >0.0%</td>\n",
       "                        <td id=\"T_e74ac3b6_eb35_11ea_b864_28d2440e4b52row4_col2\" class=\"data row4 col2\" >0.0%</td>\n",
       "                        <td id=\"T_e74ac3b6_eb35_11ea_b864_28d2440e4b52row4_col3\" class=\"data row4 col3\" >0.0%</td>\n",
       "                        <td id=\"T_e74ac3b6_eb35_11ea_b864_28d2440e4b52row4_col4\" class=\"data row4 col4\" >0.1%</td>\n",
       "            </tr>\n",
       "            <tr>\n",
       "                        <th id=\"T_e74ac3b6_eb35_11ea_b864_28d2440e4b52level0_row5\" class=\"row_heading level0 row5\" >5</th>\n",
       "                        <td id=\"T_e74ac3b6_eb35_11ea_b864_28d2440e4b52row5_col0\" class=\"data row5 col0\" >0.0%</td>\n",
       "                        <td id=\"T_e74ac3b6_eb35_11ea_b864_28d2440e4b52row5_col1\" class=\"data row5 col1\" >0.0%</td>\n",
       "                        <td id=\"T_e74ac3b6_eb35_11ea_b864_28d2440e4b52row5_col2\" class=\"data row5 col2\" >0.0%</td>\n",
       "                        <td id=\"T_e74ac3b6_eb35_11ea_b864_28d2440e4b52row5_col3\" class=\"data row5 col3\" >0.0%</td>\n",
       "                        <td id=\"T_e74ac3b6_eb35_11ea_b864_28d2440e4b52row5_col4\" class=\"data row5 col4\" >0.0%</td>\n",
       "            </tr>\n",
       "    </tbody></table>"
      ],
      "text/plain": [
       "<pandas.io.formats.style.Styler at 0x7f719eb3f820>"
      ]
     },
     "execution_count": 5,
     "metadata": {},
     "output_type": "execute_result"
    }
   ],
   "source": [
    "df = calc_probability_table('NAD', label='10C131N1512H02')\n",
    "corr_factor = calc_correction_factor('NAD', label='10C131N1512H02')\n",
    "print(f\"Correction factor: {corr_factor}\")\n",
    "df.loc[:5].style.format(\"{:.1%}\")"
   ]
  },
  {
   "cell_type": "code",
   "execution_count": 6,
   "metadata": {},
   "outputs": [
    {
     "data": {
      "text/html": [
       "<style  type=\"text/css\" >\n",
       "</style><table id=\"T_e777d8a6_eb35_11ea_b864_28d2440e4b52\" ><thead>    <tr>        <th class=\"blank level0\" ></th>        <th class=\"col_heading level0 col0\" >unlabelled NAD</th>        <th class=\"col_heading level0 col1\" >10C13 labelled NAD</th>        <th class=\"col_heading level0 col2\" >Superpositon 50% unl NAD + 50% 10C13NAD</th>    </tr></thead><tbody>\n",
       "                <tr>\n",
       "                        <th id=\"T_e777d8a6_eb35_11ea_b864_28d2440e4b52level0_row0\" class=\"row_heading level0 row0\" >0</th>\n",
       "                        <td id=\"T_e777d8a6_eb35_11ea_b864_28d2440e4b52row0_col0\" class=\"data row0 col0\" >74.9%</td>\n",
       "                        <td id=\"T_e777d8a6_eb35_11ea_b864_28d2440e4b52row0_col1\" class=\"data row0 col1\" >0.0%</td>\n",
       "                        <td id=\"T_e777d8a6_eb35_11ea_b864_28d2440e4b52row0_col2\" class=\"data row0 col2\" >37.5%</td>\n",
       "            </tr>\n",
       "            <tr>\n",
       "                        <th id=\"T_e777d8a6_eb35_11ea_b864_28d2440e4b52level0_row1\" class=\"row_heading level0 row1\" >1</th>\n",
       "                        <td id=\"T_e777d8a6_eb35_11ea_b864_28d2440e4b52row1_col0\" class=\"data row1 col0\" >19.6%</td>\n",
       "                        <td id=\"T_e777d8a6_eb35_11ea_b864_28d2440e4b52row1_col1\" class=\"data row1 col1\" >0.0%</td>\n",
       "                        <td id=\"T_e777d8a6_eb35_11ea_b864_28d2440e4b52row1_col2\" class=\"data row1 col2\" >9.8%</td>\n",
       "            </tr>\n",
       "            <tr>\n",
       "                        <th id=\"T_e777d8a6_eb35_11ea_b864_28d2440e4b52level0_row2\" class=\"row_heading level0 row2\" >2</th>\n",
       "                        <td id=\"T_e777d8a6_eb35_11ea_b864_28d2440e4b52row2_col0\" class=\"data row2 col0\" >4.6%</td>\n",
       "                        <td id=\"T_e777d8a6_eb35_11ea_b864_28d2440e4b52row2_col1\" class=\"data row2 col1\" >0.0%</td>\n",
       "                        <td id=\"T_e777d8a6_eb35_11ea_b864_28d2440e4b52row2_col2\" class=\"data row2 col2\" >2.3%</td>\n",
       "            </tr>\n",
       "            <tr>\n",
       "                        <th id=\"T_e777d8a6_eb35_11ea_b864_28d2440e4b52level0_row3\" class=\"row_heading level0 row3\" >3</th>\n",
       "                        <td id=\"T_e777d8a6_eb35_11ea_b864_28d2440e4b52row3_col0\" class=\"data row3 col0\" >0.8%</td>\n",
       "                        <td id=\"T_e777d8a6_eb35_11ea_b864_28d2440e4b52row3_col1\" class=\"data row3 col1\" >0.0%</td>\n",
       "                        <td id=\"T_e777d8a6_eb35_11ea_b864_28d2440e4b52row3_col2\" class=\"data row3 col2\" >0.4%</td>\n",
       "            </tr>\n",
       "            <tr>\n",
       "                        <th id=\"T_e777d8a6_eb35_11ea_b864_28d2440e4b52level0_row4\" class=\"row_heading level0 row4\" >4</th>\n",
       "                        <td id=\"T_e777d8a6_eb35_11ea_b864_28d2440e4b52row4_col0\" class=\"data row4 col0\" >0.1%</td>\n",
       "                        <td id=\"T_e777d8a6_eb35_11ea_b864_28d2440e4b52row4_col1\" class=\"data row4 col1\" >0.0%</td>\n",
       "                        <td id=\"T_e777d8a6_eb35_11ea_b864_28d2440e4b52row4_col2\" class=\"data row4 col2\" >0.1%</td>\n",
       "            </tr>\n",
       "            <tr>\n",
       "                        <th id=\"T_e777d8a6_eb35_11ea_b864_28d2440e4b52level0_row5\" class=\"row_heading level0 row5\" >5</th>\n",
       "                        <td id=\"T_e777d8a6_eb35_11ea_b864_28d2440e4b52row5_col0\" class=\"data row5 col0\" >0.0%</td>\n",
       "                        <td id=\"T_e777d8a6_eb35_11ea_b864_28d2440e4b52row5_col1\" class=\"data row5 col1\" >0.0%</td>\n",
       "                        <td id=\"T_e777d8a6_eb35_11ea_b864_28d2440e4b52row5_col2\" class=\"data row5 col2\" >0.0%</td>\n",
       "            </tr>\n",
       "            <tr>\n",
       "                        <th id=\"T_e777d8a6_eb35_11ea_b864_28d2440e4b52level0_row6\" class=\"row_heading level0 row6\" >6</th>\n",
       "                        <td id=\"T_e777d8a6_eb35_11ea_b864_28d2440e4b52row6_col0\" class=\"data row6 col0\" >0.0%</td>\n",
       "                        <td id=\"T_e777d8a6_eb35_11ea_b864_28d2440e4b52row6_col1\" class=\"data row6 col1\" >0.0%</td>\n",
       "                        <td id=\"T_e777d8a6_eb35_11ea_b864_28d2440e4b52row6_col2\" class=\"data row6 col2\" >0.0%</td>\n",
       "            </tr>\n",
       "            <tr>\n",
       "                        <th id=\"T_e777d8a6_eb35_11ea_b864_28d2440e4b52level0_row7\" class=\"row_heading level0 row7\" >7</th>\n",
       "                        <td id=\"T_e777d8a6_eb35_11ea_b864_28d2440e4b52row7_col0\" class=\"data row7 col0\" >0.0%</td>\n",
       "                        <td id=\"T_e777d8a6_eb35_11ea_b864_28d2440e4b52row7_col1\" class=\"data row7 col1\" >0.0%</td>\n",
       "                        <td id=\"T_e777d8a6_eb35_11ea_b864_28d2440e4b52row7_col2\" class=\"data row7 col2\" >0.0%</td>\n",
       "            </tr>\n",
       "            <tr>\n",
       "                        <th id=\"T_e777d8a6_eb35_11ea_b864_28d2440e4b52level0_row8\" class=\"row_heading level0 row8\" >8</th>\n",
       "                        <td id=\"T_e777d8a6_eb35_11ea_b864_28d2440e4b52row8_col0\" class=\"data row8 col0\" >0.0%</td>\n",
       "                        <td id=\"T_e777d8a6_eb35_11ea_b864_28d2440e4b52row8_col1\" class=\"data row8 col1\" >0.0%</td>\n",
       "                        <td id=\"T_e777d8a6_eb35_11ea_b864_28d2440e4b52row8_col2\" class=\"data row8 col2\" >0.0%</td>\n",
       "            </tr>\n",
       "            <tr>\n",
       "                        <th id=\"T_e777d8a6_eb35_11ea_b864_28d2440e4b52level0_row9\" class=\"row_heading level0 row9\" >9</th>\n",
       "                        <td id=\"T_e777d8a6_eb35_11ea_b864_28d2440e4b52row9_col0\" class=\"data row9 col0\" >0.0%</td>\n",
       "                        <td id=\"T_e777d8a6_eb35_11ea_b864_28d2440e4b52row9_col1\" class=\"data row9 col1\" >0.0%</td>\n",
       "                        <td id=\"T_e777d8a6_eb35_11ea_b864_28d2440e4b52row9_col2\" class=\"data row9 col2\" >0.0%</td>\n",
       "            </tr>\n",
       "            <tr>\n",
       "                        <th id=\"T_e777d8a6_eb35_11ea_b864_28d2440e4b52level0_row10\" class=\"row_heading level0 row10\" >10</th>\n",
       "                        <td id=\"T_e777d8a6_eb35_11ea_b864_28d2440e4b52row10_col0\" class=\"data row10 col0\" >0.0%</td>\n",
       "                        <td id=\"T_e777d8a6_eb35_11ea_b864_28d2440e4b52row10_col1\" class=\"data row10 col1\" >83.4%</td>\n",
       "                        <td id=\"T_e777d8a6_eb35_11ea_b864_28d2440e4b52row10_col2\" class=\"data row10 col2\" >41.7%</td>\n",
       "            </tr>\n",
       "            <tr>\n",
       "                        <th id=\"T_e777d8a6_eb35_11ea_b864_28d2440e4b52level0_row11\" class=\"row_heading level0 row11\" >11</th>\n",
       "                        <td id=\"T_e777d8a6_eb35_11ea_b864_28d2440e4b52row11_col0\" class=\"data row11 col0\" >0.0%</td>\n",
       "                        <td id=\"T_e777d8a6_eb35_11ea_b864_28d2440e4b52row11_col1\" class=\"data row11 col1\" >12.8%</td>\n",
       "                        <td id=\"T_e777d8a6_eb35_11ea_b864_28d2440e4b52row11_col2\" class=\"data row11 col2\" >6.4%</td>\n",
       "            </tr>\n",
       "            <tr>\n",
       "                        <th id=\"T_e777d8a6_eb35_11ea_b864_28d2440e4b52level0_row12\" class=\"row_heading level0 row12\" >12</th>\n",
       "                        <td id=\"T_e777d8a6_eb35_11ea_b864_28d2440e4b52row12_col0\" class=\"data row12 col0\" >0.0%</td>\n",
       "                        <td id=\"T_e777d8a6_eb35_11ea_b864_28d2440e4b52row12_col1\" class=\"data row12 col1\" >3.3%</td>\n",
       "                        <td id=\"T_e777d8a6_eb35_11ea_b864_28d2440e4b52row12_col2\" class=\"data row12 col2\" >1.7%</td>\n",
       "            </tr>\n",
       "            <tr>\n",
       "                        <th id=\"T_e777d8a6_eb35_11ea_b864_28d2440e4b52level0_row13\" class=\"row_heading level0 row13\" >13</th>\n",
       "                        <td id=\"T_e777d8a6_eb35_11ea_b864_28d2440e4b52row13_col0\" class=\"data row13 col0\" >0.0%</td>\n",
       "                        <td id=\"T_e777d8a6_eb35_11ea_b864_28d2440e4b52row13_col1\" class=\"data row13 col1\" >0.4%</td>\n",
       "                        <td id=\"T_e777d8a6_eb35_11ea_b864_28d2440e4b52row13_col2\" class=\"data row13 col2\" >0.2%</td>\n",
       "            </tr>\n",
       "            <tr>\n",
       "                        <th id=\"T_e777d8a6_eb35_11ea_b864_28d2440e4b52level0_row14\" class=\"row_heading level0 row14\" >14</th>\n",
       "                        <td id=\"T_e777d8a6_eb35_11ea_b864_28d2440e4b52row14_col0\" class=\"data row14 col0\" >0.0%</td>\n",
       "                        <td id=\"T_e777d8a6_eb35_11ea_b864_28d2440e4b52row14_col1\" class=\"data row14 col1\" >0.1%</td>\n",
       "                        <td id=\"T_e777d8a6_eb35_11ea_b864_28d2440e4b52row14_col2\" class=\"data row14 col2\" >0.0%</td>\n",
       "            </tr>\n",
       "            <tr>\n",
       "                        <th id=\"T_e777d8a6_eb35_11ea_b864_28d2440e4b52level0_row15\" class=\"row_heading level0 row15\" >15</th>\n",
       "                        <td id=\"T_e777d8a6_eb35_11ea_b864_28d2440e4b52row15_col0\" class=\"data row15 col0\" >0.0%</td>\n",
       "                        <td id=\"T_e777d8a6_eb35_11ea_b864_28d2440e4b52row15_col1\" class=\"data row15 col1\" >0.0%</td>\n",
       "                        <td id=\"T_e777d8a6_eb35_11ea_b864_28d2440e4b52row15_col2\" class=\"data row15 col2\" >0.0%</td>\n",
       "            </tr>\n",
       "    </tbody></table>"
      ],
      "text/plain": [
       "<pandas.io.formats.style.Styler at 0x7f719d1e3dc0>"
      ]
     },
     "execution_count": 6,
     "metadata": {},
     "output_type": "execute_result"
    }
   ],
   "source": [
    "unl = calc_probability_table(\"NAD\").total\n",
    "lab1 = calc_probability_table(\"NAD\", label=\"10C13\").total\n",
    "lab1 = pd.concat([pd.Series(10*[0]), lab1]).reset_index(drop = True)\n",
    "superposition = 0.50 * unl + 0.50 * lab1\n",
    "df = pd.concat([unl,lab1,superposition], axis=1)\n",
    "df.columns=[\"unlabelled NAD\", \"10C13 labelled NAD\", \"Superpositon 50% unl NAD + 50% 10C13NAD\"]\n",
    "df.loc[:15,:].style.format(\"{:.1%}\")"
   ]
  },
  {
   "cell_type": "code",
   "execution_count": 9,
   "metadata": {
    "scrolled": true
   },
   "outputs": [
    {
     "name": "stdout",
     "output_type": "stream",
     "text": [
      "Correction factor: 1.2648209611016088\n"
     ]
    },
    {
     "data": {
      "text/html": [
       "<style  type=\"text/css\" >\n",
       "</style><table id=\"T_0782e924_eb36_11ea_b864_28d2440e4b52\" ><thead>    <tr>        <th class=\"blank level0\" ></th>        <th class=\"col_heading level0 col0\" >C</th>        <th class=\"col_heading level0 col1\" >N</th>        <th class=\"col_heading level0 col2\" >O</th>        <th class=\"col_heading level0 col3\" >H</th>        <th class=\"col_heading level0 col4\" >total</th>    </tr></thead><tbody>\n",
       "                <tr>\n",
       "                        <th id=\"T_0782e924_eb36_11ea_b864_28d2440e4b52level0_row0\" class=\"row_heading level0 row0\" >0</th>\n",
       "                        <td id=\"T_0782e924_eb36_11ea_b864_28d2440e4b52row0_col0\" class=\"data row0 col0\" >84.2%</td>\n",
       "                        <td id=\"T_0782e924_eb36_11ea_b864_28d2440e4b52row0_col1\" class=\"data row0 col1\" >97.5%</td>\n",
       "                        <td id=\"T_0782e924_eb36_11ea_b864_28d2440e4b52row0_col2\" class=\"data row0 col2\" >96.7%</td>\n",
       "                        <td id=\"T_0782e924_eb36_11ea_b864_28d2440e4b52row0_col3\" class=\"data row0 col3\" >99.7%</td>\n",
       "                        <td id=\"T_0782e924_eb36_11ea_b864_28d2440e4b52row0_col4\" class=\"data row0 col4\" >79.1%</td>\n",
       "            </tr>\n",
       "            <tr>\n",
       "                        <th id=\"T_0782e924_eb36_11ea_b864_28d2440e4b52level0_row1\" class=\"row_heading level0 row1\" >1</th>\n",
       "                        <td id=\"T_0782e924_eb36_11ea_b864_28d2440e4b52row1_col0\" class=\"data row1 col0\" >14.6%</td>\n",
       "                        <td id=\"T_0782e924_eb36_11ea_b864_28d2440e4b52row1_col1\" class=\"data row1 col1\" >2.5%</td>\n",
       "                        <td id=\"T_0782e924_eb36_11ea_b864_28d2440e4b52row1_col2\" class=\"data row1 col2\" >0.5%</td>\n",
       "                        <td id=\"T_0782e924_eb36_11ea_b864_28d2440e4b52row1_col3\" class=\"data row1 col3\" >0.3%</td>\n",
       "                        <td id=\"T_0782e924_eb36_11ea_b864_28d2440e4b52row1_col4\" class=\"data row1 col4\" >16.4%</td>\n",
       "            </tr>\n",
       "            <tr>\n",
       "                        <th id=\"T_0782e924_eb36_11ea_b864_28d2440e4b52level0_row2\" class=\"row_heading level0 row2\" >2</th>\n",
       "                        <td id=\"T_0782e924_eb36_11ea_b864_28d2440e4b52row2_col0\" class=\"data row2 col0\" >1.2%</td>\n",
       "                        <td id=\"T_0782e924_eb36_11ea_b864_28d2440e4b52row2_col1\" class=\"data row2 col1\" >0.0%</td>\n",
       "                        <td id=\"T_0782e924_eb36_11ea_b864_28d2440e4b52row2_col2\" class=\"data row2 col2\" >2.8%</td>\n",
       "                        <td id=\"T_0782e924_eb36_11ea_b864_28d2440e4b52row2_col3\" class=\"data row2 col3\" >0.0%</td>\n",
       "                        <td id=\"T_0782e924_eb36_11ea_b864_28d2440e4b52row2_col4\" class=\"data row2 col4\" >3.9%</td>\n",
       "            </tr>\n",
       "            <tr>\n",
       "                        <th id=\"T_0782e924_eb36_11ea_b864_28d2440e4b52level0_row3\" class=\"row_heading level0 row3\" >3</th>\n",
       "                        <td id=\"T_0782e924_eb36_11ea_b864_28d2440e4b52row3_col0\" class=\"data row3 col0\" >0.1%</td>\n",
       "                        <td id=\"T_0782e924_eb36_11ea_b864_28d2440e4b52row3_col1\" class=\"data row3 col1\" >0.0%</td>\n",
       "                        <td id=\"T_0782e924_eb36_11ea_b864_28d2440e4b52row3_col2\" class=\"data row3 col2\" >0.0%</td>\n",
       "                        <td id=\"T_0782e924_eb36_11ea_b864_28d2440e4b52row3_col3\" class=\"data row3 col3\" >0.0%</td>\n",
       "                        <td id=\"T_0782e924_eb36_11ea_b864_28d2440e4b52row3_col4\" class=\"data row3 col4\" >0.6%</td>\n",
       "            </tr>\n",
       "            <tr>\n",
       "                        <th id=\"T_0782e924_eb36_11ea_b864_28d2440e4b52level0_row4\" class=\"row_heading level0 row4\" >4</th>\n",
       "                        <td id=\"T_0782e924_eb36_11ea_b864_28d2440e4b52row4_col0\" class=\"data row4 col0\" >0.0%</td>\n",
       "                        <td id=\"T_0782e924_eb36_11ea_b864_28d2440e4b52row4_col1\" class=\"data row4 col1\" >0.0%</td>\n",
       "                        <td id=\"T_0782e924_eb36_11ea_b864_28d2440e4b52row4_col2\" class=\"data row4 col2\" >0.0%</td>\n",
       "                        <td id=\"T_0782e924_eb36_11ea_b864_28d2440e4b52row4_col3\" class=\"data row4 col3\" >0.0%</td>\n",
       "                        <td id=\"T_0782e924_eb36_11ea_b864_28d2440e4b52row4_col4\" class=\"data row4 col4\" >0.1%</td>\n",
       "            </tr>\n",
       "            <tr>\n",
       "                        <th id=\"T_0782e924_eb36_11ea_b864_28d2440e4b52level0_row5\" class=\"row_heading level0 row5\" >5</th>\n",
       "                        <td id=\"T_0782e924_eb36_11ea_b864_28d2440e4b52row5_col0\" class=\"data row5 col0\" >0.0%</td>\n",
       "                        <td id=\"T_0782e924_eb36_11ea_b864_28d2440e4b52row5_col1\" class=\"data row5 col1\" >0.0%</td>\n",
       "                        <td id=\"T_0782e924_eb36_11ea_b864_28d2440e4b52row5_col2\" class=\"data row5 col2\" >0.0%</td>\n",
       "                        <td id=\"T_0782e924_eb36_11ea_b864_28d2440e4b52row5_col3\" class=\"data row5 col3\" >0.0%</td>\n",
       "                        <td id=\"T_0782e924_eb36_11ea_b864_28d2440e4b52row5_col4\" class=\"data row5 col4\" >0.0%</td>\n",
       "            </tr>\n",
       "    </tbody></table>"
      ],
      "text/plain": [
       "<pandas.io.formats.style.Styler at 0x7f719d1e3790>"
      ]
     },
     "execution_count": 9,
     "metadata": {},
     "output_type": "execute_result"
    }
   ],
   "source": [
    "df = calc_probability_table('NAD', label='5C13')\n",
    "corr_factor = 1/df.total[0]\n",
    "print(f\"Correction factor: {corr_factor}\")\n",
    "df.loc[:5].style.format(\"{:.1%}\")"
   ]
  },
  {
   "cell_type": "markdown",
   "metadata": {},
   "source": [
    "## Probabilities for unlabelled ATP isotopologues"
   ]
  },
  {
   "cell_type": "code",
   "execution_count": 11,
   "metadata": {
    "scrolled": false
   },
   "outputs": [
    {
     "data": {
      "text/html": [
       "<style  type=\"text/css\" >\n",
       "</style><table id=\"T_0f33c666_eb36_11ea_b864_28d2440e4b52\" ><thead>    <tr>        <th class=\"blank level0\" ></th>        <th class=\"col_heading level0 col0\" >C</th>        <th class=\"col_heading level0 col1\" >N</th>        <th class=\"col_heading level0 col2\" >O</th>        <th class=\"col_heading level0 col3\" >H</th>        <th class=\"col_heading level0 col4\" >total</th>    </tr></thead><tbody>\n",
       "                <tr>\n",
       "                        <th id=\"T_0f33c666_eb36_11ea_b864_28d2440e4b52level0_row0\" class=\"row_heading level0 row0\" >0</th>\n",
       "                        <td id=\"T_0f33c666_eb36_11ea_b864_28d2440e4b52row0_col0\" class=\"data row0 col0\" >89.80%</td>\n",
       "                        <td id=\"T_0f33c666_eb36_11ea_b864_28d2440e4b52row0_col1\" class=\"data row0 col1\" >98.19%</td>\n",
       "                        <td id=\"T_0f33c666_eb36_11ea_b864_28d2440e4b52row0_col2\" class=\"data row0 col2\" >97.60%</td>\n",
       "                        <td id=\"T_0f33c666_eb36_11ea_b864_28d2440e4b52row0_col3\" class=\"data row0 col3\" >99.82%</td>\n",
       "                        <td id=\"T_0f33c666_eb36_11ea_b864_28d2440e4b52row0_col4\" class=\"data row0 col4\" >85.90%</td>\n",
       "            </tr>\n",
       "            <tr>\n",
       "                        <th id=\"T_0f33c666_eb36_11ea_b864_28d2440e4b52level0_row1\" class=\"row_heading level0 row1\" >1</th>\n",
       "                        <td id=\"T_0f33c666_eb36_11ea_b864_28d2440e4b52row1_col0\" class=\"data row1 col0\" >9.71%</td>\n",
       "                        <td id=\"T_0f33c666_eb36_11ea_b864_28d2440e4b52row1_col1\" class=\"data row1 col1\" >1.79%</td>\n",
       "                        <td id=\"T_0f33c666_eb36_11ea_b864_28d2440e4b52row1_col2\" class=\"data row1 col2\" >0.37%</td>\n",
       "                        <td id=\"T_0f33c666_eb36_11ea_b864_28d2440e4b52row1_col3\" class=\"data row1 col3\" >0.18%</td>\n",
       "                        <td id=\"T_0f33c666_eb36_11ea_b864_28d2440e4b52row1_col4\" class=\"data row1 col4\" >11.35%</td>\n",
       "            </tr>\n",
       "            <tr>\n",
       "                        <th id=\"T_0f33c666_eb36_11ea_b864_28d2440e4b52level0_row2\" class=\"row_heading level0 row2\" >2</th>\n",
       "                        <td id=\"T_0f33c666_eb36_11ea_b864_28d2440e4b52row2_col0\" class=\"data row2 col0\" >0.47%</td>\n",
       "                        <td id=\"T_0f33c666_eb36_11ea_b864_28d2440e4b52row2_col1\" class=\"data row2 col1\" >0.01%</td>\n",
       "                        <td id=\"T_0f33c666_eb36_11ea_b864_28d2440e4b52row2_col2\" class=\"data row2 col2\" >2.01%</td>\n",
       "                        <td id=\"T_0f33c666_eb36_11ea_b864_28d2440e4b52row2_col3\" class=\"data row2 col3\" >0.00%</td>\n",
       "                        <td id=\"T_0f33c666_eb36_11ea_b864_28d2440e4b52row2_col4\" class=\"data row2 col4\" >2.46%</td>\n",
       "            </tr>\n",
       "            <tr>\n",
       "                        <th id=\"T_0f33c666_eb36_11ea_b864_28d2440e4b52level0_row3\" class=\"row_heading level0 row3\" >3</th>\n",
       "                        <td id=\"T_0f33c666_eb36_11ea_b864_28d2440e4b52row3_col0\" class=\"data row3 col0\" >0.01%</td>\n",
       "                        <td id=\"T_0f33c666_eb36_11ea_b864_28d2440e4b52row3_col1\" class=\"data row3 col1\" >0.00%</td>\n",
       "                        <td id=\"T_0f33c666_eb36_11ea_b864_28d2440e4b52row3_col2\" class=\"data row3 col2\" >0.01%</td>\n",
       "                        <td id=\"T_0f33c666_eb36_11ea_b864_28d2440e4b52row3_col3\" class=\"data row3 col3\" >0.00%</td>\n",
       "                        <td id=\"T_0f33c666_eb36_11ea_b864_28d2440e4b52row3_col4\" class=\"data row3 col4\" >0.26%</td>\n",
       "            </tr>\n",
       "            <tr>\n",
       "                        <th id=\"T_0f33c666_eb36_11ea_b864_28d2440e4b52level0_row4\" class=\"row_heading level0 row4\" >4</th>\n",
       "                        <td id=\"T_0f33c666_eb36_11ea_b864_28d2440e4b52row4_col0\" class=\"data row4 col0\" >0.00%</td>\n",
       "                        <td id=\"T_0f33c666_eb36_11ea_b864_28d2440e4b52row4_col1\" class=\"data row4 col1\" >0.00%</td>\n",
       "                        <td id=\"T_0f33c666_eb36_11ea_b864_28d2440e4b52row4_col2\" class=\"data row4 col2\" >0.02%</td>\n",
       "                        <td id=\"T_0f33c666_eb36_11ea_b864_28d2440e4b52row4_col3\" class=\"data row4 col3\" >0.00%</td>\n",
       "                        <td id=\"T_0f33c666_eb36_11ea_b864_28d2440e4b52row4_col4\" class=\"data row4 col4\" >0.03%</td>\n",
       "            </tr>\n",
       "            <tr>\n",
       "                        <th id=\"T_0f33c666_eb36_11ea_b864_28d2440e4b52level0_row5\" class=\"row_heading level0 row5\" >5</th>\n",
       "                        <td id=\"T_0f33c666_eb36_11ea_b864_28d2440e4b52row5_col0\" class=\"data row5 col0\" >0.00%</td>\n",
       "                        <td id=\"T_0f33c666_eb36_11ea_b864_28d2440e4b52row5_col1\" class=\"data row5 col1\" >0.00%</td>\n",
       "                        <td id=\"T_0f33c666_eb36_11ea_b864_28d2440e4b52row5_col2\" class=\"data row5 col2\" >0.00%</td>\n",
       "                        <td id=\"T_0f33c666_eb36_11ea_b864_28d2440e4b52row5_col3\" class=\"data row5 col3\" >0.00%</td>\n",
       "                        <td id=\"T_0f33c666_eb36_11ea_b864_28d2440e4b52row5_col4\" class=\"data row5 col4\" >0.00%</td>\n",
       "            </tr>\n",
       "    </tbody></table>"
      ],
      "text/plain": [
       "<pandas.io.formats.style.Styler at 0x7f719d26d4c0>"
      ]
     },
     "execution_count": 11,
     "metadata": {},
     "output_type": "execute_result"
    }
   ],
   "source": [
    "df = calc_probability_table('ATP')\n",
    "\n",
    "df.loc[:5].style.format(\"{:.2%}\")"
   ]
  }
 ],
 "metadata": {
  "kernelspec": {
   "display_name": "Python 3",
   "language": "python",
   "name": "python3"
  },
  "language_info": {
   "codemirror_mode": {
    "name": "ipython",
    "version": 3
   },
   "file_extension": ".py",
   "mimetype": "text/x-python",
   "name": "python",
   "nbconvert_exporter": "python",
   "pygments_lexer": "ipython3",
   "version": "3.8.5"
  },
  "latex_envs": {
   "LaTeX_envs_menu_present": true,
   "autoclose": false,
   "autocomplete": true,
   "bibliofile": "biblio.bib",
   "cite_by": "apalike",
   "current_citInitial": 1,
   "eqLabelWithNumbers": true,
   "eqNumInitial": 1,
   "hotkeys": {
    "equation": "Ctrl-E",
    "itemize": "Ctrl-I"
   },
   "labels_anchors": false,
   "latex_user_defs": false,
   "report_style_numbering": false,
   "user_envs_cfg": false
  }
 },
 "nbformat": 4,
 "nbformat_minor": 2
}
