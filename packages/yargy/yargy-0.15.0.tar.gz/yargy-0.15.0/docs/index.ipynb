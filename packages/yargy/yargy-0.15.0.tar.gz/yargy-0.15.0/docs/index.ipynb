{
 "cells": [
  {
   "cell_type": "markdown",
   "metadata": {},
   "source": [
    "# Yargy"
   ]
  },
  {
   "cell_type": "markdown",
   "metadata": {},
   "source": [
    "Yargy — библиотека для извлечения структурированной информации из текстов на русском языке. Правила описываются контекстно-свободными грамматиками и словарями ключевых слов. Банк готовых правил для имён, дат, адресов и других сущностей доступен в репозитории <a href=\"https://github.com/natasha/natasha\">Natasha</a>.\n",
    "\n",
    "Парсер реализует алгоритм <a href=\"https://en.wikipedia.org/wiki/Earley_parser\">Earley parser</a>. Библиотека написана на чистом Python, поддерживает Python 3.5+ и Pypy 3, использует <a href=\"https://pymorphy2.readthedocs.io/en/latest/\">Pymorphy2</a> для работы с морфологией."
   ]
  },
  {
   "cell_type": "markdown",
   "metadata": {},
   "source": [
    "## Томита-парсер"
   ]
  },
  {
   "cell_type": "markdown",
   "metadata": {},
   "source": [
    "<a href=\"https://tech.yandex.ru/tomita/\">Томита-парсер</a> — популярный инструмент для извлечения структурированный информации из текстов на русском языке. Грубо говоря, Yargy — версия Томита-парсера для Python, написанная с нуля:\n",
    "\n",
    "<table>\n",
    "<tr>\n",
    "<th>Томита-парсер</th>\n",
    "<th>Yargy</th>\n",
    "</tr>\n",
    "\n",
    "<tr>\n",
    "<td>Разрабатывался много лет внутри Яндекса</td>\n",
    "<td>Open source, разрабатывается сообществом</td>\n",
    "</tr>\n",
    "\n",
    "<tr>\n",
    "<td>10 000+ строк кода на C++</td>\n",
    "<td>1000+ на Python</td>\n",
    "</tr>\n",
    "\n",
    "<tr>\n",
    "<td>CLI</td>\n",
    "<td>Python-библиотека</td>\n",
    "</tr>\n",
    "\n",
    "<tr>\n",
    "<td>Protobuf + конфигурационные файлы</td>\n",
    "<td>Python DSL</td>\n",
    "</tr>\n",
    "\n",
    "<tr>\n",
    "<td>Нет готовых правил</td>\n",
    "<td><a href=\"https://github.com/natasha/natasha\">Natasha</a> — готовые правила для извлечения имён, дат, адресов и других сущностей</td>\n",
    "</tr>\n",
    "\n",
    "<tr>\n",
    "<td>Медленный</td>\n",
    "<td>Очень медленный</td>\n",
    "</tr>\n",
    "\n",
    "</table>"
   ]
  },
  {
   "cell_type": "markdown",
   "metadata": {},
   "source": [
    "## Примеры"
   ]
  },
  {
   "cell_type": "markdown",
   "metadata": {},
   "source": [
    "Для работы с русским языком в Yargy встроен морфологический анализатор <a href=\"http://pymorphy2.readthedocs.io/en/latest\">Pymorphy2</a>. Найдём в тексте топонимы, которые начинаются прилагательным и заканчиваются словами \"федерация\" или \"республика\". Например, \"Российская Федерация\", \"Донецкая народная республика\":"
   ]
  },
  {
   "cell_type": "code",
   "execution_count": 1,
   "metadata": {},
   "outputs": [
    {
     "name": "stdout",
     "output_type": "stream",
     "text": [
      "['Чеченской', 'республике']\n",
      "['Донецкая', 'народная', 'республика']\n"
     ]
    }
   ],
   "source": [
    "from yargy import Parser, rule, and_\n",
    "from yargy.predicates import gram, is_capitalized, dictionary\n",
    "\n",
    "\n",
    "GEO = rule(\n",
    "    and_(\n",
    "        gram('ADJF'),  # так помечается прилагательное, остальные пометки описаны в\n",
    "                       # http://pymorphy2.readthedocs.io/en/latest/user/grammemes.html\n",
    "        is_capitalized()\n",
    "    ),\n",
    "    gram('ADJF').optional().repeatable(),\n",
    "    dictionary({\n",
    "        'федерация',\n",
    "        'республика'\n",
    "    })\n",
    ")\n",
    "\n",
    "\n",
    "parser = Parser(GEO)\n",
    "text = '''\n",
    "В Чеченской республике на день рождения ...\n",
    "Донецкая народная республика провозгласила ...\n",
    "Башня Федерация — одна из самых высоких ...\n",
    "'''\n",
    "for match in parser.findall(text):\n",
    "    print([_.value for _ in match.tokens])"
   ]
  },
  {
   "cell_type": "markdown",
   "metadata": {},
   "source": [
    "Настоящие сложные грамматики для топонимов собраны в репозитории <a href=\"https://github.com/natasha/natasha\">Natasha</a>."
   ]
  },
  {
   "cell_type": "markdown",
   "metadata": {},
   "source": [
    "Найти подстроку в тексте не достаточно, нужно разбить её на поля и нормализовать. Например, из фразы \"12 марта по приказу президента Владимира Путина ...\", извлечём объект `Person(position='президент', Name(first='Владимир', last='Путин'))`."
   ]
  },
  {
   "cell_type": "code",
   "execution_count": 2,
   "metadata": {},
   "outputs": [
    {
     "data": {
      "text/plain": [
       "Person(\n",
       "    position='президент',\n",
       "    name=Name(\n",
       "        first='владимир',\n",
       "        last='путин'\n",
       "    )\n",
       ")"
      ]
     },
     "metadata": {},
     "output_type": "display_data"
    }
   ],
   "source": [
    "from yargy import Parser\n",
    "from yargy.predicates import gram\n",
    "from yargy.pipelines import morph_pipeline\n",
    "from yargy.interpretation import fact\n",
    "from IPython.display import display\n",
    "\n",
    "Person = fact(\n",
    "    'Person',\n",
    "    ['position', 'name']\n",
    ")\n",
    "Name = fact(\n",
    "    'Name',\n",
    "    ['first', 'last']\n",
    ")\n",
    "\n",
    "\n",
    "POSITION = morph_pipeline([\n",
    "    'премьер министр',\n",
    "    'президент'\n",
    "])\n",
    "\n",
    "NAME = rule(\n",
    "    gram('Name').interpretation(\n",
    "        Name.first.inflected()\n",
    "    ),\n",
    "    gram('Surn').interpretation(\n",
    "        Name.last.inflected()\n",
    "    )\n",
    ").interpretation(\n",
    "    Name\n",
    ")\n",
    "\n",
    "PERSON = rule(\n",
    "    POSITION.interpretation(\n",
    "        Person.position.inflected()\n",
    "    ),\n",
    "    NAME.interpretation(\n",
    "        Person.name\n",
    "    )\n",
    ").interpretation(\n",
    "    Person\n",
    ")\n",
    "\n",
    "\n",
    "parser = Parser(PERSON)\n",
    "text = '''\n",
    "12 марта по приказу президента Владимира Путина ...\n",
    "'''\n",
    "for match in parser.findall(text):\n",
    "    display(match.fact)"
   ]
  },
  {
   "cell_type": "markdown",
   "metadata": {},
   "source": [
    "Грамматики для имён собраны в репозитории [Natasha](https://github.com/natasha/natasha)"
   ]
  },
  {
   "cell_type": "markdown",
   "metadata": {},
   "source": [
    "## Токенизатор"
   ]
  },
  {
   "cell_type": "markdown",
   "metadata": {},
   "source": [
    "Парсер работает с последовательностью токенов. Встроенный в Yargy токенизатор простой и предсказуемый:"
   ]
  },
  {
   "cell_type": "code",
   "execution_count": 3,
   "metadata": {},
   "outputs": [
    {
     "name": "stdout",
     "output_type": "stream",
     "text": [
      "['Ростов', '-', 'на', '-', 'Дону']\n",
      "['Длительностью', '18', 'ч', '.', '10', 'мин', '.']\n",
      "['Яндекс', '.', 'Такси']\n",
      "['π', '≈', '3', '.', '1415']\n",
      "['1', '500', '000', '$']\n",
      "['http', ':', '/', '/', 'vk', '.', 'com']\n"
     ]
    }
   ],
   "source": [
    "from yargy.tokenizer import MorphTokenizer\n",
    "\n",
    "\n",
    "tokenizer = MorphTokenizer()\n",
    "text = '''Ростов-на-Дону\n",
    "Длительностью 18ч. 10мин.\n",
    "Яндекс.Такси\n",
    "π ≈ 3.1415\n",
    "1 500 000$\n",
    "http://vk.com\n",
    "'''\n",
    "for line in text.splitlines():\n",
    "    print([_.value for _ in tokenizer(line)])"
   ]
  },
  {
   "cell_type": "markdown",
   "metadata": {},
   "source": [
    "Для каждого токена Pymorph2 возвращает набор граммем. Например, \"NOUN, sing, femn\" — \"существительное в единственном числе женского рода\". Полный список в <a href=\"https://pymorphy2.readthedocs.io/en/latest/user/grammemes.html\">документации Pymorph2</a>.\n",
    "\n",
    "Вне контекста слово имеет несколько вариантов разбора. Например, \"стали\" — глагол (VERB) во фразе \"мы стали лучше\" и существительное (NOUN) в \"марки стали\":"
   ]
  },
  {
   "cell_type": "code",
   "execution_count": 4,
   "metadata": {},
   "outputs": [
    {
     "data": {
      "text/plain": [
       "[MorphToken(\n",
       "     value='марки',\n",
       "     span=[0, 5),\n",
       "     type='RU',\n",
       "     forms=[Form('марка', Grams(NOUN,femn,gent,inan,sing)),\n",
       "      Form('марка', Grams(NOUN,femn,inan,nomn,plur)),\n",
       "      Form('марка', Grams(NOUN,accs,femn,inan,plur)),\n",
       "      Form('маркий', Grams(ADJS,Qual,plur)),\n",
       "      Form('марк', Grams(NOUN,Name,anim,masc,nomn,plur))]\n",
       " ),\n",
       " MorphToken(\n",
       "     value='стали',\n",
       "     span=[6, 11),\n",
       "     type='RU',\n",
       "     forms=[Form('стать', Grams(VERB,indc,intr,past,perf,plur)),\n",
       "      Form('сталь', Grams(NOUN,femn,gent,inan,sing)),\n",
       "      Form('сталь', Grams(NOUN,datv,femn,inan,sing)),\n",
       "      Form('сталь', Grams(NOUN,femn,inan,loct,sing)),\n",
       "      Form('сталь', Grams(NOUN,femn,inan,nomn,plur)),\n",
       "      Form('сталь', Grams(NOUN,accs,femn,inan,plur))]\n",
       " )]"
      ]
     },
     "execution_count": 4,
     "metadata": {},
     "output_type": "execute_result"
    }
   ],
   "source": [
    "tokenizer = MorphTokenizer()\n",
    "list(tokenizer('марки стали'))"
   ]
  },
  {
   "cell_type": "markdown",
   "metadata": {},
   "source": [
    "Токенизатор работает на правилах. В <a href=\"ref.ipynb#Токенизатор\">справочнике</a> показано, как менять стандартные правила и добавлять новые."
   ]
  },
  {
   "cell_type": "markdown",
   "metadata": {},
   "source": [
    "## Предикаты"
   ]
  },
  {
   "cell_type": "markdown",
   "metadata": {},
   "source": [
    "Предикат принимает токен, возвращает `True` или `False`. В Yargy встроен <a href=\"ref.ipynb#Предикаты\">набор готовых предикатов</a>. Операторы `and_`, `or_` и `not_` комбинируют предикаты:"
   ]
  },
  {
   "cell_type": "code",
   "execution_count": 5,
   "metadata": {},
   "outputs": [],
   "source": [
    "from yargy import and_, not_\n",
    "from yargy.tokenizer import MorphTokenizer\n",
    "from yargy.predicates import is_capitalized, eq\n",
    "\n",
    "\n",
    "tokenizer = MorphTokenizer()\n",
    "token = next(tokenizer('Стали'))\n",
    "\n",
    "predicate = is_capitalized()\n",
    "assert predicate(token) == True\n",
    "\n",
    "predicate = and_(\n",
    "    is_capitalized(),\n",
    "    not_(eq('марки'))\n",
    ")\n",
    "assert predicate(token) == True"
   ]
  },
  {
   "cell_type": "markdown",
   "metadata": {},
   "source": [
    "<a href=\"ref.ipynb#predicates.custom\">custom</a> создаёт предикат из произвольной функции. Например, предикат для  римских цифр:"
   ]
  },
  {
   "cell_type": "code",
   "execution_count": 6,
   "metadata": {},
   "outputs": [],
   "source": [
    "from pymorphy2.shapes import is_roman_number\n",
    "\n",
    "from yargy.parser import Context\n",
    "from yargy.tokenizer import Tokenizer\n",
    "from yargy.predicates import custom\n",
    "\n",
    "\n",
    "tokenizer = Tokenizer()\n",
    "token = next(tokenizer('XL'))\n",
    "\n",
    "predicate = custom(is_roman_number, types='LATIN')\n",
    "predicate = predicate.activate(Context(tokenizer))  # проверяется, что tokenizer поддерживает тип 'LATIN'\n",
    "assert predicate(token) == True\n",
    "\n",
    "token = next(tokenizer('XS'))\n",
    "assert predicate(token) == False"
   ]
  },
  {
   "cell_type": "markdown",
   "metadata": {},
   "source": [
    "## Газеттир"
   ]
  },
  {
   "cell_type": "markdown",
   "metadata": {},
   "source": [
    "Газеттир работает с последовательностью слов. Например, вместо:"
   ]
  },
  {
   "cell_type": "code",
   "execution_count": 7,
   "metadata": {},
   "outputs": [],
   "source": [
    "from yargy import or_, rule\n",
    "from yargy.predicates import normalized\n",
    "\n",
    "RULE = or_(\n",
    "    rule(normalized('dvd'), '-', normalized('диск')),\n",
    "    rule(normalized('видео'), normalized('файл'))\n",
    ")"
   ]
  },
  {
   "cell_type": "markdown",
   "metadata": {},
   "source": [
    "удобно использовать `morph_pipeline`:"
   ]
  },
  {
   "cell_type": "code",
   "execution_count": 8,
   "metadata": {},
   "outputs": [
    {
     "name": "stdout",
     "output_type": "stream",
     "text": [
      "['Видео', 'файл']\n",
      "['dvd', '-', 'диске']\n"
     ]
    }
   ],
   "source": [
    "from yargy import Parser\n",
    "from yargy.pipelines import morph_pipeline\n",
    "\n",
    "\n",
    "RULE = morph_pipeline([\n",
    "    'dvd-диск',\n",
    "    'видео файл',\n",
    "    'видеофильм',\n",
    "    'газета',\n",
    "    'электронный дневник',\n",
    "    'эссе',\n",
    "])\n",
    "\n",
    "parser = Parser(RULE)\n",
    "text = 'Видео файл на dvd-диске'\n",
    "for match in parser.findall(text):\n",
    "    print([_.value for _ in match.tokens])"
   ]
  },
  {
   "cell_type": "markdown",
   "metadata": {},
   "source": [
    "Список газеттиров в <a href=\"ref.ipynb#Газеттир\">справочнике</a>."
   ]
  },
  {
   "cell_type": "markdown",
   "metadata": {},
   "source": [
    "## Грамматики"
   ]
  },
  {
   "cell_type": "markdown",
   "metadata": {},
   "source": [
    "В Yargy контекстно-свободная грамматика описывается конструкциями Python. Например, традиционная запись грамматики размеров одежды:\n",
    "```\n",
    "KEY -> р. | размер\n",
    "VALUE -> S | M | L\n",
    "SIZE -> KEY VALUE\n",
    "```\n",
    "\n",
    "Так она выглядит в Yargy:"
   ]
  },
  {
   "cell_type": "code",
   "execution_count": 9,
   "metadata": {},
   "outputs": [
    {
     "data": {
      "text/plain": [
       "SIZE -> KEY VALUE\n",
       "KEY -> 'р' '.' | 'размер'\n",
       "VALUE -> 'S' | 'M' | 'L'\n"
      ]
     },
     "execution_count": 9,
     "metadata": {},
     "output_type": "execute_result"
    }
   ],
   "source": [
    "from yargy import rule, or_\n",
    "\n",
    "\n",
    "KEY = or_(\n",
    "    rule('р', '.'),\n",
    "    rule('размер')\n",
    ").named('KEY')\n",
    "VALUE = or_(\n",
    "    rule('S'),\n",
    "    rule('M'),\n",
    "    rule('L'),\n",
    ").named('VALUE')\n",
    "SIZE = rule(\n",
    "    KEY,\n",
    "    VALUE\n",
    ").named('SIZE')\n",
    "SIZE.normalized.as_bnf"
   ]
  },
  {
   "cell_type": "markdown",
   "metadata": {},
   "source": [
    "В Yargy терминал грамматики — предикат. Используем встроенный предикат `in_`, сократим запись `VALUE`:"
   ]
  },
  {
   "cell_type": "code",
   "execution_count": 10,
   "metadata": {},
   "outputs": [
    {
     "data": {
      "text/plain": [
       "SIZE -> KEY VALUE\n",
       "KEY -> 'р' '.' | 'размер'\n",
       "VALUE -> in_(...)\n"
      ]
     },
     "execution_count": 10,
     "metadata": {},
     "output_type": "execute_result"
    }
   ],
   "source": [
    "from yargy.predicates import in_\n",
    "\n",
    "\n",
    "VALUE = rule(\n",
    "    in_('SML')\n",
    ").named('VALUE')\n",
    "SIZE = rule(\n",
    "    KEY,\n",
    "    VALUE\n",
    ").named('SIZE')\n",
    "SIZE.normalized.as_bnf"
   ]
  },
  {
   "cell_type": "markdown",
   "metadata": {},
   "source": [
    "Как быть, когда правая часть правила ссылается на левую? Например:\n",
    "```\n",
    "EXPR -> a | ( EXPR + EXPR )\n",
    "```\n",
    "\n",
    "В Python нельзя использовать необъявленные переменные. Для рекурсивных правил, есть конструкция `forward`:"
   ]
  },
  {
   "cell_type": "code",
   "execution_count": 11,
   "metadata": {},
   "outputs": [
    {
     "data": {
      "text/plain": [
       "EXPR -> 'a' | '(' EXPR '+' EXPR ')'\n"
      ]
     },
     "execution_count": 11,
     "metadata": {},
     "output_type": "execute_result"
    }
   ],
   "source": [
    "from yargy import forward\n",
    "\n",
    "\n",
    "EXPR = forward()\n",
    "EXPR.define(or_(\n",
    "    rule('a'),\n",
    "    rule('(', EXPR, '+', EXPR, ')')\n",
    ").named('EXPR'))\n",
    "EXPR.normalized.as_bnf"
   ]
  },
  {
   "cell_type": "markdown",
   "metadata": {},
   "source": [
    "Рекурсивные правила описывают последовательности токенов произвольной длины. Грамматика для текста в кавычках:"
   ]
  },
  {
   "cell_type": "code",
   "execution_count": 12,
   "metadata": {},
   "outputs": [
    {
     "data": {
      "text/plain": [
       "TITLE -> '«' R0 '»'\n",
       "R0 -> not_('»') | not_('»') R0\n"
      ]
     },
     "execution_count": 12,
     "metadata": {},
     "output_type": "execute_result"
    }
   ],
   "source": [
    "from yargy import not_\n",
    "from yargy.predicates import eq\n",
    "\n",
    "\n",
    "WORD = not_(eq('»'))\n",
    "TEXT = forward()\n",
    "TEXT.define(or_(\n",
    "    rule(WORD),\n",
    "    rule(WORD, TEXT)\n",
    "))\n",
    "TITLE = rule(\n",
    "    '«',\n",
    "    TEXT,\n",
    "    '»'\n",
    ").named('TITLE')\n",
    "TITLE.normalized.as_bnf"
   ]
  },
  {
   "cell_type": "markdown",
   "metadata": {},
   "source": [
    "Для удобства в Yargy есть метод `repeatable` с ним запись короче. Библиотека автоматически добавит `forward`:"
   ]
  },
  {
   "cell_type": "code",
   "execution_count": 13,
   "metadata": {},
   "outputs": [
    {
     "data": {
      "text/plain": [
       "TITLE -> '«' R0 '»'\n",
       "R0 -> not_('»') R0 | not_('»')\n"
      ]
     },
     "execution_count": 13,
     "metadata": {},
     "output_type": "execute_result"
    }
   ],
   "source": [
    "TITLE = rule(\n",
    "    '«',\n",
    "    not_(eq('»')).repeatable(),\n",
    "    '»'\n",
    ").named('TITLE')\n",
    "TITLE.normalized.as_bnf"
   ]
  },
  {
   "cell_type": "markdown",
   "metadata": {},
   "source": [
    "## Парсер"
   ]
  },
  {
   "cell_type": "markdown",
   "metadata": {},
   "source": [
    "У парсера есть два метода: `findall` и `match`. `findall` находит все непересекающиеся подстроки, которые удовлетворяют грамматике:"
   ]
  },
  {
   "cell_type": "code",
   "execution_count": 14,
   "metadata": {},
   "outputs": [
    {
     "name": "stdout",
     "output_type": "stream",
     "text": [
      "['Президент', 'Владимир', 'Путин']\n",
      "['«', 'Интервью', 'с', 'Путиным', '»']\n"
     ]
    }
   ],
   "source": [
    "parser = Parser(\n",
    "    or_(\n",
    "        PERSON,\n",
    "        TITLE\n",
    "    )\n",
    ")\n",
    "text = 'Президент Владимир Путин в фильме «Интервью с Путиным» ..'\n",
    "for match in parser.findall(text):\n",
    "    print([_.value for _ in match.tokens])"
   ]
  },
  {
   "cell_type": "markdown",
   "metadata": {},
   "source": [
    "`match` — пытается разобрать весь текст целиком:"
   ]
  },
  {
   "cell_type": "code",
   "execution_count": 15,
   "metadata": {},
   "outputs": [
    {
     "name": "stdout",
     "output_type": "stream",
     "text": [
      "['Президент', 'Владимир', 'Путин']\n",
      "None\n"
     ]
    }
   ],
   "source": [
    "match = parser.match('Президент Владимир Путин')\n",
    "print([_.value for _ in match.tokens])\n",
    "\n",
    "match = parser.match('Президент Владимир Путин 25 мая')\n",
    "print(match)"
   ]
  },
  {
   "cell_type": "markdown",
   "metadata": {},
   "source": [
    "## Интерпретация"
   ]
  },
  {
   "cell_type": "markdown",
   "metadata": {},
   "source": [
    "Результат работы парсера — это дерево разбора. Грамматика и деревья разбора для дат:"
   ]
  },
  {
   "cell_type": "code",
   "execution_count": 16,
   "metadata": {},
   "outputs": [
    {
     "data": {
      "image/svg+xml": [
       "<?xml version=\"1.0\" encoding=\"UTF-8\" standalone=\"no\"?>\n",
       "<!DOCTYPE svg PUBLIC \"-//W3C//DTD SVG 1.1//EN\"\n",
       " \"http://www.w3.org/Graphics/SVG/1.1/DTD/svg11.dtd\">\n",
       "<!-- Generated by graphviz version 2.40.1 (20161225.0304)\n",
       " -->\n",
       "<!-- Title: G Pages: 1 -->\n",
       "<svg width=\"87pt\" height=\"52pt\"\n",
       " viewBox=\"0.00 0.00 86.51 52.00\" xmlns=\"http://www.w3.org/2000/svg\" xmlns:xlink=\"http://www.w3.org/1999/xlink\">\n",
       "<g id=\"graph0\" class=\"graph\" transform=\"scale(1 1) rotate(0) translate(4 48)\">\n",
       "<title>G</title>\n",
       "<polygon fill=\"#ffffff\" stroke=\"transparent\" points=\"-4,4 -4,-48 82.5122,-48 82.5122,4 -4,4\"/>\n",
       "<!-- 0 -->\n",
       "<g id=\"node1\" class=\"node\">\n",
       "<title>0</title>\n",
       "<polygon fill=\"#aec7e8\" stroke=\"transparent\" points=\"70.0557,-44 28.1904,-44 28.1904,-26 70.0557,-26 70.0557,-44\"/>\n",
       "<text text-anchor=\"middle\" x=\"49.123\" y=\"-32\" font-family=\"sans\" font-size=\"10.00\" fill=\"#000000\">DATE</text>\n",
       "</g>\n",
       "<!-- 1 -->\n",
       "<g id=\"node2\" class=\"node\">\n",
       "<title>1</title>\n",
       "<polygon fill=\"#eeeeee\" stroke=\"transparent\" points=\"38.3699,-18 -.1238,-18 -.1238,0 38.3699,0 38.3699,-18\"/>\n",
       "<text text-anchor=\"middle\" x=\"19.123\" y=\"-6\" font-family=\"sans\" font-size=\"10.00\" fill=\"#000000\">2015</text>\n",
       "</g>\n",
       "<!-- 0&#45;&gt;1 -->\n",
       "<g id=\"edge1\" class=\"edge\">\n",
       "<title>0&#45;&gt;1</title>\n",
       "<path fill=\"none\" stroke=\"#c0c0c0\" d=\"M38.6305,-25.9065C36.5902,-24.1382 34.4273,-22.2637 32.313,-20.4313\"/>\n",
       "<polygon fill=\"#c0c0c0\" stroke=\"#c0c0c0\" points=\"32.8185,-19.4799 29.8637,-18.3086 31.4431,-21.0669 32.8185,-19.4799\"/>\n",
       "</g>\n",
       "<!-- 2 -->\n",
       "<g id=\"node3\" class=\"node\">\n",
       "<title>2</title>\n",
       "<polygon fill=\"#eeeeee\" stroke=\"transparent\" points=\"59.1514,-18 39.0947,-18 39.0947,0 59.1514,0 59.1514,-18\"/>\n",
       "<text text-anchor=\"middle\" x=\"49.123\" y=\"-6\" font-family=\"sans\" font-size=\"10.00\" fill=\"#000000\">г</text>\n",
       "</g>\n",
       "<!-- 0&#45;&gt;2 -->\n",
       "<g id=\"edge2\" class=\"edge\">\n",
       "<title>0&#45;&gt;2</title>\n",
       "<path fill=\"none\" stroke=\"#c0c0c0\" d=\"M49.123,-25.9065C49.123,-24.5226 49.123,-23.0737 49.123,-21.6308\"/>\n",
       "<polygon fill=\"#c0c0c0\" stroke=\"#c0c0c0\" points=\"50.1731,-21.3085 49.123,-18.3086 48.0731,-21.3086 50.1731,-21.3085\"/>\n",
       "</g>\n",
       "<!-- 3 -->\n",
       "<g id=\"node4\" class=\"node\">\n",
       "<title>3</title>\n",
       "<polygon fill=\"#eeeeee\" stroke=\"transparent\" points=\"78.4027,-18 59.8434,-18 59.8434,0 78.4027,0 78.4027,-18\"/>\n",
       "<text text-anchor=\"middle\" x=\"69.123\" y=\"-6\" font-family=\"sans\" font-size=\"10.00\" fill=\"#000000\">.</text>\n",
       "</g>\n",
       "<!-- 0&#45;&gt;3 -->\n",
       "<g id=\"edge3\" class=\"edge\">\n",
       "<title>0&#45;&gt;3</title>\n",
       "<path fill=\"none\" stroke=\"#c0c0c0\" d=\"M56.1181,-25.9065C57.3008,-24.3689 58.5454,-22.7509 59.7768,-21.1502\"/>\n",
       "<polygon fill=\"#c0c0c0\" stroke=\"#c0c0c0\" points=\"60.9657,-21.3267 61.9626,-18.3086 59.3012,-20.0463 60.9657,-21.3267\"/>\n",
       "</g>\n",
       "</g>\n",
       "</svg>\n"
      ],
      "text/plain": [
       "Graph(nodes=[...], edges=[...])"
      ]
     },
     "metadata": {},
     "output_type": "display_data"
    },
    {
     "data": {
      "image/svg+xml": [
       "<?xml version=\"1.0\" encoding=\"UTF-8\" standalone=\"no\"?>\n",
       "<!DOCTYPE svg PUBLIC \"-//W3C//DTD SVG 1.1//EN\"\n",
       " \"http://www.w3.org/Graphics/SVG/1.1/DTD/svg11.dtd\">\n",
       "<!-- Generated by graphviz version 2.40.1 (20161225.0304)\n",
       " -->\n",
       "<!-- Title: G Pages: 1 -->\n",
       "<svg width=\"117pt\" height=\"52pt\"\n",
       " viewBox=\"0.00 0.00 116.68 52.00\" xmlns=\"http://www.w3.org/2000/svg\" xmlns:xlink=\"http://www.w3.org/1999/xlink\">\n",
       "<g id=\"graph0\" class=\"graph\" transform=\"scale(1 1) rotate(0) translate(4 48)\">\n",
       "<title>G</title>\n",
       "<polygon fill=\"#ffffff\" stroke=\"transparent\" points=\"-4,4 -4,-48 112.6846,-48 112.6846,4 -4,4\"/>\n",
       "<!-- 0 -->\n",
       "<g id=\"node1\" class=\"node\">\n",
       "<title>0</title>\n",
       "<polygon fill=\"#aec7e8\" stroke=\"transparent\" points=\"69.4942,-44 27.6289,-44 27.6289,-26 69.4942,-26 69.4942,-44\"/>\n",
       "<text text-anchor=\"middle\" x=\"48.5615\" y=\"-32\" font-family=\"sans\" font-size=\"10.00\" fill=\"#000000\">DATE</text>\n",
       "</g>\n",
       "<!-- 1 -->\n",
       "<g id=\"node2\" class=\"node\">\n",
       "<title>1</title>\n",
       "<polygon fill=\"#eeeeee\" stroke=\"transparent\" points=\"27.1849,-18 -.0618,-18 -.0618,0 27.1849,0 27.1849,-18\"/>\n",
       "<text text-anchor=\"middle\" x=\"13.5615\" y=\"-6\" font-family=\"sans\" font-size=\"10.00\" fill=\"#000000\">18</text>\n",
       "</g>\n",
       "<!-- 0&#45;&gt;1 -->\n",
       "<g id=\"edge1\" class=\"edge\">\n",
       "<title>0&#45;&gt;1</title>\n",
       "<path fill=\"none\" stroke=\"#c0c0c0\" d=\"M36.3202,-25.9065C33.8364,-24.0613 31.1968,-22.1005 28.6284,-20.1926\"/>\n",
       "<polygon fill=\"#c0c0c0\" stroke=\"#c0c0c0\" points=\"29.1267,-19.2547 26.0923,-18.3086 27.8744,-20.9405 29.1267,-19.2547\"/>\n",
       "</g>\n",
       "<!-- 2 -->\n",
       "<g id=\"node3\" class=\"node\">\n",
       "<title>2</title>\n",
       "<polygon fill=\"#eeeeee\" stroke=\"transparent\" points=\"68.9981,-18 28.125,-18 28.125,0 68.9981,0 68.9981,-18\"/>\n",
       "<text text-anchor=\"middle\" x=\"48.5615\" y=\"-6\" font-family=\"sans\" font-size=\"10.00\" fill=\"#000000\">июля</text>\n",
       "</g>\n",
       "<!-- 0&#45;&gt;2 -->\n",
       "<g id=\"edge2\" class=\"edge\">\n",
       "<title>0&#45;&gt;2</title>\n",
       "<path fill=\"none\" stroke=\"#c0c0c0\" d=\"M48.5615,-25.9065C48.5615,-24.5226 48.5615,-23.0737 48.5615,-21.6308\"/>\n",
       "<polygon fill=\"#c0c0c0\" stroke=\"#c0c0c0\" points=\"49.6116,-21.3085 48.5615,-18.3086 47.5116,-21.3086 49.6116,-21.3085\"/>\n",
       "</g>\n",
       "<!-- 3 -->\n",
       "<g id=\"node4\" class=\"node\">\n",
       "<title>3</title>\n",
       "<polygon fill=\"#eeeeee\" stroke=\"transparent\" points=\"108.8084,-18 70.3146,-18 70.3146,0 108.8084,0 108.8084,-18\"/>\n",
       "<text text-anchor=\"middle\" x=\"89.5615\" y=\"-6\" font-family=\"sans\" font-size=\"10.00\" fill=\"#000000\">2016</text>\n",
       "</g>\n",
       "<!-- 0&#45;&gt;3 -->\n",
       "<g id=\"edge3\" class=\"edge\">\n",
       "<title>0&#45;&gt;3</title>\n",
       "<path fill=\"none\" stroke=\"#c0c0c0\" d=\"M62.9013,-25.9065C66.0044,-23.9387 69.315,-21.8393 72.5105,-19.8129\"/>\n",
       "<polygon fill=\"#c0c0c0\" stroke=\"#c0c0c0\" points=\"73.1893,-20.6258 75.1605,-18.1324 72.0646,-18.8523 73.1893,-20.6258\"/>\n",
       "</g>\n",
       "</g>\n",
       "</svg>\n"
      ],
      "text/plain": [
       "Graph(nodes=[...], edges=[...])"
      ]
     },
     "metadata": {},
     "output_type": "display_data"
    },
    {
     "data": {
      "image/svg+xml": [
       "<?xml version=\"1.0\" encoding=\"UTF-8\" standalone=\"no\"?>\n",
       "<!DOCTYPE svg PUBLIC \"-//W3C//DTD SVG 1.1//EN\"\n",
       " \"http://www.w3.org/Graphics/SVG/1.1/DTD/svg11.dtd\">\n",
       "<!-- Generated by graphviz version 2.40.1 (20161225.0304)\n",
       " -->\n",
       "<!-- Title: G Pages: 1 -->\n",
       "<svg width=\"143pt\" height=\"52pt\"\n",
       " viewBox=\"0.00 0.00 142.68 52.00\" xmlns=\"http://www.w3.org/2000/svg\" xmlns:xlink=\"http://www.w3.org/1999/xlink\">\n",
       "<g id=\"graph0\" class=\"graph\" transform=\"scale(1 1) rotate(0) translate(4 48)\">\n",
       "<title>G</title>\n",
       "<polygon fill=\"#ffffff\" stroke=\"transparent\" points=\"-4,4 -4,-48 138.6846,-48 138.6846,4 -4,4\"/>\n",
       "<!-- 0 -->\n",
       "<g id=\"node1\" class=\"node\">\n",
       "<title>0</title>\n",
       "<polygon fill=\"#aec7e8\" stroke=\"transparent\" points=\"94.0557,-44 52.1904,-44 52.1904,-26 94.0557,-26 94.0557,-44\"/>\n",
       "<text text-anchor=\"middle\" x=\"73.123\" y=\"-32\" font-family=\"sans\" font-size=\"10.00\" fill=\"#000000\">DATE</text>\n",
       "</g>\n",
       "<!-- 1 -->\n",
       "<g id=\"node2\" class=\"node\">\n",
       "<title>1</title>\n",
       "<polygon fill=\"#eeeeee\" stroke=\"transparent\" points=\"38.3699,-18 -.1238,-18 -.1238,0 38.3699,0 38.3699,-18\"/>\n",
       "<text text-anchor=\"middle\" x=\"19.123\" y=\"-6\" font-family=\"sans\" font-size=\"10.00\" fill=\"#000000\">2016</text>\n",
       "</g>\n",
       "<!-- 0&#45;&gt;1 -->\n",
       "<g id=\"edge1\" class=\"edge\">\n",
       "<title>0&#45;&gt;1</title>\n",
       "<path fill=\"none\" stroke=\"#c0c0c0\" d=\"M54.2365,-25.9065C49.9044,-23.8206 45.265,-21.5869 40.8247,-19.449\"/>\n",
       "<polygon fill=\"#c0c0c0\" stroke=\"#c0c0c0\" points=\"41.2488,-18.4878 38.0902,-18.1324 40.3377,-20.3799 41.2488,-18.4878\"/>\n",
       "</g>\n",
       "<!-- 2 -->\n",
       "<g id=\"node3\" class=\"node\">\n",
       "<title>2</title>\n",
       "<polygon fill=\"#eeeeee\" stroke=\"transparent\" points=\"58.956,-18 39.2901,-18 39.2901,0 58.956,0 58.956,-18\"/>\n",
       "<text text-anchor=\"middle\" x=\"49.123\" y=\"-6\" font-family=\"sans\" font-size=\"10.00\" fill=\"#000000\">&#45;</text>\n",
       "</g>\n",
       "<!-- 0&#45;&gt;2 -->\n",
       "<g id=\"edge2\" class=\"edge\">\n",
       "<title>0&#45;&gt;2</title>\n",
       "<path fill=\"none\" stroke=\"#c0c0c0\" d=\"M64.729,-25.9065C63.1678,-24.2151 61.5167,-22.4265 59.8959,-20.6705\"/>\n",
       "<polygon fill=\"#c0c0c0\" stroke=\"#c0c0c0\" points=\"60.522,-19.8008 57.7156,-18.3086 58.9789,-21.2252 60.522,-19.8008\"/>\n",
       "</g>\n",
       "<!-- 3 -->\n",
       "<g id=\"node4\" class=\"node\">\n",
       "<title>3</title>\n",
       "<polygon fill=\"#eeeeee\" stroke=\"transparent\" points=\"86.7464,-18 59.4997,-18 59.4997,0 86.7464,0 86.7464,-18\"/>\n",
       "<text text-anchor=\"middle\" x=\"73.123\" y=\"-6\" font-family=\"sans\" font-size=\"10.00\" fill=\"#000000\">01</text>\n",
       "</g>\n",
       "<!-- 0&#45;&gt;3 -->\n",
       "<g id=\"edge3\" class=\"edge\">\n",
       "<title>0&#45;&gt;3</title>\n",
       "<path fill=\"none\" stroke=\"#c0c0c0\" d=\"M73.123,-25.9065C73.123,-24.5226 73.123,-23.0737 73.123,-21.6308\"/>\n",
       "<polygon fill=\"#c0c0c0\" stroke=\"#c0c0c0\" points=\"74.1731,-21.3085 73.123,-18.3086 72.0731,-21.3086 74.1731,-21.3085\"/>\n",
       "</g>\n",
       "<!-- 4 -->\n",
       "<g id=\"node5\" class=\"node\">\n",
       "<title>4</title>\n",
       "<polygon fill=\"#eeeeee\" stroke=\"transparent\" points=\"106.956,-18 87.2901,-18 87.2901,0 106.956,0 106.956,-18\"/>\n",
       "<text text-anchor=\"middle\" x=\"97.123\" y=\"-6\" font-family=\"sans\" font-size=\"10.00\" fill=\"#000000\">&#45;</text>\n",
       "</g>\n",
       "<!-- 0&#45;&gt;4 -->\n",
       "<g id=\"edge4\" class=\"edge\">\n",
       "<title>0&#45;&gt;4</title>\n",
       "<path fill=\"none\" stroke=\"#c0c0c0\" d=\"M81.5171,-25.9065C83.0783,-24.2151 84.7294,-22.4265 86.3502,-20.6705\"/>\n",
       "<polygon fill=\"#c0c0c0\" stroke=\"#c0c0c0\" points=\"87.2672,-21.2252 88.5305,-18.3086 85.7241,-19.8008 87.2672,-21.2252\"/>\n",
       "</g>\n",
       "<!-- 5 -->\n",
       "<g id=\"node6\" class=\"node\">\n",
       "<title>5</title>\n",
       "<polygon fill=\"#eeeeee\" stroke=\"transparent\" points=\"134.7464,-18 107.4997,-18 107.4997,0 134.7464,0 134.7464,-18\"/>\n",
       "<text text-anchor=\"middle\" x=\"121.123\" y=\"-6\" font-family=\"sans\" font-size=\"10.00\" fill=\"#000000\">02</text>\n",
       "</g>\n",
       "<!-- 0&#45;&gt;5 -->\n",
       "<g id=\"edge5\" class=\"edge\">\n",
       "<title>0&#45;&gt;5</title>\n",
       "<path fill=\"none\" stroke=\"#c0c0c0\" d=\"M89.9111,-25.9065C94.6574,-23.3356 99.8186,-20.5399 104.552,-17.976\"/>\n",
       "<polygon fill=\"#c0c0c0\" stroke=\"#c0c0c0\" points=\"105.2986,-18.7657 107.4364,-16.4136 104.2984,-16.9192 105.2986,-18.7657\"/>\n",
       "</g>\n",
       "</g>\n",
       "</svg>\n"
      ],
      "text/plain": [
       "Graph(nodes=[...], edges=[...])"
      ]
     },
     "metadata": {},
     "output_type": "display_data"
    }
   ],
   "source": [
    "from IPython.display import display\n",
    "\n",
    "from yargy.predicates import (\n",
    "    lte,\n",
    "    gte,\n",
    "    dictionary\n",
    ")\n",
    "\n",
    "\n",
    "MONTHS = {\n",
    "    'январь',\n",
    "    'февраль',\n",
    "    'март',\n",
    "    'апрель',\n",
    "    'мая',\n",
    "    'июнь',\n",
    "    'июль',\n",
    "    'август',\n",
    "    'сентябрь',\n",
    "    'октябрь',\n",
    "    'ноябрь',\n",
    "    'декабрь'\n",
    "}\n",
    "\n",
    "\n",
    "MONTH_NAME = dictionary(MONTHS)\n",
    "MONTH = and_(\n",
    "    gte(1),\n",
    "    lte(12)\n",
    ")\n",
    "DAY = and_(\n",
    "    gte(1),\n",
    "    lte(31)\n",
    ")\n",
    "YEAR = and_(\n",
    "    gte(1900),\n",
    "    lte(2100)\n",
    ")\n",
    "DATE = or_(\n",
    "    rule(DAY, MONTH_NAME, YEAR),\n",
    "    rule(YEAR, '-', MONTH, '-', DAY),\n",
    "    rule(YEAR, 'г', '.')\n",
    ").named('DATE')\n",
    "parser = Parser(DATE)\n",
    "text = '''2015г.\n",
    "18 июля 2016\n",
    "2016-01-02\n",
    "'''\n",
    "for line in text.splitlines():\n",
    "    match = parser.match(line)\n",
    "    display(match.tree.as_dot)"
   ]
  },
  {
   "cell_type": "markdown",
   "metadata": {},
   "source": [
    "Интерпретация — процесс преобразования дерева разбора в объект с набором полей. Для даты, например, нужно получить структуры вида `Date(year=2016, month=1, day=2)`. Пользователь размечает дерево на вершины-атрибуты и вершины-конструкторы методом `interpretation`:"
   ]
  },
  {
   "cell_type": "code",
   "execution_count": 17,
   "metadata": {},
   "outputs": [
    {
     "data": {
      "image/svg+xml": [
       "<?xml version=\"1.0\" encoding=\"UTF-8\" standalone=\"no\"?>\n",
       "<!DOCTYPE svg PUBLIC \"-//W3C//DTD SVG 1.1//EN\"\n",
       " \"http://www.w3.org/Graphics/SVG/1.1/DTD/svg11.dtd\">\n",
       "<!-- Generated by graphviz version 2.40.1 (20161225.0304)\n",
       " -->\n",
       "<!-- Title: G Pages: 1 -->\n",
       "<svg width=\"108pt\" height=\"78pt\"\n",
       " viewBox=\"0.00 0.00 108.07 78.00\" xmlns=\"http://www.w3.org/2000/svg\" xmlns:xlink=\"http://www.w3.org/1999/xlink\">\n",
       "<g id=\"graph0\" class=\"graph\" transform=\"scale(1 1) rotate(0) translate(4 74)\">\n",
       "<title>G</title>\n",
       "<polygon fill=\"#ffffff\" stroke=\"transparent\" points=\"-4,4 -4,-74 104.0664,-74 104.0664,4 -4,4\"/>\n",
       "<!-- 0 -->\n",
       "<g id=\"node1\" class=\"node\">\n",
       "<title>0</title>\n",
       "<polygon fill=\"#dbdb8d\" stroke=\"transparent\" points=\"89.3005,-70 52.054,-70 52.054,-52 89.3005,-52 89.3005,-70\"/>\n",
       "<text text-anchor=\"middle\" x=\"70.6772\" y=\"-58\" font-family=\"sans\" font-size=\"10.00\" fill=\"#000000\">Date</text>\n",
       "</g>\n",
       "<!-- 1 -->\n",
       "<g id=\"node2\" class=\"node\">\n",
       "<title>1</title>\n",
       "<polygon fill=\"#dbdb8d\" stroke=\"transparent\" points=\"59.5328,-44 -.1783,-44 -.1783,-26 59.5328,-26 59.5328,-44\"/>\n",
       "<text text-anchor=\"middle\" x=\"29.6772\" y=\"-32\" font-family=\"sans\" font-size=\"10.00\" fill=\"#000000\">Date.year</text>\n",
       "</g>\n",
       "<!-- 0&#45;&gt;1 -->\n",
       "<g id=\"edge1\" class=\"edge\">\n",
       "<title>0&#45;&gt;1</title>\n",
       "<path fill=\"none\" stroke=\"#c0c0c0\" d=\"M56.3374,-51.9065C53.2344,-49.9387 49.9238,-47.8393 46.7283,-45.8129\"/>\n",
       "<polygon fill=\"#c0c0c0\" stroke=\"#c0c0c0\" points=\"47.1741,-44.8523 44.0783,-44.1324 46.0495,-46.6258 47.1741,-44.8523\"/>\n",
       "</g>\n",
       "<!-- 3 -->\n",
       "<g id=\"node4\" class=\"node\">\n",
       "<title>3</title>\n",
       "<polygon fill=\"#eeeeee\" stroke=\"transparent\" points=\"80.7056,-44 60.6489,-44 60.6489,-26 80.7056,-26 80.7056,-44\"/>\n",
       "<text text-anchor=\"middle\" x=\"70.6772\" y=\"-32\" font-family=\"sans\" font-size=\"10.00\" fill=\"#000000\">г</text>\n",
       "</g>\n",
       "<!-- 0&#45;&gt;3 -->\n",
       "<g id=\"edge2\" class=\"edge\">\n",
       "<title>0&#45;&gt;3</title>\n",
       "<path fill=\"none\" stroke=\"#c0c0c0\" d=\"M70.6772,-51.9065C70.6772,-50.5226 70.6772,-49.0737 70.6772,-47.6308\"/>\n",
       "<polygon fill=\"#c0c0c0\" stroke=\"#c0c0c0\" points=\"71.7273,-47.3085 70.6772,-44.3086 69.6273,-47.3086 71.7273,-47.3085\"/>\n",
       "</g>\n",
       "<!-- 4 -->\n",
       "<g id=\"node5\" class=\"node\">\n",
       "<title>4</title>\n",
       "<polygon fill=\"#eeeeee\" stroke=\"transparent\" points=\"99.9569,-44 81.3976,-44 81.3976,-26 99.9569,-26 99.9569,-44\"/>\n",
       "<text text-anchor=\"middle\" x=\"90.6772\" y=\"-32\" font-family=\"sans\" font-size=\"10.00\" fill=\"#000000\">.</text>\n",
       "</g>\n",
       "<!-- 0&#45;&gt;4 -->\n",
       "<g id=\"edge3\" class=\"edge\">\n",
       "<title>0&#45;&gt;4</title>\n",
       "<path fill=\"none\" stroke=\"#c0c0c0\" d=\"M77.6723,-51.9065C78.855,-50.3689 80.0996,-48.7509 81.331,-47.1502\"/>\n",
       "<polygon fill=\"#c0c0c0\" stroke=\"#c0c0c0\" points=\"82.5199,-47.3267 83.5168,-44.3086 80.8554,-46.0463 82.5199,-47.3267\"/>\n",
       "</g>\n",
       "<!-- 2 -->\n",
       "<g id=\"node3\" class=\"node\">\n",
       "<title>2</title>\n",
       "<polygon fill=\"#eeeeee\" stroke=\"transparent\" points=\"48.9241,-18 10.4304,-18 10.4304,0 48.9241,0 48.9241,-18\"/>\n",
       "<text text-anchor=\"middle\" x=\"29.6772\" y=\"-6\" font-family=\"sans\" font-size=\"10.00\" fill=\"#000000\">2015</text>\n",
       "</g>\n",
       "<!-- 1&#45;&gt;2 -->\n",
       "<g id=\"edge4\" class=\"edge\">\n",
       "<title>1&#45;&gt;2</title>\n",
       "<path fill=\"none\" stroke=\"#c0c0c0\" d=\"M29.6772,-25.9065C29.6772,-24.5226 29.6772,-23.0737 29.6772,-21.6308\"/>\n",
       "<polygon fill=\"#c0c0c0\" stroke=\"#c0c0c0\" points=\"30.7273,-21.3085 29.6772,-18.3086 28.6273,-21.3086 30.7273,-21.3085\"/>\n",
       "</g>\n",
       "</g>\n",
       "</svg>\n"
      ],
      "text/plain": [
       "Graph(nodes=[...], edges=[...])"
      ]
     },
     "metadata": {},
     "output_type": "display_data"
    },
    {
     "data": {
      "image/svg+xml": [
       "<?xml version=\"1.0\" encoding=\"UTF-8\" standalone=\"no\"?>\n",
       "<!DOCTYPE svg PUBLIC \"-//W3C//DTD SVG 1.1//EN\"\n",
       " \"http://www.w3.org/Graphics/SVG/1.1/DTD/svg11.dtd\">\n",
       "<!-- Generated by graphviz version 2.40.1 (20161225.0304)\n",
       " -->\n",
       "<!-- Title: G Pages: 1 -->\n",
       "<svg width=\"194pt\" height=\"78pt\"\n",
       " viewBox=\"0.00 0.00 193.69 78.00\" xmlns=\"http://www.w3.org/2000/svg\" xmlns:xlink=\"http://www.w3.org/1999/xlink\">\n",
       "<g id=\"graph0\" class=\"graph\" transform=\"scale(1 1) rotate(0) translate(4 74)\">\n",
       "<title>G</title>\n",
       "<polygon fill=\"#ffffff\" stroke=\"transparent\" points=\"-4,4 -4,-74 189.6895,-74 189.6895,4 -4,4\"/>\n",
       "<!-- 0 -->\n",
       "<g id=\"node1\" class=\"node\">\n",
       "<title>0</title>\n",
       "<polygon fill=\"#dbdb8d\" stroke=\"transparent\" points=\"109.6355,-70 72.389,-70 72.389,-52 109.6355,-52 109.6355,-70\"/>\n",
       "<text text-anchor=\"middle\" x=\"91.0122\" y=\"-58\" font-family=\"sans\" font-size=\"10.00\" fill=\"#000000\">Date</text>\n",
       "</g>\n",
       "<!-- 1 -->\n",
       "<g id=\"node2\" class=\"node\">\n",
       "<title>1</title>\n",
       "<polygon fill=\"#dbdb8d\" stroke=\"transparent\" points=\"56.0366,-44 -.0122,-44 -.0122,-26 56.0366,-26 56.0366,-44\"/>\n",
       "<text text-anchor=\"middle\" x=\"28.0122\" y=\"-32\" font-family=\"sans\" font-size=\"10.00\" fill=\"#000000\">Date.day</text>\n",
       "</g>\n",
       "<!-- 0&#45;&gt;1 -->\n",
       "<g id=\"edge1\" class=\"edge\">\n",
       "<title>0&#45;&gt;1</title>\n",
       "<path fill=\"none\" stroke=\"#c0c0c0\" d=\"M72.1101,-53.1991C66.1298,-50.7311 59.4242,-47.9637 53.0819,-45.3462\"/>\n",
       "<polygon fill=\"#c0c0c0\" stroke=\"#c0c0c0\" points=\"53.176,-44.2492 50.0023,-44.0753 52.3749,-46.1904 53.176,-44.2492\"/>\n",
       "</g>\n",
       "<!-- 3 -->\n",
       "<g id=\"node4\" class=\"node\">\n",
       "<title>3</title>\n",
       "<polygon fill=\"#dbdb8d\" stroke=\"transparent\" points=\"124.7072,-44 57.3172,-44 57.3172,-26 124.7072,-26 124.7072,-44\"/>\n",
       "<text text-anchor=\"middle\" x=\"91.0122\" y=\"-32\" font-family=\"sans\" font-size=\"10.00\" fill=\"#000000\">Date.month</text>\n",
       "</g>\n",
       "<!-- 0&#45;&gt;3 -->\n",
       "<g id=\"edge2\" class=\"edge\">\n",
       "<title>0&#45;&gt;3</title>\n",
       "<path fill=\"none\" stroke=\"#c0c0c0\" d=\"M91.0122,-51.9065C91.0122,-50.5226 91.0122,-49.0737 91.0122,-47.6308\"/>\n",
       "<polygon fill=\"#c0c0c0\" stroke=\"#c0c0c0\" points=\"92.0623,-47.3085 91.0122,-44.3086 89.9623,-47.3086 92.0623,-47.3085\"/>\n",
       "</g>\n",
       "<!-- 5 -->\n",
       "<g id=\"node6\" class=\"node\">\n",
       "<title>5</title>\n",
       "<polygon fill=\"#dbdb8d\" stroke=\"transparent\" points=\"185.8678,-44 126.1566,-44 126.1566,-26 185.8678,-26 185.8678,-44\"/>\n",
       "<text text-anchor=\"middle\" x=\"156.0122\" y=\"-32\" font-family=\"sans\" font-size=\"10.00\" fill=\"#000000\">Date.year</text>\n",
       "</g>\n",
       "<!-- 0&#45;&gt;5 -->\n",
       "<g id=\"edge3\" class=\"edge\">\n",
       "<title>0&#45;&gt;5</title>\n",
       "<path fill=\"none\" stroke=\"#c0c0c0\" d=\"M109.8129,-53.4797C116.2431,-50.9076 123.5491,-47.9852 130.4227,-45.2358\"/>\n",
       "<polygon fill=\"#c0c0c0\" stroke=\"#c0c0c0\" points=\"130.9428,-46.1587 133.3383,-44.0696 130.1628,-44.2089 130.9428,-46.1587\"/>\n",
       "</g>\n",
       "<!-- 2 -->\n",
       "<g id=\"node3\" class=\"node\">\n",
       "<title>2</title>\n",
       "<polygon fill=\"#eeeeee\" stroke=\"transparent\" points=\"41.6355,-18 14.3889,-18 14.3889,0 41.6355,0 41.6355,-18\"/>\n",
       "<text text-anchor=\"middle\" x=\"28.0122\" y=\"-6\" font-family=\"sans\" font-size=\"10.00\" fill=\"#000000\">18</text>\n",
       "</g>\n",
       "<!-- 1&#45;&gt;2 -->\n",
       "<g id=\"edge4\" class=\"edge\">\n",
       "<title>1&#45;&gt;2</title>\n",
       "<path fill=\"none\" stroke=\"#c0c0c0\" d=\"M28.0122,-25.9065C28.0122,-24.5226 28.0122,-23.0737 28.0122,-21.6308\"/>\n",
       "<polygon fill=\"#c0c0c0\" stroke=\"#c0c0c0\" points=\"29.0623,-21.3085 28.0122,-18.3086 26.9623,-21.3086 29.0623,-21.3085\"/>\n",
       "</g>\n",
       "<!-- 4 -->\n",
       "<g id=\"node5\" class=\"node\">\n",
       "<title>4</title>\n",
       "<polygon fill=\"#eeeeee\" stroke=\"transparent\" points=\"111.4488,-18 70.5756,-18 70.5756,0 111.4488,0 111.4488,-18\"/>\n",
       "<text text-anchor=\"middle\" x=\"91.0122\" y=\"-6\" font-family=\"sans\" font-size=\"10.00\" fill=\"#000000\">июля</text>\n",
       "</g>\n",
       "<!-- 3&#45;&gt;4 -->\n",
       "<g id=\"edge5\" class=\"edge\">\n",
       "<title>3&#45;&gt;4</title>\n",
       "<path fill=\"none\" stroke=\"#c0c0c0\" d=\"M91.0122,-25.9065C91.0122,-24.5226 91.0122,-23.0737 91.0122,-21.6308\"/>\n",
       "<polygon fill=\"#c0c0c0\" stroke=\"#c0c0c0\" points=\"92.0623,-21.3085 91.0122,-18.3086 89.9623,-21.3086 92.0623,-21.3085\"/>\n",
       "</g>\n",
       "<!-- 6 -->\n",
       "<g id=\"node7\" class=\"node\">\n",
       "<title>6</title>\n",
       "<polygon fill=\"#eeeeee\" stroke=\"transparent\" points=\"175.2591,-18 136.7653,-18 136.7653,0 175.2591,0 175.2591,-18\"/>\n",
       "<text text-anchor=\"middle\" x=\"156.0122\" y=\"-6\" font-family=\"sans\" font-size=\"10.00\" fill=\"#000000\">2016</text>\n",
       "</g>\n",
       "<!-- 5&#45;&gt;6 -->\n",
       "<g id=\"edge6\" class=\"edge\">\n",
       "<title>5&#45;&gt;6</title>\n",
       "<path fill=\"none\" stroke=\"#c0c0c0\" d=\"M156.0122,-25.9065C156.0122,-24.5226 156.0122,-23.0737 156.0122,-21.6308\"/>\n",
       "<polygon fill=\"#c0c0c0\" stroke=\"#c0c0c0\" points=\"157.0623,-21.3085 156.0122,-18.3086 154.9623,-21.3086 157.0623,-21.3085\"/>\n",
       "</g>\n",
       "</g>\n",
       "</svg>\n"
      ],
      "text/plain": [
       "Graph(nodes=[...], edges=[...])"
      ]
     },
     "metadata": {},
     "output_type": "display_data"
    },
    {
     "data": {
      "image/svg+xml": [
       "<?xml version=\"1.0\" encoding=\"UTF-8\" standalone=\"no\"?>\n",
       "<!DOCTYPE svg PUBLIC \"-//W3C//DTD SVG 1.1//EN\"\n",
       " \"http://www.w3.org/Graphics/SVG/1.1/DTD/svg11.dtd\">\n",
       "<!-- Generated by graphviz version 2.40.1 (20161225.0304)\n",
       " -->\n",
       "<!-- Title: G Pages: 1 -->\n",
       "<svg width=\"235pt\" height=\"78pt\"\n",
       " viewBox=\"0.00 0.00 234.69 78.00\" xmlns=\"http://www.w3.org/2000/svg\" xmlns:xlink=\"http://www.w3.org/1999/xlink\">\n",
       "<g id=\"graph0\" class=\"graph\" transform=\"scale(1 1) rotate(0) translate(4 74)\">\n",
       "<title>G</title>\n",
       "<polygon fill=\"#ffffff\" stroke=\"transparent\" points=\"-4,4 -4,-74 230.6895,-74 230.6895,4 -4,4\"/>\n",
       "<!-- 0 -->\n",
       "<g id=\"node1\" class=\"node\">\n",
       "<title>0</title>\n",
       "<polygon fill=\"#dbdb8d\" stroke=\"transparent\" points=\"133.3005,-70 96.054,-70 96.054,-52 133.3005,-52 133.3005,-70\"/>\n",
       "<text text-anchor=\"middle\" x=\"114.6772\" y=\"-58\" font-family=\"sans\" font-size=\"10.00\" fill=\"#000000\">Date</text>\n",
       "</g>\n",
       "<!-- 1 -->\n",
       "<g id=\"node2\" class=\"node\">\n",
       "<title>1</title>\n",
       "<polygon fill=\"#dbdb8d\" stroke=\"transparent\" points=\"59.5328,-44 -.1783,-44 -.1783,-26 59.5328,-26 59.5328,-44\"/>\n",
       "<text text-anchor=\"middle\" x=\"29.6772\" y=\"-32\" font-family=\"sans\" font-size=\"10.00\" fill=\"#000000\">Date.year</text>\n",
       "</g>\n",
       "<!-- 0&#45;&gt;1 -->\n",
       "<g id=\"edge1\" class=\"edge\">\n",
       "<title>0&#45;&gt;1</title>\n",
       "<path fill=\"none\" stroke=\"#c0c0c0\" d=\"M95.813,-55.2298C85.8935,-52.1956 73.4553,-48.3909 62.0502,-44.9023\"/>\n",
       "<polygon fill=\"#c0c0c0\" stroke=\"#c0c0c0\" points=\"62.351,-43.8964 59.175,-44.0228 61.7367,-45.9045 62.351,-43.8964\"/>\n",
       "</g>\n",
       "<!-- 3 -->\n",
       "<g id=\"node4\" class=\"node\">\n",
       "<title>3</title>\n",
       "<polygon fill=\"#eeeeee\" stroke=\"transparent\" points=\"79.5102,-44 59.8443,-44 59.8443,-26 79.5102,-26 79.5102,-44\"/>\n",
       "<text text-anchor=\"middle\" x=\"69.6772\" y=\"-32\" font-family=\"sans\" font-size=\"10.00\" fill=\"#000000\">&#45;</text>\n",
       "</g>\n",
       "<!-- 0&#45;&gt;3 -->\n",
       "<g id=\"edge2\" class=\"edge\">\n",
       "<title>0&#45;&gt;3</title>\n",
       "<path fill=\"none\" stroke=\"#c0c0c0\" d=\"M97.5014,-51.8586C92.9699,-49.3714 88.1089,-46.6353 83.6772,-44 83.1557,-43.6899 82.6255,-43.3701 82.0916,-43.0442\"/>\n",
       "<polygon fill=\"#c0c0c0\" stroke=\"#c0c0c0\" points=\"82.5166,-42.0722 79.414,-41.3821 81.4091,-43.8564 82.5166,-42.0722\"/>\n",
       "</g>\n",
       "<!-- 4 -->\n",
       "<g id=\"node5\" class=\"node\">\n",
       "<title>4</title>\n",
       "<polygon fill=\"#dbdb8d\" stroke=\"transparent\" points=\"148.3723,-44 80.9822,-44 80.9822,-26 148.3723,-26 148.3723,-44\"/>\n",
       "<text text-anchor=\"middle\" x=\"114.6772\" y=\"-32\" font-family=\"sans\" font-size=\"10.00\" fill=\"#000000\">Date.month</text>\n",
       "</g>\n",
       "<!-- 0&#45;&gt;4 -->\n",
       "<g id=\"edge3\" class=\"edge\">\n",
       "<title>0&#45;&gt;4</title>\n",
       "<path fill=\"none\" stroke=\"#c0c0c0\" d=\"M114.6772,-51.9065C114.6772,-50.5226 114.6772,-49.0737 114.6772,-47.6308\"/>\n",
       "<polygon fill=\"#c0c0c0\" stroke=\"#c0c0c0\" points=\"115.7273,-47.3085 114.6772,-44.3086 113.6273,-47.3086 115.7273,-47.3085\"/>\n",
       "</g>\n",
       "<!-- 6 -->\n",
       "<g id=\"node7\" class=\"node\">\n",
       "<title>6</title>\n",
       "<polygon fill=\"#eeeeee\" stroke=\"transparent\" points=\"169.5102,-44 149.8443,-44 149.8443,-26 169.5102,-26 169.5102,-44\"/>\n",
       "<text text-anchor=\"middle\" x=\"159.6772\" y=\"-32\" font-family=\"sans\" font-size=\"10.00\" fill=\"#000000\">&#45;</text>\n",
       "</g>\n",
       "<!-- 0&#45;&gt;6 -->\n",
       "<g id=\"edge4\" class=\"edge\">\n",
       "<title>0&#45;&gt;6</title>\n",
       "<path fill=\"none\" stroke=\"#c0c0c0\" d=\"M131.8531,-51.8586C136.3846,-49.3714 141.2456,-46.6353 145.6772,-44 146.1988,-43.6899 146.729,-43.3701 147.2629,-43.0442\"/>\n",
       "<polygon fill=\"#c0c0c0\" stroke=\"#c0c0c0\" points=\"147.9454,-43.8564 149.9405,-41.3821 146.8379,-42.0722 147.9454,-43.8564\"/>\n",
       "</g>\n",
       "<!-- 7 -->\n",
       "<g id=\"node8\" class=\"node\">\n",
       "<title>7</title>\n",
       "<polygon fill=\"#dbdb8d\" stroke=\"transparent\" points=\"226.7017,-44 170.6528,-44 170.6528,-26 226.7017,-26 226.7017,-44\"/>\n",
       "<text text-anchor=\"middle\" x=\"198.6772\" y=\"-32\" font-family=\"sans\" font-size=\"10.00\" fill=\"#000000\">Date.day</text>\n",
       "</g>\n",
       "<!-- 0&#45;&gt;7 -->\n",
       "<g id=\"edge5\" class=\"edge\">\n",
       "<title>0&#45;&gt;7</title>\n",
       "<path fill=\"none\" stroke=\"#c0c0c0\" d=\"M133.3196,-55.2298C143.3897,-52.1128 156.0866,-48.1828 167.605,-44.6176\"/>\n",
       "<polygon fill=\"#c0c0c0\" stroke=\"#c0c0c0\" points=\"167.9503,-45.6099 170.5057,-43.7198 167.3293,-43.6038 167.9503,-45.6099\"/>\n",
       "</g>\n",
       "<!-- 2 -->\n",
       "<g id=\"node3\" class=\"node\">\n",
       "<title>2</title>\n",
       "<polygon fill=\"#eeeeee\" stroke=\"transparent\" points=\"48.9241,-18 10.4304,-18 10.4304,0 48.9241,0 48.9241,-18\"/>\n",
       "<text text-anchor=\"middle\" x=\"29.6772\" y=\"-6\" font-family=\"sans\" font-size=\"10.00\" fill=\"#000000\">2016</text>\n",
       "</g>\n",
       "<!-- 1&#45;&gt;2 -->\n",
       "<g id=\"edge6\" class=\"edge\">\n",
       "<title>1&#45;&gt;2</title>\n",
       "<path fill=\"none\" stroke=\"#c0c0c0\" d=\"M29.6772,-25.9065C29.6772,-24.5226 29.6772,-23.0737 29.6772,-21.6308\"/>\n",
       "<polygon fill=\"#c0c0c0\" stroke=\"#c0c0c0\" points=\"30.7273,-21.3085 29.6772,-18.3086 28.6273,-21.3086 30.7273,-21.3085\"/>\n",
       "</g>\n",
       "<!-- 5 -->\n",
       "<g id=\"node6\" class=\"node\">\n",
       "<title>5</title>\n",
       "<polygon fill=\"#eeeeee\" stroke=\"transparent\" points=\"128.3006,-18 101.0539,-18 101.0539,0 128.3006,0 128.3006,-18\"/>\n",
       "<text text-anchor=\"middle\" x=\"114.6772\" y=\"-6\" font-family=\"sans\" font-size=\"10.00\" fill=\"#000000\">01</text>\n",
       "</g>\n",
       "<!-- 4&#45;&gt;5 -->\n",
       "<g id=\"edge7\" class=\"edge\">\n",
       "<title>4&#45;&gt;5</title>\n",
       "<path fill=\"none\" stroke=\"#c0c0c0\" d=\"M114.6772,-25.9065C114.6772,-24.5226 114.6772,-23.0737 114.6772,-21.6308\"/>\n",
       "<polygon fill=\"#c0c0c0\" stroke=\"#c0c0c0\" points=\"115.7273,-21.3085 114.6772,-18.3086 113.6273,-21.3086 115.7273,-21.3085\"/>\n",
       "</g>\n",
       "<!-- 8 -->\n",
       "<g id=\"node9\" class=\"node\">\n",
       "<title>8</title>\n",
       "<polygon fill=\"#eeeeee\" stroke=\"transparent\" points=\"212.3006,-18 185.0539,-18 185.0539,0 212.3006,0 212.3006,-18\"/>\n",
       "<text text-anchor=\"middle\" x=\"198.6772\" y=\"-6\" font-family=\"sans\" font-size=\"10.00\" fill=\"#000000\">02</text>\n",
       "</g>\n",
       "<!-- 7&#45;&gt;8 -->\n",
       "<g id=\"edge8\" class=\"edge\">\n",
       "<title>7&#45;&gt;8</title>\n",
       "<path fill=\"none\" stroke=\"#c0c0c0\" d=\"M198.6772,-25.9065C198.6772,-24.5226 198.6772,-23.0737 198.6772,-21.6308\"/>\n",
       "<polygon fill=\"#c0c0c0\" stroke=\"#c0c0c0\" points=\"199.7273,-21.3085 198.6772,-18.3086 197.6273,-21.3086 199.7273,-21.3085\"/>\n",
       "</g>\n",
       "</g>\n",
       "</svg>\n"
      ],
      "text/plain": [
       "Graph(nodes=[...], edges=[...])"
      ]
     },
     "metadata": {},
     "output_type": "display_data"
    }
   ],
   "source": [
    "from yargy.interpretation import fact\n",
    "\n",
    "\n",
    "Date = fact(\n",
    "    'Date',\n",
    "    ['year', 'month', 'day']\n",
    ")\n",
    "\n",
    "\n",
    "DATE = or_(\n",
    "    rule(\n",
    "        DAY.interpretation(\n",
    "            Date.day\n",
    "        ),\n",
    "        MONTH_NAME.interpretation(\n",
    "            Date.month\n",
    "        ),\n",
    "        YEAR.interpretation(\n",
    "            Date.year\n",
    "        )\n",
    "    ),\n",
    "    rule(\n",
    "        YEAR.interpretation(\n",
    "            Date.year\n",
    "        ),\n",
    "        '-',\n",
    "        MONTH.interpretation(\n",
    "            Date.month\n",
    "        ),\n",
    "        '-',\n",
    "        DAY.interpretation(\n",
    "            Date.day\n",
    "        )\n",
    "    ),\n",
    "    rule(\n",
    "        YEAR.interpretation(\n",
    "            Date.year\n",
    "        ),\n",
    "        'г', '.'\n",
    "    )\n",
    ").interpretation(\n",
    "    Date\n",
    ").named('DATE')\n",
    "\n",
    "parser = Parser(DATE)\n",
    "for line in text.splitlines():\n",
    "    match = parser.match(line)\n",
    "    display(match.tree.as_dot)"
   ]
  },
  {
   "cell_type": "markdown",
   "metadata": {},
   "source": [
    "Из размеченного дерева библиотека собирает объект:"
   ]
  },
  {
   "cell_type": "code",
   "execution_count": 18,
   "metadata": {},
   "outputs": [
    {
     "data": {
      "text/plain": [
       "Date(\n",
       "    year='2015',\n",
       "    month=None,\n",
       "    day=None\n",
       ")"
      ]
     },
     "metadata": {},
     "output_type": "display_data"
    },
    {
     "data": {
      "text/plain": [
       "Date(\n",
       "    year='2016',\n",
       "    month='июля',\n",
       "    day='18'\n",
       ")"
      ]
     },
     "metadata": {},
     "output_type": "display_data"
    },
    {
     "data": {
      "text/plain": [
       "Date(\n",
       "    year='2016',\n",
       "    month='01',\n",
       "    day='02'\n",
       ")"
      ]
     },
     "metadata": {},
     "output_type": "display_data"
    }
   ],
   "source": [
    "for line in text.splitlines():\n",
    "    match = parser.match(line)\n",
    "    display(match.fact)"
   ]
  },
  {
   "cell_type": "markdown",
   "metadata": {},
   "source": [
    "Подробнее об интерпретации в <a href=\"#ref.ipynb#Интерпретация\">справочнике</a>."
   ]
  },
  {
   "cell_type": "markdown",
   "metadata": {},
   "source": [
    "## Нормализация"
   ]
  },
  {
   "cell_type": "markdown",
   "metadata": {},
   "source": [
    "Содержание полей фактов нужно нормировать. Например, не `Date('июня', '2018')`, а `Date(6, 2018)`; не `Person('президента', Name('Владимира', 'Путина'))`, а `Person('президент', Name('Владимир', 'Путин'))`. В Yargy пользователь при разметке дерева разбора указывает, как нормировать вершины-атрибуты. В примере слово \"июня\" будет приведено к нормальной форме \"июнь\" и заменится на число \"6\" с помощью словаря `MONTHS`. Год и день просто приводятся к `int`:"
   ]
  },
  {
   "cell_type": "code",
   "execution_count": 19,
   "metadata": {},
   "outputs": [
    {
     "data": {
      "text/plain": [
       "Date(\n",
       "    year=2016,\n",
       "    month=6,\n",
       "    day=18\n",
       ")"
      ]
     },
     "execution_count": 19,
     "metadata": {},
     "output_type": "execute_result"
    }
   ],
   "source": [
    "MONTHS = {\n",
    "    'январь': 1,\n",
    "    'февраль': 2,\n",
    "    'март': 3,\n",
    "    'апрель': 4,\n",
    "    'мая': 5,\n",
    "    'июнь': 6,\n",
    "    'июль': 7,\n",
    "    'август': 8,\n",
    "    'сентябрь': 9,\n",
    "    'октябрь': 10,\n",
    "    'ноябрь': 11,\n",
    "    'декабрь': 12\n",
    "}\n",
    "\n",
    "\n",
    "DATE = rule(\n",
    "    DAY.interpretation(\n",
    "        Date.day.custom(int)\n",
    "    ),\n",
    "    MONTH_NAME.interpretation(\n",
    "        Date.month.normalized().custom(MONTHS.get)\n",
    "    ),\n",
    "    YEAR.interpretation(\n",
    "        Date.year.custom(int)\n",
    "    )\n",
    ").interpretation(\n",
    "    Date\n",
    ")\n",
    "\n",
    "parser = Parser(DATE)\n",
    "match = parser.match('18 июня 2016')\n",
    "match.fact"
   ]
  },
  {
   "cell_type": "markdown",
   "metadata": {},
   "source": [
    "Подробнее в <a href=\"ref.ipynb#Нормализация\">справочнике</a>."
   ]
  },
  {
   "cell_type": "markdown",
   "metadata": {},
   "source": [
    "## Согласование"
   ]
  },
  {
   "cell_type": "markdown",
   "metadata": {},
   "source": [
    "Примитивная грамматика имён:"
   ]
  },
  {
   "cell_type": "code",
   "execution_count": 20,
   "metadata": {},
   "outputs": [],
   "source": [
    "NAME = rule(\n",
    "    gram('Name').interpretation(\n",
    "        Name.first.inflected()\n",
    "    ),\n",
    "    gram('Surn').interpretation(\n",
    "        Name.last.inflected()\n",
    "    )\n",
    ").interpretation(\n",
    "    Name\n",
    ")"
   ]
  },
  {
   "cell_type": "markdown",
   "metadata": {},
   "source": [
    "У неё есть две проблемы. Она срабатывает на словосочетаниях, где имя и фамилия в разных падежах:"
   ]
  },
  {
   "cell_type": "code",
   "execution_count": 21,
   "metadata": {},
   "outputs": [
    {
     "name": "stdout",
     "output_type": "stream",
     "text": [
      "['Илье', 'Ивановым']\n",
      "['Павлом', 'Семенов']\n"
     ]
    }
   ],
   "source": [
    "parser = Parser(NAME)\n",
    "for match in parser.findall('Илье Ивановым, Павлом Семенов'):\n",
    "    print([_.value for _ in match.tokens])"
   ]
  },
  {
   "cell_type": "markdown",
   "metadata": {},
   "source": [
    "Имя и фамилия приводятся к нормальной форме независимо, получается женщина \"Иванов\":"
   ]
  },
  {
   "cell_type": "code",
   "execution_count": 22,
   "metadata": {},
   "outputs": [
    {
     "data": {
      "text/plain": [
       "Name(\n",
       "    first='саша',\n",
       "    last='иванов'\n",
       ")"
      ]
     },
     "metadata": {},
     "output_type": "display_data"
    },
    {
     "data": {
      "text/plain": [
       "Name(\n",
       "    first='саша',\n",
       "    last='иванов'\n",
       ")"
      ]
     },
     "metadata": {},
     "output_type": "display_data"
    }
   ],
   "source": [
    "parser = Parser(NAME)\n",
    "for match in parser.findall('Сашу Иванову, Саше Иванову'):\n",
    "    display(match.fact)"
   ]
  },
  {
   "cell_type": "markdown",
   "metadata": {},
   "source": [
    "В Yargy связь между словами и словосочетаниями устанавливается методом `match`. Для согласования по числу в `match` передаём `number_relation`, для согласования по падежу, роду и числу — `gnc_relation`:"
   ]
  },
  {
   "cell_type": "code",
   "execution_count": 23,
   "metadata": {},
   "outputs": [],
   "source": [
    "from yargy.relations import gnc_relation\n",
    "\n",
    "\n",
    "gnc = gnc_relation()\n",
    "\n",
    "NAME = rule(\n",
    "    gram('Name').interpretation(\n",
    "        Name.first.inflected()\n",
    "    ).match(gnc),\n",
    "    gram('Surn').interpretation(\n",
    "        Name.last.inflected()\n",
    "    ).match(gnc)\n",
    ").interpretation(\n",
    "    Name\n",
    ")"
   ]
  },
  {
   "cell_type": "code",
   "execution_count": 24,
   "metadata": {},
   "outputs": [
    {
     "name": "stdout",
     "output_type": "stream",
     "text": [
      "['Саша', 'Быков']\n"
     ]
    }
   ],
   "source": [
    "parser = Parser(NAME)\n",
    "for match in parser.findall('Илье Ивановым, Павлом Семенов, Саша Быков'):\n",
    "    print([_.value for _ in match.tokens])"
   ]
  },
  {
   "cell_type": "code",
   "execution_count": 25,
   "metadata": {
    "scrolled": true
   },
   "outputs": [
    {
     "data": {
      "text/plain": [
       "Name(\n",
       "    first='саша',\n",
       "    last='иванова'\n",
       ")"
      ]
     },
     "metadata": {},
     "output_type": "display_data"
    },
    {
     "data": {
      "text/plain": [
       "Name(\n",
       "    first='саша',\n",
       "    last='иванов'\n",
       ")"
      ]
     },
     "metadata": {},
     "output_type": "display_data"
    }
   ],
   "source": [
    "parser = Parser(NAME)\n",
    "for match in parser.findall('Сашу Иванову, Саше Иванову'):\n",
    "    display(match.fact)"
   ]
  },
  {
   "cell_type": "markdown",
   "metadata": {},
   "source": [
    "Список согласований в <a href=\"ref.ipynb#Согласование\">справочнике</a>."
   ]
  },
  {
   "cell_type": "code",
   "execution_count": null,
   "metadata": {},
   "outputs": [],
   "source": []
  }
 ],
 "metadata": {
  "kernelspec": {
   "display_name": "Python 3",
   "language": "python",
   "name": "python3"
  },
  "language_info": {
   "codemirror_mode": {
    "name": "ipython",
    "version": 3
   },
   "file_extension": ".py",
   "mimetype": "text/x-python",
   "name": "python",
   "nbconvert_exporter": "python",
   "pygments_lexer": "ipython3",
   "version": "3.6.9"
  }
 },
 "nbformat": 4,
 "nbformat_minor": 2
}
