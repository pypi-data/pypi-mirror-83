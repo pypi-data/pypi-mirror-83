{
 "cells": [
  {
   "cell_type": "markdown",
   "metadata": {},
   "source": [
    "# Справочник"
   ]
  },
  {
   "cell_type": "markdown",
   "metadata": {},
   "source": [
    "## Токенизатор"
   ]
  },
  {
   "cell_type": "markdown",
   "metadata": {},
   "source": [
    "Токенизатор в Yargy реализован на регулярных выражениях. Для каждого типа токена есть правило с регуляркой:"
   ]
  },
  {
   "cell_type": "code",
   "execution_count": 1,
   "metadata": {},
   "outputs": [
    {
     "data": {
      "text/plain": [
       "[TokenRule(\n",
       "     type='RU',\n",
       "     pattern='[а-яё]+'\n",
       " ),\n",
       " TokenRule(\n",
       "     type='LATIN',\n",
       "     pattern='[a-z]+'\n",
       " ),\n",
       " TokenRule(\n",
       "     type='INT',\n",
       "     pattern='\\\\d+'\n",
       " ),\n",
       " TokenRule(\n",
       "     type='PUNCT',\n",
       "     pattern='[-\\\\\\\\/!#$%&()\\\\[\\\\]\\\\*\\\\+,\\\\.:;<=>?@^_`{|}~№…\"\\\\\\'«»„“ʼʻ”]'\n",
       " ),\n",
       " TokenRule(\n",
       "     type='EOL',\n",
       "     pattern='[\\\\n\\\\r]+'\n",
       " ),\n",
       " TokenRule(\n",
       "     type='OTHER',\n",
       "     pattern='\\\\S'\n",
       " )]"
      ]
     },
     "execution_count": 1,
     "metadata": {},
     "output_type": "execute_result"
    }
   ],
   "source": [
    "from yargy.tokenizer import RULES\n",
    "\n",
    "\n",
    "RULES"
   ]
  },
  {
   "cell_type": "markdown",
   "metadata": {},
   "source": [
    "Токенизатор инициализируется списком правил. По-умолчанию — это `RULES`:"
   ]
  },
  {
   "cell_type": "code",
   "execution_count": 2,
   "metadata": {},
   "outputs": [
    {
     "data": {
      "text/plain": [
       "[Token(\n",
       "     value='a',\n",
       "     span=[0, 1),\n",
       "     type='LATIN'\n",
       " ),\n",
       " Token(\n",
       "     value='@',\n",
       "     span=[1, 2),\n",
       "     type='PUNCT'\n",
       " ),\n",
       " Token(\n",
       "     value='mail',\n",
       "     span=[2, 6),\n",
       "     type='LATIN'\n",
       " ),\n",
       " Token(\n",
       "     value='.',\n",
       "     span=[6, 7),\n",
       "     type='PUNCT'\n",
       " ),\n",
       " Token(\n",
       "     value='ru',\n",
       "     span=[7, 9),\n",
       "     type='LATIN'\n",
       " )]"
      ]
     },
     "execution_count": 2,
     "metadata": {},
     "output_type": "execute_result"
    }
   ],
   "source": [
    "from yargy.tokenizer import Tokenizer\n",
    "\n",
    "\n",
    "text = 'a@mail.ru'\n",
    "tokenizer = Tokenizer()\n",
    "list(tokenizer(text))"
   ]
  },
  {
   "cell_type": "markdown",
   "metadata": {},
   "source": [
    "Пользователь может убрать часть правил из списка или добавить новые. Уберём токены с переводами строк:"
   ]
  },
  {
   "cell_type": "code",
   "execution_count": 3,
   "metadata": {},
   "outputs": [
    {
     "data": {
      "text/plain": [
       "[Token(\n",
       "     value='\\n',\n",
       "     span=[0, 1),\n",
       "     type='EOL'\n",
       " ),\n",
       " Token(\n",
       "     value='abc',\n",
       "     span=[1, 4),\n",
       "     type='LATIN'\n",
       " ),\n",
       " Token(\n",
       "     value='\\n',\n",
       "     span=[4, 5),\n",
       "     type='EOL'\n",
       " ),\n",
       " Token(\n",
       "     value='123',\n",
       "     span=[5, 8),\n",
       "     type='INT'\n",
       " ),\n",
       " Token(\n",
       "     value='\\n',\n",
       "     span=[8, 9),\n",
       "     type='EOL'\n",
       " )]"
      ]
     },
     "execution_count": 3,
     "metadata": {},
     "output_type": "execute_result"
    }
   ],
   "source": [
    "tokenizer = Tokenizer()\n",
    "\n",
    "text = '''\n",
    "abc\n",
    "123\n",
    "'''\n",
    "list(tokenizer(text))"
   ]
  },
  {
   "cell_type": "markdown",
   "metadata": {},
   "source": [
    "Для этого удалим правило `EOL`:"
   ]
  },
  {
   "cell_type": "code",
   "execution_count": 4,
   "metadata": {},
   "outputs": [
    {
     "data": {
      "text/plain": [
       "[Token(\n",
       "     value='abc',\n",
       "     span=[1, 4),\n",
       "     type='LATIN'\n",
       " ),\n",
       " Token(\n",
       "     value='123',\n",
       "     span=[5, 8),\n",
       "     type='INT'\n",
       " )]"
      ]
     },
     "execution_count": 4,
     "metadata": {},
     "output_type": "execute_result"
    }
   ],
   "source": [
    "tokenizer = Tokenizer().remove_types('EOL')\n",
    "\n",
    "list(tokenizer(text))"
   ]
  },
  {
   "cell_type": "markdown",
   "metadata": {},
   "source": [
    "В Yargy есть примитивные правила для токенизации емейлов и телефонов. По-умолчанию они отключены:"
   ]
  },
  {
   "cell_type": "code",
   "execution_count": 5,
   "metadata": {},
   "outputs": [
    {
     "data": {
      "text/plain": [
       "[Token(\n",
       "     value='email',\n",
       "     span=[0, 5),\n",
       "     type='LATIN'\n",
       " ),\n",
       " Token(\n",
       "     value=':',\n",
       "     span=[5, 6),\n",
       "     type='PUNCT'\n",
       " ),\n",
       " Token(\n",
       "     value='ab@mail.ru',\n",
       "     span=[7, 17),\n",
       "     type='EMAIL'\n",
       " ),\n",
       " Token(\n",
       "     value='call',\n",
       "     span=[18, 22),\n",
       "     type='LATIN'\n",
       " ),\n",
       " Token(\n",
       "     value=':',\n",
       "     span=[22, 23),\n",
       "     type='PUNCT'\n",
       " ),\n",
       " Token(\n",
       "     value=' 8 915 132 54 76',\n",
       "     span=[23, 39),\n",
       "     type='PHONE'\n",
       " )]"
      ]
     },
     "execution_count": 5,
     "metadata": {},
     "output_type": "execute_result"
    }
   ],
   "source": [
    "from yargy.tokenizer import EMAIL_RULE, PHONE_RULE\n",
    "\n",
    "\n",
    "text = 'email: ab@mail.ru call: 8 915 132 54 76'\n",
    "tokenizer = Tokenizer().add_rules(EMAIL_RULE, PHONE_RULE)\n",
    "list(tokenizer(text))"
   ]
  },
  {
   "cell_type": "markdown",
   "metadata": {},
   "source": [
    "Добавим собственное для извлечения доменов:"
   ]
  },
  {
   "cell_type": "code",
   "execution_count": 6,
   "metadata": {},
   "outputs": [
    {
     "data": {
      "text/plain": [
       "[Token(\n",
       "     value='на',\n",
       "     span=[0, 2),\n",
       "     type='RU'\n",
       " ),\n",
       " Token(\n",
       "     value='сайте',\n",
       "     span=[3, 8),\n",
       "     type='RU'\n",
       " ),\n",
       " Token(\n",
       "     value='www.VKontakte.ru',\n",
       "     span=[9, 25),\n",
       "     type='DOMAIN'\n",
       " )]"
      ]
     },
     "execution_count": 6,
     "metadata": {},
     "output_type": "execute_result"
    }
   ],
   "source": [
    "from yargy.tokenizer import TokenRule\n",
    "\n",
    "\n",
    "DOMAIN_RULE = TokenRule('DOMAIN', '[a-zA-Z0-9-]+\\.[a-zA-Z0-9-.]+')\n",
    "\n",
    "    \n",
    "text = 'на сайте www.VKontakte.ru'\n",
    "tokenizer = Tokenizer().add_rules(DOMAIN_RULE)\n",
    "list(tokenizer(text))"
   ]
  },
  {
   "cell_type": "markdown",
   "metadata": {},
   "source": [
    "По умолчанию, Yargy использует не `Tokenizer`, а `MorphTokenizer`. Для каждого токена с типом `'RU'` он запускает Pymorphy2, добавляет поле `forms` с морфологией:"
   ]
  },
  {
   "cell_type": "code",
   "execution_count": 7,
   "metadata": {},
   "outputs": [
    {
     "data": {
      "text/plain": [
       "[Token(\n",
       "     value='X',\n",
       "     span=[0, 1),\n",
       "     type='LATIN'\n",
       " ),\n",
       " MorphToken(\n",
       "     value='век',\n",
       "     span=[2, 5),\n",
       "     type='RU',\n",
       "     forms=[Form('век', Grams(ADVB)),\n",
       "      Form('веко', Grams(NOUN,gent,inan,neut,plur)),\n",
       "      Form('век', Grams(NOUN,inan,masc,nomn,sing)),\n",
       "      Form('век', Grams(NOUN,accs,inan,masc,sing))]\n",
       " ),\n",
       " MorphToken(\n",
       "     value='стал',\n",
       "     span=[6, 10),\n",
       "     type='RU',\n",
       "     forms=[Form('стать', Grams(VERB,indc,intr,masc,past,perf,sing))]\n",
       " )]"
      ]
     },
     "execution_count": 7,
     "metadata": {},
     "output_type": "execute_result"
    }
   ],
   "source": [
    "from yargy.tokenizer import MorphTokenizer\n",
    "\n",
    "tokenizer = MorphTokenizer()\n",
    "list(tokenizer('X век стал'))"
   ]
  },
  {
   "cell_type": "markdown",
   "metadata": {},
   "source": [
    "## Газеттир"
   ]
  },
  {
   "cell_type": "markdown",
   "metadata": {},
   "source": [
    "Словарь профессий, географических объектов можно записывать стандартные средствами через `rule`, `or_`, `normalized`, `caseless`:"
   ]
  },
  {
   "cell_type": "code",
   "execution_count": 8,
   "metadata": {},
   "outputs": [],
   "source": [
    "from yargy import rule, or_\n",
    "from yargy.predicates import normalized, caseless\n",
    "\n",
    "\n",
    "POSITION = or_(\n",
    "    rule(normalized('генеральный'), normalized('директор')),\n",
    "    rule(normalized('бухгалтер'))\n",
    ")\n",
    "\n",
    "GEO = or_(\n",
    "    rule(normalized('Ростов'), '-', caseless('на'), '-', caseless('Дону')),\n",
    "    rule(normalized('Москва'))\n",
    ")"
   ]
  },
  {
   "cell_type": "markdown",
   "metadata": {},
   "source": [
    "Это неудобно, легко ошибиться. Для составления словарей в Yargy используется `pipeline`. Реализовано два типа газеттиров: `morph_pipeline` и `caseless_pipeline`. `morph_pipeline` перед работой приводит слова к нормальной форме:"
   ]
  },
  {
   "cell_type": "code",
   "execution_count": 9,
   "metadata": {},
   "outputs": [
    {
     "name": "stdout",
     "output_type": "stream",
     "text": [
      "['электронным', 'дневником']\n",
      "['электронные', 'дневники']\n",
      "['электронное', 'дневнику']\n"
     ]
    }
   ],
   "source": [
    "from yargy import Parser\n",
    "from yargy.pipelines import morph_pipeline\n",
    "\n",
    "\n",
    "TYPE = morph_pipeline(['электронный дневник'])\n",
    "\n",
    "parser = Parser(TYPE)\n",
    "text = 'электронным дневником, электронные дневники, электронное дневнику'\n",
    "for match in parser.findall(text):\n",
    "    print([_.value for _ in match.tokens])"
   ]
  },
  {
   "cell_type": "markdown",
   "metadata": {},
   "source": [
    "`caseless_pipeline` ищет слова без нормализации. Например, найдём в тексте арабские имена: \"Абд Аль-Азиз Бин Мухаммад\", \"Абд ар-Рахман Наср ас-Са ди\": "
   ]
  },
  {
   "cell_type": "code",
   "execution_count": 10,
   "metadata": {},
   "outputs": [
    {
     "name": "stdout",
     "output_type": "stream",
     "text": [
      "['Абд', 'Аль', '-', 'Азиз', 'Бин', 'Мухаммад']\n",
      "['АБД', 'АР', '-', 'РАХМАН', 'НАСР', 'АС', '-', 'СА', 'ДИ']\n"
     ]
    }
   ],
   "source": [
    "from yargy.pipelines import caseless_pipeline\n",
    "\n",
    "\n",
    "NAME = caseless_pipeline([\n",
    "    'Абд Аль-Азиз Бин Мухаммад',\n",
    "    'Абд ар-Рахман Наср ас-Са ди'\n",
    "])\n",
    "    \n",
    "parser = Parser(NAME)\n",
    "text = 'Абд Аль-Азиз Бин Мухаммад, АБД АР-РАХМАН НАСР АС-СА ДИ'\n",
    "for match in parser.findall(text):\n",
    "    print([_.value for _ in match.tokens])"
   ]
  },
  {
   "cell_type": "markdown",
   "metadata": {},
   "source": [
    "## Предикаты"
   ]
  },
  {
   "cell_type": "code",
   "execution_count": 11,
   "metadata": {
    "scrolled": false
   },
   "outputs": [
    {
     "data": {
      "text/html": [
       "<h3>eq <a name=\"predicates.eq\"><a href=\"#predicates.eq\">#</a></h3>\n",
       "<br/><pre>    a == b\n",
       "\n",
       "    >>> predicate = eq('1')\n",
       "    >>> token, = tokenize('1')\n",
       "    >>> predicate(token)\n",
       "    True</pre>\n",
       "<h3>caseless <a name=\"predicates.caseless\"><a href=\"#predicates.caseless\">#</a></h3>\n",
       "<br/><pre>    a.lower() == b.lower()\n",
       "\n",
       "    >>> predicate = caseless('Рано')\n",
       "    >>> token, = tokenize('РАНО')\n",
       "    >>> predicate(token)\n",
       "    True</pre>\n",
       "<h3>in_ <a name=\"predicates.in_\"><a href=\"#predicates.in_\">#</a></h3>\n",
       "<br/><pre>    a in b\n",
       "\n",
       "    >>> predicate = in_({'S', 'M', 'L'})\n",
       "    >>> a, b = tokenize('S 1')\n",
       "    >>> predicate(a)\n",
       "    True\n",
       "    >>> predicate(b)\n",
       "    False</pre>\n",
       "<h3>in_caseless <a name=\"predicates.in_caseless\"><a href=\"#predicates.in_caseless\">#</a></h3>\n",
       "<br/><pre>    a.lower() in b\n",
       "\n",
       "    >>> predicate = in_caseless({'S', 'M', 'L'})\n",
       "    >>> a, b = tokenize('S m')\n",
       "    >>> predicate(a)\n",
       "    True\n",
       "    >>> predicate(b)\n",
       "    True</pre>\n",
       "<h3>gte <a name=\"predicates.gte\"><a href=\"#predicates.gte\">#</a></h3>\n",
       "<br/><pre>    a >= b\n",
       "\n",
       "    >>> predicate = gte(4)\n",
       "    >>> a, b, c = tokenize('3 5 C')\n",
       "    >>> predicate(a)\n",
       "    False\n",
       "    >>> predicate(b)\n",
       "    True\n",
       "    >>> predicate(c)\n",
       "    False</pre>\n",
       "<h3>lte <a name=\"predicates.lte\"><a href=\"#predicates.lte\">#</a></h3>\n",
       "<br/><pre>    a <= b\n",
       "\n",
       "    >>> predicate = lte(4)\n",
       "    >>> a, b, c = tokenize('3 5 C')\n",
       "    >>> predicate(a)\n",
       "    True\n",
       "    >>> predicate(b)\n",
       "    False\n",
       "    >>> predicate(c)\n",
       "    False</pre>\n",
       "<h3>length_eq <a name=\"predicates.length_eq\"><a href=\"#predicates.length_eq\">#</a></h3>\n",
       "<br/><pre>    len(a) == b\n",
       "\n",
       "    >>> predicate = length_eq(3)\n",
       "    >>> a, b = tokenize('XXX 123')\n",
       "    >>> predicate(a)\n",
       "    True\n",
       "    >>> predicate(b)\n",
       "    True</pre>\n",
       "<h3>normalized <a name=\"predicates.normalized\"><a href=\"#predicates.normalized\">#</a></h3>\n",
       "<br/><pre>    Нормальная форма слова == value\n",
       "\n",
       "    >>> a = activate(normalized('сталь'))\n",
       "    >>> b = activate(normalized('стать'))\n",
       "    >>> token, = tokenize('стали')\n",
       "    >>> a(token)\n",
       "    True\n",
       "    >>> b(token)\n",
       "    True</pre>\n",
       "<h3>dictionary <a name=\"predicates.dictionary\"><a href=\"#predicates.dictionary\">#</a></h3>\n",
       "<br/><pre>    Нормальная форма слова in value\n",
       "\n",
       "    >>> predicate = activate(dictionary({'учитель', 'врач'}))\n",
       "    >>> a, b = tokenize('учителя врачи')\n",
       "    >>> predicate(a)\n",
       "    True\n",
       "    >>> predicate(b)\n",
       "    True</pre>\n",
       "<h3>gram <a name=\"predicates.gram\"><a href=\"#predicates.gram\">#</a></h3>\n",
       "<br/><pre>    value есть среди граммем слова\n",
       "\n",
       "    >>> a = activate(gram('NOUN'))\n",
       "    >>> b = activate(gram('VERB'))\n",
       "    >>> token, = tokenize('стали')\n",
       "    >>> a(token)\n",
       "    True\n",
       "    >>> b(token)\n",
       "    True</pre>\n",
       "<h3>type <a name=\"predicates.type\"><a href=\"#predicates.type\">#</a></h3>\n",
       "<br/><pre>    Тип токена равен value\n",
       "\n",
       "    >>> predicate = activate(type('INT'))\n",
       "    >>> a, b = tokenize('3 раза')\n",
       "    >>> predicate(a)\n",
       "    True\n",
       "    >>> predicate(b)\n",
       "    False</pre>\n",
       "<h3>tag <a name=\"predicates.tag\"><a href=\"#predicates.tag\">#</a></h3>\n",
       "<br/><pre>    Тег токена равен value</pre>\n",
       "<h3>custom <a name=\"predicates.custom\"><a href=\"#predicates.custom\">#</a></h3>\n",
       "<br/><pre>    function в качестве предиката\n",
       "\n",
       "    >>> from math import log\n",
       "    >>> f = lambda x: int(log(int(x), 10)) == 2\n",
       "    >>> predicate = activate(custom(f, types=INT))\n",
       "    >>> a, b = tokenize('12 123')\n",
       "    >>> predicate(a)\n",
       "    False\n",
       "    >>> predicate(b)\n",
       "    True</pre>\n",
       "<h3>true <a name=\"predicates.true\"><a href=\"#predicates.true\">#</a></h3>\n",
       "<br/><pre>    Всегда возвращает True\n",
       "\n",
       "    >>> predicate = true()\n",
       "    >>> predicate(False)\n",
       "    True</pre>\n",
       "<h3>is_lower <a name=\"predicates.is_lower\"><a href=\"#predicates.is_lower\">#</a></h3>\n",
       "<br/><pre>    str.islower\n",
       "\n",
       "    >>> predicate = is_lower()\n",
       "    >>> a, b = tokenize('xxx Xxx')\n",
       "    >>> predicate(a)\n",
       "    True\n",
       "    >>> predicate(b)\n",
       "    False</pre>\n",
       "<h3>is_upper <a name=\"predicates.is_upper\"><a href=\"#predicates.is_upper\">#</a></h3>\n",
       "<br/><pre>    str.isupper\n",
       "\n",
       "    >>> predicate = is_upper()\n",
       "    >>> a, b = tokenize('XXX xxx')\n",
       "    >>> predicate(a)\n",
       "    True\n",
       "    >>> predicate(b)\n",
       "    False</pre>\n",
       "<h3>is_title <a name=\"predicates.is_title\"><a href=\"#predicates.is_title\">#</a></h3>\n",
       "<br/><pre>    str.istitle\n",
       "\n",
       "    >>> predicate = is_title()\n",
       "    >>> a, b = tokenize('XXX Xxx')\n",
       "    >>> predicate(a)\n",
       "    False\n",
       "    >>> predicate(b)\n",
       "    True</pre>\n",
       "<h3>is_capitalized <a name=\"predicates.is_capitalized\"><a href=\"#predicates.is_capitalized\">#</a></h3>\n",
       "<br/><pre>    Слово написано с большой буквы\n",
       "\n",
       "    >>> predicate = is_capitalized()\n",
       "    >>> a, b, c = tokenize('Xxx XXX xxX')\n",
       "    >>> predicate(a)\n",
       "    True\n",
       "    >>> predicate(b)\n",
       "    True\n",
       "    >>> predicate(c)\n",
       "    False</pre>\n",
       "<h3>is_single <a name=\"predicates.is_single\"><a href=\"#predicates.is_single\">#</a></h3>\n",
       "<br/><pre>    Слово в единственном числе\n",
       "\n",
       "    >>> predicate = is_single()\n",
       "    >>> token, = tokenize('слово')\n",
       "    >>> predicate(token)\n",
       "    True</pre>"
      ],
      "text/plain": [
       "<IPython.core.display.HTML object>"
      ]
     },
     "execution_count": 11,
     "metadata": {},
     "output_type": "execute_result"
    }
   ],
   "source": [
    "from IPython.display import HTML\n",
    "\n",
    "from yargy.predicates import bank\n",
    "\n",
    "def html():\n",
    "    for name in bank.__all__:\n",
    "        yield f'<h3>{name} <a name=\"predicates.{name}\"><a href=\"#predicates.{name}\">#</a></h3>'\n",
    "        doc = getattr(bank, name).__doc__.strip()\n",
    "        yield f'<br/><pre>    {doc}</pre>'\n",
    "\n",
    "HTML('\\n'.join(html()))"
   ]
  },
  {
   "cell_type": "markdown",
   "metadata": {},
   "source": [
    "## Интерпретация"
   ]
  },
  {
   "cell_type": "markdown",
   "metadata": {},
   "source": [
    "Объект-результат интерпретации описывает конструктор `fact`. `attribute` задаёт значение поля по-умолчанию. Например, в `Date` по-умолчанию год будет равен 2017:"
   ]
  },
  {
   "cell_type": "code",
   "execution_count": 12,
   "metadata": {},
   "outputs": [
    {
     "data": {
      "text/plain": [
       "Date(\n",
       "    year='2016',\n",
       "    month='июля',\n",
       "    day='18'\n",
       ")"
      ]
     },
     "metadata": {},
     "output_type": "display_data"
    },
    {
     "data": {
      "text/plain": [
       "Date(\n",
       "    year=2017,\n",
       "    month='марта',\n",
       "    day='15'\n",
       ")"
      ]
     },
     "metadata": {},
     "output_type": "display_data"
    }
   ],
   "source": [
    "from IPython.display import display\n",
    "\n",
    "from yargy import Parser, rule, and_, or_\n",
    "from yargy.interpretation import fact, attribute\n",
    "from yargy.predicates import dictionary, gte, lte\n",
    "\n",
    "\n",
    "Date = fact(\n",
    "    'Date',\n",
    "    [attribute('year', 2017), 'month', 'day']\n",
    ")\n",
    "\n",
    "\n",
    "MONTHS = {\n",
    "    'январь',\n",
    "    'февраль',\n",
    "    'март',\n",
    "    'апрель',\n",
    "    'мая',\n",
    "    'июнь',\n",
    "    'июль',\n",
    "    'август',\n",
    "    'сентябрь',\n",
    "    'октябрь',\n",
    "    'ноябрь',\n",
    "    'декабрь'\n",
    "}\n",
    "\n",
    "\n",
    "MONTH_NAME = dictionary(MONTHS)\n",
    "DAY = and_(\n",
    "    gte(1),\n",
    "    lte(31)\n",
    ")\n",
    "YEAR = and_(\n",
    "    gte(1900),\n",
    "    lte(2100)\n",
    ")\n",
    "DATE = rule(\n",
    "    DAY.interpretation(\n",
    "        Date.day\n",
    "    ),\n",
    "    MONTH_NAME.interpretation(\n",
    "        Date.month\n",
    "    ),\n",
    "    YEAR.interpretation(\n",
    "        Date.year\n",
    "    ).optional()\n",
    ").interpretation(\n",
    "    Date\n",
    ")\n",
    "\n",
    "\n",
    "text = '''18 июля 2016\n",
    "15 марта\n",
    "'''\n",
    "parser = Parser(DATE)\n",
    "for line in text.splitlines():\n",
    "    match = parser.match(line)\n",
    "    display(match.fact)"
   ]
  },
  {
   "cell_type": "markdown",
   "metadata": {},
   "source": [
    "Для дат деревья разбора выглядят просто: вершина-конструктор и несколько детей-атрибутов:"
   ]
  },
  {
   "cell_type": "code",
   "execution_count": 13,
   "metadata": {},
   "outputs": [
    {
     "data": {
      "image/svg+xml": [
       "<?xml version=\"1.0\" encoding=\"UTF-8\" standalone=\"no\"?>\n",
       "<!DOCTYPE svg PUBLIC \"-//W3C//DTD SVG 1.1//EN\"\n",
       " \"http://www.w3.org/Graphics/SVG/1.1/DTD/svg11.dtd\">\n",
       "<!-- Generated by graphviz version 2.40.1 (20161225.0304)\n",
       " -->\n",
       "<!-- Title: G Pages: 1 -->\n",
       "<svg width=\"179pt\" height=\"104pt\"\n",
       " viewBox=\"0.00 0.00 178.69 104.00\" xmlns=\"http://www.w3.org/2000/svg\" xmlns:xlink=\"http://www.w3.org/1999/xlink\">\n",
       "<g id=\"graph0\" class=\"graph\" transform=\"scale(1 1) rotate(0) translate(4 100)\">\n",
       "<title>G</title>\n",
       "<polygon fill=\"#ffffff\" stroke=\"transparent\" points=\"-4,4 -4,-100 174.6895,-100 174.6895,4 -4,4\"/>\n",
       "<!-- 0 -->\n",
       "<g id=\"node1\" class=\"node\">\n",
       "<title>0</title>\n",
       "<polygon fill=\"#dbdb8d\" stroke=\"transparent\" points=\"109.6355,-96 72.389,-96 72.389,-78 109.6355,-78 109.6355,-96\"/>\n",
       "<text text-anchor=\"middle\" x=\"91.0122\" y=\"-84\" font-family=\"sans\" font-size=\"10.00\" fill=\"#000000\">Date</text>\n",
       "</g>\n",
       "<!-- 1 -->\n",
       "<g id=\"node2\" class=\"node\">\n",
       "<title>1</title>\n",
       "<polygon fill=\"#dbdb8d\" stroke=\"transparent\" points=\"56.0366,-70 -.0122,-70 -.0122,-52 56.0366,-52 56.0366,-70\"/>\n",
       "<text text-anchor=\"middle\" x=\"28.0122\" y=\"-58\" font-family=\"sans\" font-size=\"10.00\" fill=\"#000000\">Date.day</text>\n",
       "</g>\n",
       "<!-- 0&#45;&gt;1 -->\n",
       "<g id=\"edge1\" class=\"edge\">\n",
       "<title>0&#45;&gt;1</title>\n",
       "<path fill=\"none\" stroke=\"#c0c0c0\" d=\"M72.1101,-79.1991C66.1298,-76.7311 59.4242,-73.9637 53.0819,-71.3462\"/>\n",
       "<polygon fill=\"#c0c0c0\" stroke=\"#c0c0c0\" points=\"53.176,-70.2492 50.0023,-70.0753 52.3749,-72.1904 53.176,-70.2492\"/>\n",
       "</g>\n",
       "<!-- 3 -->\n",
       "<g id=\"node4\" class=\"node\">\n",
       "<title>3</title>\n",
       "<polygon fill=\"#dbdb8d\" stroke=\"transparent\" points=\"124.7072,-70 57.3172,-70 57.3172,-52 124.7072,-52 124.7072,-70\"/>\n",
       "<text text-anchor=\"middle\" x=\"91.0122\" y=\"-58\" font-family=\"sans\" font-size=\"10.00\" fill=\"#000000\">Date.month</text>\n",
       "</g>\n",
       "<!-- 0&#45;&gt;3 -->\n",
       "<g id=\"edge2\" class=\"edge\">\n",
       "<title>0&#45;&gt;3</title>\n",
       "<path fill=\"none\" stroke=\"#c0c0c0\" d=\"M91.0122,-77.9065C91.0122,-76.5226 91.0122,-75.0737 91.0122,-73.6308\"/>\n",
       "<polygon fill=\"#c0c0c0\" stroke=\"#c0c0c0\" points=\"92.0623,-73.3085 91.0122,-70.3086 89.9623,-73.3086 92.0623,-73.3085\"/>\n",
       "</g>\n",
       "<!-- 5 -->\n",
       "<g id=\"node6\" class=\"node\">\n",
       "<title>5</title>\n",
       "<polygon fill=\"#aec7e8\" stroke=\"transparent\" points=\"155.2962,-70 126.7282,-70 126.7282,-52 155.2962,-52 155.2962,-70\"/>\n",
       "<text text-anchor=\"middle\" x=\"141.0122\" y=\"-58\" font-family=\"sans\" font-size=\"10.00\" fill=\"#000000\">R3</text>\n",
       "</g>\n",
       "<!-- 0&#45;&gt;5 -->\n",
       "<g id=\"edge3\" class=\"edge\">\n",
       "<title>0&#45;&gt;5</title>\n",
       "<path fill=\"none\" stroke=\"#c0c0c0\" d=\"M108.4998,-77.9065C113.4421,-75.3365 118.8162,-72.5419 123.7454,-69.9787\"/>\n",
       "<polygon fill=\"#c0c0c0\" stroke=\"#c0c0c0\" points=\"124.2553,-70.8971 126.4325,-68.5814 123.2864,-69.034 124.2553,-70.8971\"/>\n",
       "</g>\n",
       "<!-- 2 -->\n",
       "<g id=\"node3\" class=\"node\">\n",
       "<title>2</title>\n",
       "<polygon fill=\"#eeeeee\" stroke=\"transparent\" points=\"41.6355,-44 14.3889,-44 14.3889,-26 41.6355,-26 41.6355,-44\"/>\n",
       "<text text-anchor=\"middle\" x=\"28.0122\" y=\"-32\" font-family=\"sans\" font-size=\"10.00\" fill=\"#000000\">18</text>\n",
       "</g>\n",
       "<!-- 1&#45;&gt;2 -->\n",
       "<g id=\"edge4\" class=\"edge\">\n",
       "<title>1&#45;&gt;2</title>\n",
       "<path fill=\"none\" stroke=\"#c0c0c0\" d=\"M28.0122,-51.9065C28.0122,-50.5226 28.0122,-49.0737 28.0122,-47.6308\"/>\n",
       "<polygon fill=\"#c0c0c0\" stroke=\"#c0c0c0\" points=\"29.0623,-47.3085 28.0122,-44.3086 26.9623,-47.3086 29.0623,-47.3085\"/>\n",
       "</g>\n",
       "<!-- 4 -->\n",
       "<g id=\"node5\" class=\"node\">\n",
       "<title>4</title>\n",
       "<polygon fill=\"#eeeeee\" stroke=\"transparent\" points=\"110.4488,-44 69.5756,-44 69.5756,-26 110.4488,-26 110.4488,-44\"/>\n",
       "<text text-anchor=\"middle\" x=\"90.0122\" y=\"-32\" font-family=\"sans\" font-size=\"10.00\" fill=\"#000000\">июля</text>\n",
       "</g>\n",
       "<!-- 3&#45;&gt;4 -->\n",
       "<g id=\"edge5\" class=\"edge\">\n",
       "<title>3&#45;&gt;4</title>\n",
       "<path fill=\"none\" stroke=\"#c0c0c0\" d=\"M90.6625,-51.9065C90.6092,-50.5226 90.5535,-49.0737 90.498,-47.6308\"/>\n",
       "<polygon fill=\"#c0c0c0\" stroke=\"#c0c0c0\" points=\"91.5348,-47.266 90.3702,-44.3086 89.4364,-47.3467 91.5348,-47.266\"/>\n",
       "</g>\n",
       "<!-- 6 -->\n",
       "<g id=\"node7\" class=\"node\">\n",
       "<title>6</title>\n",
       "<polygon fill=\"#dbdb8d\" stroke=\"transparent\" points=\"170.8678,-44 111.1566,-44 111.1566,-26 170.8678,-26 170.8678,-44\"/>\n",
       "<text text-anchor=\"middle\" x=\"141.0122\" y=\"-32\" font-family=\"sans\" font-size=\"10.00\" fill=\"#000000\">Date.year</text>\n",
       "</g>\n",
       "<!-- 5&#45;&gt;6 -->\n",
       "<g id=\"edge6\" class=\"edge\">\n",
       "<title>5&#45;&gt;6</title>\n",
       "<path fill=\"none\" stroke=\"#c0c0c0\" d=\"M141.0122,-51.9065C141.0122,-50.5226 141.0122,-49.0737 141.0122,-47.6308\"/>\n",
       "<polygon fill=\"#c0c0c0\" stroke=\"#c0c0c0\" points=\"142.0623,-47.3085 141.0122,-44.3086 139.9623,-47.3086 142.0623,-47.3085\"/>\n",
       "</g>\n",
       "<!-- 7 -->\n",
       "<g id=\"node8\" class=\"node\">\n",
       "<title>7</title>\n",
       "<polygon fill=\"#eeeeee\" stroke=\"transparent\" points=\"160.2591,-18 121.7653,-18 121.7653,0 160.2591,0 160.2591,-18\"/>\n",
       "<text text-anchor=\"middle\" x=\"141.0122\" y=\"-6\" font-family=\"sans\" font-size=\"10.00\" fill=\"#000000\">2016</text>\n",
       "</g>\n",
       "<!-- 6&#45;&gt;7 -->\n",
       "<g id=\"edge7\" class=\"edge\">\n",
       "<title>6&#45;&gt;7</title>\n",
       "<path fill=\"none\" stroke=\"#c0c0c0\" d=\"M141.0122,-25.9065C141.0122,-24.5226 141.0122,-23.0737 141.0122,-21.6308\"/>\n",
       "<polygon fill=\"#c0c0c0\" stroke=\"#c0c0c0\" points=\"142.0623,-21.3085 141.0122,-18.3086 139.9623,-21.3086 142.0623,-21.3085\"/>\n",
       "</g>\n",
       "</g>\n",
       "</svg>\n"
      ],
      "text/plain": [
       "Graph(nodes=[...], edges=[...])"
      ]
     },
     "metadata": {},
     "output_type": "display_data"
    },
    {
     "data": {
      "image/svg+xml": [
       "<?xml version=\"1.0\" encoding=\"UTF-8\" standalone=\"no\"?>\n",
       "<!DOCTYPE svg PUBLIC \"-//W3C//DTD SVG 1.1//EN\"\n",
       " \"http://www.w3.org/Graphics/SVG/1.1/DTD/svg11.dtd\">\n",
       "<!-- Generated by graphviz version 2.40.1 (20161225.0304)\n",
       " -->\n",
       "<!-- Title: G Pages: 1 -->\n",
       "<svg width=\"133pt\" height=\"78pt\"\n",
       " viewBox=\"0.00 0.00 132.86 78.00\" xmlns=\"http://www.w3.org/2000/svg\" xmlns:xlink=\"http://www.w3.org/1999/xlink\">\n",
       "<g id=\"graph0\" class=\"graph\" transform=\"scale(1 1) rotate(0) translate(4 74)\">\n",
       "<title>G</title>\n",
       "<polygon fill=\"#ffffff\" stroke=\"transparent\" points=\"-4,4 -4,-74 128.8594,-74 128.8594,4 -4,4\"/>\n",
       "<!-- 0 -->\n",
       "<g id=\"node1\" class=\"node\">\n",
       "<title>0</title>\n",
       "<polygon fill=\"#dbdb8d\" stroke=\"transparent\" points=\"77.6355,-70 40.389,-70 40.389,-52 77.6355,-52 77.6355,-70\"/>\n",
       "<text text-anchor=\"middle\" x=\"59.0122\" y=\"-58\" font-family=\"sans\" font-size=\"10.00\" fill=\"#000000\">Date</text>\n",
       "</g>\n",
       "<!-- 1 -->\n",
       "<g id=\"node2\" class=\"node\">\n",
       "<title>1</title>\n",
       "<polygon fill=\"#dbdb8d\" stroke=\"transparent\" points=\"56.0366,-44 -.0122,-44 -.0122,-26 56.0366,-26 56.0366,-44\"/>\n",
       "<text text-anchor=\"middle\" x=\"28.0122\" y=\"-32\" font-family=\"sans\" font-size=\"10.00\" fill=\"#000000\">Date.day</text>\n",
       "</g>\n",
       "<!-- 0&#45;&gt;1 -->\n",
       "<g id=\"edge1\" class=\"edge\">\n",
       "<title>0&#45;&gt;1</title>\n",
       "<path fill=\"none\" stroke=\"#c0c0c0\" d=\"M48.1699,-51.9065C46.0616,-50.1382 43.8266,-48.2637 41.6419,-46.4313\"/>\n",
       "<polygon fill=\"#c0c0c0\" stroke=\"#c0c0c0\" points=\"42.0842,-45.4319 39.1109,-44.3086 40.7347,-47.041 42.0842,-45.4319\"/>\n",
       "</g>\n",
       "<!-- 3 -->\n",
       "<g id=\"node4\" class=\"node\">\n",
       "<title>3</title>\n",
       "<polygon fill=\"#dbdb8d\" stroke=\"transparent\" points=\"124.7072,-44 57.3172,-44 57.3172,-26 124.7072,-26 124.7072,-44\"/>\n",
       "<text text-anchor=\"middle\" x=\"91.0122\" y=\"-32\" font-family=\"sans\" font-size=\"10.00\" fill=\"#000000\">Date.month</text>\n",
       "</g>\n",
       "<!-- 0&#45;&gt;3 -->\n",
       "<g id=\"edge2\" class=\"edge\">\n",
       "<title>0&#45;&gt;3</title>\n",
       "<path fill=\"none\" stroke=\"#c0c0c0\" d=\"M70.2043,-51.9065C72.3806,-50.1382 74.6877,-48.2637 76.9429,-46.4313\"/>\n",
       "<polygon fill=\"#c0c0c0\" stroke=\"#c0c0c0\" points=\"77.8893,-47.0153 79.5555,-44.3086 76.565,-45.3855 77.8893,-47.0153\"/>\n",
       "</g>\n",
       "<!-- 2 -->\n",
       "<g id=\"node3\" class=\"node\">\n",
       "<title>2</title>\n",
       "<polygon fill=\"#eeeeee\" stroke=\"transparent\" points=\"41.6355,-18 14.3889,-18 14.3889,0 41.6355,0 41.6355,-18\"/>\n",
       "<text text-anchor=\"middle\" x=\"28.0122\" y=\"-6\" font-family=\"sans\" font-size=\"10.00\" fill=\"#000000\">15</text>\n",
       "</g>\n",
       "<!-- 1&#45;&gt;2 -->\n",
       "<g id=\"edge3\" class=\"edge\">\n",
       "<title>1&#45;&gt;2</title>\n",
       "<path fill=\"none\" stroke=\"#c0c0c0\" d=\"M28.0122,-25.9065C28.0122,-24.5226 28.0122,-23.0737 28.0122,-21.6308\"/>\n",
       "<polygon fill=\"#c0c0c0\" stroke=\"#c0c0c0\" points=\"29.0623,-21.3085 28.0122,-18.3086 26.9623,-21.3086 29.0623,-21.3085\"/>\n",
       "</g>\n",
       "<!-- 4 -->\n",
       "<g id=\"node5\" class=\"node\">\n",
       "<title>4</title>\n",
       "<polygon fill=\"#eeeeee\" stroke=\"transparent\" points=\"113.3583,-18 68.6661,-18 68.6661,0 113.3583,0 113.3583,-18\"/>\n",
       "<text text-anchor=\"middle\" x=\"91.0122\" y=\"-6\" font-family=\"sans\" font-size=\"10.00\" fill=\"#000000\">марта</text>\n",
       "</g>\n",
       "<!-- 3&#45;&gt;4 -->\n",
       "<g id=\"edge4\" class=\"edge\">\n",
       "<title>3&#45;&gt;4</title>\n",
       "<path fill=\"none\" stroke=\"#c0c0c0\" d=\"M91.0122,-25.9065C91.0122,-24.5226 91.0122,-23.0737 91.0122,-21.6308\"/>\n",
       "<polygon fill=\"#c0c0c0\" stroke=\"#c0c0c0\" points=\"92.0623,-21.3085 91.0122,-18.3086 89.9623,-21.3086 92.0623,-21.3085\"/>\n",
       "</g>\n",
       "</g>\n",
       "</svg>\n"
      ],
      "text/plain": [
       "Graph(nodes=[...], edges=[...])"
      ]
     },
     "metadata": {},
     "output_type": "display_data"
    }
   ],
   "source": [
    "parser = Parser(DATE)\n",
    "for line in text.splitlines():\n",
    "    match = parser.match(line)\n",
    "    display(match.tree.as_dot)"
   ]
  },
  {
   "cell_type": "markdown",
   "metadata": {},
   "source": [
    "Как будет себя вести алгоритм интерпретации, когда ребёнок конструктора не атрибут, а другой конструктор? Или когда ребёнок атрибута другой атрибут? Или когда под конструктором или атрибутом не одна, а несколько вершин с токенами? Пойдём от простого к сложному. Когда под вершиной-атрибутом несколько токенов, они объединяются:"
   ]
  },
  {
   "cell_type": "code",
   "execution_count": 14,
   "metadata": {},
   "outputs": [
    {
     "data": {
      "image/svg+xml": [
       "<?xml version=\"1.0\" encoding=\"UTF-8\" standalone=\"no\"?>\n",
       "<!DOCTYPE svg PUBLIC \"-//W3C//DTD SVG 1.1//EN\"\n",
       " \"http://www.w3.org/Graphics/SVG/1.1/DTD/svg11.dtd\">\n",
       "<!-- Generated by graphviz version 2.40.1 (20161225.0304)\n",
       " -->\n",
       "<!-- Title: G Pages: 1 -->\n",
       "<svg width=\"167pt\" height=\"78pt\"\n",
       " viewBox=\"0.00 0.00 167.18 78.00\" xmlns=\"http://www.w3.org/2000/svg\" xmlns:xlink=\"http://www.w3.org/1999/xlink\">\n",
       "<g id=\"graph0\" class=\"graph\" transform=\"scale(1 1) rotate(0) translate(4 74)\">\n",
       "<title>G</title>\n",
       "<polygon fill=\"#ffffff\" stroke=\"transparent\" points=\"-4,4 -4,-74 163.1812,-74 163.1812,4 -4,4\"/>\n",
       "<!-- 0 -->\n",
       "<g id=\"node1\" class=\"node\">\n",
       "<title>0</title>\n",
       "<polygon fill=\"#dbdb8d\" stroke=\"transparent\" points=\"98.9956,-70 52.9663,-70 52.9663,-52 98.9956,-52 98.9956,-70\"/>\n",
       "<text text-anchor=\"middle\" x=\"75.981\" y=\"-58\" font-family=\"sans\" font-size=\"10.00\" fill=\"#000000\">Money</text>\n",
       "</g>\n",
       "<!-- 1 -->\n",
       "<g id=\"node2\" class=\"node\">\n",
       "<title>1</title>\n",
       "<polygon fill=\"#dbdb8d\" stroke=\"transparent\" points=\"71.9429,-44 .019,-44 .019,-26 71.9429,-26 71.9429,-44\"/>\n",
       "<text text-anchor=\"middle\" x=\"35.981\" y=\"-32\" font-family=\"sans\" font-size=\"10.00\" fill=\"#000000\">Money.value</text>\n",
       "</g>\n",
       "<!-- 0&#45;&gt;1 -->\n",
       "<g id=\"edge1\" class=\"edge\">\n",
       "<title>0&#45;&gt;1</title>\n",
       "<path fill=\"none\" stroke=\"#c0c0c0\" d=\"M61.9909,-51.9065C58.9636,-49.9387 55.7337,-47.8393 52.6162,-45.8129\"/>\n",
       "<polygon fill=\"#c0c0c0\" stroke=\"#c0c0c0\" points=\"53.1183,-44.887 50.0307,-44.1324 51.9738,-46.6477 53.1183,-44.887\"/>\n",
       "</g>\n",
       "<!-- 4 -->\n",
       "<g id=\"node5\" class=\"node\">\n",
       "<title>4</title>\n",
       "<polygon fill=\"#dbdb8d\" stroke=\"transparent\" points=\"159.3823,-44 72.5796,-44 72.5796,-26 159.3823,-26 159.3823,-44\"/>\n",
       "<text text-anchor=\"middle\" x=\"115.981\" y=\"-32\" font-family=\"sans\" font-size=\"10.00\" fill=\"#000000\">Money.currency</text>\n",
       "</g>\n",
       "<!-- 0&#45;&gt;4 -->\n",
       "<g id=\"edge2\" class=\"edge\">\n",
       "<title>0&#45;&gt;4</title>\n",
       "<path fill=\"none\" stroke=\"#c0c0c0\" d=\"M89.971,-51.9065C92.9983,-49.9387 96.2282,-47.8393 99.3458,-45.8129\"/>\n",
       "<polygon fill=\"#c0c0c0\" stroke=\"#c0c0c0\" points=\"99.9881,-46.6477 101.9312,-44.1324 98.8436,-44.887 99.9881,-46.6477\"/>\n",
       "</g>\n",
       "<!-- 2 -->\n",
       "<g id=\"node3\" class=\"node\">\n",
       "<title>2</title>\n",
       "<polygon fill=\"#eeeeee\" stroke=\"transparent\" points=\"29.5469,-18 8.4151,-18 8.4151,0 29.5469,0 29.5469,-18\"/>\n",
       "<text text-anchor=\"middle\" x=\"18.981\" y=\"-6\" font-family=\"sans\" font-size=\"10.00\" fill=\"#000000\">5</text>\n",
       "</g>\n",
       "<!-- 1&#45;&gt;2 -->\n",
       "<g id=\"edge3\" class=\"edge\">\n",
       "<title>1&#45;&gt;2</title>\n",
       "<path fill=\"none\" stroke=\"#c0c0c0\" d=\"M30.0352,-25.9065C29.0298,-24.3689 27.9719,-22.7509 26.9253,-21.1502\"/>\n",
       "<polygon fill=\"#c0c0c0\" stroke=\"#c0c0c0\" points=\"27.5879,-20.2449 25.0673,-18.3086 25.8303,-21.3941 27.5879,-20.2449\"/>\n",
       "</g>\n",
       "<!-- 3 -->\n",
       "<g id=\"node4\" class=\"node\">\n",
       "<title>3</title>\n",
       "<polygon fill=\"#eeeeee\" stroke=\"transparent\" points=\"75.1649,-18 30.797,-18 30.797,0 75.1649,0 75.1649,-18\"/>\n",
       "<text text-anchor=\"middle\" x=\"52.981\" y=\"-6\" font-family=\"sans\" font-size=\"10.00\" fill=\"#000000\">тысяч</text>\n",
       "</g>\n",
       "<!-- 1&#45;&gt;3 -->\n",
       "<g id=\"edge4\" class=\"edge\">\n",
       "<title>1&#45;&gt;3</title>\n",
       "<path fill=\"none\" stroke=\"#c0c0c0\" d=\"M41.9267,-25.9065C42.9321,-24.3689 43.99,-22.7509 45.0366,-21.1502\"/>\n",
       "<polygon fill=\"#c0c0c0\" stroke=\"#c0c0c0\" points=\"46.1316,-21.3941 46.8946,-18.3086 44.374,-20.2449 46.1316,-21.3941\"/>\n",
       "</g>\n",
       "<!-- 5 -->\n",
       "<g id=\"node6\" class=\"node\">\n",
       "<title>5</title>\n",
       "<polygon fill=\"#eeeeee\" stroke=\"transparent\" points=\"126.5469,-18 105.4151,-18 105.4151,0 126.5469,0 126.5469,-18\"/>\n",
       "<text text-anchor=\"middle\" x=\"115.981\" y=\"-6\" font-family=\"sans\" font-size=\"10.00\" fill=\"#000000\">$</text>\n",
       "</g>\n",
       "<!-- 4&#45;&gt;5 -->\n",
       "<g id=\"edge5\" class=\"edge\">\n",
       "<title>4&#45;&gt;5</title>\n",
       "<path fill=\"none\" stroke=\"#c0c0c0\" d=\"M115.981,-25.9065C115.981,-24.5226 115.981,-23.0737 115.981,-21.6308\"/>\n",
       "<polygon fill=\"#c0c0c0\" stroke=\"#c0c0c0\" points=\"117.031,-21.3085 115.981,-18.3086 114.931,-21.3086 117.031,-21.3085\"/>\n",
       "</g>\n",
       "</g>\n",
       "</svg>\n"
      ],
      "text/plain": [
       "Graph(nodes=[...], edges=[...])"
      ]
     },
     "execution_count": 14,
     "metadata": {},
     "output_type": "execute_result"
    }
   ],
   "source": [
    "from yargy.predicates import eq, type, dictionary\n",
    "\n",
    "\n",
    "Money = fact(\n",
    "    'Money',\n",
    "    ['value', 'currency']\n",
    ")\n",
    "MONEY = rule(\n",
    "    rule(\n",
    "        type('INT'),\n",
    "        dictionary({\n",
    "            'тысяча',\n",
    "            'миллион'\n",
    "        })\n",
    "    ).interpretation(\n",
    "        Money.value\n",
    "    ),\n",
    "    eq('$').interpretation(\n",
    "        Money.currency\n",
    "    )\n",
    ").interpretation(\n",
    "    Money\n",
    ")\n",
    "\n",
    "parser = Parser(MONEY)\n",
    "match = parser.match('5 тысяч$')\n",
    "match.tree.as_dot"
   ]
  },
  {
   "cell_type": "markdown",
   "metadata": {},
   "source": [
    "В `Money.value` два слова:"
   ]
  },
  {
   "cell_type": "code",
   "execution_count": 15,
   "metadata": {},
   "outputs": [
    {
     "data": {
      "text/plain": [
       "Money(\n",
       "    value='5 тысяч',\n",
       "    currency='$'\n",
       ")"
      ]
     },
     "execution_count": 15,
     "metadata": {},
     "output_type": "execute_result"
    }
   ],
   "source": [
    "match.fact"
   ]
  },
  {
   "cell_type": "markdown",
   "metadata": {},
   "source": [
    "Когда под вершиной-атрибутом смесь из токенов и вершин-конструктов, интерпретация кидает `TypeError`:"
   ]
  },
  {
   "cell_type": "code",
   "execution_count": 16,
   "metadata": {},
   "outputs": [
    {
     "data": {
      "image/svg+xml": [
       "<?xml version=\"1.0\" encoding=\"UTF-8\" standalone=\"no\"?>\n",
       "<!DOCTYPE svg PUBLIC \"-//W3C//DTD SVG 1.1//EN\"\n",
       " \"http://www.w3.org/Graphics/SVG/1.1/DTD/svg11.dtd\">\n",
       "<!-- Generated by graphviz version 2.40.1 (20161225.0304)\n",
       " -->\n",
       "<!-- Title: G Pages: 1 -->\n",
       "<svg width=\"59pt\" height=\"130pt\"\n",
       " viewBox=\"0.00 0.00 58.56 130.00\" xmlns=\"http://www.w3.org/2000/svg\" xmlns:xlink=\"http://www.w3.org/1999/xlink\">\n",
       "<g id=\"graph0\" class=\"graph\" transform=\"scale(1 1) rotate(0) translate(4 126)\">\n",
       "<title>G</title>\n",
       "<polygon fill=\"#ffffff\" stroke=\"transparent\" points=\"-4,4 -4,-126 54.5591,-126 54.5591,4 -4,4\"/>\n",
       "<!-- 0 -->\n",
       "<g id=\"node1\" class=\"node\">\n",
       "<title>0</title>\n",
       "<polygon fill=\"#dbdb8d\" stroke=\"transparent\" points=\"34.5073,-122 12.1627,-122 12.1627,-104 34.5073,-104 34.5073,-122\"/>\n",
       "<text text-anchor=\"middle\" x=\"23.335\" y=\"-110\" font-family=\"sans\" font-size=\"10.00\" fill=\"#000000\">A</text>\n",
       "</g>\n",
       "<!-- 1 -->\n",
       "<g id=\"node2\" class=\"node\">\n",
       "<title>1</title>\n",
       "<polygon fill=\"#dbdb8d\" stroke=\"transparent\" points=\"38.7866,-96 7.8834,-96 7.8834,-78 38.7866,-78 38.7866,-96\"/>\n",
       "<text text-anchor=\"middle\" x=\"23.335\" y=\"-84\" font-family=\"sans\" font-size=\"10.00\" fill=\"#000000\">A.x</text>\n",
       "</g>\n",
       "<!-- 0&#45;&gt;1 -->\n",
       "<g id=\"edge1\" class=\"edge\">\n",
       "<title>0&#45;&gt;1</title>\n",
       "<path fill=\"none\" stroke=\"#c0c0c0\" d=\"M23.335,-103.9065C23.335,-102.5226 23.335,-101.0737 23.335,-99.6308\"/>\n",
       "<polygon fill=\"#c0c0c0\" stroke=\"#c0c0c0\" points=\"24.3851,-99.3085 23.335,-96.3086 22.2851,-99.3086 24.3851,-99.3085\"/>\n",
       "</g>\n",
       "<!-- 2 -->\n",
       "<g id=\"node3\" class=\"node\">\n",
       "<title>2</title>\n",
       "<polygon fill=\"#eeeeee\" stroke=\"transparent\" points=\"22.5073,-70 .1627,-70 .1627,-52 22.5073,-52 22.5073,-70\"/>\n",
       "<text text-anchor=\"middle\" x=\"11.335\" y=\"-58\" font-family=\"sans\" font-size=\"10.00\" fill=\"#000000\">X</text>\n",
       "</g>\n",
       "<!-- 1&#45;&gt;2 -->\n",
       "<g id=\"edge2\" class=\"edge\">\n",
       "<title>1&#45;&gt;2</title>\n",
       "<path fill=\"none\" stroke=\"#c0c0c0\" d=\"M19.1379,-77.9065C18.4283,-76.3689 17.6815,-74.7509 16.9427,-73.1502\"/>\n",
       "<polygon fill=\"#c0c0c0\" stroke=\"#c0c0c0\" points=\"17.8418,-72.5924 15.6312,-70.3086 15.9351,-73.4725 17.8418,-72.5924\"/>\n",
       "</g>\n",
       "<!-- 3 -->\n",
       "<g id=\"node4\" class=\"node\">\n",
       "<title>3</title>\n",
       "<polygon fill=\"#dbdb8d\" stroke=\"transparent\" points=\"46.5073,-70 24.1627,-70 24.1627,-52 46.5073,-52 46.5073,-70\"/>\n",
       "<text text-anchor=\"middle\" x=\"35.335\" y=\"-58\" font-family=\"sans\" font-size=\"10.00\" fill=\"#000000\">B</text>\n",
       "</g>\n",
       "<!-- 1&#45;&gt;3 -->\n",
       "<g id=\"edge3\" class=\"edge\">\n",
       "<title>1&#45;&gt;3</title>\n",
       "<path fill=\"none\" stroke=\"#c0c0c0\" d=\"M27.532,-77.9065C28.2416,-76.3689 28.9884,-74.7509 29.7272,-73.1502\"/>\n",
       "<polygon fill=\"#c0c0c0\" stroke=\"#c0c0c0\" points=\"30.7348,-73.4725 31.0387,-70.3086 28.8281,-72.5924 30.7348,-73.4725\"/>\n",
       "</g>\n",
       "<!-- 4 -->\n",
       "<g id=\"node5\" class=\"node\">\n",
       "<title>4</title>\n",
       "<polygon fill=\"#dbdb8d\" stroke=\"transparent\" points=\"50.7866,-44 19.8834,-44 19.8834,-26 50.7866,-26 50.7866,-44\"/>\n",
       "<text text-anchor=\"middle\" x=\"35.335\" y=\"-32\" font-family=\"sans\" font-size=\"10.00\" fill=\"#000000\">B.y</text>\n",
       "</g>\n",
       "<!-- 3&#45;&gt;4 -->\n",
       "<g id=\"edge4\" class=\"edge\">\n",
       "<title>3&#45;&gt;4</title>\n",
       "<path fill=\"none\" stroke=\"#c0c0c0\" d=\"M35.335,-51.9065C35.335,-50.5226 35.335,-49.0737 35.335,-47.6308\"/>\n",
       "<polygon fill=\"#c0c0c0\" stroke=\"#c0c0c0\" points=\"36.3851,-47.3085 35.335,-44.3086 34.2851,-47.3086 36.3851,-47.3085\"/>\n",
       "</g>\n",
       "<!-- 5 -->\n",
       "<g id=\"node6\" class=\"node\">\n",
       "<title>5</title>\n",
       "<polygon fill=\"#eeeeee\" stroke=\"transparent\" points=\"46.5073,-18 24.1627,-18 24.1627,0 46.5073,0 46.5073,-18\"/>\n",
       "<text text-anchor=\"middle\" x=\"35.335\" y=\"-6\" font-family=\"sans\" font-size=\"10.00\" fill=\"#000000\">Y</text>\n",
       "</g>\n",
       "<!-- 4&#45;&gt;5 -->\n",
       "<g id=\"edge5\" class=\"edge\">\n",
       "<title>4&#45;&gt;5</title>\n",
       "<path fill=\"none\" stroke=\"#c0c0c0\" d=\"M35.335,-25.9065C35.335,-24.5226 35.335,-23.0737 35.335,-21.6308\"/>\n",
       "<polygon fill=\"#c0c0c0\" stroke=\"#c0c0c0\" points=\"36.3851,-21.3085 35.335,-18.3086 34.2851,-21.3086 36.3851,-21.3085\"/>\n",
       "</g>\n",
       "</g>\n",
       "</svg>\n"
      ],
      "text/plain": [
       "Graph(nodes=[...], edges=[...])"
      ]
     },
     "execution_count": 16,
     "metadata": {},
     "output_type": "execute_result"
    }
   ],
   "source": [
    "from yargy.predicates import true\n",
    "\n",
    "\n",
    "A = fact(\n",
    "    'A',\n",
    "    ['x']\n",
    ")\n",
    "B = fact(\n",
    "    'B',\n",
    "    ['y']\n",
    ")\n",
    "RULE = rule(\n",
    "    true(),\n",
    "    true().interpretation(\n",
    "        B.y\n",
    "    ).interpretation(\n",
    "        B\n",
    "    )\n",
    ").interpretation(\n",
    "    A.x\n",
    ").interpretation(\n",
    "    A\n",
    ")\n",
    "\n",
    "parser = Parser(RULE)\n",
    "match = parser.match('X Y')\n",
    "match.tree.as_dot"
   ]
  },
  {
   "cell_type": "code",
   "execution_count": 17,
   "metadata": {},
   "outputs": [],
   "source": [
    "# match.fact Будет TypeError"
   ]
  },
  {
   "cell_type": "markdown",
   "metadata": {},
   "source": [
    "Если под вершиной-атрибутом другая вершина-атрибут, нижняя просто исчезает:"
   ]
  },
  {
   "cell_type": "code",
   "execution_count": 18,
   "metadata": {},
   "outputs": [
    {
     "data": {
      "image/svg+xml": [
       "<?xml version=\"1.0\" encoding=\"UTF-8\" standalone=\"no\"?>\n",
       "<!DOCTYPE svg PUBLIC \"-//W3C//DTD SVG 1.1//EN\"\n",
       " \"http://www.w3.org/Graphics/SVG/1.1/DTD/svg11.dtd\">\n",
       "<!-- Generated by graphviz version 2.40.1 (20161225.0304)\n",
       " -->\n",
       "<!-- Title: G Pages: 1 -->\n",
       "<svg width=\"38pt\" height=\"104pt\"\n",
       " viewBox=\"0.00 0.00 38.45 104.00\" xmlns=\"http://www.w3.org/2000/svg\" xmlns:xlink=\"http://www.w3.org/1999/xlink\">\n",
       "<g id=\"graph0\" class=\"graph\" transform=\"scale(1 1) rotate(0) translate(4 100)\">\n",
       "<title>G</title>\n",
       "<polygon fill=\"#ffffff\" stroke=\"transparent\" points=\"-4,4 -4,-100 34.4482,-100 34.4482,4 -4,4\"/>\n",
       "<!-- 0 -->\n",
       "<g id=\"node1\" class=\"node\">\n",
       "<title>0</title>\n",
       "<polygon fill=\"#dbdb8d\" stroke=\"transparent\" points=\"26.3964,-96 4.0518,-96 4.0518,-78 26.3964,-78 26.3964,-96\"/>\n",
       "<text text-anchor=\"middle\" x=\"15.2241\" y=\"-84\" font-family=\"sans\" font-size=\"10.00\" fill=\"#000000\">A</text>\n",
       "</g>\n",
       "<!-- 1 -->\n",
       "<g id=\"node2\" class=\"node\">\n",
       "<title>1</title>\n",
       "<polygon fill=\"#dbdb8d\" stroke=\"transparent\" points=\"30.6757,-70 -.2275,-70 -.2275,-52 30.6757,-52 30.6757,-70\"/>\n",
       "<text text-anchor=\"middle\" x=\"15.2241\" y=\"-58\" font-family=\"sans\" font-size=\"10.00\" fill=\"#000000\">A.y</text>\n",
       "</g>\n",
       "<!-- 0&#45;&gt;1 -->\n",
       "<g id=\"edge1\" class=\"edge\">\n",
       "<title>0&#45;&gt;1</title>\n",
       "<path fill=\"none\" stroke=\"#c0c0c0\" d=\"M15.2241,-77.9065C15.2241,-76.5226 15.2241,-75.0737 15.2241,-73.6308\"/>\n",
       "<polygon fill=\"#c0c0c0\" stroke=\"#c0c0c0\" points=\"16.2742,-73.3085 15.2241,-70.3086 14.1742,-73.3086 16.2742,-73.3085\"/>\n",
       "</g>\n",
       "<!-- 2 -->\n",
       "<g id=\"node3\" class=\"node\">\n",
       "<title>2</title>\n",
       "<polygon fill=\"#dbdb8d\" stroke=\"transparent\" points=\"30.6757,-44 -.2275,-44 -.2275,-26 30.6757,-26 30.6757,-44\"/>\n",
       "<text text-anchor=\"middle\" x=\"15.2241\" y=\"-32\" font-family=\"sans\" font-size=\"10.00\" fill=\"#000000\">A.x</text>\n",
       "</g>\n",
       "<!-- 1&#45;&gt;2 -->\n",
       "<g id=\"edge2\" class=\"edge\">\n",
       "<title>1&#45;&gt;2</title>\n",
       "<path fill=\"none\" stroke=\"#c0c0c0\" d=\"M15.2241,-51.9065C15.2241,-50.5226 15.2241,-49.0737 15.2241,-47.6308\"/>\n",
       "<polygon fill=\"#c0c0c0\" stroke=\"#c0c0c0\" points=\"16.2742,-47.3085 15.2241,-44.3086 14.1742,-47.3086 16.2742,-47.3085\"/>\n",
       "</g>\n",
       "<!-- 3 -->\n",
       "<g id=\"node4\" class=\"node\">\n",
       "<title>3</title>\n",
       "<polygon fill=\"#eeeeee\" stroke=\"transparent\" points=\"26.3964,-18 4.0518,-18 4.0518,0 26.3964,0 26.3964,-18\"/>\n",
       "<text text-anchor=\"middle\" x=\"15.2241\" y=\"-6\" font-family=\"sans\" font-size=\"10.00\" fill=\"#000000\">X</text>\n",
       "</g>\n",
       "<!-- 2&#45;&gt;3 -->\n",
       "<g id=\"edge3\" class=\"edge\">\n",
       "<title>2&#45;&gt;3</title>\n",
       "<path fill=\"none\" stroke=\"#c0c0c0\" d=\"M15.2241,-25.9065C15.2241,-24.5226 15.2241,-23.0737 15.2241,-21.6308\"/>\n",
       "<polygon fill=\"#c0c0c0\" stroke=\"#c0c0c0\" points=\"16.2742,-21.3085 15.2241,-18.3086 14.1742,-21.3086 16.2742,-21.3085\"/>\n",
       "</g>\n",
       "</g>\n",
       "</svg>\n"
      ],
      "text/plain": [
       "Graph(nodes=[...], edges=[...])"
      ]
     },
     "execution_count": 18,
     "metadata": {},
     "output_type": "execute_result"
    }
   ],
   "source": [
    "from yargy.predicates import true\n",
    "\n",
    "\n",
    "A = fact(\n",
    "    'A',\n",
    "    ['x', 'y']\n",
    ")\n",
    "RULE = true().interpretation(\n",
    "    A.x\n",
    ").interpretation(\n",
    "    A.y\n",
    ").interpretation(A)\n",
    "\n",
    "parser = Parser(RULE)\n",
    "match = parser.match('X')\n",
    "match.tree.as_dot"
   ]
  },
  {
   "cell_type": "markdown",
   "metadata": {},
   "source": [
    "\"X\" попадёт в `A.y`, не в `A.x`:"
   ]
  },
  {
   "cell_type": "code",
   "execution_count": 19,
   "metadata": {},
   "outputs": [
    {
     "data": {
      "text/plain": [
       "A(\n",
       "    x=None,\n",
       "    y='X'\n",
       ")"
      ]
     },
     "execution_count": 19,
     "metadata": {},
     "output_type": "execute_result"
    }
   ],
   "source": [
    "match.fact"
   ]
  },
  {
   "cell_type": "markdown",
   "metadata": {},
   "source": [
    "Что если под вершиной-конструктом несколько одинаковых вершин-атрибутов? Самый правый атрибут перезаписывает все остальные:"
   ]
  },
  {
   "cell_type": "code",
   "execution_count": 20,
   "metadata": {},
   "outputs": [
    {
     "data": {
      "image/svg+xml": [
       "<?xml version=\"1.0\" encoding=\"UTF-8\" standalone=\"no\"?>\n",
       "<!DOCTYPE svg PUBLIC \"-//W3C//DTD SVG 1.1//EN\"\n",
       " \"http://www.w3.org/Graphics/SVG/1.1/DTD/svg11.dtd\">\n",
       "<!-- Generated by graphviz version 2.40.1 (20161225.0304)\n",
       " -->\n",
       "<!-- Title: G Pages: 1 -->\n",
       "<svg width=\"98pt\" height=\"156pt\"\n",
       " viewBox=\"0.00 0.00 98.45 156.00\" xmlns=\"http://www.w3.org/2000/svg\" xmlns:xlink=\"http://www.w3.org/1999/xlink\">\n",
       "<g id=\"graph0\" class=\"graph\" transform=\"scale(1 1) rotate(0) translate(4 152)\">\n",
       "<title>G</title>\n",
       "<polygon fill=\"#ffffff\" stroke=\"transparent\" points=\"-4,4 -4,-152 94.4482,-152 94.4482,4 -4,4\"/>\n",
       "<!-- 0 -->\n",
       "<g id=\"node1\" class=\"node\">\n",
       "<title>0</title>\n",
       "<polygon fill=\"#dbdb8d\" stroke=\"transparent\" points=\"41.3964,-148 19.0518,-148 19.0518,-130 41.3964,-130 41.3964,-148\"/>\n",
       "<text text-anchor=\"middle\" x=\"30.2241\" y=\"-136\" font-family=\"sans\" font-size=\"10.00\" fill=\"#000000\">A</text>\n",
       "</g>\n",
       "<!-- 1 -->\n",
       "<g id=\"node2\" class=\"node\">\n",
       "<title>1</title>\n",
       "<polygon fill=\"#aec7e8\" stroke=\"transparent\" points=\"44.5081,-122 15.9401,-122 15.9401,-104 44.5081,-104 44.5081,-122\"/>\n",
       "<text text-anchor=\"middle\" x=\"30.2241\" y=\"-110\" font-family=\"sans\" font-size=\"10.00\" fill=\"#000000\">R1</text>\n",
       "</g>\n",
       "<!-- 0&#45;&gt;1 -->\n",
       "<g id=\"edge1\" class=\"edge\">\n",
       "<title>0&#45;&gt;1</title>\n",
       "<path fill=\"none\" stroke=\"#c0c0c0\" d=\"M30.2241,-129.9065C30.2241,-128.5226 30.2241,-127.0737 30.2241,-125.6308\"/>\n",
       "<polygon fill=\"#c0c0c0\" stroke=\"#c0c0c0\" points=\"31.2742,-125.3085 30.2241,-122.3086 29.1742,-125.3086 31.2742,-125.3085\"/>\n",
       "</g>\n",
       "<!-- 2 -->\n",
       "<g id=\"node3\" class=\"node\">\n",
       "<title>2</title>\n",
       "<polygon fill=\"#dbdb8d\" stroke=\"transparent\" points=\"30.6757,-96 -.2275,-96 -.2275,-78 30.6757,-78 30.6757,-96\"/>\n",
       "<text text-anchor=\"middle\" x=\"15.2241\" y=\"-84\" font-family=\"sans\" font-size=\"10.00\" fill=\"#000000\">A.x</text>\n",
       "</g>\n",
       "<!-- 1&#45;&gt;2 -->\n",
       "<g id=\"edge2\" class=\"edge\">\n",
       "<title>1&#45;&gt;2</title>\n",
       "<path fill=\"none\" stroke=\"#c0c0c0\" d=\"M24.9778,-103.9065C24.0908,-102.3689 23.1573,-100.7509 22.2338,-99.1502\"/>\n",
       "<polygon fill=\"#c0c0c0\" stroke=\"#c0c0c0\" points=\"23.0032,-98.3824 20.5945,-96.3086 21.1842,-99.4319 23.0032,-98.3824\"/>\n",
       "</g>\n",
       "<!-- 4 -->\n",
       "<g id=\"node5\" class=\"node\">\n",
       "<title>4</title>\n",
       "<polygon fill=\"#aec7e8\" stroke=\"transparent\" points=\"60.5081,-96 31.9401,-96 31.9401,-78 60.5081,-78 60.5081,-96\"/>\n",
       "<text text-anchor=\"middle\" x=\"46.2241\" y=\"-84\" font-family=\"sans\" font-size=\"10.00\" fill=\"#000000\">R1</text>\n",
       "</g>\n",
       "<!-- 1&#45;&gt;4 -->\n",
       "<g id=\"edge3\" class=\"edge\">\n",
       "<title>1&#45;&gt;4</title>\n",
       "<path fill=\"none\" stroke=\"#c0c0c0\" d=\"M35.8201,-103.9065C36.7664,-102.3689 37.762,-100.7509 38.7471,-99.1502\"/>\n",
       "<polygon fill=\"#c0c0c0\" stroke=\"#c0c0c0\" points=\"39.8177,-99.4139 40.4958,-96.3086 38.0292,-98.3132 39.8177,-99.4139\"/>\n",
       "</g>\n",
       "<!-- 3 -->\n",
       "<g id=\"node4\" class=\"node\">\n",
       "<title>3</title>\n",
       "<polygon fill=\"#eeeeee\" stroke=\"transparent\" points=\"25.79,-70 4.6582,-70 4.6582,-52 25.79,-52 25.79,-70\"/>\n",
       "<text text-anchor=\"middle\" x=\"15.2241\" y=\"-58\" font-family=\"sans\" font-size=\"10.00\" fill=\"#000000\">1</text>\n",
       "</g>\n",
       "<!-- 2&#45;&gt;3 -->\n",
       "<g id=\"edge4\" class=\"edge\">\n",
       "<title>2&#45;&gt;3</title>\n",
       "<path fill=\"none\" stroke=\"#c0c0c0\" d=\"M15.2241,-77.9065C15.2241,-76.5226 15.2241,-75.0737 15.2241,-73.6308\"/>\n",
       "<polygon fill=\"#c0c0c0\" stroke=\"#c0c0c0\" points=\"16.2742,-73.3085 15.2241,-70.3086 14.1742,-73.3086 16.2742,-73.3085\"/>\n",
       "</g>\n",
       "<!-- 5 -->\n",
       "<g id=\"node6\" class=\"node\">\n",
       "<title>5</title>\n",
       "<polygon fill=\"#dbdb8d\" stroke=\"transparent\" points=\"59.6757,-70 28.7725,-70 28.7725,-52 59.6757,-52 59.6757,-70\"/>\n",
       "<text text-anchor=\"middle\" x=\"44.2241\" y=\"-58\" font-family=\"sans\" font-size=\"10.00\" fill=\"#000000\">A.x</text>\n",
       "</g>\n",
       "<!-- 4&#45;&gt;5 -->\n",
       "<g id=\"edge5\" class=\"edge\">\n",
       "<title>4&#45;&gt;5</title>\n",
       "<path fill=\"none\" stroke=\"#c0c0c0\" d=\"M45.5246,-77.9065C45.4182,-76.5226 45.3067,-75.0737 45.1957,-73.6308\"/>\n",
       "<polygon fill=\"#c0c0c0\" stroke=\"#c0c0c0\" points=\"46.2172,-73.2192 44.9402,-70.3086 44.1234,-73.3803 46.2172,-73.2192\"/>\n",
       "</g>\n",
       "<!-- 7 -->\n",
       "<g id=\"node8\" class=\"node\">\n",
       "<title>7</title>\n",
       "<polygon fill=\"#aec7e8\" stroke=\"transparent\" points=\"89.5081,-70 60.9401,-70 60.9401,-52 89.5081,-52 89.5081,-70\"/>\n",
       "<text text-anchor=\"middle\" x=\"75.2241\" y=\"-58\" font-family=\"sans\" font-size=\"10.00\" fill=\"#000000\">R1</text>\n",
       "</g>\n",
       "<!-- 4&#45;&gt;7 -->\n",
       "<g id=\"edge6\" class=\"edge\">\n",
       "<title>4&#45;&gt;7</title>\n",
       "<path fill=\"none\" stroke=\"#c0c0c0\" d=\"M56.3669,-77.9065C58.3392,-76.1382 60.43,-74.2637 62.4738,-72.4313\"/>\n",
       "<polygon fill=\"#c0c0c0\" stroke=\"#c0c0c0\" points=\"63.3087,-73.093 64.8415,-70.3086 61.9068,-71.5294 63.3087,-73.093\"/>\n",
       "</g>\n",
       "<!-- 6 -->\n",
       "<g id=\"node7\" class=\"node\">\n",
       "<title>6</title>\n",
       "<polygon fill=\"#eeeeee\" stroke=\"transparent\" points=\"54.79,-44 33.6582,-44 33.6582,-26 54.79,-26 54.79,-44\"/>\n",
       "<text text-anchor=\"middle\" x=\"44.2241\" y=\"-32\" font-family=\"sans\" font-size=\"10.00\" fill=\"#000000\">2</text>\n",
       "</g>\n",
       "<!-- 5&#45;&gt;6 -->\n",
       "<g id=\"edge7\" class=\"edge\">\n",
       "<title>5&#45;&gt;6</title>\n",
       "<path fill=\"none\" stroke=\"#c0c0c0\" d=\"M44.2241,-51.9065C44.2241,-50.5226 44.2241,-49.0737 44.2241,-47.6308\"/>\n",
       "<polygon fill=\"#c0c0c0\" stroke=\"#c0c0c0\" points=\"45.2742,-47.3085 44.2241,-44.3086 43.1742,-47.3086 45.2742,-47.3085\"/>\n",
       "</g>\n",
       "<!-- 8 -->\n",
       "<g id=\"node9\" class=\"node\">\n",
       "<title>8</title>\n",
       "<polygon fill=\"#dbdb8d\" stroke=\"transparent\" points=\"90.6757,-44 59.7725,-44 59.7725,-26 90.6757,-26 90.6757,-44\"/>\n",
       "<text text-anchor=\"middle\" x=\"75.2241\" y=\"-32\" font-family=\"sans\" font-size=\"10.00\" fill=\"#000000\">A.x</text>\n",
       "</g>\n",
       "<!-- 7&#45;&gt;8 -->\n",
       "<g id=\"edge8\" class=\"edge\">\n",
       "<title>7&#45;&gt;8</title>\n",
       "<path fill=\"none\" stroke=\"#c0c0c0\" d=\"M75.2241,-51.9065C75.2241,-50.5226 75.2241,-49.0737 75.2241,-47.6308\"/>\n",
       "<polygon fill=\"#c0c0c0\" stroke=\"#c0c0c0\" points=\"76.2742,-47.3085 75.2241,-44.3086 74.1742,-47.3086 76.2742,-47.3085\"/>\n",
       "</g>\n",
       "<!-- 9 -->\n",
       "<g id=\"node10\" class=\"node\">\n",
       "<title>9</title>\n",
       "<polygon fill=\"#eeeeee\" stroke=\"transparent\" points=\"85.79,-18 64.6582,-18 64.6582,0 85.79,0 85.79,-18\"/>\n",
       "<text text-anchor=\"middle\" x=\"75.2241\" y=\"-6\" font-family=\"sans\" font-size=\"10.00\" fill=\"#000000\">3</text>\n",
       "</g>\n",
       "<!-- 8&#45;&gt;9 -->\n",
       "<g id=\"edge9\" class=\"edge\">\n",
       "<title>8&#45;&gt;9</title>\n",
       "<path fill=\"none\" stroke=\"#c0c0c0\" d=\"M75.2241,-25.9065C75.2241,-24.5226 75.2241,-23.0737 75.2241,-21.6308\"/>\n",
       "<polygon fill=\"#c0c0c0\" stroke=\"#c0c0c0\" points=\"76.2742,-21.3085 75.2241,-18.3086 74.1742,-21.3086 76.2742,-21.3085\"/>\n",
       "</g>\n",
       "</g>\n",
       "</svg>\n"
      ],
      "text/plain": [
       "Graph(nodes=[...], edges=[...])"
      ]
     },
     "execution_count": 20,
     "metadata": {},
     "output_type": "execute_result"
    }
   ],
   "source": [
    "A = fact(\n",
    "    'A',\n",
    "    ['x']\n",
    ")\n",
    "RULE = true().interpretation(\n",
    "    A.x\n",
    ").repeatable().interpretation(\n",
    "    A\n",
    ")\n",
    "\n",
    "parser = Parser(RULE)\n",
    "match = parser.match('1 2 3')\n",
    "match.tree.normalized.as_dot"
   ]
  },
  {
   "cell_type": "markdown",
   "metadata": {},
   "source": [
    "В `A.x` попадёт \"3\":"
   ]
  },
  {
   "cell_type": "code",
   "execution_count": 21,
   "metadata": {},
   "outputs": [
    {
     "data": {
      "text/plain": [
       "A(\n",
       "    x='3'\n",
       ")"
      ]
     },
     "execution_count": 21,
     "metadata": {},
     "output_type": "execute_result"
    }
   ],
   "source": [
    "match.fact"
   ]
  },
  {
   "cell_type": "markdown",
   "metadata": {},
   "source": [
    "Но бывает нужно сохранить содержание всех повторяющихся вершин-атрибутов, не только самой правой. Помечаем поле как `repeatable`:"
   ]
  },
  {
   "cell_type": "code",
   "execution_count": 22,
   "metadata": {},
   "outputs": [
    {
     "data": {
      "image/svg+xml": [
       "<?xml version=\"1.0\" encoding=\"UTF-8\" standalone=\"no\"?>\n",
       "<!DOCTYPE svg PUBLIC \"-//W3C//DTD SVG 1.1//EN\"\n",
       " \"http://www.w3.org/Graphics/SVG/1.1/DTD/svg11.dtd\">\n",
       "<!-- Generated by graphviz version 2.40.1 (20161225.0304)\n",
       " -->\n",
       "<!-- Title: G Pages: 1 -->\n",
       "<svg width=\"176pt\" height=\"182pt\"\n",
       " viewBox=\"0.00 0.00 176.47 182.00\" xmlns=\"http://www.w3.org/2000/svg\" xmlns:xlink=\"http://www.w3.org/1999/xlink\">\n",
       "<g id=\"graph0\" class=\"graph\" transform=\"scale(1 1) rotate(0) translate(4 178)\">\n",
       "<title>G</title>\n",
       "<polygon fill=\"#ffffff\" stroke=\"transparent\" points=\"-4,4 -4,-178 172.4678,-178 172.4678,4 -4,4\"/>\n",
       "<!-- 0 -->\n",
       "<g id=\"node1\" class=\"node\">\n",
       "<title>0</title>\n",
       "<polygon fill=\"#dbdb8d\" stroke=\"transparent\" points=\"116.7319,-174 80.8296,-174 80.8296,-156 116.7319,-156 116.7319,-174\"/>\n",
       "<text text-anchor=\"middle\" x=\"98.7808\" y=\"-162\" font-family=\"sans\" font-size=\"10.00\" fill=\"#000000\">Item</text>\n",
       "</g>\n",
       "<!-- 1 -->\n",
       "<g id=\"node2\" class=\"node\">\n",
       "<title>1</title>\n",
       "<polygon fill=\"#aec7e8\" stroke=\"transparent\" points=\"113.0648,-148 84.4967,-148 84.4967,-130 113.0648,-130 113.0648,-148\"/>\n",
       "<text text-anchor=\"middle\" x=\"98.7808\" y=\"-136\" font-family=\"sans\" font-size=\"10.00\" fill=\"#000000\">R1</text>\n",
       "</g>\n",
       "<!-- 0&#45;&gt;1 -->\n",
       "<g id=\"edge1\" class=\"edge\">\n",
       "<title>0&#45;&gt;1</title>\n",
       "<path fill=\"none\" stroke=\"#c0c0c0\" d=\"M98.7808,-155.9065C98.7808,-154.5226 98.7808,-153.0737 98.7808,-151.6308\"/>\n",
       "<polygon fill=\"#c0c0c0\" stroke=\"#c0c0c0\" points=\"99.8309,-151.3085 98.7808,-148.3086 97.7309,-151.3086 99.8309,-151.3085\"/>\n",
       "</g>\n",
       "<!-- 2 -->\n",
       "<g id=\"node3\" class=\"node\">\n",
       "<title>2</title>\n",
       "<polygon fill=\"#aec7e8\" stroke=\"transparent\" points=\"98.0648,-122 69.4967,-122 69.4967,-104 98.0648,-104 98.0648,-122\"/>\n",
       "<text text-anchor=\"middle\" x=\"83.7808\" y=\"-110\" font-family=\"sans\" font-size=\"10.00\" fill=\"#000000\">R2</text>\n",
       "</g>\n",
       "<!-- 1&#45;&gt;2 -->\n",
       "<g id=\"edge2\" class=\"edge\">\n",
       "<title>1&#45;&gt;2</title>\n",
       "<path fill=\"none\" stroke=\"#c0c0c0\" d=\"M93.5345,-129.9065C92.6474,-128.3689 91.714,-126.7509 90.7905,-125.1502\"/>\n",
       "<polygon fill=\"#c0c0c0\" stroke=\"#c0c0c0\" points=\"91.5598,-124.3824 89.1511,-122.3086 89.7408,-125.4319 91.5598,-124.3824\"/>\n",
       "</g>\n",
       "<!-- 10 -->\n",
       "<g id=\"node11\" class=\"node\">\n",
       "<title>10</title>\n",
       "<polygon fill=\"#aec7e8\" stroke=\"transparent\" points=\"135.0648,-122 106.4967,-122 106.4967,-104 135.0648,-104 135.0648,-122\"/>\n",
       "<text text-anchor=\"middle\" x=\"120.7808\" y=\"-110\" font-family=\"sans\" font-size=\"10.00\" fill=\"#000000\">R1</text>\n",
       "</g>\n",
       "<!-- 1&#45;&gt;10 -->\n",
       "<g id=\"edge3\" class=\"edge\">\n",
       "<title>1&#45;&gt;10</title>\n",
       "<path fill=\"none\" stroke=\"#c0c0c0\" d=\"M106.4753,-129.9065C107.9064,-128.2151 109.4199,-126.4265 110.9057,-124.6705\"/>\n",
       "<polygon fill=\"#c0c0c0\" stroke=\"#c0c0c0\" points=\"111.768,-125.277 112.9043,-122.3086 110.1649,-123.9205 111.768,-125.277\"/>\n",
       "</g>\n",
       "<!-- 3 -->\n",
       "<g id=\"node4\" class=\"node\">\n",
       "<title>3</title>\n",
       "<polygon fill=\"#dbdb8d\" stroke=\"transparent\" points=\"67.0692,-96 8.4923,-96 8.4923,-78 67.0692,-78 67.0692,-96\"/>\n",
       "<text text-anchor=\"middle\" x=\"37.7808\" y=\"-84\" font-family=\"sans\" font-size=\"10.00\" fill=\"#000000\">Item.titles</text>\n",
       "</g>\n",
       "<!-- 2&#45;&gt;3 -->\n",
       "<g id=\"edge4\" class=\"edge\">\n",
       "<title>2&#45;&gt;3</title>\n",
       "<path fill=\"none\" stroke=\"#c0c0c0\" d=\"M69.2261,-104.7734C65.291,-102.5493 60.973,-100.1086 56.8311,-97.7676\"/>\n",
       "<polygon fill=\"#c0c0c0\" stroke=\"#c0c0c0\" points=\"57.127,-96.7288 53.9986,-96.1666 56.0937,-98.5569 57.127,-96.7288\"/>\n",
       "</g>\n",
       "<!-- 8 -->\n",
       "<g id=\"node9\" class=\"node\">\n",
       "<title>8</title>\n",
       "<polygon fill=\"#aec7e8\" stroke=\"transparent\" points=\"98.0648,-96 69.4967,-96 69.4967,-78 98.0648,-78 98.0648,-96\"/>\n",
       "<text text-anchor=\"middle\" x=\"83.7808\" y=\"-84\" font-family=\"sans\" font-size=\"10.00\" fill=\"#000000\">R4</text>\n",
       "</g>\n",
       "<!-- 2&#45;&gt;8 -->\n",
       "<g id=\"edge5\" class=\"edge\">\n",
       "<title>2&#45;&gt;8</title>\n",
       "<path fill=\"none\" stroke=\"#c0c0c0\" d=\"M83.7808,-103.9065C83.7808,-102.5226 83.7808,-101.0737 83.7808,-99.6308\"/>\n",
       "<polygon fill=\"#c0c0c0\" stroke=\"#c0c0c0\" points=\"84.8309,-99.3085 83.7808,-96.3086 82.7309,-99.3086 84.8309,-99.3085\"/>\n",
       "</g>\n",
       "<!-- 4 -->\n",
       "<g id=\"node5\" class=\"node\">\n",
       "<title>4</title>\n",
       "<polygon fill=\"#eeeeee\" stroke=\"transparent\" points=\"21.3467,-70 .2149,-70 .2149,-52 21.3467,-52 21.3467,-70\"/>\n",
       "<text text-anchor=\"middle\" x=\"10.7808\" y=\"-58\" font-family=\"sans\" font-size=\"10.00\" fill=\"#000000\">«</text>\n",
       "</g>\n",
       "<!-- 3&#45;&gt;4 -->\n",
       "<g id=\"edge6\" class=\"edge\">\n",
       "<title>3&#45;&gt;4</title>\n",
       "<path fill=\"none\" stroke=\"#c0c0c0\" d=\"M28.3375,-77.9065C26.5811,-76.2151 24.7236,-74.4265 22.9002,-72.6705\"/>\n",
       "<polygon fill=\"#c0c0c0\" stroke=\"#c0c0c0\" points=\"23.3367,-71.6332 20.4474,-70.3086 21.88,-73.1459 23.3367,-71.6332\"/>\n",
       "</g>\n",
       "<!-- 5 -->\n",
       "<g id=\"node6\" class=\"node\">\n",
       "<title>5</title>\n",
       "<polygon fill=\"#aec7e8\" stroke=\"transparent\" points=\"51.0648,-70 22.4967,-70 22.4967,-52 51.0648,-52 51.0648,-70\"/>\n",
       "<text text-anchor=\"middle\" x=\"36.7808\" y=\"-58\" font-family=\"sans\" font-size=\"10.00\" fill=\"#000000\">R5</text>\n",
       "</g>\n",
       "<!-- 3&#45;&gt;5 -->\n",
       "<g id=\"edge7\" class=\"edge\">\n",
       "<title>3&#45;&gt;5</title>\n",
       "<path fill=\"none\" stroke=\"#c0c0c0\" d=\"M37.431,-77.9065C37.3778,-76.5226 37.3221,-75.0737 37.2666,-73.6308\"/>\n",
       "<polygon fill=\"#c0c0c0\" stroke=\"#c0c0c0\" points=\"38.3034,-73.266 37.1388,-70.3086 36.2049,-73.3467 38.3034,-73.266\"/>\n",
       "</g>\n",
       "<!-- 7 -->\n",
       "<g id=\"node8\" class=\"node\">\n",
       "<title>7</title>\n",
       "<polygon fill=\"#eeeeee\" stroke=\"transparent\" points=\"73.3467,-70 52.2149,-70 52.2149,-52 73.3467,-52 73.3467,-70\"/>\n",
       "<text text-anchor=\"middle\" x=\"62.7808\" y=\"-58\" font-family=\"sans\" font-size=\"10.00\" fill=\"#000000\">»</text>\n",
       "</g>\n",
       "<!-- 3&#45;&gt;7 -->\n",
       "<g id=\"edge8\" class=\"edge\">\n",
       "<title>3&#45;&gt;7</title>\n",
       "<path fill=\"none\" stroke=\"#c0c0c0\" d=\"M46.5245,-77.9065C48.1509,-76.2151 49.8707,-74.4265 51.5591,-72.6705\"/>\n",
       "<polygon fill=\"#c0c0c0\" stroke=\"#c0c0c0\" points=\"52.5077,-73.1989 53.8302,-70.3086 50.994,-71.7433 52.5077,-73.1989\"/>\n",
       "</g>\n",
       "<!-- 6 -->\n",
       "<g id=\"node7\" class=\"node\">\n",
       "<title>6</title>\n",
       "<polygon fill=\"#eeeeee\" stroke=\"transparent\" points=\"68.4539,-44 5.1077,-44 5.1077,-26 68.4539,-26 68.4539,-44\"/>\n",
       "<text text-anchor=\"middle\" x=\"36.7808\" y=\"-32\" font-family=\"sans\" font-size=\"10.00\" fill=\"#000000\">Каштанка</text>\n",
       "</g>\n",
       "<!-- 5&#45;&gt;6 -->\n",
       "<g id=\"edge9\" class=\"edge\">\n",
       "<title>5&#45;&gt;6</title>\n",
       "<path fill=\"none\" stroke=\"#c0c0c0\" d=\"M36.7808,-51.9065C36.7808,-50.5226 36.7808,-49.0737 36.7808,-47.6308\"/>\n",
       "<polygon fill=\"#c0c0c0\" stroke=\"#c0c0c0\" points=\"37.8309,-47.3085 36.7808,-44.3086 35.7309,-47.3086 37.8309,-47.3085\"/>\n",
       "</g>\n",
       "<!-- 9 -->\n",
       "<g id=\"node10\" class=\"node\">\n",
       "<title>9</title>\n",
       "<polygon fill=\"#eeeeee\" stroke=\"transparent\" points=\"93.0604,-70 74.5011,-70 74.5011,-52 93.0604,-52 93.0604,-70\"/>\n",
       "<text text-anchor=\"middle\" x=\"83.7808\" y=\"-58\" font-family=\"sans\" font-size=\"10.00\" fill=\"#000000\">,</text>\n",
       "</g>\n",
       "<!-- 8&#45;&gt;9 -->\n",
       "<g id=\"edge10\" class=\"edge\">\n",
       "<title>8&#45;&gt;9</title>\n",
       "<path fill=\"none\" stroke=\"#c0c0c0\" d=\"M83.7808,-77.9065C83.7808,-76.5226 83.7808,-75.0737 83.7808,-73.6308\"/>\n",
       "<polygon fill=\"#c0c0c0\" stroke=\"#c0c0c0\" points=\"84.8309,-73.3085 83.7808,-70.3086 82.7309,-73.3086 84.8309,-73.3085\"/>\n",
       "</g>\n",
       "<!-- 11 -->\n",
       "<g id=\"node12\" class=\"node\">\n",
       "<title>11</title>\n",
       "<polygon fill=\"#dbdb8d\" stroke=\"transparent\" points=\"159.0692,-96 100.4923,-96 100.4923,-78 159.0692,-78 159.0692,-96\"/>\n",
       "<text text-anchor=\"middle\" x=\"129.7808\" y=\"-84\" font-family=\"sans\" font-size=\"10.00\" fill=\"#000000\">Item.titles</text>\n",
       "</g>\n",
       "<!-- 10&#45;&gt;11 -->\n",
       "<g id=\"edge11\" class=\"edge\">\n",
       "<title>10&#45;&gt;11</title>\n",
       "<path fill=\"none\" stroke=\"#c0c0c0\" d=\"M123.9285,-103.9065C124.4608,-102.3689 125.0208,-100.7509 125.5749,-99.1502\"/>\n",
       "<polygon fill=\"#c0c0c0\" stroke=\"#c0c0c0\" points=\"126.5694,-99.487 126.5586,-96.3086 124.5849,-98.8 126.5694,-99.487\"/>\n",
       "</g>\n",
       "<!-- 12 -->\n",
       "<g id=\"node13\" class=\"node\">\n",
       "<title>12</title>\n",
       "<polygon fill=\"#eeeeee\" stroke=\"transparent\" points=\"115.3467,-70 94.2149,-70 94.2149,-52 115.3467,-52 115.3467,-70\"/>\n",
       "<text text-anchor=\"middle\" x=\"104.7808\" y=\"-58\" font-family=\"sans\" font-size=\"10.00\" fill=\"#000000\">«</text>\n",
       "</g>\n",
       "<!-- 11&#45;&gt;12 -->\n",
       "<g id=\"edge12\" class=\"edge\">\n",
       "<title>11&#45;&gt;12</title>\n",
       "<path fill=\"none\" stroke=\"#c0c0c0\" d=\"M121.037,-77.9065C119.4107,-76.2151 117.6908,-74.4265 116.0024,-72.6705\"/>\n",
       "<polygon fill=\"#c0c0c0\" stroke=\"#c0c0c0\" points=\"116.5676,-71.7433 113.7313,-70.3086 115.0538,-73.1989 116.5676,-71.7433\"/>\n",
       "</g>\n",
       "<!-- 13 -->\n",
       "<g id=\"node14\" class=\"node\">\n",
       "<title>13</title>\n",
       "<polygon fill=\"#aec7e8\" stroke=\"transparent\" points=\"145.0648,-70 116.4967,-70 116.4967,-52 145.0648,-52 145.0648,-70\"/>\n",
       "<text text-anchor=\"middle\" x=\"130.7808\" y=\"-58\" font-family=\"sans\" font-size=\"10.00\" fill=\"#000000\">R5</text>\n",
       "</g>\n",
       "<!-- 11&#45;&gt;13 -->\n",
       "<g id=\"edge13\" class=\"edge\">\n",
       "<title>11&#45;&gt;13</title>\n",
       "<path fill=\"none\" stroke=\"#c0c0c0\" d=\"M130.1305,-77.9065C130.1837,-76.5226 130.2395,-75.0737 130.295,-73.6308\"/>\n",
       "<polygon fill=\"#c0c0c0\" stroke=\"#c0c0c0\" points=\"131.3566,-73.3467 130.4227,-70.3086 129.2581,-73.266 131.3566,-73.3467\"/>\n",
       "</g>\n",
       "<!-- 17 -->\n",
       "<g id=\"node18\" class=\"node\">\n",
       "<title>17</title>\n",
       "<polygon fill=\"#eeeeee\" stroke=\"transparent\" points=\"167.3467,-70 146.2149,-70 146.2149,-52 167.3467,-52 167.3467,-70\"/>\n",
       "<text text-anchor=\"middle\" x=\"156.7808\" y=\"-58\" font-family=\"sans\" font-size=\"10.00\" fill=\"#000000\">»</text>\n",
       "</g>\n",
       "<!-- 11&#45;&gt;17 -->\n",
       "<g id=\"edge14\" class=\"edge\">\n",
       "<title>11&#45;&gt;17</title>\n",
       "<path fill=\"none\" stroke=\"#c0c0c0\" d=\"M139.2241,-77.9065C140.9805,-76.2151 142.8379,-74.4265 144.6613,-72.6705\"/>\n",
       "<polygon fill=\"#c0c0c0\" stroke=\"#c0c0c0\" points=\"145.6815,-73.1459 147.1142,-70.3086 144.2248,-71.6332 145.6815,-73.1459\"/>\n",
       "</g>\n",
       "<!-- 14 -->\n",
       "<g id=\"node15\" class=\"node\">\n",
       "<title>14</title>\n",
       "<polygon fill=\"#eeeeee\" stroke=\"transparent\" points=\"133.0148,-44 92.5467,-44 92.5467,-26 133.0148,-26 133.0148,-44\"/>\n",
       "<text text-anchor=\"middle\" x=\"112.7808\" y=\"-32\" font-family=\"sans\" font-size=\"10.00\" fill=\"#000000\">Дядя</text>\n",
       "</g>\n",
       "<!-- 13&#45;&gt;14 -->\n",
       "<g id=\"edge15\" class=\"edge\">\n",
       "<title>13&#45;&gt;14</title>\n",
       "<path fill=\"none\" stroke=\"#c0c0c0\" d=\"M124.4852,-51.9065C123.4207,-50.3689 122.3006,-48.7509 121.1924,-47.1502\"/>\n",
       "<polygon fill=\"#c0c0c0\" stroke=\"#c0c0c0\" points=\"121.7961,-46.1775 119.2252,-44.3086 120.0695,-47.3728 121.7961,-46.1775\"/>\n",
       "</g>\n",
       "<!-- 15 -->\n",
       "<g id=\"node16\" class=\"node\">\n",
       "<title>15</title>\n",
       "<polygon fill=\"#aec7e8\" stroke=\"transparent\" points=\"163.0648,-44 134.4967,-44 134.4967,-26 163.0648,-26 163.0648,-44\"/>\n",
       "<text text-anchor=\"middle\" x=\"148.7808\" y=\"-32\" font-family=\"sans\" font-size=\"10.00\" fill=\"#000000\">R5</text>\n",
       "</g>\n",
       "<!-- 13&#45;&gt;15 -->\n",
       "<g id=\"edge16\" class=\"edge\">\n",
       "<title>13&#45;&gt;15</title>\n",
       "<path fill=\"none\" stroke=\"#c0c0c0\" d=\"M137.0763,-51.9065C138.1408,-50.3689 139.2609,-48.7509 140.3691,-47.1502\"/>\n",
       "<polygon fill=\"#c0c0c0\" stroke=\"#c0c0c0\" points=\"141.492,-47.3728 142.3364,-44.3086 139.7654,-46.1775 141.492,-47.3728\"/>\n",
       "</g>\n",
       "<!-- 16 -->\n",
       "<g id=\"node17\" class=\"node\">\n",
       "<title>16</title>\n",
       "<polygon fill=\"#eeeeee\" stroke=\"transparent\" points=\"168.6566,-18 128.9049,-18 128.9049,0 168.6566,0 168.6566,-18\"/>\n",
       "<text text-anchor=\"middle\" x=\"148.7808\" y=\"-6\" font-family=\"sans\" font-size=\"10.00\" fill=\"#000000\">Ваня</text>\n",
       "</g>\n",
       "<!-- 15&#45;&gt;16 -->\n",
       "<g id=\"edge17\" class=\"edge\">\n",
       "<title>15&#45;&gt;16</title>\n",
       "<path fill=\"none\" stroke=\"#c0c0c0\" d=\"M148.7808,-25.9065C148.7808,-24.5226 148.7808,-23.0737 148.7808,-21.6308\"/>\n",
       "<polygon fill=\"#c0c0c0\" stroke=\"#c0c0c0\" points=\"149.8309,-21.3085 148.7808,-18.3086 147.7309,-21.3086 149.8309,-21.3085\"/>\n",
       "</g>\n",
       "</g>\n",
       "</svg>\n"
      ],
      "text/plain": [
       "Graph(nodes=[...], edges=[...])"
      ]
     },
     "execution_count": 22,
     "metadata": {},
     "output_type": "execute_result"
    }
   ],
   "source": [
    "from yargy import not_\n",
    "\n",
    "\n",
    "Item = fact(\n",
    "    'Item',\n",
    "    [attribute('titles').repeatable()]\n",
    ")\n",
    "\n",
    "TITLE = rule(\n",
    "    '«',\n",
    "    not_(eq('»')).repeatable(),\n",
    "    '»'\n",
    ")\n",
    "ITEM = rule(\n",
    "    TITLE.interpretation(\n",
    "        Item.titles\n",
    "    ),\n",
    "    eq(',').optional()\n",
    ").repeatable().interpretation(\n",
    "    Item\n",
    ")\n",
    "\n",
    "parser = Parser(ITEM)\n",
    "text = '«Каштанка», «Дядя Ваня»'\n",
    "match = parser.match(text)\n",
    "match.tree.as_dot"
   ]
  },
  {
   "cell_type": "markdown",
   "metadata": {},
   "source": [
    "«Дядя Ваня» не перезапишет «Каштанка», они оба окажутся в `Item.titles`:"
   ]
  },
  {
   "cell_type": "code",
   "execution_count": 23,
   "metadata": {},
   "outputs": [
    {
     "data": {
      "text/plain": [
       "Item(\n",
       "    titles=['«Каштанка»',\n",
       "     '«Дядя Ваня»']\n",
       ")"
      ]
     },
     "execution_count": 23,
     "metadata": {},
     "output_type": "execute_result"
    }
   ],
   "source": [
    "match.fact"
   ]
  },
  {
   "cell_type": "markdown",
   "metadata": {},
   "source": [
    "Остался последний неочевидный случай, когда ребёнок вершины-конструктора, другая вершина-конструктор. Такая ситуация возникает при использовании рекурсивных грамматик. В примере ребёнок вершины `Item` другая вершина `Item`:"
   ]
  },
  {
   "cell_type": "code",
   "execution_count": 24,
   "metadata": {},
   "outputs": [
    {
     "data": {
      "image/svg+xml": [
       "<?xml version=\"1.0\" encoding=\"UTF-8\" standalone=\"no\"?>\n",
       "<!DOCTYPE svg PUBLIC \"-//W3C//DTD SVG 1.1//EN\"\n",
       " \"http://www.w3.org/Graphics/SVG/1.1/DTD/svg11.dtd\">\n",
       "<!-- Generated by graphviz version 2.40.1 (20161225.0304)\n",
       " -->\n",
       "<!-- Title: G Pages: 1 -->\n",
       "<svg width=\"198pt\" height=\"208pt\"\n",
       " viewBox=\"0.00 0.00 197.63 208.00\" xmlns=\"http://www.w3.org/2000/svg\" xmlns:xlink=\"http://www.w3.org/1999/xlink\">\n",
       "<g id=\"graph0\" class=\"graph\" transform=\"scale(1 1) rotate(0) translate(4 204)\">\n",
       "<title>G</title>\n",
       "<polygon fill=\"#ffffff\" stroke=\"transparent\" points=\"-4,4 -4,-204 193.6279,-204 193.6279,4 -4,4\"/>\n",
       "<!-- 0 -->\n",
       "<g id=\"node1\" class=\"node\">\n",
       "<title>0</title>\n",
       "<polygon fill=\"#dbdb8d\" stroke=\"transparent\" points=\"83.7319,-200 47.8296,-200 47.8296,-182 83.7319,-182 83.7319,-200\"/>\n",
       "<text text-anchor=\"middle\" x=\"65.7808\" y=\"-188\" font-family=\"sans\" font-size=\"10.00\" fill=\"#000000\">Item</text>\n",
       "</g>\n",
       "<!-- 1 -->\n",
       "<g id=\"node2\" class=\"node\">\n",
       "<title>1</title>\n",
       "<polygon fill=\"#aec7e8\" stroke=\"transparent\" points=\"80.0648,-174 51.4967,-174 51.4967,-156 80.0648,-156 80.0648,-174\"/>\n",
       "<text text-anchor=\"middle\" x=\"65.7808\" y=\"-162\" font-family=\"sans\" font-size=\"10.00\" fill=\"#000000\">R1</text>\n",
       "</g>\n",
       "<!-- 0&#45;&gt;1 -->\n",
       "<g id=\"edge1\" class=\"edge\">\n",
       "<title>0&#45;&gt;1</title>\n",
       "<path fill=\"none\" stroke=\"#c0c0c0\" d=\"M65.7808,-181.9065C65.7808,-180.5226 65.7808,-179.0737 65.7808,-177.6308\"/>\n",
       "<polygon fill=\"#c0c0c0\" stroke=\"#c0c0c0\" points=\"66.8309,-177.3085 65.7808,-174.3086 64.7309,-177.3086 66.8309,-177.3085\"/>\n",
       "</g>\n",
       "<!-- 2 -->\n",
       "<g id=\"node3\" class=\"node\">\n",
       "<title>2</title>\n",
       "<polygon fill=\"#dbdb8d\" stroke=\"transparent\" points=\"59.7319,-148 23.8296,-148 23.8296,-130 59.7319,-130 59.7319,-148\"/>\n",
       "<text text-anchor=\"middle\" x=\"41.7808\" y=\"-136\" font-family=\"sans\" font-size=\"10.00\" fill=\"#000000\">Item</text>\n",
       "</g>\n",
       "<!-- 1&#45;&gt;2 -->\n",
       "<g id=\"edge2\" class=\"edge\">\n",
       "<title>1&#45;&gt;2</title>\n",
       "<path fill=\"none\" stroke=\"#c0c0c0\" d=\"M57.3867,-155.9065C55.8255,-154.2151 54.1744,-152.4265 52.5536,-150.6705\"/>\n",
       "<polygon fill=\"#c0c0c0\" stroke=\"#c0c0c0\" points=\"53.1797,-149.8008 50.3733,-148.3086 51.6366,-151.2252 53.1797,-149.8008\"/>\n",
       "</g>\n",
       "<!-- 10 -->\n",
       "<g id=\"node11\" class=\"node\">\n",
       "<title>10</title>\n",
       "<polygon fill=\"#dbdb8d\" stroke=\"transparent\" points=\"120.471,-148 63.0905,-148 63.0905,-130 120.471,-130 120.471,-148\"/>\n",
       "<text text-anchor=\"middle\" x=\"91.7808\" y=\"-136\" font-family=\"sans\" font-size=\"10.00\" fill=\"#000000\">Item.date</text>\n",
       "</g>\n",
       "<!-- 1&#45;&gt;10 -->\n",
       "<g id=\"edge3\" class=\"edge\">\n",
       "<title>1&#45;&gt;10</title>\n",
       "<path fill=\"none\" stroke=\"#c0c0c0\" d=\"M74.8743,-155.9065C76.5657,-154.2151 78.3543,-152.4265 80.1102,-150.6705\"/>\n",
       "<polygon fill=\"#c0c0c0\" stroke=\"#c0c0c0\" points=\"81.0933,-151.1724 82.4722,-148.3086 79.6084,-149.6874 81.0933,-151.1724\"/>\n",
       "</g>\n",
       "<!-- 3 -->\n",
       "<g id=\"node4\" class=\"node\">\n",
       "<title>3</title>\n",
       "<polygon fill=\"#aec7e8\" stroke=\"transparent\" points=\"52.0648,-122 23.4967,-122 23.4967,-104 52.0648,-104 52.0648,-122\"/>\n",
       "<text text-anchor=\"middle\" x=\"37.7808\" y=\"-110\" font-family=\"sans\" font-size=\"10.00\" fill=\"#000000\">R1</text>\n",
       "</g>\n",
       "<!-- 2&#45;&gt;3 -->\n",
       "<g id=\"edge4\" class=\"edge\">\n",
       "<title>2&#45;&gt;3</title>\n",
       "<path fill=\"none\" stroke=\"#c0c0c0\" d=\"M40.3818,-129.9065C40.1689,-128.5226 39.9459,-127.0737 39.724,-125.6308\"/>\n",
       "<polygon fill=\"#c0c0c0\" stroke=\"#c0c0c0\" points=\"40.7069,-125.114 39.2128,-122.3086 38.6313,-125.4334 40.7069,-125.114\"/>\n",
       "</g>\n",
       "<!-- 4 -->\n",
       "<g id=\"node5\" class=\"node\">\n",
       "<title>4</title>\n",
       "<polygon fill=\"#dbdb8d\" stroke=\"transparent\" points=\"63.5693,-96 9.9923,-96 9.9923,-78 63.5693,-78 63.5693,-96\"/>\n",
       "<text text-anchor=\"middle\" x=\"36.7808\" y=\"-84\" font-family=\"sans\" font-size=\"10.00\" fill=\"#000000\">Item.title</text>\n",
       "</g>\n",
       "<!-- 3&#45;&gt;4 -->\n",
       "<g id=\"edge5\" class=\"edge\">\n",
       "<title>3&#45;&gt;4</title>\n",
       "<path fill=\"none\" stroke=\"#c0c0c0\" d=\"M37.431,-103.9065C37.3778,-102.5226 37.3221,-101.0737 37.2666,-99.6308\"/>\n",
       "<polygon fill=\"#c0c0c0\" stroke=\"#c0c0c0\" points=\"38.3034,-99.266 37.1388,-96.3086 36.2049,-99.3467 38.3034,-99.266\"/>\n",
       "</g>\n",
       "<!-- 5 -->\n",
       "<g id=\"node6\" class=\"node\">\n",
       "<title>5</title>\n",
       "<polygon fill=\"#aec7e8\" stroke=\"transparent\" points=\"51.0648,-70 22.4967,-70 22.4967,-52 51.0648,-52 51.0648,-70\"/>\n",
       "<text text-anchor=\"middle\" x=\"36.7808\" y=\"-58\" font-family=\"sans\" font-size=\"10.00\" fill=\"#000000\">R3</text>\n",
       "</g>\n",
       "<!-- 4&#45;&gt;5 -->\n",
       "<g id=\"edge6\" class=\"edge\">\n",
       "<title>4&#45;&gt;5</title>\n",
       "<path fill=\"none\" stroke=\"#c0c0c0\" d=\"M36.7808,-77.9065C36.7808,-76.5226 36.7808,-75.0737 36.7808,-73.6308\"/>\n",
       "<polygon fill=\"#c0c0c0\" stroke=\"#c0c0c0\" points=\"37.8309,-73.3085 36.7808,-70.3086 35.7309,-73.3086 37.8309,-73.3085\"/>\n",
       "</g>\n",
       "<!-- 6 -->\n",
       "<g id=\"node7\" class=\"node\">\n",
       "<title>6</title>\n",
       "<polygon fill=\"#eeeeee\" stroke=\"transparent\" points=\"21.3467,-44 .2149,-44 .2149,-26 21.3467,-26 21.3467,-44\"/>\n",
       "<text text-anchor=\"middle\" x=\"10.7808\" y=\"-32\" font-family=\"sans\" font-size=\"10.00\" fill=\"#000000\">«</text>\n",
       "</g>\n",
       "<!-- 5&#45;&gt;6 -->\n",
       "<g id=\"edge7\" class=\"edge\">\n",
       "<title>5&#45;&gt;6</title>\n",
       "<path fill=\"none\" stroke=\"#c0c0c0\" d=\"M27.6872,-51.9065C25.9959,-50.2151 24.2072,-48.4265 22.4513,-46.6705\"/>\n",
       "<polygon fill=\"#c0c0c0\" stroke=\"#c0c0c0\" points=\"22.9532,-45.6874 20.0893,-44.3086 21.4682,-47.1724 22.9532,-45.6874\"/>\n",
       "</g>\n",
       "<!-- 7 -->\n",
       "<g id=\"node8\" class=\"node\">\n",
       "<title>7</title>\n",
       "<polygon fill=\"#aec7e8\" stroke=\"transparent\" points=\"51.0648,-44 22.4967,-44 22.4967,-26 51.0648,-26 51.0648,-44\"/>\n",
       "<text text-anchor=\"middle\" x=\"36.7808\" y=\"-32\" font-family=\"sans\" font-size=\"10.00\" fill=\"#000000\">R5</text>\n",
       "</g>\n",
       "<!-- 5&#45;&gt;7 -->\n",
       "<g id=\"edge8\" class=\"edge\">\n",
       "<title>5&#45;&gt;7</title>\n",
       "<path fill=\"none\" stroke=\"#c0c0c0\" d=\"M36.7808,-51.9065C36.7808,-50.5226 36.7808,-49.0737 36.7808,-47.6308\"/>\n",
       "<polygon fill=\"#c0c0c0\" stroke=\"#c0c0c0\" points=\"37.8309,-47.3085 36.7808,-44.3086 35.7309,-47.3086 37.8309,-47.3085\"/>\n",
       "</g>\n",
       "<!-- 9 -->\n",
       "<g id=\"node10\" class=\"node\">\n",
       "<title>9</title>\n",
       "<polygon fill=\"#eeeeee\" stroke=\"transparent\" points=\"73.3467,-44 52.2149,-44 52.2149,-26 73.3467,-26 73.3467,-44\"/>\n",
       "<text text-anchor=\"middle\" x=\"62.7808\" y=\"-32\" font-family=\"sans\" font-size=\"10.00\" fill=\"#000000\">»</text>\n",
       "</g>\n",
       "<!-- 5&#45;&gt;9 -->\n",
       "<g id=\"edge9\" class=\"edge\">\n",
       "<title>5&#45;&gt;9</title>\n",
       "<path fill=\"none\" stroke=\"#c0c0c0\" d=\"M45.8743,-51.9065C47.5657,-50.2151 49.3543,-48.4265 51.1102,-46.6705\"/>\n",
       "<polygon fill=\"#c0c0c0\" stroke=\"#c0c0c0\" points=\"52.0933,-47.1724 53.4722,-44.3086 50.6084,-45.6874 52.0933,-47.1724\"/>\n",
       "</g>\n",
       "<!-- 8 -->\n",
       "<g id=\"node9\" class=\"node\">\n",
       "<title>8</title>\n",
       "<polygon fill=\"#eeeeee\" stroke=\"transparent\" points=\"68.4539,-18 5.1077,-18 5.1077,0 68.4539,0 68.4539,-18\"/>\n",
       "<text text-anchor=\"middle\" x=\"36.7808\" y=\"-6\" font-family=\"sans\" font-size=\"10.00\" fill=\"#000000\">Каштанка</text>\n",
       "</g>\n",
       "<!-- 7&#45;&gt;8 -->\n",
       "<g id=\"edge10\" class=\"edge\">\n",
       "<title>7&#45;&gt;8</title>\n",
       "<path fill=\"none\" stroke=\"#c0c0c0\" d=\"M36.7808,-25.9065C36.7808,-24.5226 36.7808,-23.0737 36.7808,-21.6308\"/>\n",
       "<polygon fill=\"#c0c0c0\" stroke=\"#c0c0c0\" points=\"37.8309,-21.3085 36.7808,-18.3086 35.7309,-21.3086 37.8309,-21.3085\"/>\n",
       "</g>\n",
       "<!-- 11 -->\n",
       "<g id=\"node12\" class=\"node\">\n",
       "<title>11</title>\n",
       "<polygon fill=\"#dbdb8d\" stroke=\"transparent\" points=\"111.404,-122 74.1575,-122 74.1575,-104 111.404,-104 111.404,-122\"/>\n",
       "<text text-anchor=\"middle\" x=\"92.7808\" y=\"-110\" font-family=\"sans\" font-size=\"10.00\" fill=\"#000000\">Date</text>\n",
       "</g>\n",
       "<!-- 10&#45;&gt;11 -->\n",
       "<g id=\"edge11\" class=\"edge\">\n",
       "<title>10&#45;&gt;11</title>\n",
       "<path fill=\"none\" stroke=\"#c0c0c0\" d=\"M92.1305,-129.9065C92.1837,-128.5226 92.2395,-127.0737 92.295,-125.6308\"/>\n",
       "<polygon fill=\"#c0c0c0\" stroke=\"#c0c0c0\" points=\"93.3566,-125.3467 92.4227,-122.3086 91.2581,-125.266 93.3566,-125.3467\"/>\n",
       "</g>\n",
       "<!-- 12 -->\n",
       "<g id=\"node13\" class=\"node\">\n",
       "<title>12</title>\n",
       "<polygon fill=\"#dbdb8d\" stroke=\"transparent\" points=\"120.8052,-96 64.7563,-96 64.7563,-78 120.8052,-78 120.8052,-96\"/>\n",
       "<text text-anchor=\"middle\" x=\"92.7808\" y=\"-84\" font-family=\"sans\" font-size=\"10.00\" fill=\"#000000\">Date.day</text>\n",
       "</g>\n",
       "<!-- 11&#45;&gt;12 -->\n",
       "<g id=\"edge12\" class=\"edge\">\n",
       "<title>11&#45;&gt;12</title>\n",
       "<path fill=\"none\" stroke=\"#c0c0c0\" d=\"M92.7808,-103.9065C92.7808,-102.5226 92.7808,-101.0737 92.7808,-99.6308\"/>\n",
       "<polygon fill=\"#c0c0c0\" stroke=\"#c0c0c0\" points=\"93.8309,-99.3085 92.7808,-96.3086 91.7309,-99.3086 93.8309,-99.3085\"/>\n",
       "</g>\n",
       "<!-- 14 -->\n",
       "<g id=\"node15\" class=\"node\">\n",
       "<title>14</title>\n",
       "<polygon fill=\"#dbdb8d\" stroke=\"transparent\" points=\"189.4758,-96 122.0857,-96 122.0857,-78 189.4758,-78 189.4758,-96\"/>\n",
       "<text text-anchor=\"middle\" x=\"155.7808\" y=\"-84\" font-family=\"sans\" font-size=\"10.00\" fill=\"#000000\">Date.month</text>\n",
       "</g>\n",
       "<!-- 11&#45;&gt;14 -->\n",
       "<g id=\"edge13\" class=\"edge\">\n",
       "<title>11&#45;&gt;14</title>\n",
       "<path fill=\"none\" stroke=\"#c0c0c0\" d=\"M111.6828,-105.1991C117.6631,-102.7311 124.3687,-99.9637 130.7111,-97.3462\"/>\n",
       "<polygon fill=\"#c0c0c0\" stroke=\"#c0c0c0\" points=\"131.4181,-98.1904 133.7906,-96.0753 130.6169,-96.2492 131.4181,-98.1904\"/>\n",
       "</g>\n",
       "<!-- 13 -->\n",
       "<g id=\"node14\" class=\"node\">\n",
       "<title>13</title>\n",
       "<polygon fill=\"#eeeeee\" stroke=\"transparent\" points=\"106.4041,-70 79.1574,-70 79.1574,-52 106.4041,-52 106.4041,-70\"/>\n",
       "<text text-anchor=\"middle\" x=\"92.7808\" y=\"-58\" font-family=\"sans\" font-size=\"10.00\" fill=\"#000000\">18</text>\n",
       "</g>\n",
       "<!-- 12&#45;&gt;13 -->\n",
       "<g id=\"edge14\" class=\"edge\">\n",
       "<title>12&#45;&gt;13</title>\n",
       "<path fill=\"none\" stroke=\"#c0c0c0\" d=\"M92.7808,-77.9065C92.7808,-76.5226 92.7808,-75.0737 92.7808,-73.6308\"/>\n",
       "<polygon fill=\"#c0c0c0\" stroke=\"#c0c0c0\" points=\"93.8309,-73.3085 92.7808,-70.3086 91.7309,-73.3086 93.8309,-73.3085\"/>\n",
       "</g>\n",
       "<!-- 15 -->\n",
       "<g id=\"node16\" class=\"node\">\n",
       "<title>15</title>\n",
       "<polygon fill=\"#eeeeee\" stroke=\"transparent\" points=\"176.0373,-70 135.5242,-70 135.5242,-52 176.0373,-52 176.0373,-70\"/>\n",
       "<text text-anchor=\"middle\" x=\"155.7808\" y=\"-58\" font-family=\"sans\" font-size=\"10.00\" fill=\"#000000\">июня</text>\n",
       "</g>\n",
       "<!-- 14&#45;&gt;15 -->\n",
       "<g id=\"edge15\" class=\"edge\">\n",
       "<title>14&#45;&gt;15</title>\n",
       "<path fill=\"none\" stroke=\"#c0c0c0\" d=\"M155.7808,-77.9065C155.7808,-76.5226 155.7808,-75.0737 155.7808,-73.6308\"/>\n",
       "<polygon fill=\"#c0c0c0\" stroke=\"#c0c0c0\" points=\"156.8309,-73.3085 155.7808,-70.3086 154.7309,-73.3086 156.8309,-73.3085\"/>\n",
       "</g>\n",
       "</g>\n",
       "</svg>\n"
      ],
      "text/plain": [
       "Graph(nodes=[...], edges=[...])"
      ]
     },
     "execution_count": 24,
     "metadata": {},
     "output_type": "execute_result"
    }
   ],
   "source": [
    "from yargy import forward, or_\n",
    "\n",
    "Item = fact(\n",
    "    'Item',\n",
    "    ['title', 'date']\n",
    ")\n",
    "\n",
    "ITEM = forward().interpretation(\n",
    "    Item\n",
    ")\n",
    "ITEM.define(or_(\n",
    "    TITLE.interpretation(\n",
    "        Item.title\n",
    "    ),\n",
    "    rule(ITEM, TITLE),\n",
    "    rule(\n",
    "        ITEM,\n",
    "        DATE.interpretation(\n",
    "            Item.date\n",
    "        )\n",
    "    )\n",
    "))\n",
    "\n",
    "parser = Parser(ITEM)\n",
    "text = '«Каштанка» 18 июня'\n",
    "match = parser.match(text)\n",
    "match.tree.as_dot"
   ]
  },
  {
   "cell_type": "markdown",
   "metadata": {},
   "source": [
    "В ходе интерпретации появится два объекта: `Item(title='«Каштанка»', date=None)` и `Item(title=None, date=Date('18', 'июня'))`. В конце произойдёт слияние:"
   ]
  },
  {
   "cell_type": "code",
   "execution_count": 25,
   "metadata": {},
   "outputs": [
    {
     "data": {
      "text/plain": [
       "Item(\n",
       "    title='«Каштанка»',\n",
       "    date=Date(\n",
       "        year=2017,\n",
       "        month='июня',\n",
       "        day='18'\n",
       "    )\n",
       ")"
      ]
     },
     "execution_count": 25,
     "metadata": {},
     "output_type": "execute_result"
    }
   ],
   "source": [
    "match.fact"
   ]
  },
  {
   "cell_type": "markdown",
   "metadata": {},
   "source": [
    "## Нормализация"
   ]
  },
  {
   "cell_type": "markdown",
   "metadata": {},
   "source": [
    "В Yargy реализованы четыре основных метода для нормализации: `normalized`, `inflected`, `custom` и `const`. `normalized` возвращает нормальную форму слова, соответствует `normal_form` в Pymorphy2:"
   ]
  },
  {
   "cell_type": "code",
   "execution_count": 26,
   "metadata": {},
   "outputs": [
    {
     "data": {
      "text/plain": [
       "Date(\n",
       "    year='2015',\n",
       "    month='июня',\n",
       "    day='8'\n",
       ")"
      ]
     },
     "execution_count": 26,
     "metadata": {},
     "output_type": "execute_result"
    }
   ],
   "source": [
    "DATE = rule(\n",
    "    DAY.interpretation(\n",
    "        Date.day\n",
    "    ),\n",
    "    MONTH_NAME.interpretation(\n",
    "        Date.month\n",
    "    ),\n",
    "    YEAR.interpretation(\n",
    "        Date.year\n",
    "    )\n",
    ").interpretation(\n",
    "    Date\n",
    ")\n",
    "\n",
    "parser = Parser(DATE)\n",
    "match = parser.match('8 июня 2015')\n",
    "match.fact"
   ]
  },
  {
   "cell_type": "markdown",
   "metadata": {},
   "source": [
    "С `normalized` слово \"июня\" меняется на \"июнь\":"
   ]
  },
  {
   "cell_type": "code",
   "execution_count": 27,
   "metadata": {},
   "outputs": [
    {
     "data": {
      "text/plain": [
       "Date(\n",
       "    year='2015',\n",
       "    month='июнь',\n",
       "    day='8'\n",
       ")"
      ]
     },
     "execution_count": 27,
     "metadata": {},
     "output_type": "execute_result"
    }
   ],
   "source": [
    "DATE = rule(\n",
    "    DAY.interpretation(\n",
    "        Date.day\n",
    "    ),\n",
    "    MONTH_NAME.interpretation(\n",
    "        Date.month.normalized()\n",
    "    ),\n",
    "    YEAR.interpretation(\n",
    "        Date.year\n",
    "    )\n",
    ").interpretation(\n",
    "    Date\n",
    ")\n",
    "\n",
    "parser = Parser(DATE)\n",
    "match = parser.match('8 июня 2015')\n",
    "match.fact"
   ]
  },
  {
   "cell_type": "markdown",
   "metadata": {},
   "source": [
    "Если в `normalized` попадает несколько токенов, каждый приводится к нормальной форме без согласования:"
   ]
  },
  {
   "cell_type": "code",
   "execution_count": 28,
   "metadata": {},
   "outputs": [
    {
     "data": {
      "text/plain": [
       "Geo(\n",
       "    name='красный площадь'\n",
       ")"
      ]
     },
     "metadata": {},
     "output_type": "display_data"
    }
   ],
   "source": [
    "from yargy.interpretation import fact\n",
    "from yargy.predicates import normalized\n",
    "from IPython.display import display\n",
    "\n",
    "\n",
    "Geo = fact(\n",
    "    'Geo',\n",
    "    ['name']\n",
    ")\n",
    "\n",
    "RULE = rule(\n",
    "    normalized('Красная'),\n",
    "    normalized('площадь')\n",
    ").interpretation(\n",
    "    Geo.name.normalized()\n",
    ").interpretation(\n",
    "    Geo\n",
    ")\n",
    "\n",
    "parser = Parser(RULE)\n",
    "for match in parser.findall('на Красной площади'):\n",
    "    display(match.fact)"
   ]
  },
  {
   "cell_type": "markdown",
   "metadata": {},
   "source": [
    "Особым образом ведёт себя `normalized`, когда идёт после газеттира. Результат нормализации — ключ газеттира:"
   ]
  },
  {
   "cell_type": "code",
   "execution_count": 29,
   "metadata": {},
   "outputs": [
    {
     "data": {
      "text/plain": [
       "Geo(\n",
       "    name='красная площадь'\n",
       ")"
      ]
     },
     "metadata": {},
     "output_type": "display_data"
    },
    {
     "data": {
      "text/plain": [
       "Geo(\n",
       "    name='первомайская улица'\n",
       ")"
      ]
     },
     "metadata": {},
     "output_type": "display_data"
    }
   ],
   "source": [
    "from yargy.pipelines import morph_pipeline\n",
    "\n",
    "RULE = morph_pipeline([\n",
    "    'красная площадь',\n",
    "    'первомайская улица'\n",
    "]).interpretation(\n",
    "    Geo.name.normalized()\n",
    ").interpretation(\n",
    "    Geo\n",
    ")\n",
    "\n",
    "parser = Parser(RULE)\n",
    "for match in parser.findall('c Красной площади на Первомайскую улицу'):\n",
    "    display(match.fact)"
   ]
  },
  {
   "cell_type": "markdown",
   "metadata": {},
   "source": [
    "`inflected` склоняет слово, соответствует методу `inflect` в Pymorphy2:"
   ]
  },
  {
   "cell_type": "code",
   "execution_count": 30,
   "metadata": {},
   "outputs": [
    {
     "data": {
      "text/plain": [
       "Name(\n",
       "    first='саша'\n",
       ")"
      ]
     },
     "metadata": {},
     "output_type": "display_data"
    },
    {
     "data": {
      "text/plain": [
       "Name(\n",
       "    first='маша'\n",
       ")"
      ]
     },
     "metadata": {},
     "output_type": "display_data"
    },
    {
     "data": {
      "text/plain": [
       "Name(\n",
       "    first='вадим'\n",
       ")"
      ]
     },
     "metadata": {},
     "output_type": "display_data"
    }
   ],
   "source": [
    "from yargy.interpretation import fact\n",
    "from yargy.predicates import gram\n",
    "\n",
    "Name = fact(\n",
    "    'Name',\n",
    "    ['first']\n",
    ")\n",
    "\n",
    "NAME = gram('Name').interpretation(\n",
    "    Name.first.inflected()\n",
    ").interpretation(\n",
    "    Name\n",
    ")\n",
    "\n",
    "parser = Parser(NAME)\n",
    "for match in parser.findall('Саше, Маше, Вадиму'):\n",
    "    display(match.fact)"
   ]
  },
  {
   "cell_type": "markdown",
   "metadata": {},
   "source": [
    "`inflected` принимает набор граммем:"
   ]
  },
  {
   "cell_type": "code",
   "execution_count": 31,
   "metadata": {},
   "outputs": [
    {
     "data": {
      "text/plain": [
       "Name(\n",
       "    first='саш'\n",
       ")"
      ]
     },
     "metadata": {},
     "output_type": "display_data"
    },
    {
     "data": {
      "text/plain": [
       "Name(\n",
       "    first='маш'\n",
       ")"
      ]
     },
     "metadata": {},
     "output_type": "display_data"
    },
    {
     "data": {
      "text/plain": [
       "Name(\n",
       "    first='вадимов'\n",
       ")"
      ]
     },
     "metadata": {},
     "output_type": "display_data"
    }
   ],
   "source": [
    "NAME = gram('Name').interpretation(\n",
    "    Name.first.inflected({'accs', 'plur'})  # винительный падеж, множественное число\n",
    ").interpretation(\n",
    "    Name\n",
    ")\n",
    "\n",
    "parser = Parser(NAME)\n",
    "for match in parser.findall('Саша, Маша, Вадим'):\n",
    "    display(match.fact)"
   ]
  },
  {
   "cell_type": "markdown",
   "metadata": {},
   "source": [
    "`custom` применяет к слову произвольную функцию:"
   ]
  },
  {
   "cell_type": "code",
   "execution_count": 32,
   "metadata": {},
   "outputs": [
    {
     "data": {
      "text/plain": [
       "Float(\n",
       "    value=3.1415\n",
       ")"
      ]
     },
     "execution_count": 32,
     "metadata": {},
     "output_type": "execute_result"
    }
   ],
   "source": [
    "from yargy.interpretation import fact\n",
    "from yargy.predicates import type\n",
    "\n",
    "Float = fact(\n",
    "    'Float',\n",
    "    ['value']\n",
    ")\n",
    "\n",
    "\n",
    "INT = type('INT')\n",
    "FLOAT = rule(\n",
    "    INT,\n",
    "    '.',\n",
    "    INT\n",
    ").interpretation(\n",
    "    Float.value.custom(float)\n",
    ").interpretation(\n",
    "    Float\n",
    ")\n",
    "\n",
    "parser = Parser(FLOAT)\n",
    "match = parser.match('3.1415')\n",
    "match.fact"
   ]
  },
  {
   "cell_type": "markdown",
   "metadata": {},
   "source": [
    "`custom` может применяться вместе с `normalized`. Тогда слово начала ставится в нормальную форму, потом к нему применяется функция:"
   ]
  },
  {
   "cell_type": "code",
   "execution_count": 33,
   "metadata": {},
   "outputs": [
    {
     "data": {
      "text/plain": [
       "Date(\n",
       "    year=2015,\n",
       "    month=6,\n",
       "    day=8\n",
       ")"
      ]
     },
     "execution_count": 33,
     "metadata": {},
     "output_type": "execute_result"
    }
   ],
   "source": [
    "MONTHS = {\n",
    "    'январь': 1,\n",
    "    'февраль': 2,\n",
    "    'март': 3,\n",
    "    'апрель': 4,\n",
    "    'мая': 5,\n",
    "    'июнь': 6,\n",
    "    'июль': 7,\n",
    "    'август': 8,\n",
    "    'сентябрь': 9,\n",
    "    'октябрь': 10,\n",
    "    'ноябрь': 11,\n",
    "    'декабрь': 12\n",
    "}\n",
    "\n",
    "DATE = rule(\n",
    "    DAY.interpretation(\n",
    "        Date.day.custom(int)\n",
    "    ),\n",
    "    MONTH_NAME.interpretation(\n",
    "        Date.month.normalized().custom(MONTHS.__getitem__)\n",
    "    ),\n",
    "    YEAR.interpretation(\n",
    "        Date.year.custom(int)\n",
    "    )\n",
    ").interpretation(\n",
    "    Date\n",
    ")\n",
    "\n",
    "parser = Parser(DATE)\n",
    "match = parser.match('8 июня 2015')\n",
    "match.fact"
   ]
  },
  {
   "cell_type": "markdown",
   "metadata": {},
   "source": [
    "`const` просто заменяет слово или словосочетания фиксированным значением:"
   ]
  },
  {
   "cell_type": "code",
   "execution_count": 34,
   "metadata": {},
   "outputs": [
    {
     "data": {
      "text/plain": [
       "Era(\n",
       "    value='AD'\n",
       ")"
      ]
     },
     "metadata": {},
     "output_type": "display_data"
    },
    {
     "data": {
      "text/plain": [
       "Era(\n",
       "    value='BC'\n",
       ")"
      ]
     },
     "metadata": {},
     "output_type": "display_data"
    }
   ],
   "source": [
    "Era = fact(\n",
    "    'Era',\n",
    "    ['value']\n",
    ")\n",
    "\n",
    "BC = morph_pipeline([\n",
    "    'до нашей эры',\n",
    "    'до н.э.'\n",
    "]).interpretation(\n",
    "    Era.value.const('BC')\n",
    ")\n",
    "AD = morph_pipeline([\n",
    "    'наша эра',\n",
    "    'н.э.'\n",
    "]).interpretation(\n",
    "    Era.value.const('AD')\n",
    ")\n",
    "ERA = or_(\n",
    "    BC,\n",
    "    AD\n",
    ").interpretation(\n",
    "    Era\n",
    ")\n",
    "\n",
    "parser = Parser(ERA)\n",
    "for match in parser.findall('наша эра, до н.э.'):\n",
    "    display(match.fact)"
   ]
  },
  {
   "cell_type": "markdown",
   "metadata": {},
   "source": [
    "## Согласование"
   ]
  },
  {
   "cell_type": "markdown",
   "metadata": {},
   "source": [
    "В Yargy реализовано четыре типа согласований: `gender_relation` — согласование по роду, `number_relation` — по числу, `case_relation` — по падежу, `gnc_relation` — по роду, числу и падежу. Метод `match` указывает согласование:"
   ]
  },
  {
   "cell_type": "code",
   "execution_count": 35,
   "metadata": {},
   "outputs": [
    {
     "data": {
      "text/plain": [
       "Name(\n",
       "    first='саша',\n",
       "    last='иванова'\n",
       ")"
      ]
     },
     "metadata": {},
     "output_type": "display_data"
    },
    {
     "data": {
      "image/svg+xml": [
       "<?xml version=\"1.0\" encoding=\"UTF-8\" standalone=\"no\"?>\n",
       "<!DOCTYPE svg PUBLIC \"-//W3C//DTD SVG 1.1//EN\"\n",
       " \"http://www.w3.org/Graphics/SVG/1.1/DTD/svg11.dtd\">\n",
       "<!-- Generated by graphviz version 2.40.1 (20161225.0304)\n",
       " -->\n",
       "<!-- Title: G Pages: 1 -->\n",
       "<svg width=\"277pt\" height=\"138pt\"\n",
       " viewBox=\"0.00 0.00 276.70 138.00\" xmlns=\"http://www.w3.org/2000/svg\" xmlns:xlink=\"http://www.w3.org/1999/xlink\">\n",
       "<g id=\"graph0\" class=\"graph\" transform=\"scale(1 1) rotate(0) translate(4 134)\">\n",
       "<title>G</title>\n",
       "<polygon fill=\"#ffffff\" stroke=\"transparent\" points=\"-4,4 -4,-134 272.7041,-134 272.7041,4 -4,4\"/>\n",
       "<!-- 0 -->\n",
       "<g id=\"node1\" class=\"node\">\n",
       "<title>0</title>\n",
       "<polygon fill=\"#dbdb8d\" stroke=\"transparent\" points=\"155.1648,-130 112.8127,-130 112.8127,-112 155.1648,-112 155.1648,-130\"/>\n",
       "<text text-anchor=\"middle\" x=\"133.9888\" y=\"-118\" font-family=\"sans\" font-size=\"10.00\" fill=\"#000000\">Name</text>\n",
       "</g>\n",
       "<!-- 1 -->\n",
       "<g id=\"node2\" class=\"node\">\n",
       "<title>1</title>\n",
       "<polygon fill=\"#dbdb8d\" stroke=\"transparent\" points=\"177.9663,-95 .0112,-95 .0112,-77 177.9663,-77 177.9663,-95\"/>\n",
       "<text text-anchor=\"middle\" x=\"88.9888\" y=\"-83\" font-family=\"sans\" font-size=\"10.00\" fill=\"#000000\">Name.first.inflected(sing, nomn)^gnc</text>\n",
       "</g>\n",
       "<!-- 0&#45;&gt;1 -->\n",
       "<g id=\"edge1\" class=\"edge\">\n",
       "<title>0&#45;&gt;1</title>\n",
       "<path fill=\"none\" stroke=\"#c0c0c0\" d=\"M122.1655,-111.8042C116.3325,-107.2673 109.2531,-101.7612 103.1344,-97.0022\"/>\n",
       "<polygon fill=\"#c0c0c0\" stroke=\"#c0c0c0\" points=\"103.5901,-96.0264 100.5774,-95.0134 102.3008,-97.6841 103.5901,-96.0264\"/>\n",
       "</g>\n",
       "<!-- 3 -->\n",
       "<g id=\"node4\" class=\"node\">\n",
       "<title>3</title>\n",
       "<polygon fill=\"#dbdb8d\" stroke=\"transparent\" points=\"268.92,-53 91.0576,-53 91.0576,-35 268.92,-35 268.92,-53\"/>\n",
       "<text text-anchor=\"middle\" x=\"179.9888\" y=\"-41\" font-family=\"sans\" font-size=\"10.00\" fill=\"#000000\">Name.last.inflected(sing, nomn)^gnc</text>\n",
       "</g>\n",
       "<!-- 0&#45;&gt;3 -->\n",
       "<g id=\"edge2\" class=\"edge\">\n",
       "<title>0&#45;&gt;3</title>\n",
       "<path fill=\"none\" stroke=\"#c0c0c0\" d=\"M155.3278,-112.282C162.7664,-108.1561 170.3944,-102.4653 174.9888,-95 182.1726,-83.3271 182.5207,-67.2331 181.6589,-56.2669\"/>\n",
       "<polygon fill=\"#c0c0c0\" stroke=\"#c0c0c0\" points=\"182.6821,-55.9287 181.3589,-53.0388 180.5911,-56.1232 182.6821,-55.9287\"/>\n",
       "</g>\n",
       "<!-- 2 -->\n",
       "<g id=\"node3\" class=\"node\">\n",
       "<title>2</title>\n",
       "<polygon fill=\"#eeeeee\" stroke=\"transparent\" points=\"90.5526,-53 49.425,-53 49.425,-35 90.5526,-35 90.5526,-53\"/>\n",
       "<text text-anchor=\"middle\" x=\"69.9888\" y=\"-41\" font-family=\"sans\" font-size=\"10.00\" fill=\"#000000\">Сашу</text>\n",
       "</g>\n",
       "<!-- 1&#45;&gt;2 -->\n",
       "<g id=\"edge3\" class=\"edge\">\n",
       "<title>1&#45;&gt;2</title>\n",
       "<path fill=\"none\" stroke=\"#c0c0c0\" d=\"M84.7721,-76.6788C82.0286,-70.6144 78.4233,-62.6447 75.4599,-56.094\"/>\n",
       "<polygon fill=\"#c0c0c0\" stroke=\"#c0c0c0\" points=\"76.2565,-55.3074 74.0633,-53.0068 74.3432,-56.173 76.2565,-55.3074\"/>\n",
       "</g>\n",
       "<!-- 1&#45;&gt;3 -->\n",
       "<g id=\"edge5\" class=\"edge\">\n",
       "<title>1&#45;&gt;3</title>\n",
       "<path fill=\"none\" stroke=\"#c0c0c0\" stroke-dasharray=\"5,2\" d=\"M108.7344,-76.8866C123.9982,-69.8418 145.0276,-60.1359 160.2817,-53.0956\"/>\n",
       "<text text-anchor=\"middle\" x=\"149.438\" y=\"-62.6\" font-family=\"sans\" font-size=\"8.00\" fill=\"#c0c0c0\">gnc</text>\n",
       "</g>\n",
       "<!-- 4 -->\n",
       "<g id=\"node5\" class=\"node\">\n",
       "<title>4</title>\n",
       "<polygon fill=\"#eeeeee\" stroke=\"transparent\" points=\"207.8522,-18 152.1253,-18 152.1253,0 207.8522,0 207.8522,-18\"/>\n",
       "<text text-anchor=\"middle\" x=\"179.9888\" y=\"-6\" font-family=\"sans\" font-size=\"10.00\" fill=\"#000000\">Иванову</text>\n",
       "</g>\n",
       "<!-- 3&#45;&gt;4 -->\n",
       "<g id=\"edge4\" class=\"edge\">\n",
       "<title>3&#45;&gt;4</title>\n",
       "<path fill=\"none\" stroke=\"#c0c0c0\" d=\"M179.9888,-34.8042C179.9888,-30.5914 179.9888,-25.5428 179.9888,-21.0328\"/>\n",
       "<polygon fill=\"#c0c0c0\" stroke=\"#c0c0c0\" points=\"181.0389,-21.0133 179.9888,-18.0134 178.9389,-21.0134 181.0389,-21.0133\"/>\n",
       "</g>\n",
       "</g>\n",
       "</svg>\n"
      ],
      "text/plain": [
       "Graph(nodes=[...], edges=[...])"
      ]
     },
     "metadata": {},
     "output_type": "display_data"
    }
   ],
   "source": [
    "from yargy.relations import gnc_relation\n",
    "\n",
    "Name = fact(\n",
    "    'Name',\n",
    "    ['first', 'last']\n",
    ")\n",
    "\n",
    "gnc = gnc_relation()\n",
    "\n",
    "NAME = rule(\n",
    "    gram('Name').interpretation(\n",
    "        Name.first.inflected()\n",
    "    ).match(gnc),\n",
    "    gram('Surn').interpretation(\n",
    "        Name.last.inflected()\n",
    "    ).match(gnc)\n",
    ").interpretation(\n",
    "    Name\n",
    ")\n",
    "\n",
    "parser = Parser(NAME)\n",
    "match = parser.match('Сашу Иванову')\n",
    "display(match.fact)\n",
    "display(match.tree.as_dot)"
   ]
  },
  {
   "cell_type": "markdown",
   "metadata": {},
   "source": [
    "`main` указывает на главное слово во фразе. По-умолчанию главное слово — самое левое:"
   ]
  },
  {
   "cell_type": "code",
   "execution_count": 36,
   "metadata": {},
   "outputs": [
    {
     "data": {
      "image/svg+xml": [
       "<?xml version=\"1.0\" encoding=\"UTF-8\" standalone=\"no\"?>\n",
       "<!DOCTYPE svg PUBLIC \"-//W3C//DTD SVG 1.1//EN\"\n",
       " \"http://www.w3.org/Graphics/SVG/1.1/DTD/svg11.dtd\">\n",
       "<!-- Generated by graphviz version 2.40.1 (20161225.0304)\n",
       " -->\n",
       "<!-- Title: G Pages: 1 -->\n",
       "<svg width=\"305pt\" height=\"78pt\"\n",
       " viewBox=\"0.00 0.00 305.36 78.00\" xmlns=\"http://www.w3.org/2000/svg\" xmlns:xlink=\"http://www.w3.org/1999/xlink\">\n",
       "<g id=\"graph0\" class=\"graph\" transform=\"scale(1 1) rotate(0) translate(4 74)\">\n",
       "<title>G</title>\n",
       "<polygon fill=\"#ffffff\" stroke=\"transparent\" points=\"-4,4 -4,-74 301.3584,-74 301.3584,4 -4,4\"/>\n",
       "<!-- 0 -->\n",
       "<g id=\"node1\" class=\"node\">\n",
       "<title>0</title>\n",
       "<polygon fill=\"#aec7e8\" stroke=\"transparent\" points=\"164.3512,-70 128.2133,-70 128.2133,-52 164.3512,-52 164.3512,-70\"/>\n",
       "<text text-anchor=\"middle\" x=\"146.2822\" y=\"-58\" font-family=\"sans\" font-size=\"10.00\" fill=\"#000000\">Rule</text>\n",
       "</g>\n",
       "<!-- 1 -->\n",
       "<g id=\"node2\" class=\"node\">\n",
       "<title>1</title>\n",
       "<polygon fill=\"#aec7e8\" stroke=\"transparent\" points=\"178.0901,-44 114.4743,-44 114.4743,-26 178.0901,-26 178.0901,-44\"/>\n",
       "<text text-anchor=\"middle\" x=\"146.2822\" y=\"-32\" font-family=\"sans\" font-size=\"10.00\" fill=\"#000000\">Production</text>\n",
       "</g>\n",
       "<!-- 0&#45;&gt;1 -->\n",
       "<g id=\"edge1\" class=\"edge\">\n",
       "<title>0&#45;&gt;1</title>\n",
       "<path fill=\"none\" stroke=\"#c0c0c0\" d=\"M146.2822,-51.9065C146.2822,-50.5226 146.2822,-49.0737 146.2822,-47.6308\"/>\n",
       "<polygon fill=\"#c0c0c0\" stroke=\"#c0c0c0\" points=\"147.3323,-47.3085 146.2822,-44.3086 145.2323,-47.3086 147.3323,-47.3085\"/>\n",
       "</g>\n",
       "<!-- 2 -->\n",
       "<g id=\"node3\" class=\"node\">\n",
       "<title>2</title>\n",
       "<polygon fill=\"#eeeeee\" stroke=\"transparent\" points=\"144.3473,-18 .2171,-18 .2171,0 144.3473,0 144.3473,-18\"/>\n",
       "<text text-anchor=\"middle\" x=\"72.2822\" y=\"-6\" font-family=\"sans\" font-size=\"10.00\" fill=\"#000000\">normalized(value=&#39;главный&#39;)</text>\n",
       "</g>\n",
       "<!-- 1&#45;&gt;2 -->\n",
       "<g id=\"edge2\" class=\"edge\">\n",
       "<title>1&#45;&gt;2</title>\n",
       "<path fill=\"none\" stroke=\"#c0c0c0\" d=\"M120.4006,-25.9065C114.1684,-23.7167 107.4721,-21.364 101.1145,-19.1303\"/>\n",
       "<polygon fill=\"#c0c0c0\" stroke=\"#c0c0c0\" points=\"101.2027,-18.0484 98.0243,-18.0445 100.5066,-20.0297 101.2027,-18.0484\"/>\n",
       "</g>\n",
       "<!-- 3 -->\n",
       "<g id=\"node4\" class=\"node\">\n",
       "<title>3</title>\n",
       "<polygon fill=\"#eeeeee\" stroke=\"transparent\" points=\"297.4346,-18 145.1298,-18 145.1298,0 297.4346,0 297.4346,-18\"/>\n",
       "<text text-anchor=\"middle\" x=\"221.2822\" y=\"-6\" font-family=\"sans\" font-size=\"10.00\" fill=\"#000000\">normalized(value=&#39;бухгалтер&#39;)</text>\n",
       "</g>\n",
       "<!-- 1&#45;&gt;3 -->\n",
       "<g id=\"edge3\" class=\"edge\">\n",
       "<title>1&#45;&gt;3</title>\n",
       "<path fill=\"none\" stroke=\"#888888\" d=\"M172.5136,-25.9065C178.8301,-23.7167 185.6168,-21.364 192.0603,-19.1303\"/>\n",
       "<polygon fill=\"#888888\" stroke=\"#888888\" points=\"192.7018,-20.0193 195.1923,-18.0445 192.0139,-18.0351 192.7018,-20.0193\"/>\n",
       "</g>\n",
       "</g>\n",
       "</svg>\n"
      ],
      "text/plain": [
       "Graph(nodes=[...], edges=[...])"
      ]
     },
     "execution_count": 36,
     "metadata": {},
     "output_type": "execute_result"
    }
   ],
   "source": [
    "from yargy.relations import main\n",
    "\n",
    "POSITION = rule(\n",
    "    normalized('главный'),\n",
    "    main(normalized('бухгалтер'))\n",
    ")\n",
    "\n",
    "POSITION.as_dot"
   ]
  },
  {
   "cell_type": "code",
   "execution_count": 37,
   "metadata": {},
   "outputs": [
    {
     "data": {
      "image/svg+xml": [
       "<?xml version=\"1.0\" encoding=\"UTF-8\" standalone=\"no\"?>\n",
       "<!DOCTYPE svg PUBLIC \"-//W3C//DTD SVG 1.1//EN\"\n",
       " \"http://www.w3.org/Graphics/SVG/1.1/DTD/svg11.dtd\">\n",
       "<!-- Generated by graphviz version 2.40.1 (20161225.0304)\n",
       " -->\n",
       "<!-- Title: G Pages: 1 -->\n",
       "<svg width=\"283pt\" height=\"215pt\"\n",
       " viewBox=\"0.00 0.00 283.48 215.00\" xmlns=\"http://www.w3.org/2000/svg\" xmlns:xlink=\"http://www.w3.org/1999/xlink\">\n",
       "<g id=\"graph0\" class=\"graph\" transform=\"scale(1 1) rotate(0) translate(4 211)\">\n",
       "<title>G</title>\n",
       "<polygon fill=\"#ffffff\" stroke=\"transparent\" points=\"-4,4 -4,-211 279.4771,-211 279.4771,4 -4,4\"/>\n",
       "<!-- 0 -->\n",
       "<g id=\"node1\" class=\"node\">\n",
       "<title>0</title>\n",
       "<polygon fill=\"#aec7e8\" stroke=\"transparent\" points=\"145.0457,-207 116.4777,-207 116.4777,-189 145.0457,-189 145.0457,-207\"/>\n",
       "<text text-anchor=\"middle\" x=\"130.7617\" y=\"-195\" font-family=\"sans\" font-size=\"10.00\" fill=\"#000000\">R0</text>\n",
       "</g>\n",
       "<!-- 1 -->\n",
       "<g id=\"node2\" class=\"node\">\n",
       "<title>1</title>\n",
       "<polygon fill=\"#aec7e8\" stroke=\"transparent\" points=\"143.8618,-172 89.6616,-172 89.6616,-154 143.8618,-154 143.8618,-172\"/>\n",
       "<text text-anchor=\"middle\" x=\"116.7617\" y=\"-160\" font-family=\"sans\" font-size=\"10.00\" fill=\"#000000\">R1^case</text>\n",
       "</g>\n",
       "<!-- 0&#45;&gt;1 -->\n",
       "<g id=\"edge1\" class=\"edge\">\n",
       "<title>0&#45;&gt;1</title>\n",
       "<path fill=\"none\" stroke=\"#c0c0c0\" d=\"M127.0834,-188.8042C125.3983,-184.5914 123.3788,-179.5428 121.5748,-175.0328\"/>\n",
       "<polygon fill=\"#c0c0c0\" stroke=\"#c0c0c0\" points=\"122.4562,-174.4088 120.3671,-172.0134 120.5064,-175.1888 122.4562,-174.4088\"/>\n",
       "</g>\n",
       "<!-- 4 -->\n",
       "<g id=\"node5\" class=\"node\">\n",
       "<title>4</title>\n",
       "<polygon fill=\"#dbdb8d\" stroke=\"transparent\" points=\"197.2537,-130 128.2697,-130 128.2697,-112 197.2537,-112 197.2537,-130\"/>\n",
       "<text text-anchor=\"middle\" x=\"162.7617\" y=\"-118\" font-family=\"sans\" font-size=\"10.00\" fill=\"#000000\">Name^case</text>\n",
       "</g>\n",
       "<!-- 0&#45;&gt;4 -->\n",
       "<g id=\"edge2\" class=\"edge\">\n",
       "<title>0&#45;&gt;4</title>\n",
       "<path fill=\"none\" stroke=\"#c0c0c0\" d=\"M134.5582,-188.8647C140.332,-174.9716 151.3256,-148.518 157.7493,-133.0612\"/>\n",
       "<polygon fill=\"#c0c0c0\" stroke=\"#c0c0c0\" points=\"158.7884,-133.2967 158.9702,-130.1234 156.8492,-132.4907 158.7884,-133.2967\"/>\n",
       "</g>\n",
       "<!-- 2 -->\n",
       "<g id=\"node3\" class=\"node\">\n",
       "<title>2</title>\n",
       "<polygon fill=\"#eeeeee\" stroke=\"transparent\" points=\"57.2871,-130 .2363,-130 .2363,-112 57.2871,-112 57.2871,-130\"/>\n",
       "<text text-anchor=\"middle\" x=\"28.7617\" y=\"-118\" font-family=\"sans\" font-size=\"10.00\" fill=\"#000000\">главного</text>\n",
       "</g>\n",
       "<!-- 1&#45;&gt;2 -->\n",
       "<g id=\"edge3\" class=\"edge\">\n",
       "<title>1&#45;&gt;2</title>\n",
       "<path fill=\"none\" stroke=\"#c0c0c0\" d=\"M97.667,-153.8866C83.829,-147.2821 65.0905,-138.3388 50.6477,-131.4456\"/>\n",
       "<polygon fill=\"#c0c0c0\" stroke=\"#c0c0c0\" points=\"50.9789,-130.4402 47.8191,-130.0956 50.0743,-132.3354 50.9789,-130.4402\"/>\n",
       "</g>\n",
       "<!-- 3 -->\n",
       "<g id=\"node4\" class=\"node\">\n",
       "<title>3</title>\n",
       "<polygon fill=\"#eeeeee\" stroke=\"transparent\" points=\"126.8411,-130 58.6823,-130 58.6823,-112 126.8411,-112 126.8411,-130\"/>\n",
       "<text text-anchor=\"middle\" x=\"92.7617\" y=\"-118\" font-family=\"sans\" font-size=\"10.00\" fill=\"#000000\">бухгалтера</text>\n",
       "</g>\n",
       "<!-- 1&#45;&gt;3 -->\n",
       "<g id=\"edge4\" class=\"edge\">\n",
       "<title>1&#45;&gt;3</title>\n",
       "<path fill=\"none\" stroke=\"#c0c0c0\" d=\"M111.4353,-153.6788C107.9069,-147.5042 103.2499,-139.3543 99.4692,-132.7382\"/>\n",
       "<polygon fill=\"#c0c0c0\" stroke=\"#c0c0c0\" points=\"100.3086,-132.0906 97.9085,-130.0068 98.4853,-133.1325 100.3086,-132.0906\"/>\n",
       "</g>\n",
       "<!-- 1&#45;&gt;4 -->\n",
       "<g id=\"edge9\" class=\"edge\">\n",
       "<title>1&#45;&gt;4</title>\n",
       "<path fill=\"none\" stroke=\"#c0c0c0\" stroke-dasharray=\"5,2\" d=\"M119.1463,-153.7802C120.8663,-148.6237 123.6417,-142.3737 127.8633,-138 130.8587,-134.8966 134.5376,-132.2824 138.371,-130.1068\"/>\n",
       "<text text-anchor=\"middle\" x=\"137.2109\" y=\"-139.6\" font-family=\"sans\" font-size=\"8.00\" fill=\"#c0c0c0\">case</text>\n",
       "</g>\n",
       "<!-- 5 -->\n",
       "<g id=\"node6\" class=\"node\">\n",
       "<title>5</title>\n",
       "<polygon fill=\"#dbdb8d\" stroke=\"transparent\" points=\"184.7393,-95 6.7842,-95 6.7842,-77 184.7393,-77 184.7393,-95\"/>\n",
       "<text text-anchor=\"middle\" x=\"95.7617\" y=\"-83\" font-family=\"sans\" font-size=\"10.00\" fill=\"#000000\">Name.first.inflected(sing, nomn)^gnc</text>\n",
       "</g>\n",
       "<!-- 4&#45;&gt;5 -->\n",
       "<g id=\"edge5\" class=\"edge\">\n",
       "<title>4&#45;&gt;5</title>\n",
       "<path fill=\"none\" stroke=\"#c0c0c0\" d=\"M145.5076,-111.9866C136.5123,-107.2876 125.4551,-101.5114 116.0514,-96.5991\"/>\n",
       "<polygon fill=\"#c0c0c0\" stroke=\"#c0c0c0\" points=\"116.3355,-95.5629 113.1903,-95.1045 115.3631,-97.4242 116.3355,-95.5629\"/>\n",
       "</g>\n",
       "<!-- 7 -->\n",
       "<g id=\"node8\" class=\"node\">\n",
       "<title>7</title>\n",
       "<polygon fill=\"#dbdb8d\" stroke=\"transparent\" points=\"275.6929,-53 97.8305,-53 97.8305,-35 275.6929,-35 275.6929,-53\"/>\n",
       "<text text-anchor=\"middle\" x=\"186.7617\" y=\"-41\" font-family=\"sans\" font-size=\"10.00\" fill=\"#000000\">Name.last.inflected(sing, nomn)^gnc</text>\n",
       "</g>\n",
       "<!-- 4&#45;&gt;7 -->\n",
       "<g id=\"edge6\" class=\"edge\">\n",
       "<title>4&#45;&gt;7</title>\n",
       "<path fill=\"none\" stroke=\"#c0c0c0\" d=\"M171.52,-111.6138C175.3326,-106.9658 179.4504,-101.0594 181.7617,-95 186.5316,-82.495 187.4221,-67.0753 187.3455,-56.4848\"/>\n",
       "<polygon fill=\"#c0c0c0\" stroke=\"#c0c0c0\" points=\"188.3934,-56.344 187.2939,-53.3618 186.2937,-56.3787 188.3934,-56.344\"/>\n",
       "</g>\n",
       "<!-- 6 -->\n",
       "<g id=\"node7\" class=\"node\">\n",
       "<title>6</title>\n",
       "<polygon fill=\"#eeeeee\" stroke=\"transparent\" points=\"96.9417,-53 46.5817,-53 46.5817,-35 96.9417,-35 96.9417,-53\"/>\n",
       "<text text-anchor=\"middle\" x=\"71.7617\" y=\"-41\" font-family=\"sans\" font-size=\"10.00\" fill=\"#000000\">марину</text>\n",
       "</g>\n",
       "<!-- 5&#45;&gt;6 -->\n",
       "<g id=\"edge7\" class=\"edge\">\n",
       "<title>5&#45;&gt;6</title>\n",
       "<path fill=\"none\" stroke=\"#c0c0c0\" d=\"M90.4353,-76.6788C86.9069,-70.5042 82.2499,-62.3543 78.4692,-55.7382\"/>\n",
       "<polygon fill=\"#c0c0c0\" stroke=\"#c0c0c0\" points=\"79.3086,-55.0906 76.9085,-53.0068 77.4853,-56.1325 79.3086,-55.0906\"/>\n",
       "</g>\n",
       "<!-- 5&#45;&gt;7 -->\n",
       "<g id=\"edge10\" class=\"edge\">\n",
       "<title>5&#45;&gt;7</title>\n",
       "<path fill=\"none\" stroke=\"#c0c0c0\" stroke-dasharray=\"5,2\" d=\"M115.5074,-76.8866C130.7711,-69.8418 151.8006,-60.1359 167.0546,-53.0956\"/>\n",
       "<text text-anchor=\"middle\" x=\"156.2109\" y=\"-62.6\" font-family=\"sans\" font-size=\"8.00\" fill=\"#c0c0c0\">gnc</text>\n",
       "</g>\n",
       "<!-- 8 -->\n",
       "<g id=\"node9\" class=\"node\">\n",
       "<title>8</title>\n",
       "<polygon fill=\"#eeeeee\" stroke=\"transparent\" points=\"213.2881,-18 160.2353,-18 160.2353,0 213.2881,0 213.2881,-18\"/>\n",
       "<text text-anchor=\"middle\" x=\"186.7617\" y=\"-6\" font-family=\"sans\" font-size=\"10.00\" fill=\"#000000\">игореву</text>\n",
       "</g>\n",
       "<!-- 7&#45;&gt;8 -->\n",
       "<g id=\"edge8\" class=\"edge\">\n",
       "<title>7&#45;&gt;8</title>\n",
       "<path fill=\"none\" stroke=\"#c0c0c0\" d=\"M186.7617,-34.8042C186.7617,-30.5914 186.7617,-25.5428 186.7617,-21.0328\"/>\n",
       "<polygon fill=\"#c0c0c0\" stroke=\"#c0c0c0\" points=\"187.8118,-21.0133 186.7617,-18.0134 185.7118,-21.0134 187.8118,-21.0133\"/>\n",
       "</g>\n",
       "</g>\n",
       "</svg>\n"
      ],
      "text/plain": [
       "Graph(nodes=[...], edges=[...])"
      ]
     },
     "execution_count": 37,
     "metadata": {},
     "output_type": "execute_result"
    }
   ],
   "source": [
    "from yargy.relations import case_relation\n",
    "\n",
    "case = case_relation()\n",
    "\n",
    "PERSON = rule(\n",
    "    POSITION.match(case),\n",
    "    NAME.match(case)\n",
    ")\n",
    "\n",
    "\n",
    "parser = Parser(PERSON)\n",
    "assert not parser.match('главного бухгалтер марину игореву')\n",
    "\n",
    "match = parser.match('главного бухгалтера марину игореву')\n",
    "match.tree.as_dot"
   ]
  },
  {
   "cell_type": "code",
   "execution_count": null,
   "metadata": {},
   "outputs": [],
   "source": []
  }
 ],
 "metadata": {
  "kernelspec": {
   "display_name": "Python 3",
   "language": "python",
   "name": "python3"
  },
  "language_info": {
   "codemirror_mode": {
    "name": "ipython",
    "version": 3
   },
   "file_extension": ".py",
   "mimetype": "text/x-python",
   "name": "python",
   "nbconvert_exporter": "python",
   "pygments_lexer": "ipython3",
   "version": "3.6.9"
  }
 },
 "nbformat": 4,
 "nbformat_minor": 2
}
