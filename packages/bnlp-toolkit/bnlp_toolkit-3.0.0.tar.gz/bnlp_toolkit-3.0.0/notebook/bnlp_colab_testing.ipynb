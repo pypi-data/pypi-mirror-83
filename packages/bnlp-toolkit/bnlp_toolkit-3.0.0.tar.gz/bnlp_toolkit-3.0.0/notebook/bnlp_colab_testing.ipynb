{
  "nbformat": 4,
  "nbformat_minor": 0,
  "metadata": {
    "colab": {
      "name": "bnlp_colab.ipynb",
      "provenance": [],
      "authorship_tag": "ABX9TyOR+y3ITufkQEGTFAEnxZPU",
      "include_colab_link": true
    },
    "kernelspec": {
      "name": "python3",
      "display_name": "Python 3"
    }
  },
  "cells": [
    {
      "cell_type": "markdown",
      "metadata": {
        "id": "view-in-github",
        "colab_type": "text"
      },
      "source": [
        "<a href=\"https://colab.research.google.com/github/sagorbrur/bnlp/blob/master/notebook/bnlp_colab_testing.ipynb\" target=\"_parent\"><img src=\"https://colab.research.google.com/assets/colab-badge.svg\" alt=\"Open In Colab\"/></a>"
      ]
    },
    {
      "cell_type": "markdown",
      "metadata": {
        "id": "xqHRllMHSiDH",
        "colab_type": "text"
      },
      "source": [
        "# BNLP\n",
        "BNLP is a natural language processing toolkit for Bengali Language. This tool will help you to tokenize Bengali text, Embedding Bengali words, Bengali POS Tagging, Construct Neural Model for Bengali NLP purposes.\n",
        "\n",
        "Here we provide a to z api level use of **BNLP**"
      ]
    },
    {
      "cell_type": "markdown",
      "metadata": {
        "id": "SXurTR8rSzdT",
        "colab_type": "text"
      },
      "source": [
        "## Installation"
      ]
    },
    {
      "cell_type": "code",
      "metadata": {
        "id": "EqRr2C1sSag_",
        "colab_type": "code",
        "colab": {
          "base_uri": "https://localhost:8080/",
          "height": 751
        },
        "outputId": "f221afa2-7db9-4a15-a348-9345807eab0e"
      },
      "source": [
        "!pip install bnlp_toolkit"
      ],
      "execution_count": 1,
      "outputs": [
        {
          "output_type": "stream",
          "text": [
            "Collecting bnlp_toolkit\n",
            "  Downloading https://files.pythonhosted.org/packages/de/c9/376837d2bf998a511af113c82feeee703ff95f41eb3ba79ac43036f0edfd/bnlp_toolkit-2.3-py3-none-any.whl\n",
            "Requirement already satisfied: numpy in /usr/local/lib/python3.6/dist-packages (from bnlp_toolkit) (1.18.5)\n",
            "Collecting fasttext\n",
            "\u001b[?25l  Downloading https://files.pythonhosted.org/packages/f8/85/e2b368ab6d3528827b147fdb814f8189acc981a4bc2f99ab894650e05c40/fasttext-0.9.2.tar.gz (68kB)\n",
            "\u001b[K     |████████████████████████████████| 71kB 4.0MB/s \n",
            "\u001b[?25hRequirement already satisfied: gensim in /usr/local/lib/python3.6/dist-packages (from bnlp_toolkit) (3.6.0)\n",
            "Collecting sklearn-crfsuite\n",
            "  Downloading https://files.pythonhosted.org/packages/25/74/5b7befa513482e6dee1f3dd68171a6c9dfc14c0eaa00f885ffeba54fe9b0/sklearn_crfsuite-0.3.6-py2.py3-none-any.whl\n",
            "Requirement already satisfied: scipy in /usr/local/lib/python3.6/dist-packages (from bnlp_toolkit) (1.4.1)\n",
            "Requirement already satisfied: nltk in /usr/local/lib/python3.6/dist-packages (from bnlp_toolkit) (3.2.5)\n",
            "Collecting sentencepiece\n",
            "\u001b[?25l  Downloading https://files.pythonhosted.org/packages/d4/a4/d0a884c4300004a78cca907a6ff9a5e9fe4f090f5d95ab341c53d28cbc58/sentencepiece-0.1.91-cp36-cp36m-manylinux1_x86_64.whl (1.1MB)\n",
            "\u001b[K     |████████████████████████████████| 1.1MB 13.9MB/s \n",
            "\u001b[?25hRequirement already satisfied: pybind11>=2.2 in /usr/local/lib/python3.6/dist-packages (from fasttext->bnlp_toolkit) (2.5.0)\n",
            "Requirement already satisfied: setuptools>=0.7.0 in /usr/local/lib/python3.6/dist-packages (from fasttext->bnlp_toolkit) (49.1.0)\n",
            "Requirement already satisfied: six>=1.5.0 in /usr/local/lib/python3.6/dist-packages (from gensim->bnlp_toolkit) (1.15.0)\n",
            "Requirement already satisfied: smart-open>=1.2.1 in /usr/local/lib/python3.6/dist-packages (from gensim->bnlp_toolkit) (2.1.0)\n",
            "Requirement already satisfied: tqdm>=2.0 in /usr/local/lib/python3.6/dist-packages (from sklearn-crfsuite->bnlp_toolkit) (4.41.1)\n",
            "Requirement already satisfied: tabulate in /usr/local/lib/python3.6/dist-packages (from sklearn-crfsuite->bnlp_toolkit) (0.8.7)\n",
            "Collecting python-crfsuite>=0.8.3\n",
            "\u001b[?25l  Downloading https://files.pythonhosted.org/packages/95/99/869dde6dbf3e0d07a013c8eebfb0a3d30776334e0097f8432b631a9a3a19/python_crfsuite-0.9.7-cp36-cp36m-manylinux1_x86_64.whl (743kB)\n",
            "\u001b[K     |████████████████████████████████| 747kB 46.7MB/s \n",
            "\u001b[?25hRequirement already satisfied: requests in /usr/local/lib/python3.6/dist-packages (from smart-open>=1.2.1->gensim->bnlp_toolkit) (2.23.0)\n",
            "Requirement already satisfied: boto in /usr/local/lib/python3.6/dist-packages (from smart-open>=1.2.1->gensim->bnlp_toolkit) (2.49.0)\n",
            "Requirement already satisfied: boto3 in /usr/local/lib/python3.6/dist-packages (from smart-open>=1.2.1->gensim->bnlp_toolkit) (1.14.22)\n",
            "Requirement already satisfied: urllib3!=1.25.0,!=1.25.1,<1.26,>=1.21.1 in /usr/local/lib/python3.6/dist-packages (from requests->smart-open>=1.2.1->gensim->bnlp_toolkit) (1.24.3)\n",
            "Requirement already satisfied: certifi>=2017.4.17 in /usr/local/lib/python3.6/dist-packages (from requests->smart-open>=1.2.1->gensim->bnlp_toolkit) (2020.6.20)\n",
            "Requirement already satisfied: idna<3,>=2.5 in /usr/local/lib/python3.6/dist-packages (from requests->smart-open>=1.2.1->gensim->bnlp_toolkit) (2.10)\n",
            "Requirement already satisfied: chardet<4,>=3.0.2 in /usr/local/lib/python3.6/dist-packages (from requests->smart-open>=1.2.1->gensim->bnlp_toolkit) (3.0.4)\n",
            "Requirement already satisfied: jmespath<1.0.0,>=0.7.1 in /usr/local/lib/python3.6/dist-packages (from boto3->smart-open>=1.2.1->gensim->bnlp_toolkit) (0.10.0)\n",
            "Requirement already satisfied: s3transfer<0.4.0,>=0.3.0 in /usr/local/lib/python3.6/dist-packages (from boto3->smart-open>=1.2.1->gensim->bnlp_toolkit) (0.3.3)\n",
            "Requirement already satisfied: botocore<1.18.0,>=1.17.22 in /usr/local/lib/python3.6/dist-packages (from boto3->smart-open>=1.2.1->gensim->bnlp_toolkit) (1.17.22)\n",
            "Requirement already satisfied: python-dateutil<3.0.0,>=2.1 in /usr/local/lib/python3.6/dist-packages (from botocore<1.18.0,>=1.17.22->boto3->smart-open>=1.2.1->gensim->bnlp_toolkit) (2.8.1)\n",
            "Requirement already satisfied: docutils<0.16,>=0.10 in /usr/local/lib/python3.6/dist-packages (from botocore<1.18.0,>=1.17.22->boto3->smart-open>=1.2.1->gensim->bnlp_toolkit) (0.15.2)\n",
            "Building wheels for collected packages: fasttext\n",
            "  Building wheel for fasttext (setup.py) ... \u001b[?25l\u001b[?25hdone\n",
            "  Created wheel for fasttext: filename=fasttext-0.9.2-cp36-cp36m-linux_x86_64.whl size=3013482 sha256=64dab5b4fae3e6cba6943cba3068d4df348f0089114914c1c52e3fe9198c3efb\n",
            "  Stored in directory: /root/.cache/pip/wheels/98/ba/7f/b154944a1cf5a8cee91c154b75231136cc3a3321ab0e30f592\n",
            "Successfully built fasttext\n",
            "Installing collected packages: fasttext, python-crfsuite, sklearn-crfsuite, sentencepiece, bnlp-toolkit\n",
            "Successfully installed bnlp-toolkit-2.3 fasttext-0.9.2 python-crfsuite-0.9.7 sentencepiece-0.1.91 sklearn-crfsuite-0.3.6\n"
          ],
          "name": "stdout"
        }
      ]
    },
    {
      "cell_type": "markdown",
      "metadata": {
        "id": "aYS0EYaLS-OC",
        "colab_type": "text"
      },
      "source": [
        "## Downloading Pretrained model\n",
        "\n",
        "NB: POS TAG and NER model may need to download from https://github.com/sagorbrur/bnlp/blob/master/model/bn_pos_model.pkl and then upload it to colab. \n",
        "\n",
        "Otherwise it will arise an error. "
      ]
    },
    {
      "cell_type": "code",
      "metadata": {
        "id": "4VHCHzC7TgQZ",
        "colab_type": "code",
        "colab": {
          "base_uri": "https://localhost:8080/",
          "height": 34
        },
        "outputId": "c17b2a84-3572-40d0-e4c3-93c6aa09ef07"
      },
      "source": [
        "!mkdir models\n",
        "%cd models"
      ],
      "execution_count": 2,
      "outputs": [
        {
          "output_type": "stream",
          "text": [
            "/content/models\n"
          ],
          "name": "stdout"
        }
      ]
    },
    {
      "cell_type": "code",
      "metadata": {
        "id": "3d0TozrSTm0x",
        "colab_type": "code",
        "colab": {
          "base_uri": "https://localhost:8080/",
          "height": 391
        },
        "outputId": "89d1f251-f8b0-4c8a-d6a1-7ad76049716e"
      },
      "source": [
        "!wget https://github.com/sagorbrur/bnlp/raw/master/model/bn_spm.model\n",
        "!wget https://github.com/sagorbrur/bnlp/raw/master/model/bn_spm.vocab\n",
        "!wget https://github.com/sagorbrur/bnlp/blob/master/model/bn_pos.pkl\n",
        "!wget https://github.com/sagorbrur/bnlp/blob/master/model/bn_ner.pkl"
      ],
      "execution_count": 4,
      "outputs": [
        {
          "output_type": "stream",
          "text": [
            "--2020-07-22 17:46:58--  https://github.com/sagorbrur/bnlp/blob/master/model/bn_pos.pkl\n",
            "Resolving github.com (github.com)... 192.30.255.112\n",
            "Connecting to github.com (github.com)|192.30.255.112|:443... connected.\n",
            "HTTP request sent, awaiting response... 200 OK\n",
            "Length: unspecified [text/html]\n",
            "Saving to: ‘bn_pos.pkl’\n",
            "\n",
            "\rbn_pos.pkl              [<=>                 ]       0  --.-KB/s               \rbn_pos.pkl              [ <=>                ]  71.78K  --.-KB/s    in 0.02s   \n",
            "\n",
            "2020-07-22 17:46:58 (3.70 MB/s) - ‘bn_pos.pkl’ saved [73503]\n",
            "\n",
            "--2020-07-22 17:47:00--  https://github.com/sagorbrur/bnlp/blob/master/model/bn_ner.pkl\n",
            "Resolving github.com (github.com)... 192.30.255.113\n",
            "Connecting to github.com (github.com)|192.30.255.113|:443... connected.\n",
            "HTTP request sent, awaiting response... 200 OK\n",
            "Length: unspecified [text/html]\n",
            "Saving to: ‘bn_ner.pkl’\n",
            "\n",
            "bn_ner.pkl              [ <=>                ]  71.78K  --.-KB/s    in 0.02s   \n",
            "\n",
            "2020-07-22 17:47:00 (3.66 MB/s) - ‘bn_ner.pkl’ saved [73503]\n",
            "\n"
          ],
          "name": "stdout"
        }
      ]
    },
    {
      "cell_type": "code",
      "metadata": {
        "id": "WV6m0AF7S5IC",
        "colab_type": "code",
        "colab": {
          "base_uri": "https://localhost:8080/",
          "height": 85
        },
        "outputId": "490c0f91-eb6c-4d14-a627-68da30713d5e"
      },
      "source": [
        "!pip install -U -q PyDrive\n",
        "from pydrive.auth import GoogleAuth\n",
        "from pydrive.drive import GoogleDrive\n",
        "from google.colab import auth\n",
        "from oauth2client.client import GoogleCredentials\n",
        "auth.authenticate_user()\n",
        "gauth = GoogleAuth()\n",
        "gauth.credentials = GoogleCredentials.get_application_default()\n",
        "drive = GoogleDrive(gauth)\n",
        "downloaded = drive.CreateFile({'id':\"1DxR8Vw61zRxuUm17jzFnOX97j7QtNW7U\"})\n",
        "downloaded.GetContentFile('bengali_word2vec.zip')\n",
        "!unzip bengali_word2vec.zip\n",
        "!rm -rf bengali_word2vec.zip"
      ],
      "execution_count": 5,
      "outputs": [
        {
          "output_type": "stream",
          "text": [
            "Archive:  bengali_word2vec.zip\n",
            "  inflating: bengali_word2vec.model  \n",
            "  inflating: bengali_word2vec.model.trainables.syn1neg.npy  \n",
            "  inflating: bengali_word2vec.model.wv.vectors.npy  \n"
          ],
          "name": "stdout"
        }
      ]
    },
    {
      "cell_type": "code",
      "metadata": {
        "id": "4X8Rb7wwU-dJ",
        "colab_type": "code",
        "colab": {
          "base_uri": "https://localhost:8080/",
          "height": 51
        },
        "outputId": "05070b3f-ceda-4e40-c63b-57d6f4a9e410"
      },
      "source": [
        "!pip install -U -q PyDrive\n",
        "from pydrive.auth import GoogleAuth\n",
        "from pydrive.drive import GoogleDrive\n",
        "from google.colab import auth\n",
        "from oauth2client.client import GoogleCredentials\n",
        "auth.authenticate_user()\n",
        "gauth = GoogleAuth()\n",
        "gauth.credentials = GoogleCredentials.get_application_default()\n",
        "drive = GoogleDrive(gauth)\n",
        "downloaded = drive.CreateFile({'id':\"1CFA-SluRyz3s5gmGScsFUcs7AjLfscm2\"})\n",
        "downloaded.GetContentFile('bengali_fasttext_wiki.zip')\n",
        "!unzip bengali_fasttext_wiki.zip\n",
        "!rm -rf bengali_fasttext_wiki.zip"
      ],
      "execution_count": 6,
      "outputs": [
        {
          "output_type": "stream",
          "text": [
            "Archive:  bengali_fasttext_wiki.zip\n",
            "  inflating: bengali_fasttext_wiki.bin  \n"
          ],
          "name": "stdout"
        }
      ]
    },
    {
      "cell_type": "code",
      "metadata": {
        "id": "L-Csx3qMV6bz",
        "colab_type": "code",
        "colab": {
          "base_uri": "https://localhost:8080/",
          "height": 34
        },
        "outputId": "4be47b68-8d07-44cf-c428-cdb6408ec8e0"
      },
      "source": [
        "%cd .."
      ],
      "execution_count": 7,
      "outputs": [
        {
          "output_type": "stream",
          "text": [
            "/content\n"
          ],
          "name": "stdout"
        }
      ]
    },
    {
      "cell_type": "markdown",
      "metadata": {
        "id": "89_dmCXJWRWc",
        "colab_type": "text"
      },
      "source": [
        "## Tokenization\n",
        "\n"
      ]
    },
    {
      "cell_type": "markdown",
      "metadata": {
        "id": "VjI8S58uXL3K",
        "colab_type": "text"
      },
      "source": [
        "### Sentencepiece Tokenizer"
      ]
    },
    {
      "cell_type": "code",
      "metadata": {
        "id": "yTnY9_gWWP7z",
        "colab_type": "code",
        "colab": {
          "base_uri": "https://localhost:8080/",
          "height": 119
        },
        "outputId": "ed15e1ca-7123-4603-fabc-249f16b4faba"
      },
      "source": [
        "from bnlp.sentencepiece_tokenizer import SP_Tokenizer\n",
        "\n",
        "bsp = SP_Tokenizer()\n",
        "model_path = \"./models/bn_spm.model\"\n",
        "input_text = \"আমি ভাত খাই। সে বাজারে যায়।\"\n",
        "tokens = bsp.tokenize(model_path, input_text)\n",
        "print(tokens)\n",
        "text2id = bsp.text2id(model_path, input_text)\n",
        "print(text2id)\n",
        "id2text = bsp.id2text(model_path, text2id)\n",
        "print(id2text)"
      ],
      "execution_count": 8,
      "outputs": [
        {
          "output_type": "stream",
          "text": [
            "punkt not found. downloading...\n",
            "[nltk_data] Downloading package punkt to /root/nltk_data...\n",
            "[nltk_data]   Unzipping tokenizers/punkt.zip.\n",
            "['▁আমি', '▁ভাত', '▁খাই', '।', '▁সে', '▁বাজারে', '▁যায়', '।']\n",
            "[914, 5265, 24224, 3, 124, 2244, 41, 3]\n",
            "আমি ভাত খাই। সে বাজারে যায়।\n"
          ],
          "name": "stdout"
        }
      ]
    },
    {
      "cell_type": "markdown",
      "metadata": {
        "id": "DhhO65MvXC2C",
        "colab_type": "text"
      },
      "source": [
        "### Basic Tokenizer"
      ]
    },
    {
      "cell_type": "code",
      "metadata": {
        "id": "NvX910bCW7t6",
        "colab_type": "code",
        "colab": {
          "base_uri": "https://localhost:8080/",
          "height": 34
        },
        "outputId": "26fe9248-e3dc-4d62-f890-fa389b73aef8"
      },
      "source": [
        "from bnlp.basic_tokenizer import BasicTokenizer\n",
        "basic_t = BasicTokenizer()\n",
        "raw_text = \"আমি বাংলায় গান গাই।\"\n",
        "tokens = basic_t.tokenize(raw_text)\n",
        "print(tokens)"
      ],
      "execution_count": 9,
      "outputs": [
        {
          "output_type": "stream",
          "text": [
            "['আমি', 'বাংলায়', 'গান', 'গাই', '।']\n"
          ],
          "name": "stdout"
        }
      ]
    },
    {
      "cell_type": "markdown",
      "metadata": {
        "id": "pTOHycMkXNoC",
        "colab_type": "text"
      },
      "source": [
        "### NLTK Tokenizer"
      ]
    },
    {
      "cell_type": "code",
      "metadata": {
        "id": "0DT-H9W0XFGC",
        "colab_type": "code",
        "colab": {
          "base_uri": "https://localhost:8080/",
          "height": 51
        },
        "outputId": "ff57a33e-faaa-4a59-aa1a-68061f38cab1"
      },
      "source": [
        "from bnlp.nltk_tokenizer import NLTK_Tokenizer\n",
        "\n",
        "text = \"আমি ভাত খাই। সে বাজারে যায়। তিনি কি সত্যিই ভালো মানুষ?\"\n",
        "bnltk = NLTK_Tokenizer()\n",
        "word_tokens = bnltk.word_tokenize(text)\n",
        "sentence_tokens = bnltk.sentence_tokenize(text)\n",
        "print(word_tokens)\n",
        "print(sentence_tokens)"
      ],
      "execution_count": 10,
      "outputs": [
        {
          "output_type": "stream",
          "text": [
            "['আমি', 'ভাত', 'খাই', '।', 'সে', 'বাজারে', 'যায়', '।', 'তিনি', 'কি', 'সত্যিই', 'ভালো', 'মানুষ', '?']\n",
            "['আমি ভাত খাই।', 'সে বাজারে যায়।', 'তিনি কি সত্যিই ভালো মানুষ?']\n"
          ],
          "name": "stdout"
        }
      ]
    },
    {
      "cell_type": "markdown",
      "metadata": {
        "id": "puSrp9bBXklx",
        "colab_type": "text"
      },
      "source": [
        "## Word Embedding"
      ]
    },
    {
      "cell_type": "markdown",
      "metadata": {
        "id": "k4JTRdBIXmmV",
        "colab_type": "text"
      },
      "source": [
        "### Bengali Word2Vec"
      ]
    },
    {
      "cell_type": "code",
      "metadata": {
        "id": "aTPKDulmXT5B",
        "colab_type": "code",
        "colab": {
          "base_uri": "https://localhost:8080/",
          "height": 1000
        },
        "outputId": "fcb85f62-da12-4764-cc98-f56faad93200"
      },
      "source": [
        "from bnlp.bengali_word2vec import Bengali_Word2Vec\n",
        "\n",
        "bwv = Bengali_Word2Vec()\n",
        "model_path = \"models/bengali_word2vec.model\"\n",
        "word = 'আমার'\n",
        "vector = bwv.generate_word_vector(model_path, word)\n",
        "print(vector.shape)\n",
        "print(vector)"
      ],
      "execution_count": 11,
      "outputs": [
        {
          "output_type": "stream",
          "text": [
            "/usr/local/lib/python3.6/dist-packages/smart_open/smart_open_lib.py:254: UserWarning: This function is deprecated, use smart_open.open instead. See the migration notes for details: https://github.com/RaRe-Technologies/smart_open/blob/master/README.rst#migrating-to-the-new-open-function\n",
            "  'See the migration notes for details: %s' % _MIGRATION_NOTES_URL\n"
          ],
          "name": "stderr"
        },
        {
          "output_type": "stream",
          "text": [
            "(300,)\n",
            "[-1.6936177e+00  3.5159554e-02 -8.5707474e-03  4.6422979e-01\n",
            "  4.7176498e-01 -1.1240785e-03  5.2726853e-01  9.6344274e-01\n",
            "  4.3611592e-01 -2.4183762e+00 -1.1882383e+00 -6.1812967e-01\n",
            " -2.6307828e+00 -6.1543208e-01 -1.0401576e+00 -4.4781092e-01\n",
            " -8.7368643e-01 -6.5588124e-02 -1.9416760e+00 -8.5976779e-01\n",
            "  8.9258450e-01 -5.2980870e-01 -1.1779339e+00  1.6538888e-01\n",
            "  5.7090968e-01 -6.8303603e-01 -5.8089417e-01  1.9823054e+00\n",
            "  1.5652509e+00 -1.8102252e+00  5.1018655e-01  1.1032093e+00\n",
            " -1.0756480e+00  1.1780707e+00  1.1778240e+00 -5.2861094e-01\n",
            "  3.8371810e-01  9.7755694e-01  7.2286832e-01  4.4961435e-01\n",
            " -1.0284587e+00 -4.9218610e-01  7.0426416e-01  5.1277459e-02\n",
            "  7.9809263e-02 -2.3158913e+00 -5.1341558e-01  2.5855860e-01\n",
            " -1.4927088e+00 -1.4820724e+00  1.1150364e+00 -3.9570293e-01\n",
            "  4.6147889e-01  8.7402004e-01 -1.1148657e+00  1.7493018e+00\n",
            "  6.5046811e-01  1.6666926e+00  2.6500010e+00  1.1857886e+00\n",
            "  7.1161926e-01 -1.2677008e+00 -1.1069984e+00 -7.8171343e-01\n",
            " -8.2391447e-01 -6.8753582e-01 -8.7682301e-01 -8.2514966e-01\n",
            " -3.0498229e-02 -7.0533752e-01  8.2660657e-01  1.1412406e+00\n",
            " -2.5937727e-01 -1.9717888e+00  1.5460135e+00 -3.1852472e+00\n",
            "  3.3784008e-01  6.8494946e-01 -3.4856927e-01 -3.0506346e-01\n",
            "  2.0271671e+00  5.2941561e-01  2.1754713e+00  8.5661399e-01\n",
            " -1.0528305e+00 -3.0799332e-01  8.7379396e-01  1.0237061e+00\n",
            "  2.0865424e+00  1.2951910e+00  3.9156887e-01 -1.3587707e-01\n",
            "  9.8269619e-02 -9.8998255e-01 -1.2180190e+00 -1.1273131e+00\n",
            " -5.3762996e-01 -3.0342671e-01  1.7157787e+00  2.3776653e+00\n",
            " -1.5833216e+00 -4.5981720e-01  6.2183112e-01 -1.0877959e-01\n",
            "  1.0811206e+00 -2.2173911e-01  1.7598602e+00 -1.0053164e+00\n",
            "  2.6430690e+00 -3.9756349e-01  2.8827155e-01 -7.8981394e-01\n",
            "  1.8065584e+00  1.0892041e+00  3.7707627e-01 -1.5087554e+00\n",
            "  5.4679918e-01 -1.3956569e+00  5.0552899e-01 -4.1878790e-01\n",
            " -1.6746813e+00 -1.1661299e+00 -8.7835902e-01  2.0673523e+00\n",
            " -9.5483857e-01  1.0412294e+00 -1.6789682e+00  3.0032885e-01\n",
            "  5.4572213e-01 -7.3649937e-01  5.6596506e-01 -9.6439111e-01\n",
            " -3.3745909e-01 -5.6574017e-02  2.2598121e+00  1.0235566e+00\n",
            "  5.0854874e-01  1.4404486e+00  1.0586246e-02  1.6751351e+00\n",
            "  4.8426911e-01 -3.1194970e-01 -5.0971246e-01 -1.2165993e-01\n",
            "  3.2566616e-01 -1.0449820e-01 -5.6025159e-01  8.6913031e-01\n",
            "  1.9937924e+00  9.9562311e-01 -1.0535994e+00 -2.4150908e+00\n",
            "  1.5591273e+00 -1.3299772e+00  2.1345844e+00  4.9978071e-01\n",
            " -1.0128185e+00  2.4511893e+00  2.0886566e-01 -3.1336019e+00\n",
            " -1.5735002e+00 -1.6979501e+00  1.2635545e+00 -1.2096975e+00\n",
            "  9.3895262e-01  2.0871561e+00  1.7284758e+00  1.3041421e+00\n",
            "  6.3735847e-03 -2.8382945e+00  1.4734867e+00 -1.1252853e+00\n",
            " -6.0585493e-01 -1.1510065e+00  1.6629120e+00 -1.2078977e+00\n",
            " -5.6224471e-01  1.8541627e+00  1.4203759e+00  2.1362298e+00\n",
            " -2.1803112e+00 -2.4910698e+00  1.1147881e+00  3.5771835e+00\n",
            "  9.4574040e-01  9.7093630e-01  1.3996384e-01  7.6980129e-02\n",
            "  2.1910880e+00 -1.2463869e+00 -8.5593385e-01 -8.0959368e-01\n",
            "  5.9241825e-01  2.6773450e+00 -1.8033402e-01 -8.9984804e-01\n",
            "  8.8016599e-01  1.7101929e-02  8.9888740e-01  6.5351367e-01\n",
            " -3.5143070e+00  8.2726967e-01 -8.4077835e-01  1.4361624e-01\n",
            "  2.3968842e+00 -6.1850441e-01  1.0766664e+00 -2.1670136e+00\n",
            "  2.1858683e-01  3.3867745e+00  1.4087065e+00 -8.8393092e-01\n",
            "  1.1560943e+00  2.9767567e-01  1.1295917e+00 -1.2428216e+00\n",
            "  4.9076313e-01 -4.6654737e-01  1.2767588e+00  4.5028117e-01\n",
            "  4.0964296e-01  1.1227398e+00  3.7367544e-01 -1.9939226e+00\n",
            " -9.3416274e-01  2.5645795e-01 -6.1729950e-01  1.9303987e+00\n",
            " -9.0801793e-01  1.4290047e+00 -1.2430988e-01  5.4137725e-01\n",
            "  7.0000398e-01 -1.7567229e+00  3.0071577e-01  3.0366322e-01\n",
            " -1.7538342e-01 -1.7800355e+00  3.8324597e+00 -2.1982162e+00\n",
            " -1.2678256e+00 -1.3904521e+00 -3.1966752e-01 -1.1257986e+00\n",
            "  1.4068267e+00  2.0641704e+00 -1.9633348e+00 -8.0784440e-02\n",
            "  3.8715309e-01  2.4960208e+00 -1.4199735e+00  3.5357758e-01\n",
            " -1.3695159e+00 -4.1389145e-02 -1.3028133e+00  1.0722306e+00\n",
            "  1.9037397e+00 -1.2049222e+00  2.8729671e-01 -7.5808257e-01\n",
            "  1.7927357e+00  2.4462596e-01  2.3165958e+00  9.8110563e-01\n",
            "  1.3860238e+00  2.3580816e+00 -2.2748315e+00 -7.7638298e-01\n",
            " -1.5275376e-01 -5.4983896e-01  6.4050668e-01 -1.8792859e+00\n",
            " -5.7933901e-02 -1.7894695e+00 -2.4457166e+00  4.1609299e-01\n",
            "  1.0766597e+00  2.0768654e+00  1.1190468e+00 -1.6371150e+00\n",
            " -1.1244353e-01 -5.6699931e-04 -5.6991792e-01 -1.0367104e+00\n",
            " -8.5223323e-01  9.3839818e-01 -1.3901943e+00 -5.3328969e-02\n",
            " -9.1770902e-02  5.7934359e-02 -1.4965558e+00  5.6581467e-02\n",
            "  1.5872321e+00 -1.3655971e+00  4.0760364e-02  2.6978856e-01\n",
            " -3.6145419e-01  9.0290827e-01  2.0679438e-01 -2.0116158e+00]\n"
          ],
          "name": "stdout"
        }
      ]
    },
    {
      "cell_type": "code",
      "metadata": {
        "id": "TXN7oFCHYRdB",
        "colab_type": "code",
        "colab": {
          "base_uri": "https://localhost:8080/",
          "height": 122
        },
        "outputId": "ecc44940-61df-406c-83a3-dd4c189a3916"
      },
      "source": [
        "from bnlp.bengali_word2vec import Bengali_Word2Vec\n",
        "\n",
        "bwv = Bengali_Word2Vec()\n",
        "model_path = \"models/bengali_word2vec.model\"\n",
        "word = 'গ্রাম'\n",
        "similar = bwv.most_similar(model_path, word)\n",
        "print(similar)"
      ],
      "execution_count": 12,
      "outputs": [
        {
          "output_type": "stream",
          "text": [
            "/usr/local/lib/python3.6/dist-packages/smart_open/smart_open_lib.py:254: UserWarning: This function is deprecated, use smart_open.open instead. See the migration notes for details: https://github.com/RaRe-Technologies/smart_open/blob/master/README.rst#migrating-to-the-new-open-function\n",
            "  'See the migration notes for details: %s' % _MIGRATION_NOTES_URL\n",
            "/usr/local/lib/python3.6/dist-packages/gensim/matutils.py:737: FutureWarning: Conversion of the second argument of issubdtype from `int` to `np.signedinteger` is deprecated. In future, it will be treated as `np.int64 == np.dtype(int).type`.\n",
            "  if np.issubdtype(vec.dtype, np.int):\n"
          ],
          "name": "stderr"
        },
        {
          "output_type": "stream",
          "text": [
            "[('মৌজা', 0.7365161180496216), ('গ্রাম,', 0.6939323544502258), ('গ্রামটি', 0.6869181394577026), ('পুরসভা', 0.6866500377655029), ('গ্রামের', 0.6699343919754028), ('৪২.৫৭', 0.6655560731887817), ('মৌজার', 0.66482013463974), ('ব্লকে', 0.6518076062202454), ('পঞ্চায়েত', 0.6460636258125305), ('মহল্লা', 0.6451084017753601)]\n"
          ],
          "name": "stdout"
        }
      ]
    },
    {
      "cell_type": "markdown",
      "metadata": {
        "id": "FpQsPWd5ZcwR",
        "colab_type": "text"
      },
      "source": [
        "### Bengali Fasttext"
      ]
    },
    {
      "cell_type": "code",
      "metadata": {
        "id": "ICGKCZbRYuue",
        "colab_type": "code",
        "colab": {
          "base_uri": "https://localhost:8080/",
          "height": 340
        },
        "outputId": "cf3ce389-e2ab-45d3-e731-9f395541bdc5"
      },
      "source": [
        "from bnlp.bengali_fasttext import Bengali_Fasttext\n",
        "\n",
        "bft = Bengali_Fasttext()\n",
        "word = \"গ্রাম\"\n",
        "model_path = \"models/bengali_fasttext_wiki.bin\"\n",
        "word_vector = bft.generate_word_vector(model_path, word)\n",
        "print(word_vector.shape)\n",
        "print(word_vector)"
      ],
      "execution_count": 13,
      "outputs": [
        {
          "output_type": "stream",
          "text": [
            "(100,)\n",
            "[ 0.22730371 -0.40870905 -0.15613425  0.3804481  -0.05980289 -0.28930932\n",
            "  0.34626344  0.40258473 -0.90198106  0.4493182  -0.7325722   0.04727728\n",
            "  0.7795627   0.12068285  0.4670834   0.86121595  0.19153564  0.22014432\n",
            " -0.73635215  0.4743112   0.04276856  0.24542333  0.58513665 -0.49344873\n",
            "  1.2036309  -0.37963045 -0.52979314  0.42768055 -0.2915344   0.6429044\n",
            " -0.24786738 -0.34868303  0.5416647  -0.19672239 -0.5149317  -0.4899621\n",
            "  0.41403815  0.84034336  0.43055257  0.05744093  1.0355072   0.6728295\n",
            " -0.46993157 -0.8494765   0.33383992  0.3980397   0.06346162 -1.2393602\n",
            "  0.18511884 -0.10365435 -1.0729522   0.2701686  -0.48516303  0.7226823\n",
            "  0.4941565  -0.14498085 -0.1882495   0.01020508  1.3079278  -1.0012709\n",
            "  0.13207525  0.05821019 -0.5525221   0.13435237  1.1650416  -0.08389879\n",
            " -0.34301072  0.7302537  -0.1674301   0.2222631   0.56786853  0.06164984\n",
            "  0.4102374   0.1456264  -0.28646046 -0.21075231  0.6185989  -0.4345684\n",
            " -0.15338174  0.96878874  0.56596994 -0.18027176  0.08185344  0.563611\n",
            " -0.2742687  -0.07975687  0.70638406  0.34093252  0.7824108   0.8325492\n",
            " -1.0650607   0.8536281   0.5853429   0.12890655 -0.2779051  -0.6521946\n",
            " -0.3292202  -1.3018389  -0.9134306   0.86215734]\n"
          ],
          "name": "stdout"
        },
        {
          "output_type": "stream",
          "text": [
            "Warning : `load_model` does not return WordVectorModel or SupervisedModel any more, but a `FastText` object which is very similar.\n"
          ],
          "name": "stderr"
        }
      ]
    },
    {
      "cell_type": "markdown",
      "metadata": {
        "id": "8tEPivPeZhqF",
        "colab_type": "text"
      },
      "source": [
        "## Bengali POS Tagging"
      ]
    },
    {
      "cell_type": "code",
      "metadata": {
        "id": "FCMr4ZkbZPZG",
        "colab_type": "code",
        "colab": {
          "base_uri": "https://localhost:8080/",
          "height": 85
        },
        "outputId": "3c243fc8-5dc1-4466-8cf8-acd98463954f"
      },
      "source": [
        "from bnlp.pos import POS\n",
        "bn_pos = POS()\n",
        "model_path = \"models/bn_pos.pkl\"\n",
        "text = \"আমি ভাত খাই।\"\n",
        "res = bn_pos.tag(model_path, text)\n",
        "print(res)\n",
        "# [('আমি', 'PPR'), ('ভাত', 'NC'), ('খাই', 'VM'), ('।', 'PU')]"
      ],
      "execution_count": null,
      "outputs": [
        {
          "output_type": "stream",
          "text": [
            "punkt not found. downloading...\n",
            "[nltk_data] Downloading package punkt to /root/nltk_data...\n",
            "[nltk_data]   Unzipping tokenizers/punkt.zip.\n",
            "[('আমি', 'PPR'), ('ভাত', 'NC'), ('খাই', 'VM'), ('।', 'PU')]\n"
          ],
          "name": "stdout"
        }
      ]
    },
    {
      "cell_type": "markdown",
      "metadata": {
        "id": "x4lzRvVaqtw7",
        "colab_type": "text"
      },
      "source": [
        "## Bengali Name Entity Recognition"
      ]
    },
    {
      "cell_type": "code",
      "metadata": {
        "id": "Kr23_fZbZkul",
        "colab_type": "code",
        "colab": {
          "base_uri": "https://localhost:8080/",
          "height": 34
        },
        "outputId": "914249d9-7fea-4a89-eab1-44606e59fbe8"
      },
      "source": [
        "from bnlp.ner import NER\n",
        "bn_ner = NER()\n",
        "model_path = \"models/bn_ner.pkl\"\n",
        "text = \"সে ঢাকায় থাকে।\"\n",
        "result = bn_ner.tag(model_path, text)\n",
        "print(result)"
      ],
      "execution_count": 15,
      "outputs": [
        {
          "output_type": "stream",
          "text": [
            "[('সে', 'O'), ('ঢাকায়', 'S-LOC'), ('থাকে', 'O')]\n"
          ],
          "name": "stdout"
        }
      ]
    },
    {
      "cell_type": "code",
      "metadata": {
        "id": "GMfaIogmtPnk",
        "colab_type": "code",
        "colab": {}
      },
      "source": [
        ""
      ],
      "execution_count": null,
      "outputs": []
    }
  ]
}