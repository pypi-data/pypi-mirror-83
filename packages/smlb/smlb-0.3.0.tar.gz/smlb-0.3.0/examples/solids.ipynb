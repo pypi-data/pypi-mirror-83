{
 "cells": [
  {
   "cell_type": "markdown",
   "metadata": {},
   "source": [
    "# Experimental data for solids\n",
    "\n",
    "Scientific Machine Learning Benchmark:<br>\n",
    "A benchmark of regression models in chem- and materials informatics."
   ]
  },
  {
   "cell_type": "code",
   "execution_count": 1,
   "metadata": {},
   "outputs": [],
   "source": [
    "import numpy as np\n",
    "import matplotlib\n",
    "import matplotlib.pyplot as plt"
   ]
  },
  {
   "cell_type": "markdown",
   "metadata": {},
   "source": [
    "## Band gaps from Strehlow & Cook (1973)"
   ]
  },
  {
   "cell_type": "code",
   "execution_count": 2,
   "metadata": {},
   "outputs": [],
   "source": [
    "# todo: fix local developer installation\n",
    "import sys\n",
    "sys.path.append(\"..\")"
   ]
  },
  {
   "cell_type": "code",
   "execution_count": 3,
   "metadata": {},
   "outputs": [],
   "source": [
    "import smlb"
   ]
  },
  {
   "cell_type": "markdown",
   "metadata": {},
   "source": [
    "Load the dataset."
   ]
  },
  {
   "cell_type": "code",
   "execution_count": 4,
   "metadata": {},
   "outputs": [],
   "source": [
    "from smlb.datasets.experimental.band_gaps_sc73.band_gaps_sc73 import BandGapsStrehlowCook1973Dataset"
   ]
  },
  {
   "cell_type": "markdown",
   "metadata": {},
   "source": [
    "The dataset provides different parametrizations, including filtering and grouping of compounds."
   ]
  },
  {
   "cell_type": "markdown",
   "metadata": {},
   "source": [
    "## All compounds with band gaps"
   ]
  },
  {
   "cell_type": "markdown",
   "metadata": {},
   "source": [
    "Create an instance with all samples for which a band gap was measured, without grouping them."
   ]
  },
  {
   "cell_type": "code",
   "execution_count": 5,
   "metadata": {},
   "outputs": [],
   "source": [
    "bg1 = BandGapsStrehlowCook1973Dataset(filter_='bg')"
   ]
  },
  {
   "cell_type": "markdown",
   "metadata": {},
   "source": [
    "Some statistics on the dataset:"
   ]
  },
  {
   "cell_type": "code",
   "execution_count": 6,
   "metadata": {},
   "outputs": [
    {
     "name": "stdout",
     "output_type": "stream",
     "text": [
      "1447 compounds with band gaps.\n",
      "     1332 (92.1%) have temperature information (115 without)\n",
      "     1283 (88.7%) have crystallinity information (164 without)\n",
      "     1189 (82.2%) have both temperature and crystallinity information (258 without)\n"
     ]
    }
   ],
   "source": [
    "def stats(ds):\n",
    "    CRYSTALLINITY_NONE = BandGapsStrehlowCook1973Dataset.CRYSTALLINITY_NONE\n",
    "    data = ds.samples('all')\n",
    "    \n",
    "    n = len(bg1.samples('all'))\n",
    "    ntp = len([e for e in data if e['temperature'] is not None])\n",
    "    ncr = len([e for e in data if e['crystallinity'] != CRYSTALLINITY_NONE])\n",
    "    ntc = len([e for e in data if (e['temperature'] is not None) and (e['crystallinity'] is not CRYSTALLINITY_NONE)])\n",
    "    print(f\"{n} compounds with band gaps.\")\n",
    "    print(f\"     {ntp} ({ntp/n:4.1%}) have temperature information ({n-ntp} without)\")\n",
    "    print(f\"     {ncr} ({ncr/n:4.1%}) have crystallinity information ({n-ncr} without)\")\n",
    "    print(f\"     {ntc} ({ntc/n:4.1%}) have both temperature and crystallinity information ({n-ntc} without)\")\n",
    "stats(bg1)"
   ]
  },
  {
   "cell_type": "code",
   "execution_count": null,
   "metadata": {},
   "outputs": [],
   "source": []
  }
 ],
 "metadata": {
  "kernelspec": {
   "display_name": "Python 3",
   "language": "python",
   "name": "python3"
  },
  "language_info": {
   "codemirror_mode": {
    "name": "ipython",
    "version": 3
   },
   "file_extension": ".py",
   "mimetype": "text/x-python",
   "name": "python",
   "nbconvert_exporter": "python",
   "pygments_lexer": "ipython3",
   "version": "3.7.2"
  }
 },
 "nbformat": 4,
 "nbformat_minor": 2
}
