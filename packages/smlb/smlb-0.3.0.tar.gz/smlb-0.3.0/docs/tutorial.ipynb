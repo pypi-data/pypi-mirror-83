{
 "cells": [
  {
   "cell_type": "markdown",
   "metadata": {},
   "source": [
    "# `smlb` Tutorial\n",
    "\n",
    "Scientific Machine Learning Benchmark:<br>\n",
    "A benchmark of regression models in chem- and materials informatics.<br>\n",
    "2019-2020, Citrine Informatics."
   ]
  },
  {
   "cell_type": "markdown",
   "metadata": {},
   "source": [
    "Import `smlb` and a few standard libraries:"
   ]
  },
  {
   "cell_type": "code",
   "execution_count": 1,
   "metadata": {},
   "outputs": [],
   "source": [
    "import warnings\n",
    "\n",
    "import numpy as np\n",
    "import scipy as sp\n",
    "import matplotlib as mpl\n",
    "import matplotlib.pyplot as plt\n",
    "import sklearn as skl\n",
    "\n",
    "import smlb"
   ]
  },
  {
   "cell_type": "markdown",
   "metadata": {},
   "source": [
    "## Introduction"
   ]
  },
  {
   "cell_type": "markdown",
   "metadata": {},
   "source": [
    "This tutorial showcases basic `smlb` functionality \n",
    "by benchmarking different machine learning algorithms\n",
    "on an experimental materials dataset.\n",
    "Further examples can be found in the `examples` directory."
   ]
  },
  {
   "cell_type": "markdown",
   "metadata": {},
   "source": [
    "We highlight some aspects of `smlb`. See the [Overview](https://github.com/CitrineInformatics/smlb/blob/master/documentation/overview.md) for a description of scope.\n",
    "    \n",
    "1. *Interfaces*. `smlb` defines interfaces (classes) for machine-learning concepts, such as labeled datasets, algorithms for regression, sampling, evaluation metrics and others. This supports correct benchmarking and enables flexibility when combining specific instances (datasets, algorithms, ...) of these concepts from different sources.\n",
    "2. *Instances*. `smlb` comes with several benchmarking datasets and wrappers for machine-learning algorithms included\\, for example from [scikit-learn](https://scikit-learn.org/) and [Chemistry Development Kit](https://cdk.github.io/). Adding new datasets and algorithms is easy.\n",
    "3. *Functionality*. `smlb` provides tailored functionality for its purpose, for example, features for molecules and materials, evaluation metrics for predictive uncertainties, or learning curve plots."
   ]
  },
  {
   "cell_type": "markdown",
   "metadata": {},
   "source": [
    "In the following, we will benchmark several random forest variants for predicting the band gap of a set of elemental and binary semiconductors and insulators from the literature."
   ]
  },
  {
   "cell_type": "markdown",
   "metadata": {},
   "source": [
    "## Dataset"
   ]
  },
  {
   "cell_type": "markdown",
   "metadata": {},
   "source": [
    "First, we load the dataset from the `dataset` directory where the pre-packaged datasets from `smlb` reside. \n",
    "Use tab completion for easy selection."
   ]
  },
  {
   "cell_type": "code",
   "execution_count": 1,
   "metadata": {},
   "outputs": [],
   "source": [
    "from datasets.experimental.band_gaps_sc73.band_gaps_sc73 import BandGapsStrehlowCook1973Dataset"
   ]
  },
  {
   "cell_type": "markdown",
   "metadata": {},
   "source": [
    "The `BandGapsStrehlowCook1973Dataset` dataset is an instance of the `Data` interface.\n",
    "Specifically it derives from `IndexedFiniteData` and `IndexedFiniteLabels`. \n",
    "\n",
    "For information on the dataset and how to use it, \n",
    "print the doc-strings of the class and the initializer:"
   ]
  },
  {
   "cell_type": "code",
   "execution_count": 2,
   "metadata": {},
   "outputs": [
    {
     "name": "stdout",
     "output_type": "stream",
     "text": [
      "Band gaps from Strehlow & Cook (1973) dataset.\n",
      "\n",
      "    Based on:\n",
      "    W. H. Strehlow, E. L. Cook: Compilation of Energy Band Gaps in Elemental and Binary\n",
      "    Compound Semiconductors and Insulators, Journal of Physical Chemistry Reference Data\n",
      "    2(1): 163-199, American Institute of Physics, 1973. DOI 10.1063/1.3253115\n",
      "\n",
      "    Curated version downloaded from the Citrination platform (https://citrination.com),\n",
      "    dataset identifier #1160, on 2019-07-17.\n",
      "\n",
      "    This dataset provides 1,459 compounds, 1,447 of them with measured band gap (eV).\n",
      "    Compound information includes chemical sum formula and, where specified, measurement\n",
      "    temperature (K), crystallinity of sample (amorphous, single, or poly-crystalline)\n",
      "    and other properties.\n",
      "    \n",
      "Loads dataset.\n",
      "\n",
      "        Parameters control preprocessing.\n",
      "\n",
      "        Parameters:\n",
      "            filter_: function that accepts a sample and returns whether to keep it (True)\n",
      "                     or to exclude it (False). \n",
      "                     Possible choices:\n",
      "                     'all': all entries, including those without band gap, are retained\n",
      "                     'bg': all entries with a measured band gap are retained\n",
      "                     't300pm10': all entries with band gap measured at 300 +- 10 K are retained\n",
      "                     't300pm10_mc': all mono-crystalline entries with band gap measured at \n",
      "                                    300 +- 10 K are retained\n",
      "            join: if True, entries with the same chemical sum formula are joined;\n",
      "                if a positive integer k, only entries with k or more band gap measurements are retained;\n",
      "                this changes band gap, temperature and crystallinity from single numbers to\n",
      "                varying-length sequences of numbers (distributions)\n",
      "            samplef: function accepting and returning a sample; applied to all samples as post-processing\n",
      "            labelf: function accepting and returning a label; applied to all labels as post-processing\n",
      "\n",
      "        Raises:\n",
      "            InvalidParameterError: on invalid parameter values\n",
      "\n",
      "        Examples:\n",
      "            sc = BandGapsStrehlowCook1973Dataset(filter_='t300pm10_mc', join=True, labelf=np.median)\n",
      "\n",
      "        Note that if joined, there is no need for groups anymore.\n",
      "        \n"
     ]
    }
   ],
   "source": [
    "print(BandGapsStrehlowCook1973Dataset.__doc__)\n",
    "print(BandGapsStrehlowCook1973Dataset.__init__.__doc__)"
   ]
  },
  {
   "cell_type": "markdown",
   "metadata": {},
   "source": [
    "We must avoid the same material showing up multiple times in the dataset,\n",
    "and thus potentially appearing in both training and validation set, \n",
    "as this would cause arbitrarily over-optimistic performance estimates.\n",
    "Note that formulas like $\\text{Mg}_3\\text{As}_2$ and $\\text{Mg}_{1.5}\\text{As}_1$ describe the same compound; `smlb` takes this into account.\n",
    "\n",
    "Overlap between training and validation sets is a frequent mistake;\n",
    "`smlb` supports correctness by providing an option to `join` entries\n",
    "with the same sum formula upon loading the dataset. \n",
    "We use this and assign the median band gap as label.\n",
    "Since we will use only the formula as input we extract only those:"
   ]
  },
  {
   "cell_type": "code",
   "execution_count": 4,
   "metadata": {},
   "outputs": [
    {
     "name": "stdout",
     "output_type": "stream",
     "text": [
      "495 entries in total\n",
      "Sb0.09Bi0.91\n"
     ]
    }
   ],
   "source": [
    "data = BandGapsStrehlowCook1973Dataset(filter_='bg', join=1, samplef=lambda e: e['formula'], labelf=np.median)\n",
    "print(data.num_samples, 'entries in total')\n",
    "print(data.samples()[-10])  # example entry"
   ]
  },
  {
   "cell_type": "markdown",
   "metadata": {},
   "source": [
    "The entries of the dataset are sum formulas encoded as strings.\n",
    "`smlb` supports non-numeric inputs, such as strings or graphs.\n",
    "\n",
    "From 1,447 samples, 495 were unique (34%). \n",
    "On average, each compound is contained 3 times in the dataset.\n",
    "However, the actual distribution is asymmetric, most compounds only have a single measurement:"
   ]
  },
  {
   "cell_type": "code",
   "execution_count": 5,
   "metadata": {},
   "outputs": [
    {
     "data": {
      "image/png": "[encoded data removed]",
      "text/plain": [
       "<Figure size 432x288 with 1 Axes>"
      ]
     },
     "metadata": {
      "needs_background": "light"
     },
     "output_type": "display_data"
    }
   ],
   "source": [
    "t = BandGapsStrehlowCook1973Dataset(filter_='bg', join=False, samplef=lambda e: e['formula'])\n",
    "_, counts = np.unique(t.samples(), return_counts=True)\n",
    "counts = np.bincount(counts[::-1])  # [::-1] gives reverse view\n",
    "plt.bar(np.arange(0, len(counts), 1), counts)\n",
    "plt.xlabel(\"multiplicity\"); plt.ylabel(\"occurences\")\n",
    "plt.show()\n",
    "del t, _, counts"
   ]
  },
  {
   "cell_type": "markdown",
   "metadata": {},
   "source": [
    "## Features"
   ]
  },
  {
   "cell_type": "markdown",
   "metadata": {},
   "source": [
    "While `smlb` is happy to work on strings, \n",
    "the regression algorithms we will use are not.\n",
    "We therefore need to create numerical features from the sum formulas.\n",
    "\n",
    "For this, `smlb` provides `Features`, a `DataValuedTransformation`.\n",
    "We will use the \"magpie\" features of [matminer](https://hackingmaterials.lbl.gov/matminer/).\n",
    "Tab completion also works here."
   ]
  },
  {
   "cell_type": "code",
   "execution_count": 3,
   "metadata": {},
   "outputs": [],
   "source": [
    "from features.matminer_composition import MatminerCompositionFeatures"
   ]
  },
  {
   "cell_type": "code",
   "execution_count": 4,
   "metadata": {},
   "outputs": [
    {
     "name": "stdout",
     "output_type": "stream",
     "text": [
      "Matminer composition-based materials features.\n",
      "\n",
      "    Based on the matminer package.\n",
      "\n",
      "    Reference:\n",
      "        Logan Ward, Alexander Dunn, Alireza Faghaninia, Nils E.R. Zimmermann, Saurabh Bajaj,\n",
      "        Qi Wang., Joseph Montoya, Jiming Chen, Kyle Bystrom, Maxwell Dylla, Kyle Chard,\n",
      "        Mark Asta, Kristin A. Persson, G. Jeffrey Snyder, Ian Foster, Anubhav Jain:\n",
      "        Matminer: An open source toolkit for materials data mining, Computational Materials\n",
      "        Science 152: 60--69, Elsevier, 2018. DOI 10.1016/j.commatsci.2018.05.018\n",
      "\n",
      "    Code and documentation:\n",
      "        https://hackingmaterials.lbl.gov/matminer/\n",
      "        https://github.com/hackingmaterials/matminer\n",
      "\n",
      "    Currently supports four types of features:\n",
      "    * Stoichiometric attributes describe the amount of each element present in\n",
      "      a compound using several L^p norms.\n",
      "    * Elemental property statistics, computed on 22 different elemental\n",
      "      properties, such as distribution of atomic radii.\n",
      "    * Ionic compound attributes, such as whether it is possible to form an\n",
      "      ionic compound from the elements, and the fractional \"ionic character\" of the compound.\n",
      "    * Electronic structure attributes, which are the average fraction of\n",
      "      electrons from the s, p, d and f valence shells.\n",
      "    \n"
     ]
    }
   ],
   "source": [
    "print(MatminerCompositionFeatures.__doc__)"
   ]
  },
  {
   "cell_type": "markdown",
   "metadata": {},
   "source": [
    "In `smlb`, we will normally not explicitly compute the features ourselves.\n",
    "Instead, we just instantiate the featurizer object for later use in a `Workflow`."
   ]
  },
  {
   "cell_type": "code",
   "execution_count": 5,
   "metadata": {},
   "outputs": [],
   "source": [
    "with warnings.catch_warnings():  # prevent warning about deprecated NumPy feature\n",
    "    warnings.simplefilter(\"ignore\", category=FutureWarning)\n",
    "    features = MatminerCompositionFeatures(ionic_fast=True)"
   ]
  },
  {
   "cell_type": "markdown",
   "metadata": {},
   "source": [
    "`Features` are `DataValuedTransformations`, which means that they accept `Data` as input and produce other `Data` as output.\n",
    "Let us featurize the band gap dataset just to take a look at one of the resulting feature vectors:"
   ]
  },
  {
   "cell_type": "code",
   "execution_count": 12,
   "metadata": {},
   "outputs": [
    {
     "name": "stdout",
     "output_type": "stream",
     "text": [
      "[  2.     0.91   0.91   0.91   0.91   0.91  51.    83.    32.    80.12\n",
      "   5.24  83.    85.    86.     1.    85.91   0.16  86.   121.76 208.98\n",
      "  87.22 201.13  14.29 208.98 544.4  903.78 359.38 576.74  58.87 544.4\n",
      "  15.    15.     0.    15.     0.    15.     5.     6.     1.     5.91\n",
      "   0.16   6.   139.   148.     9.   147.19   1.47 148.     2.02   2.05\n",
      "   0.03   2.02   0.     2.02   2.     2.     0.     2.     0.     2.\n",
      "   3.     3.     0.     3.     0.     3.    10.    10.     0.    10.\n",
      "   0.    10.     0.    14.    14.    12.74   2.29  14.    15.    29.\n",
      "  14.    27.74   2.29  29.     0.     0.     0.     0.     0.     0.\n",
      "   3.     3.     0.     3.     0.     3.     0.     0.     0.     0.\n",
      "   0.     0.     0.     0.     0.     0.     0.     0.     3.     3.\n",
      "   0.     3.     0.     3.    31.56  32.95   1.39  32.82   0.23  32.95\n",
      "   0.     0.     0.     0.     0.     0.     0.     0.     0.     0.\n",
      "   0.     0.    12.   166.   154.    25.86  25.23  12.     0.     0.\n",
      "   0.     2.     3.    10.    12.74   0.07   0.11   0.36   0.46]\n"
     ]
    },
    {
     "data": {
      "image/png": "[encoded data removed]",
      "text/plain": [
       "<Figure size 432x288 with 1 Axes>"
      ]
     },
     "metadata": {
      "needs_background": "light"
     },
     "output_type": "display_data"
    }
   ],
   "source": [
    "t = features.fit(data).apply(data).samples()[-10]  # 9% Sb 91% Bi example from above\n",
    "\n",
    "with np.printoptions(precision=2, suppress=True):\n",
    "    print(t)\n",
    "\n",
    "plt.plot(t)\n",
    "plt.xlabel('feature index'); plt.ylabel('feature value')\n",
    "plt.show()\n",
    "\n",
    "del t"
   ]
  },
  {
   "cell_type": "markdown",
   "metadata": {},
   "source": [
    "## Machine-learning algorithms"
   ]
  },
  {
   "cell_type": "markdown",
   "metadata": {},
   "source": [
    "We compare three variants of random forest regression from the scientific community's `scikit-learn` project and the open-source `lolo` library.\n",
    "`smlb` wraps all of those already. \n",
    "Again, tab completion provides an overview of existing learners.\n",
    "Note that using the `lolo` learner requires the `lolo` dependency."
   ]
  },
  {
   "cell_type": "code",
   "execution_count": 13,
   "metadata": {},
   "outputs": [],
   "source": [
    "from learners.scikit_learn.random_forest_regression_sklearn import RandomForestRegressionSklearn\n",
    "from learners.scikit_learn.extremely_randomized_trees_regression_sklearn import ExtremelyRandomizedTreesRegressionSklearn\n",
    "from learners.scikit_learn.gradient_boosted_trees_regression_sklearn import GradientBoostedTreesRegressionSklearn\n",
    "\n",
    "from learners.lolo.random_forest_regression_lolo import RandomForestRegressionLolo"
   ]
  },
  {
   "cell_type": "markdown",
   "metadata": {},
   "source": [
    "Each of these learners derives from `Learner`, specifically `SupervisedLearner`.\n",
    "`Learner`s are special cases of `DataTransformation`s.\n",
    "They have a `fit` method for training the model and an `apply` method to predict new data.\n",
    "Predictions always take the form of `PredictiveDistribution`s. \n",
    "Implementations that return only point predictions yield a `DeltaPredictiveDistribution`."
   ]
  },
  {
   "cell_type": "markdown",
   "metadata": {},
   "source": [
    "`Learner`s can be parametrized at runtime. \n",
    "Here, we use default values.\n",
    "Specifying seeds for pseudo-random number generation is *mandatory*."
   ]
  },
  {
   "cell_type": "markdown",
   "metadata": {},
   "source": [
    "<div class=\"alert alert-block alert-info\">\n",
    "    <b><tt>smlb</tt> and pseudo-random numbers</b><br>\n",
    "    \"Random\" numbers are generated deterministically using <a href=\"https://en.wikipedia.org/wiki/Random_number_generation\">pseudo-random number generators</a> (PRNG).\n",
    "    <tt>smlb</tt> takes reproducibility seriously:\n",
    "    Given identical software and hardware, results will be deterministic for a given seed, even if running asynchronously, in parallel, or in a distributed environment.\n",
    "    This supports reproducibility; as a consequence, PRNG seeds must be specified.\n",
    "    For this, <tt>smlb</tt> uses ideas from the <a href=\"https://github.com/google/jax/blob/master/design_notes/prng.md\">Google JAX PRNG design</a>.\n",
    "</div>"
   ]
  },
  {
   "cell_type": "code",
   "execution_count": 14,
   "metadata": {},
   "outputs": [],
   "source": [
    "prng = smlb.Random(rng=42)  # master seed"
   ]
  },
  {
   "cell_type": "code",
   "execution_count": 15,
   "metadata": {},
   "outputs": [],
   "source": [
    "rng_seeds = prng.random.split(4)\n",
    "rf_skl = RandomForestRegressionSklearn(random_state=rng_seeds[0])\n",
    "ert_skl = ExtremelyRandomizedTreesRegressionSklearn(random_state=rng_seeds[1])\n",
    "gbt_skl = GradientBoostedTreesRegressionSklearn(random_state=rng_seeds[2])\n",
    "rf_lolo = RandomForestRegressionLolo()  # unfortunately, lolo does not support this yet; issue #206"
   ]
  },
  {
   "cell_type": "markdown",
   "metadata": {},
   "source": [
    "## Sampling"
   ]
  },
  {
   "cell_type": "markdown",
   "metadata": {},
   "source": [
    "We split the dataset into a validation set and training sets of increasing size.\n",
    "By keeping the validation set fixed, we avoid additional randomness between training set sizes due to the choice of validation set.\n",
    "\n",
    "In `smlb`, we do not draw these sets ourselves.\n",
    "Instead, we define `Sampler`s and pass those to a `Workflow` (next section).\n",
    "\n",
    "We choose the training set sizes to be equi-distant in log-space.\n",
    "The validation set must be large enough for sufficient error statistics,\n",
    "and small enough to leave enough samples for training.\n",
    "With 495 samples, this dataset is in a border region where both\n",
    "cross-validation and hold-out sets are feasible."
   ]
  },
  {
   "cell_type": "code",
   "execution_count": 16,
   "metadata": {},
   "outputs": [
    {
     "name": "stdout",
     "output_type": "stream",
     "text": [
      "[ 10  20  43  90 189 395]\n"
     ]
    }
   ],
   "source": [
    "nvalid = int(495*0.2)  # 20% hold-out set\n",
    "ntrain_min, ntrain_max, k = 10, 495-nvalid, 6  # k = number of training set sizes\n",
    "ntrain = np.logspace(np.log10(ntrain_min), np.log10(ntrain_max), k, dtype=int)\n",
    "print(ntrain)"
   ]
  },
  {
   "cell_type": "code",
   "execution_count": 17,
   "metadata": {},
   "outputs": [],
   "source": [
    "smpl_seeds = prng.random.split(k+1)\n",
    "smpl_valid = smlb.RandomSubsetSampler(size=nvalid, rng=smpl_seeds[0])\n",
    "smpl_train = tuple(smlb.RandomSubsetSampler(size=ntrain[i], rng=smpl_seeds[i+1]) for i in range(k))"
   ]
  },
  {
   "cell_type": "markdown",
   "metadata": {},
   "source": [
    "## Workflow"
   ]
  },
  {
   "cell_type": "markdown",
   "metadata": {},
   "source": [
    "It's time to put everything together!\n",
    "`Workflow`s are pre-defined algorithms for benchmarking.\n",
    "\n",
    "We use a simple `Workflow` to compare different algorithms on a single dataset.\n",
    "Again, use tab completion to select from existing `Workflow`s"
   ]
  },
  {
   "cell_type": "code",
   "execution_count": 18,
   "metadata": {},
   "outputs": [],
   "source": [
    "from workflows.learning_curve_regression import LearningCurveRegression"
   ]
  },
  {
   "cell_type": "code",
   "execution_count": 19,
   "metadata": {},
   "outputs": [
    {
     "name": "stdout",
     "output_type": "stream",
     "text": [
      "Learning-curve for multiple regression learners on a single dataset.\n",
      "\n",
      "    Algorithm:\n",
      "    1) Validation data\n",
      "       Draw validation data from dataset\n",
      "       For finite datasets, remove validation data from dataset\n",
      "    2) Training sets\n",
      "       Draw training sets from remaining dataset\n",
      "       Validate that there is no overlap with the validation set\n",
      "    3) Featurization\n",
      "       Featurize validation and training sets\n",
      "    4) Training and prediction\n",
      "       Train each learner on each training set\n",
      "       For each trained learner, predict validation set\n",
      "    5) Evaluate results\n",
      "       Compute evaluation metric for each run\n",
      "       Render each evaluation\n",
      "\n",
      "    Current limitations:\n",
      "    * no hyperparameter optimization\n",
      "    * no repeated sampling\n",
      "    \n",
      "Initialize workflow.\n",
      "\n",
      "        Parameters:\n",
      "            data: labeled data\n",
      "            training: sequence of Samplers, one for each training set size\n",
      "            validation: Sampler for validation set\n",
      "            learners: sequence of supervised regression algorithms\n",
      "            features: any data-valued transformation\n",
      "            metric: evaluation metric to use; root mean squared error by default\n",
      "            evaluations: one or more evaluations; default are learning curve and table\n",
      "        \n"
     ]
    }
   ],
   "source": [
    "print(LearningCurveRegression.__doc__)\n",
    "print(LearningCurveRegression.__init__.__doc__)"
   ]
  },
  {
   "cell_type": "markdown",
   "metadata": {},
   "source": [
    "Because we want to view the resulting plot directly in the notebook\n",
    "(as opposed to saving it to a file), we create a matplotlib figure\n",
    "and let the `LearningCurvePlot` render to it.\n",
    "\n",
    "The `Workflow` itself executes when we run it, \n",
    "and should take less than a minute to complete."
   ]
  },
  {
   "cell_type": "code",
   "execution_count": 20,
   "metadata": {},
   "outputs": [
    {
     "data": {
      "image/png": "[encoded data removed]",
      "text/plain": [
       "<Figure size 432x288 with 1 Axes>"
      ]
     },
     "metadata": {
      "needs_background": "light"
     },
     "output_type": "display_data"
    }
   ],
   "source": [
    "fig, ax = plt.subplots()\n",
    "lcplot = smlb.LearningCurvePlot(target=ax, rectify=True)\n",
    "\n",
    "wf = LearningCurveRegression(\n",
    "    data=data, training=smpl_train, validation=smpl_valid,\n",
    "    learners=[rf_skl, ert_skl, gbt_skl, rf_lolo],\n",
    "    features=features,\n",
    "    # default evaluation metric is smlb.RootMeanSquaredError\n",
    "    evaluations=[lcplot]\n",
    ")\n",
    "\n",
    "wf.run()\n",
    "\n",
    "ax.set_ylabel('RMSE / eV')\n",
    "plt.show()"
   ]
  },
  {
   "cell_type": "markdown",
   "metadata": {},
   "source": [
    "In this figure, `smlb` has shifted the plotted prediction errors for each training set size a little bit to the left and right (`rectify=True`) for better readability (otherwise, all points for a given training set size would sit on top of each other). \n",
    "\n",
    "The straight lines are fits of the learning-theoretical decay of the prediction errors to the observed values. The behaviour of all algorithms is in reasonable agreement with theory, especially given the small training set sizes.\n",
    "\n",
    "Overall, all random forest variants exhibit similar performance on this dataset.\n",
    "The observed RMSE is $\\approx$ 0.85 eV for 395 training samples, which corresponds to 7% of the $\\approx$ 12.3 eV range of band gaps in this dataset.\n",
    "We conclude that\n",
    "\n",
    "1. `lolo` random forest implementation is on par with the ones from `scikit-learn`\n",
    "2. Experimentally determined band gaps are predicted well, with RMSE between 2 eV and 0.85 eV depending on amount of training data"
   ]
  },
  {
   "cell_type": "code",
   "execution_count": null,
   "metadata": {},
   "outputs": [],
   "source": []
  }
 ],
 "metadata": {
  "kernelspec": {
   "display_name": "Python 3.7.7 64-bit",
   "language": "python",
   "name": "python37764bit1974b933839e48f68e50c40c17cd85a0"
  },
  "language_info": {
   "codemirror_mode": {
    "name": "ipython",
    "version": 3
   },
   "file_extension": ".py",
   "mimetype": "text/x-python",
   "name": "python",
   "nbconvert_exporter": "python",
   "pygments_lexer": "ipython3",
   "version": "3.7.7"
  }
 },
 "nbformat": 4,
 "nbformat_minor": 4
}
