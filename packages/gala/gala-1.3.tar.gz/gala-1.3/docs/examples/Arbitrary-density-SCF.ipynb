{
 "cells": [
  {
   "cell_type": "markdown",
   "metadata": {},
   "source": [
    "# Compute an SCF representation of an arbitrary density distribution\n",
    "\n",
    "Basis function expansions are a useful tool for computing gravitational potentials and forces from an arbitrary density function that may not have an analytic solution to Poisson's equation. They are also useful for generating smoothed or compressed representations of gravitational potentials from discrete particle distributions. For astronomical density distributions, a useful expansion technique is the Self-Consistent Field (SCF) method, as initially developed by [Hernquist & Ostriker (1992)](http://dx.doi.org/10.1086/171025). In this method, using the notation of [Lowing et al. 2011](http://dx.doi.org/10.1111/j.1365-2966.2011.19222.x), the density and potential functions are expressed as:\n",
    "\n",
    "$$\n",
    "\\rho(r, \\phi, \\theta) = \\sum_{l=0}^{l_{\\rm max}} \\sum_{m=0}^{l} \\sum_{n=0}^{n_{\\rm max}} \n",
    "    Y_{lm}(\\theta) \\, \\rho_{nl}(r) \\, \\left[S_{nlm}\\,\\cos(m\\phi) + T_{nlm}\\,\\sin(m\\phi) \\right] \\\\\n",
    "\\Phi(r, \\phi, \\theta) = \\sum_{l=0}^{l_{\\rm max}} \\sum_{m=0}^{l} \\sum_{n=0}^{n_{\\rm max}} \n",
    "    Y_{lm}(\\theta) \\, \\Phi_{nl}(r) \\, \\left[S_{nlm}\\,\\cos(m\\phi) + T_{nlm}\\,\\sin(m\\phi) \\right]\n",
    "$$\n",
    "\n",
    "where $Y_{lm}(\\theta)$ are the usual spherical harmonics, $\\rho_{nlm}(r)$ and $\\Phi_{nlm}(r)$ are bi-orthogonal radial basis functions, and $S_{nlm}$ and $T_{nlm}$ are expansion coefficients, which need to be computed from a given density function. In this notebook, we'll estimate low-order expansion coefficients for an analytic density distribution (written as a Python function)."
   ]
  },
  {
   "cell_type": "code",
   "execution_count": null,
   "metadata": {},
   "outputs": [],
   "source": [
    "# Some imports we'll need later:\n",
    "\n",
    "# Third-party\n",
    "import astropy.units as u\n",
    "import matplotlib.pyplot as plt\n",
    "import numpy as np\n",
    "%matplotlib inline\n",
    "\n",
    "# Custom\n",
    "import gala.coordinates as gc\n",
    "import gala.dynamics as gd\n",
    "import gala.integrate as gi\n",
    "import gala.potential as gp\n",
    "from gala.units import galactic\n",
    "from gala.potential.scf import compute_coeffs, compute_coeffs_discrete"
   ]
  },
  {
   "cell_type": "markdown",
   "metadata": {},
   "source": [
    "## SCF representation of an analytic density distribution\n",
    "\n",
    "### Custom spherical density function\n",
    "\n",
    "For this example, we'll assume that we want a potential representation of the spherical density function:\n",
    "$$\n",
    "\\rho(r) = \\frac{1}{r^{1.8} \\, (1 + r)^{2.7}}\n",
    "$$\n",
    "\n",
    "Let's start by writing a density function that takes a single set of Cartesian coordinates (x, y, z) and returns the (scalar) value of the density at that location:"
   ]
  },
  {
   "cell_type": "code",
   "execution_count": null,
   "metadata": {},
   "outputs": [],
   "source": [
    "def density_func(x, y, z):\n",
    "    r = np.sqrt(x**2 + y**2 + z**2)\n",
    "    return 1 / (r**1.8 * (1 + r)**2.7)"
   ]
  },
  {
   "cell_type": "markdown",
   "metadata": {},
   "source": [
    "Let's visualize this density function. For comparison, let's also over-plot the Hernquist density distribution. The SCF expansion uses the Hernquist density for radial basis functions, so the similarity of the density we want to represent and the Hernquist function gives us a sense of how many radial terms we will need in the expansion:"
   ]
  },
  {
   "cell_type": "code",
   "execution_count": null,
   "metadata": {},
   "outputs": [],
   "source": [
    "hern = gp.HernquistPotential(m=1, c=1)"
   ]
  },
  {
   "cell_type": "code",
   "execution_count": null,
   "metadata": {},
   "outputs": [],
   "source": [
    "x = np.logspace(-1, 1, 128)\n",
    "plt.plot(x, density_func(x, 0, 0), marker='', label='custom density')\n",
    "\n",
    "# need a 3D grid for the potentials in Gala\n",
    "xyz = np.zeros((3, len(x)))\n",
    "xyz[0] = x\n",
    "plt.plot(x, hern.density(xyz), marker='', label='Hernquist')\n",
    "\n",
    "plt.xscale('log')\n",
    "plt.yscale('log')\n",
    "\n",
    "plt.xlabel('$r$')\n",
    "plt.ylabel(r'$\\rho(r)$')\n",
    "\n",
    "plt.legend(loc='best');"
   ]
  },
  {
   "cell_type": "markdown",
   "metadata": {},
   "source": [
    "These functions are not *too* different, implying that we probably don't need too many radial expansion terms in order to well represent the density/potential from this custom function. As an arbitrary number, let's choose to compute radial terms up to and including $n = 10$. In this case, because the density we want to represent is spherical, we don't need any $l, m$ terms, so we set `lmax=0`. We can also neglect the sin() terms of the expansion ($T_{nlm}$):"
   ]
  },
  {
   "cell_type": "code",
   "execution_count": null,
   "metadata": {},
   "outputs": [],
   "source": [
    "(S, Serr), _ = compute_coeffs(density_func, \n",
    "                              nmax=10, lmax=0, \n",
    "                              M=1., r_s=1., S_only=True)"
   ]
  },
  {
   "cell_type": "markdown",
   "metadata": {},
   "source": [
    "The above variable `S` will contain the expansion coefficients, and the variable `Serr` will contain an estimate of the error in this coefficient value. Let's now construct an `SCFPotential` object with the coefficients we just computed:"
   ]
  },
  {
   "cell_type": "code",
   "execution_count": null,
   "metadata": {},
   "outputs": [],
   "source": [
    "S"
   ]
  },
  {
   "cell_type": "code",
   "execution_count": null,
   "metadata": {},
   "outputs": [],
   "source": [
    "pot = gp.SCFPotential(m=1., r_s=1, \n",
    "                      Snlm=S, Tnlm=np.zeros_like(S))"
   ]
  },
  {
   "cell_type": "markdown",
   "metadata": {},
   "source": [
    "Now let's visualize the SCF estimated density with the true density:"
   ]
  },
  {
   "cell_type": "code",
   "execution_count": null,
   "metadata": {},
   "outputs": [],
   "source": [
    "x = np.logspace(-1, 1, 128)\n",
    "plt.plot(x, density_func(x, 0, 0), marker='', label='custom density')\n",
    "\n",
    "# need a 3D grid for the potentials in Gala\n",
    "xyz = np.zeros((3, len(x)))\n",
    "xyz[0] = x\n",
    "plt.plot(x, pot.density(xyz), marker='', label='SCF density')\n",
    "\n",
    "plt.xscale('log')\n",
    "plt.yscale('log')\n",
    "\n",
    "plt.xlabel('$r$')\n",
    "plt.ylabel(r'$\\rho(r)$')\n",
    "\n",
    "plt.legend(loc='best');"
   ]
  },
  {
   "cell_type": "markdown",
   "metadata": {},
   "source": [
    "This does a pretty good job of capturing the radial fall-off of our custom density function, but you may want to iterate a bit to satisfy your own constraints. For example, you may want the density to be represented with a less than 1% deviation over some range of radii, or whatever.\n",
    "\n",
    "As a second example, let's now try a custom axisymmetric density distribution:"
   ]
  },
  {
   "cell_type": "markdown",
   "metadata": {},
   "source": [
    "### Custom axisymmetric density function\n",
    "\n",
    "For this example, we'll assume that we want a potential representation of the flattened Hernquist density function:\n",
    "$$\n",
    "\\rho(R, z) = \\frac{1}{r \\, (1 + r)^{3}}\\\\\n",
    "r^2 = R^2 + \\frac{z^2}{q^2}\n",
    "$$\n",
    "where $q$ is the flattening, which we'll set to $q=0.6$.\n",
    "\n",
    "Let's again start by writing a density function that takes a single set of Cartesian coordinates (x, y, z) and returns the (scalar) value of the density at that location:"
   ]
  },
  {
   "cell_type": "code",
   "execution_count": null,
   "metadata": {},
   "outputs": [],
   "source": [
    "def density_func_flat(x, y, z, q):\n",
    "    r = np.sqrt(x**2 + y**2 + (z / q)**2)\n",
    "    return 1 / (r * (1 + r)**3) / (2*np.pi)"
   ]
  },
  {
   "cell_type": "markdown",
   "metadata": {},
   "source": [
    "Let's compute the density along a diagonal line for a few different flattenings and again compare to the non-flattened Hernquist profile:"
   ]
  },
  {
   "cell_type": "code",
   "execution_count": null,
   "metadata": {},
   "outputs": [],
   "source": [
    "x = np.logspace(-1, 1, 128)\n",
    "xyz = np.zeros((3, len(x)))\n",
    "xyz[0] = x\n",
    "xyz[2] = x\n",
    "\n",
    "for q in np.arange(0.6, 1+1e-3, 0.2):\n",
    "    plt.plot(x, density_func_flat(xyz[0], 0., xyz[2], q), marker='', label='custom density: q={0}'.format(q))\n",
    "\n",
    "plt.plot(x, hern.density(xyz), marker='', ls='--', label='Hernquist')\n",
    "\n",
    "plt.xscale('log')\n",
    "plt.yscale('log')\n",
    "\n",
    "plt.xlabel('$r$')\n",
    "plt.ylabel(r'$\\rho(r)$')\n",
    "\n",
    "plt.legend(loc='best');"
   ]
  },
  {
   "cell_type": "markdown",
   "metadata": {},
   "source": [
    "Because this is an axisymmetric density distribution, we need to also compute $l$ terms in the expansion, so we set `lmax=6`, but we can skip the $m$ terms using `skip_m=True`. Because this computes more coefficients, we might want to see the progress in real time - if you install the Python package `tqdm` and pass `progress=True`, it will also display a progress bar:"
   ]
  },
  {
   "cell_type": "code",
   "execution_count": null,
   "metadata": {},
   "outputs": [],
   "source": [
    "q = 0.6\n",
    "(S_flat, Serr_flat), _ = compute_coeffs(density_func_flat, \n",
    "                                        nmax=4, lmax=6, args=(q, ),\n",
    "                                        M=1., r_s=1., S_only=True, \n",
    "                                        skip_m=True, progress=True)"
   ]
  },
  {
   "cell_type": "code",
   "execution_count": null,
   "metadata": {},
   "outputs": [],
   "source": [
    "pot_flat = gp.SCFPotential(m=1., r_s=1, \n",
    "                           Snlm=S_flat, Tnlm=np.zeros_like(S_flat))"
   ]
  },
  {
   "cell_type": "code",
   "execution_count": null,
   "metadata": {},
   "outputs": [],
   "source": [
    "x = np.logspace(-1, 1, 128)\n",
    "xyz = np.zeros((3, len(x)))\n",
    "xyz[0] = x\n",
    "xyz[2] = x\n",
    "\n",
    "plt.plot(x, density_func_flat(xyz[0], xyz[1], xyz[2], q), marker='', \n",
    "         label='true density q={0}'.format(q))\n",
    "\n",
    "plt.plot(x, pot_flat.density(xyz), marker='', ls='--', label='SCF density')\n",
    "\n",
    "plt.xscale('log')\n",
    "plt.yscale('log')\n",
    "\n",
    "plt.xlabel('$r$')\n",
    "plt.ylabel(r'$\\rho(r)$')\n",
    "\n",
    "plt.legend(loc='best');"
   ]
  },
  {
   "cell_type": "markdown",
   "metadata": {},
   "source": [
    "The SCF potential object acts like any other `gala.potential` object, meaning we can, e.g., plot density or potential contours:"
   ]
  },
  {
   "cell_type": "code",
   "execution_count": null,
   "metadata": {},
   "outputs": [],
   "source": [
    "grid = np.linspace(-8, 8, 128)\n",
    "\n",
    "fig, axes = plt.subplots(1, 2, figsize=(10, 5), \n",
    "                         sharex=True, sharey=True)\n",
    "_ = pot_flat.plot_contours((grid, grid, 0), ax=axes[0])\n",
    "axes[0].set_xlabel('$x$')\n",
    "axes[0].set_ylabel('$y$')\n",
    "\n",
    "_ = pot_flat.plot_contours((grid, 0, grid), ax=axes[1])\n",
    "axes[1].set_xlabel('$x$')\n",
    "axes[1].set_ylabel('$z$')\n",
    "\n",
    "for ax in axes:\n",
    "    ax.set_aspect('equal')"
   ]
  },
  {
   "cell_type": "markdown",
   "metadata": {},
   "source": [
    "And numerically integrate orbits by passing in initial conditions and integration parameters:"
   ]
  },
  {
   "cell_type": "code",
   "execution_count": null,
   "metadata": {},
   "outputs": [],
   "source": [
    "w0 = gd.PhaseSpacePosition(pos=[3.5, 0, 1],\n",
    "                           vel=[0, 0.4, 0.05])"
   ]
  },
  {
   "cell_type": "code",
   "execution_count": null,
   "metadata": {},
   "outputs": [],
   "source": [
    "orbit_flat = pot_flat.integrate_orbit(w0, dt=1., n_steps=5000)\n",
    "_ = orbit_flat.plot()"
   ]
  }
 ],
 "metadata": {
  "kernelspec": {
   "display_name": "Python 3",
   "language": "python",
   "name": "python3"
  },
  "language_info": {
   "codemirror_mode": {
    "name": "ipython",
    "version": 3
   },
   "file_extension": ".py",
   "mimetype": "text/x-python",
   "name": "python",
   "nbconvert_exporter": "python",
   "pygments_lexer": "ipython3",
   "version": "3.8.3"
  },
  "toc": {
   "base_numbering": 1,
   "nav_menu": {},
   "number_sections": true,
   "sideBar": true,
   "skip_h1_title": false,
   "title_cell": "Table of Contents",
   "title_sidebar": "Contents",
   "toc_cell": false,
   "toc_position": {},
   "toc_section_display": true,
   "toc_window_display": false
  }
 },
 "nbformat": 4,
 "nbformat_minor": 2
}
