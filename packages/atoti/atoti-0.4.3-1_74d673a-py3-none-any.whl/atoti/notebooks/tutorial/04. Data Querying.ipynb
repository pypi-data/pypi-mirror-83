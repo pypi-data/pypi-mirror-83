{
 "cells": [
  {
   "cell_type": "markdown",
   "metadata": {},
   "source": [
    "# Data Querying\n",
    "\n",
    "You can execute queries and get back the result as a pandas DataFrame.\n",
    "\n",
    "There are two ways to query data:\n",
    "\n",
    "- with cube.query by passing a list of measure and level objects\n",
    "- with session.query_mdx by passing an MDX string"
   ]
  },
  {
   "cell_type": "markdown",
   "metadata": {},
   "source": [
    "## Querying current session"
   ]
  },
  {
   "cell_type": "code",
   "execution_count": null,
   "metadata": {},
   "outputs": [],
   "source": [
    "import atoti as tt\n",
    "\n",
    "session = tt.create_session()\n",
    "store = session.read_csv(\"data/sales.csv\", keys=[\"Sale ID\"])\n",
    "cube = session.create_cube(store, \"Sales\")"
   ]
  },
  {
   "cell_type": "markdown",
   "metadata": {},
   "source": [
    "### Querying a cube"
   ]
  },
  {
   "cell_type": "code",
   "execution_count": null,
   "metadata": {},
   "outputs": [],
   "source": [
    "m = cube.measures\n",
    "lvl = cube.levels\n",
    "cube.query(m[\"Amount.SUM\"], m[\"Quantity.SUM\"], levels=[lvl[\"Product\"]])"
   ]
  },
  {
   "cell_type": "markdown",
   "metadata": {},
   "source": [
    "### MDX Query"
   ]
  },
  {
   "cell_type": "code",
   "execution_count": null,
   "metadata": {},
   "outputs": [],
   "source": [
    "mdx_query = \"\"\"\n",
    "SELECT\n",
    "  NON EMPTY [Measures].[Amount.SUM] ON COLUMNS,\n",
    "  NON EMPTY [Hierarchies].[Product].[Product].Members ON ROWS\n",
    "  FROM (\n",
    "    SELECT\n",
    "    {\n",
    "      [Hierarchies].[Date].[ALL].[AllMember].[2020-05-14],\n",
    "      [Hierarchies].[Date].[ALL].[AllMember].[2020-05-15],\n",
    "      [Hierarchies].[Date].[ALL].[AllMember].[2020-05-16]\n",
    "    } ON COLUMNS\n",
    "    FROM [Sales]\n",
    "  )\n",
    "\"\"\""
   ]
  },
  {
   "cell_type": "code",
   "execution_count": null,
   "metadata": {},
   "outputs": [],
   "source": [
    "session.query_mdx(mdx_query)"
   ]
  },
  {
   "cell_type": "markdown",
   "metadata": {},
   "source": [
    "## Querying remote cube\n",
    "\n",
    "It is possible to connect to an existing cube and query it.\n",
    "This cube can be started by another atoti process or even a classic ActivePivot (version >=5.7).\n",
    "\n",
    "To do that you need to login and open a query session that will only let you query the cubes but not modify them.\n",
    "\n",
    "In this example we will connect to the session created before with atoti:"
   ]
  },
  {
   "cell_type": "code",
   "execution_count": null,
   "metadata": {},
   "outputs": [],
   "source": [
    "existing_session = tt.open_query_session(\n",
    "    session.url,  # Here you would put the base URL of the existing session.\n",
    "    # if we needed authentication we could pass it like that\n",
    "    # auth=tt.query.create_basic_authentication(\"admin\", \"admin\"),\n",
    ")\n",
    "existing_session"
   ]
  },
  {
   "cell_type": "markdown",
   "metadata": {},
   "source": [
    "### Querying a remote cube\n",
    "\n",
    "You can retrieve the cubes of the remote session to access their levels and measures and query it."
   ]
  },
  {
   "cell_type": "code",
   "execution_count": null,
   "metadata": {},
   "outputs": [],
   "source": [
    "existing_cube = existing_session.cubes[\"Sales\"]\n",
    "lvl = existing_cube.levels\n",
    "m = existing_cube.measures\n",
    "existing_cube.query(m[\"Amount.SUM\"], m[\"Quantity.SUM\"], levels=[lvl[\"Product\"]])"
   ]
  },
  {
   "cell_type": "markdown",
   "metadata": {},
   "source": [
    "### Remote MDX query"
   ]
  },
  {
   "cell_type": "code",
   "execution_count": null,
   "metadata": {},
   "outputs": [],
   "source": [
    "existing_session.query_mdx(mdx_query)"
   ]
  }
 ],
 "metadata": {
  "kernelspec": {
   "display_name": "Python 3",
   "language": "python",
   "name": "python3"
  },
  "language_info": {
   "codemirror_mode": {
    "name": "ipython",
    "version": 3
   },
   "file_extension": ".py",
   "mimetype": "text/x-python",
   "name": "python",
   "nbconvert_exporter": "python",
   "pygments_lexer": "ipython3",
   "version": "3.7.3"
  }
 },
 "nbformat": 4,
 "nbformat_minor": 4
}
