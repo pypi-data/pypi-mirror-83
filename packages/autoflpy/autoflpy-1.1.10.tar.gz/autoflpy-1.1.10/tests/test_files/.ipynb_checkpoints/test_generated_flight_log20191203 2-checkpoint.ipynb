{
 "cells": [
  {
   "cell_type": "markdown",
   "metadata": {},
   "source": [
    "<h1> <div style = \"font-size:50pt;text-align:center\">Automatic Flight Test Report</div></h1>\n",
    "<i><div style = \"font-size:25pt;text-align:center\">Flight No 2, 20191203 </div></i>\n",
    "\n",
    "<img src=\"..\\images\\logo here.png\" width=\"50%\" alt=\"logo, To view images, place the images in a folder called images (all lower case).\">\n",
    "\n",
    "<div style = \"font-size:25pt;text-align:center\"> <i> Project description here.\n",
    "  </i>  </div>"
   ]
  },
  {
   "cell_type": "markdown",
   "metadata": {},
   "source": [
    "<i>Below is the Required code, please run this code to allow other code to function</i> "
   ]
  },
  {
   "cell_type": "code",
   "execution_count": 1,
   "metadata": {},
   "outputs": [
    {
     "ename": "ModuleNotFoundError",
     "evalue": "No module named 'flight_log_code'",
     "output_type": "error",
     "traceback": [
      "\u001b[1;31m---------------------------------------------------------------------------\u001b[0m",
      "\u001b[1;31mModuleNotFoundError\u001b[0m                       Traceback (most recent call last)",
      "\u001b[1;32m<ipython-input-1-ac36941445e3>\u001b[0m in \u001b[0;36m<module>\u001b[1;34m()\u001b[0m\n\u001b[0;32m      4\u001b[0m \u001b[1;31m# Creates a link to where the code is stored.\u001b[0m\u001b[1;33m\u001b[0m\u001b[1;33m\u001b[0m\u001b[0m\n\u001b[0;32m      5\u001b[0m \u001b[0msys\u001b[0m\u001b[1;33m.\u001b[0m\u001b[0mpath\u001b[0m\u001b[1;33m.\u001b[0m\u001b[0mappend\u001b[0m\u001b[1;33m(\u001b[0m\u001b[1;34m\"C:\\\\Users\\\\aw6g15\\\\University of Southampton\\\\Adrian Weishaeupl - Documents\\\\PhD\\\\2019\\\\AutoFLpy\\\\AutoFLpy\\\\tests\"\u001b[0m\u001b[1;33m)\u001b[0m\u001b[1;33m\u001b[0m\u001b[0m\n\u001b[1;32m----> 6\u001b[1;33m \u001b[1;32mfrom\u001b[0m \u001b[0mflight_log_code\u001b[0m \u001b[1;32mimport\u001b[0m \u001b[1;33m*\u001b[0m\u001b[1;33m\u001b[0m\u001b[0m\n\u001b[0m\u001b[0;32m      7\u001b[0m \u001b[1;31m# file_path of the flight data.\u001b[0m\u001b[1;33m\u001b[0m\u001b[1;33m\u001b[0m\u001b[0m\n\u001b[0;32m      8\u001b[0m \u001b[0mflight_data_file_path\u001b[0m \u001b[1;33m=\u001b[0m \u001b[1;34m\"C:\\\\Users\\\\aw6g15\\\\University of Southampton\\\\Adrian Weishaeupl - Documents\\\\PhD\\\\2019\\\\AutoFLpy\\\\AutoFLpy\\\\tests\\\\test_files\\\\\"\u001b[0m\u001b[1;33m\u001b[0m\u001b[0m\n",
      "\u001b[1;31mModuleNotFoundError\u001b[0m: No module named 'flight_log_code'"
     ]
    }
   ],
   "source": [
    "# GRAPH_DATA_IMPORT\n",
    "import sys\n",
    "import matplotlib.pyplot as plt\n",
    "# Creates a link to where the code is stored.\n",
    "sys.path.append(\"C:\\\\Users\\\\aw6g15\\\\University of Southampton\\\\Adrian Weishaeupl - Documents\\\\PhD\\\\2019\\\\AutoFLpy\\\\AutoFLpy\\\\tests\")\n",
    "from autoflpy.flight_log_code import *\n",
    "# file_path of the flight data.\n",
    "flight_data_file_path = \"C:\\\\Users\\\\aw6g15\\\\University of Southampton\\\\Adrian Weishaeupl - Documents\\\\PhD\\\\2019\\\\AutoFLpy\\\\AutoFLpy\\\\tests\\\\test_files\\\\\"\n",
    "# Excel File name\n",
    "flight_data_file_name = \"test_xls.xls\"\n",
    "# Arduino File name\n",
    "arduino_flight_data_name = \"test_arduino.csv\"\n",
    "# Arduino Data file path\n",
    "arduino_data_file_path = \"C:\\\\Users\\\\aw6g15\\\\University of Southampton\\\\Adrian Weishaeupl - Documents\\\\PhD\\\\2019\\\\AutoFLpy\\\\AutoFLpy\\\\tests\\\\test_files\\\\\"\n",
    "# Excell Sheets\n",
    "frame_list = flight_data(flight_data_file_path, flight_data_file_name)\n",
    "# A list containing the date first and then the flight number\n",
    "Date_and_flight_Number = date_and_flight_number(frame_list)\n",
    "# Retrieves arduino flight data\n",
    "arduino_micro_flight_data_frame = arduino_micro_frame(arduino_data_file_path, arduino_flight_data_name)\n",
    "# Appends audino frame to flight data from pixhawk\n",
    "frame_list.append(arduino_micro_flight_data_frame)\n",
    "# Sorts frames by time\n",
    "sorted_frames = flight_data_time_sorter(frame_list)\n",
    "# Creates a list of all the values.\n",
    "values_list = flight_data_and_axis(sorted_frames)"
   ]
  },
  {
   "cell_type": "markdown",
   "metadata": {},
   "source": [
    "# Table of Contents <a class=\"anchor\" id=\"Table-of-Contents\"></a>\n",
    "* [Summary](#Summary)\n",
    "* [METAR information](#METAR-Information) \n",
    "* [Checklist information](#Checklist-Information) \n",
    "* [Graphs](#Graphs) \n",
    "  * [GPS altitude and speed plotted against time](#GPS-Against-Time) \n",
    "  * [GPS latitude and longitude](#GPS-Lat-Long) \n",
    "  * [Control inputs plotted against time](#Control-Inputs) \n",
    "  * [Barometry data aginst time](#Barometry) \n",
    "  * [Flight attitude](#Attitude) \n",
    "  * [Flight computer vibration data](#vibration-data) \n",
    "  * [Arduino temprature data](#Arduino-temprature-data) \n",
    "  * [Arduino battery data](#Arduino-battery-data) "
   ]
  },
  {
   "cell_type": "markdown",
   "metadata": {},
   "source": [
    "<h1>Summary</h1><a class=\"anchor\" id=\"Summary\"></a>\n",
    "\n",
    "This is the flight log for Flight Number 2 on 20191203."
   ]
  },
  {
   "cell_type": "markdown",
   "metadata": {},
   "source": [
    "<h1>Metar Information <a class=\"anchor\" id=\"Metar-Information\"></a></h1>\n",
    "\n",
    "No METARs for EGHI for the date 03122019 from a starting time of 9:00 and an end time of 9:59.\n"
   ]
  },
  {
   "cell_type": "markdown",
   "metadata": {},
   "source": [
    "<h1>Checklist Information</h1><a class=\"anchor\" id=\"Checklist-Information\"></a>\n",
    "\n",
    "The Pre-Flight, Launch and Post-Flight checklists were actioned. The Engine Failure emergency checklist was actioned.\n",
    "\n",
    "The flight Duration was recorded as / can be found at: 5.0, this data was recorded by Adrian Weishaeupl.\n",
    "\n",
    "The Pre-Flight was actioned by Adrian Weishaeupl starting at 2019-11-03 15:43:07 and ending at 2019-12-03 15:43:30. The notes recorded on this checklist were: <i>TEST 1.</i>\n",
    "\n",
    "The Launch was actioned by Adrian Weishaeupl starting at 2019-11-03 15:43:31 and ending at 2019-12-03 15:43:48. The notes recorded on this checklist were: <i>TEST 2.</i>\n",
    "\n",
    "The Post-Flight was actioned by Adrian Weishaeupl starting at 2019-11-03 15:43:49 and ending at 2019-12-03 15:44:23. The notes recorded on this checklist were: <i>TEST 3.</i>\n",
    "\n",
    "The Engine Failure was actioned by Adrian Weishaeupl starting at 2019-11-03 15:37:45 and ending at 2019-12-03 15:38:38. The notes recorded on this checklist were: <i>ESC burned out in the battery compartment (TEST).</i>\n",
    "\n",
    "The checklist version used was VER 20190723_SP.\n",
    "The emergency checklist version used was VER 20190723_SP."
   ]
  },
  {
   "cell_type": "markdown",
   "metadata": {},
   "source": [
    "<h1>Graphs</h1><a class=\"anchor\" id=\"Graphs\"></a>\n",
    "\n",
    "Below are the Graphs of the data recorded from the flight.\n",
    "\n"
   ]
  },
  {
   "cell_type": "markdown",
   "metadata": {},
   "source": [
    "<h2>GPS altitude and speed plotted against time</h2><a class=\"anchor\" id=\"GPS-Against-Time\"></a> "
   ]
  },
  {
   "cell_type": "code",
   "execution_count": null,
   "metadata": {},
   "outputs": [],
   "source": [
    "x_limits=[\"x_min\", \"x_max\"]\n",
    "y_limits_left=[\"y_min\", \"y_max\"]\n",
    "y_limits_right=[\"y_min\", \"y_max\"]\n",
    "legend_location=1\n",
    "multiaxis_graph_function([[\"y\", \"altitude\", \"gps\"]], [[\"y\", \"groundcourse\", \"gps\"], [\"x\", \"time\", \"gps\"]], values_list, x_limits, y_limits_left, y_limits_right, legend_location)"
   ]
  },
  {
   "cell_type": "code",
   "execution_count": null,
   "metadata": {},
   "outputs": [],
   "source": [
    "x_limits=[\"x_min\", \"x_max\"]\n",
    "y_limits=[\"y_min\", \"y_max\"]\n",
    "graph_function([[\"y\", \"groundspeed\", \"gps\"], [\"x\", \"time\", \"gps\"]], values_list, x_limits, y_limits)"
   ]
  },
  {
   "cell_type": "markdown",
   "metadata": {},
   "source": [
    "<h2>GPS latitude and longitude</h2><a class=\"anchor\" id=\"GPS-Lat-Long\"></a> "
   ]
  },
  {
   "cell_type": "code",
   "execution_count": null,
   "metadata": {},
   "outputs": [],
   "source": [
    "x_limits=[\"x_min\", \"x_max\"]\n",
    "y_limits=[\"y_min\", \"y_max\"]\n",
    "graph_function([[\"x\", \"latitiude\", \"gps\"], [\"y\", \"longitude\", \"gps\"]], values_list, x_limits, y_limits)"
   ]
  },
  {
   "cell_type": "markdown",
   "metadata": {},
   "source": [
    "<h2>Control inputs plotted against time</h2><a class=\"anchor\" id=\"Control-Inputs\"></a> "
   ]
  },
  {
   "cell_type": "code",
   "execution_count": null,
   "metadata": {},
   "outputs": [],
   "source": [
    "x_limits=[\"x_min\", \"x_max\"]\n",
    "y_limits=[\"y_min\", \"y_max\"]\n",
    "graph_function([[\"x\", \"time\", \"rcin\"], [\"y\", \"flap ch5\", \"rcin\"], [\"y\", \"subdeploy ch6\", \"rcin\"]], values_list, x_limits, y_limits)"
   ]
  },
  {
   "cell_type": "code",
   "execution_count": null,
   "metadata": {},
   "outputs": [],
   "source": [
    "x_limits=[\"x_min\", \"x_max\"]\n",
    "y_limits=[\"y_min\", \"y_max\"]\n",
    "graph_function([[\"x\", \"time\", \"rcin\"], [\"y\", \"throttle ch3\", \"rcin\"]], values_list, x_limits, y_limits)"
   ]
  },
  {
   "cell_type": "code",
   "execution_count": null,
   "metadata": {},
   "outputs": [],
   "source": [
    "x_limits=[\"x_min\", \"x_max\"]\n",
    "y_limits=[\"y_min\", \"y_max\"]\n",
    "graph_function([[\"x\", \"time\", \"rcin\"], [\"y\", \"aileron ch1\", \"rcin\"], [\"y\", \"elevator ch2\", \"rcin\"], [\"y\", \"rudder ch3\", \"rcin\"]], values_list, x_limits, y_limits)"
   ]
  },
  {
   "cell_type": "markdown",
   "metadata": {},
   "source": [
    "<h2>Barometry data aginst time</h2><a class=\"anchor\" id=\"Barometry\"></a> "
   ]
  },
  {
   "cell_type": "code",
   "execution_count": null,
   "metadata": {},
   "outputs": [],
   "source": [
    "x_limits=[\"x_min\", \"x_max\"]\n",
    "y_limits_left=[\"y_min\", \"y_max\"]\n",
    "y_limits_right=[\"y_min\", \"y_max\"]\n",
    "legend_location=1\n",
    "multiaxis_graph_function([[\"y\", \"altitude\", \"baro\"], [\"x\", \"time\", \"baro\"]], [[\"y\", \"pressure\", \"baro\"], [\"x\", \"time\", \"baro\"]], values_list, x_limits, y_limits_left, y_limits_right, legend_location)"
   ]
  },
  {
   "cell_type": "code",
   "execution_count": null,
   "metadata": {},
   "outputs": [],
   "source": [
    "x_limits=[\"x_min\", \"x_max\"]\n",
    "y_limits=[\"y_min\", \"y_max\"]\n",
    "graph_function([[\"y\", \"temperature\", \"baro\"], [\"x\", \"time\", \"baro\"]], values_list, x_limits, y_limits)"
   ]
  },
  {
   "cell_type": "markdown",
   "metadata": {},
   "source": [
    "<h2>Flight attitude</h2><a class=\"anchor\" id=\"Attitude\"></a> "
   ]
  },
  {
   "cell_type": "code",
   "execution_count": null,
   "metadata": {},
   "outputs": [],
   "source": [
    "x_limits=[\"x_min\", \"x_max\"]\n",
    "y_limits=[\"y_min\", \"y_max\"]\n",
    "graph_function([[\"y\", \"pitch\", \"ctun\"], [\"x\", \"time\", \"ctun\"]], values_list, x_limits, y_limits)"
   ]
  },
  {
   "cell_type": "code",
   "execution_count": null,
   "metadata": {},
   "outputs": [],
   "source": [
    "x_limits=[\"x_min\", \"x_max\"]\n",
    "y_limits=[\"y_min\", \"y_max\"]\n",
    "graph_function([[\"y\", \"roll\", \"ctun\"], [\"x\", \"time\", \"ctun\"]], values_list, x_limits, y_limits)"
   ]
  },
  {
   "cell_type": "code",
   "execution_count": null,
   "metadata": {},
   "outputs": [],
   "source": [
    "x_limits=[\"x_min\", \"x_max\"]\n",
    "y_limits=[\"y_min\", \"y_max\"]\n",
    "graph_function([[\"y\", \"aoa\", \"aoa\"], [\"x\", \"time\", \"aoa\"]], values_list, x_limits, y_limits)"
   ]
  },
  {
   "cell_type": "code",
   "execution_count": null,
   "metadata": {},
   "outputs": [],
   "source": [
    "x_limits=[\"x_min\", \"x_max\"]\n",
    "y_limits=[\"y_min\", \"y_max\"]\n",
    "graph_function([[\"y\", \"ssa\", \"aoa\"], [\"x\", \"time\", \"aoa\"]], values_list, x_limits, y_limits)"
   ]
  },
  {
   "cell_type": "markdown",
   "metadata": {},
   "source": [
    "<h2>Flight computer vibration data</h2><a class=\"anchor\" id=\"vibration-data\"></a> "
   ]
  },
  {
   "cell_type": "code",
   "execution_count": null,
   "metadata": {},
   "outputs": [],
   "source": [
    "x_limits=[\"x_min\", \"x_max\"]\n",
    "y_limits=[\"y_min\", \"y_max\"]\n",
    "graph_function([[\"x\", \"time\", \"vibe\"], [\"y\", \"vibex\", \"vibe\"], [\"y\", \"vibey\", \"vibe\"], [\"y\", \"vibez\", \"vibe\"]], values_list, x_limits, y_limits)"
   ]
  },
  {
   "cell_type": "markdown",
   "metadata": {},
   "source": [
    "<h2>Arduino temprature data</h2><a class=\"anchor\" id=\"Arduino-temprature-data\"></a> "
   ]
  },
  {
   "cell_type": "code",
   "execution_count": null,
   "metadata": {},
   "outputs": [],
   "source": [
    "x_limits=[\"x_min\", \"x_max\"]\n",
    "y_limits=[\"y_min\", \"y_max\"]\n",
    "graph_function([[\"x\", \"time\", \"arduinomicro\"], [\"y\", \"temp0\", \"arduinomicro\"], [\"y\", \"temp1\", \"arduinomicro\"], [\"y\", \"temp2\", \"arduinomicro\"], [\"y\", \"temp3\", \"arduinomicro\"], [\"y\", \"temp4\", \"arduinomicro\"], [\"y\", \"temp5\", \"arduinomicro\"]], values_list, x_limits, y_limits)"
   ]
  },
  {
   "cell_type": "markdown",
   "metadata": {},
   "source": [
    "<h2>Arduino battery data</h2><a class=\"anchor\" id=\"Arduino-battery-data\"></a> "
   ]
  },
  {
   "cell_type": "code",
   "execution_count": null,
   "metadata": {},
   "outputs": [],
   "source": [
    "x_limits=[\"x_min\", \"x_max\"]\n",
    "y_limits_left=[\"y_min\", \"y_max\"]\n",
    "y_limits_right=[\"y_min\", \"y_max\"]\n",
    "legend_location=1\n",
    "multiaxis_graph_function([[\"y\", \"battvoltage\", \"arduinomicro\"], [\"x\", \"time\", \"arduinomicro\"]], [[\"y\", \"battcharging\", \"arduinomicro\"], [\"x\", \"time\", \"arduinomicro\"]], values_list, x_limits, y_limits_left, y_limits_right, legend_location)"
   ]
  },
  {
   "cell_type": "code",
   "execution_count": null,
   "metadata": {},
   "outputs": [],
   "source": []
  }
 ],
 "metadata": {
  "kernelspec": {
   "display_name": "Python 3",
   "language": "python",
   "name": "python3"
  },
  "language_info": {
   "codemirror_mode": {
    "name": "ipython",
    "version": 3
   },
   "file_extension": ".py",
   "mimetype": "text/x-python",
   "name": "python",
   "nbconvert_exporter": "python",
   "pygments_lexer": "ipython3",
   "version": "3.6.5"
  }
 },
 "nbformat": 4,
 "nbformat_minor": 2
}
