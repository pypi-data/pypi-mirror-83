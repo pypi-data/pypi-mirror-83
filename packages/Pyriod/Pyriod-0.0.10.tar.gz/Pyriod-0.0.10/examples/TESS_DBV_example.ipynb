{
 "cells": [
  {
   "cell_type": "markdown",
   "metadata": {},
   "source": [
    "This first example of the basic usage of the Pyriod package was demonstrated at the [TASC5/KASC12 workshop](https://web.mit.edu/tasc5/) in Boston 22-26 July 2019.  It shows how to reproduce the frequency analysis of a pulsating helium-atmosphere white dwarf presented in [Bell et al. (A&A, 632, A42)](https://ui.adsabs.harvard.edu/abs/2019A%26A...632A..42B).  \n",
    "\n",
    "See the online [tutorial](https://pyriod.readthedocs.io/en/latest/tutorial/) for more info about how to use Pyriod."
   ]
  },
  {
   "cell_type": "code",
   "execution_count": 1,
   "metadata": {},
   "outputs": [],
   "source": [
    "%matplotlib widget\n",
    "import lightkurve as lk\n",
    "from Pyriod import Pyriod\n",
    "import numpy as np\n",
    "import matplotlib.pyplot as plt"
   ]
  },
  {
   "cell_type": "code",
   "execution_count": 2,
   "metadata": {},
   "outputs": [],
   "source": [
    "dat = np.loadtxt('/Users/keatonb/Research/WDJ1106+1802/wqed_lcs/all.lc')\n",
    "time = dat[:,0]/(24.*3600.) #in days\n",
    "flux = dat[:,1]\n",
    "april = np.where((time > 66) & (time < 70))"
   ]
  },
  {
   "cell_type": "code",
   "execution_count": 4,
   "metadata": {},
   "outputs": [],
   "source": [
    "#Download light curve of a DBV white dwarf pulsator observed by TESS\n",
    "#lc = lk.search_lightcurvefile('TIC 257459955',mission='TESS',sector=3).download().get_lightcurve(\"PDCSAP_FLUX\").flatten(2161)\n",
    "#lc = lk.LightCurve(1001+np.arange(400),1+np.sin(np.arange(400))+.1*np.random.randn(400))\n",
    "#lc = lk.search_lightcurvefile('TIC 239678779',mission='TESS',sector=19).download().get_lightcurve(\"PDCSAP_FLUX\").flatten(2161)\n",
    "#lc = lc.remove_nans()"
   ]
  },
  {
   "cell_type": "code",
   "execution_count": 3,
   "metadata": {},
   "outputs": [],
   "source": [
    "#Instantiate Pyriod object\n",
    "#pyriod = Pyriod(lc)\n",
    "pyriod = Pyriod(time=time[april],flux=flux[april],nyquist_factor=0.5)"
   ]
  },
  {
   "cell_type": "code",
   "execution_count": 4,
   "metadata": {
    "scrolled": false
   },
   "outputs": [
    {
     "data": {
      "application/vnd.jupyter.widget-view+json": {
       "model_id": "dd80ad5344a7470490364d18bd1190d3",
       "version_major": 2,
       "version_minor": 0
      },
      "text/plain": [
       "VBox(children=(Canvas(toolbar=Toolbar(toolitems=[('Home', 'Reset original view', 'home', 'home'), ('Back', 'Ba…"
      ]
     },
     "metadata": {},
     "output_type": "display_data"
    }
   ],
   "source": [
    "#Interact with time series\n",
    "pyriod.TimeSeries()"
   ]
  },
  {
   "cell_type": "code",
   "execution_count": 6,
   "metadata": {},
   "outputs": [
    {
     "data": {
      "text/plain": [
       "str"
      ]
     },
     "execution_count": 6,
     "metadata": {},
     "output_type": "execute_result"
    }
   ],
   "source": []
  },
  {
   "cell_type": "code",
   "execution_count": 7,
   "metadata": {},
   "outputs": [],
   "source": [
    "tab = pyriod.per_orig.to_table()"
   ]
  },
  {
   "cell_type": "code",
   "execution_count": 8,
   "metadata": {},
   "outputs": [],
   "source": [
    "np.savetxt('lightcurve.txt',np.vstack((pyriod.lc_orig.time,pyriod.lc_orig.flux)).T)"
   ]
  },
  {
   "cell_type": "code",
   "execution_count": 9,
   "metadata": {},
   "outputs": [],
   "source": [
    "np.savetxt('periodogram.txt',np.vstack((pyriod.per_orig.frequency.value,pyriod.per_orig.power.value)).T)\n"
   ]
  },
  {
   "cell_type": "code",
   "execution_count": 5,
   "metadata": {
    "scrolled": false
   },
   "outputs": [
    {
     "data": {
      "application/vnd.jupyter.widget-view+json": {
       "model_id": "e8b086af15194711bfe351b84c3d9489",
       "version_major": 2,
       "version_minor": 0
      },
      "text/plain": [
       "VBox(children=(HBox(children=(Text(value='2705.8339307598258', description='Frequency:', placeholder=''), Floa…"
      ]
     },
     "metadata": {},
     "output_type": "display_data"
    }
   ],
   "source": [
    "#Interact with periodogram\n",
    "pyriod.Periodogram()"
   ]
  },
  {
   "cell_type": "code",
   "execution_count": 6,
   "metadata": {
    "scrolled": false
   },
   "outputs": [
    {
     "data": {
      "application/vnd.jupyter.widget-view+json": {
       "model_id": "8297704cec00494aba6fa623c3472884",
       "version_major": 2,
       "version_minor": 0
      },
      "text/plain": [
       "VBox(children=(HBox(children=(Button(description='Refine fit', icon='refresh', style=ButtonStyle(), tooltip='R…"
      ]
     },
     "metadata": {},
     "output_type": "display_data"
    }
   ],
   "source": [
    "#Interact with frequency solution\n",
    "pyriod.Signals()"
   ]
  },
  {
   "cell_type": "code",
   "execution_count": 7,
   "metadata": {},
   "outputs": [
    {
     "data": {
      "application/vnd.jupyter.widget-view+json": {
       "model_id": "d894e4cb3ab54c4a8169138b15bd11ce",
       "version_major": 2,
       "version_minor": 0
      },
      "text/plain": [
       "VBox(children=(Box(children=(HTML(value=\"2020-08-26 22:36:56,745 - INFO - Periodogram properties: nterms 1 |\\n…"
      ]
     },
     "metadata": {},
     "output_type": "display_data"
    }
   ],
   "source": [
    "#Interact with log\n",
    "pyriod.Log()"
   ]
  },
  {
   "cell_type": "code",
   "execution_count": 12,
   "metadata": {},
   "outputs": [],
   "source": [
    "def sigthreshold(snr = 5., fmin=None, fmax=None, winspacing = 100, winwidth = 100):\n",
    "    if fmin is None:\n",
    "        fmin = np.min(pyriod.freqs)\n",
    "    if fmax is None:\n",
    "        fmax = np.max(pyriod.freqs)\n",
    "    wincenters = np.arange(fmin + winwidth/2.,fmax - winwidth/2.,winspacing)\n",
    "    means = np.zeros(wincenters.shape)\n",
    "    for i in range(len(wincenters)):\n",
    "        inwin = np.where((pyriod.freqs >= wincenters[i] - winwidth/2.) & (pyriod.freqs < wincenters[i] + winwidth/2.))[0]\n",
    "        if len(inwin) > 0:\n",
    "            means[i] = np.mean(pyriod.per_resid[inwin].power.value)\n",
    "        else:\n",
    "            means[i] = np.nan\n",
    "    return wincenters,means*snr\n",
    "    "
   ]
  },
  {
   "cell_type": "code",
   "execution_count": 13,
   "metadata": {},
   "outputs": [
    {
     "data": {
      "text/plain": [
       "[<matplotlib.lines.Line2D at 0x1c2f189850>]"
      ]
     },
     "execution_count": 13,
     "metadata": {},
     "output_type": "execute_result"
    }
   ],
   "source": [
    "pyriod.perax.plot(sigthreshold()[0],sigthreshold()[1],ls='--',c='r')"
   ]
  },
  {
   "cell_type": "code",
   "execution_count": 14,
   "metadata": {},
   "outputs": [],
   "source": [
    "pyriod.perfig.canvas.draw()"
   ]
  },
  {
   "cell_type": "code",
   "execution_count": 48,
   "metadata": {},
   "outputs": [
    {
     "data": {
      "text/plain": [
       "(array([  50.03989875,  150.03989875,  250.03989875,  350.03989875,\n",
       "         450.03989875,  550.03989875,  650.03989875,  750.03989875,\n",
       "         850.03989875,  950.03989875, 1050.03989875, 1150.03989875,\n",
       "        1250.03989875, 1350.03989875, 1450.03989875, 1550.03989875,\n",
       "        1650.03989875, 1750.03989875, 1850.03989875, 1950.03989875,\n",
       "        2050.03989875, 2150.03989875, 2250.03989875, 2350.03989875,\n",
       "        2450.03989875, 2550.03989875, 2650.03989875, 2750.03989875,\n",
       "        2850.03989875, 2950.03989875, 3050.03989875, 3150.03989875,\n",
       "        3250.03989875, 3350.03989875, 3450.03989875, 3550.03989875,\n",
       "        3650.03989875, 3750.03989875, 3850.03989875, 3950.03989875,\n",
       "        4050.03989875]),\n",
       " array([28.32273923, 23.97007747, 19.25694495, 17.9035875 , 16.97457346,\n",
       "        17.98858551, 17.67309004, 17.4528343 , 16.76670236, 15.69426128,\n",
       "        16.73878622, 15.93269047, 17.20388103, 16.28612921, 17.3003272 ,\n",
       "        16.79179852, 16.36991363, 15.26384776, 18.3224088 , 17.14840052,\n",
       "        17.02920947, 16.77896927, 17.13885406, 16.67120281, 16.45717655,\n",
       "        15.3763551 , 15.41167872, 16.80240221, 17.09069418, 16.26805354,\n",
       "        16.91176118, 16.43229422, 15.95367875, 17.10925769, 17.00603897,\n",
       "        16.06920237, 15.89288551, 16.31423578, 17.52224107, 16.43087831,\n",
       "        17.59327711]))"
      ]
     },
     "execution_count": 48,
     "metadata": {},
     "output_type": "execute_result"
    }
   ],
   "source": [
    "sigthreshold()"
   ]
  },
  {
   "cell_type": "code",
   "execution_count": 7,
   "metadata": {},
   "outputs": [
    {
     "data": {
      "text/html": [
       "<div>\n",
       "<style scoped>\n",
       "    .dataframe tbody tr th:only-of-type {\n",
       "        vertical-align: middle;\n",
       "    }\n",
       "\n",
       "    .dataframe tbody tr th {\n",
       "        vertical-align: top;\n",
       "    }\n",
       "\n",
       "    .dataframe thead th {\n",
       "        text-align: right;\n",
       "    }\n",
       "</style>\n",
       "<table border=\"1\" class=\"dataframe\">\n",
       "  <thead>\n",
       "    <tr style=\"text-align: right;\">\n",
       "      <th></th>\n",
       "      <th>include</th>\n",
       "      <th>freq</th>\n",
       "      <th>fixfreq</th>\n",
       "      <th>freqerr</th>\n",
       "      <th>amp</th>\n",
       "      <th>fixamp</th>\n",
       "      <th>amperr</th>\n",
       "      <th>phase</th>\n",
       "      <th>fixphase</th>\n",
       "      <th>phaseerr</th>\n",
       "    </tr>\n",
       "  </thead>\n",
       "  <tbody>\n",
       "    <tr>\n",
       "      <th>f0</th>\n",
       "      <td>True</td>\n",
       "      <td>2705.868500</td>\n",
       "      <td>False</td>\n",
       "      <td>0.0178148</td>\n",
       "      <td>0.10263</td>\n",
       "      <td>False</td>\n",
       "      <td>0.000477255</td>\n",
       "      <td>0.290194</td>\n",
       "      <td>False</td>\n",
       "      <td>0.00073837</td>\n",
       "    </tr>\n",
       "    <tr>\n",
       "      <th>f1</th>\n",
       "      <td>True</td>\n",
       "      <td>5411.697316</td>\n",
       "      <td>False</td>\n",
       "      <td>0.0455364</td>\n",
       "      <td>0.04016</td>\n",
       "      <td>False</td>\n",
       "      <td>0.000476896</td>\n",
       "      <td>0.604638</td>\n",
       "      <td>False</td>\n",
       "      <td>0.00188829</td>\n",
       "    </tr>\n",
       "  </tbody>\n",
       "</table>\n",
       "</div>"
      ],
      "text/plain": [
       "    include         freq  fixfreq    freqerr      amp  fixamp       amperr  \\\n",
       "f0     True  2705.868500    False  0.0178148  0.10263   False  0.000477255   \n",
       "f1     True  5411.697316    False  0.0455364  0.04016   False  0.000476896   \n",
       "\n",
       "       phase  fixphase    phaseerr  \n",
       "f0  0.290194     False  0.00073837  \n",
       "f1  0.604638     False  0.00188829  "
      ]
     },
     "execution_count": 7,
     "metadata": {},
     "output_type": "execute_result"
    }
   ],
   "source": [
    "pyriod.values"
   ]
  },
  {
   "cell_type": "code",
   "execution_count": 8,
   "metadata": {},
   "outputs": [],
   "source": [
    "pyriod.save_solution('SendToKeaton.dat')"
   ]
  },
  {
   "cell_type": "code",
   "execution_count": null,
   "metadata": {},
   "outputs": [],
   "source": []
  }
 ],
 "metadata": {
  "kernelspec": {
   "display_name": "Python 3",
   "language": "python",
   "name": "python3"
  },
  "language_info": {
   "codemirror_mode": {
    "name": "ipython",
    "version": 3
   },
   "file_extension": ".py",
   "mimetype": "text/x-python",
   "name": "python",
   "nbconvert_exporter": "python",
   "pygments_lexer": "ipython3",
   "version": "3.7.5"
  }
 },
 "nbformat": 4,
 "nbformat_minor": 2
}
