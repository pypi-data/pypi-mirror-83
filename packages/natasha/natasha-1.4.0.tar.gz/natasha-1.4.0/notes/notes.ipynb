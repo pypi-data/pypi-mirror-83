{
 "cells": [
  {
   "cell_type": "code",
   "execution_count": null,
   "metadata": {},
   "outputs": [],
   "source": []
  },
  {
   "cell_type": "code",
   "execution_count": null,
   "metadata": {},
   "outputs": [],
   "source": []
  },
  {
   "cell_type": "markdown",
   "metadata": {
    "heading_collapsed": true
   },
   "source": [
    "# examples"
   ]
  },
  {
   "cell_type": "code",
   "execution_count": 30,
   "metadata": {
    "hidden": true
   },
   "outputs": [],
   "source": [
    "from natasha import (\n",
    "    Segmenter,\n",
    "    MorphVocab,\n",
    "    \n",
    "    NewsEmbedding,\n",
    "    NewsMorphTagger,\n",
    "    NewsSyntaxParser,\n",
    "    NewsNERTagger,\n",
    "    \n",
    "    PER,\n",
    "    NamesExtractor,\n",
    "\n",
    "    Doc\n",
    ")\n",
    "\n",
    "\n",
    "segmenter = Segmenter()\n",
    "\n",
    "emb = NewsEmbedding()\n",
    "ner_tagger = NewsNERTagger(emb)\n"
   ]
  },
  {
   "cell_type": "code",
   "execution_count": 28,
   "metadata": {
    "hidden": true
   },
   "outputs": [],
   "source": [
    "from itertools import islice\n",
    "from os.path import expanduser\n",
    "from corus import load_lenta\n",
    "\n",
    "path = expanduser('~/proj/corus-data/lenta-ru-news.csv.gz')\n",
    "records = load_lenta(path)\n",
    "records = list(islice(records, 10000))\n"
   ]
  },
  {
   "cell_type": "code",
   "execution_count": 36,
   "metadata": {
    "hidden": true
   },
   "outputs": [
    {
     "data": {
      "application/vnd.jupyter.widget-view+json": {
       "model_id": "99ddecb27ac946fb91ec809b8c7f90b9",
       "version_major": 2,
       "version_minor": 0
      },
      "text/plain": [
       "HBox(children=(FloatProgress(value=0.0, max=10000.0), HTML(value='')))"
      ]
     },
     "metadata": {},
     "output_type": "display_data"
    },
    {
     "name": "stdout",
     "output_type": "stream",
     "text": [
      "\n"
     ]
    }
   ],
   "source": [
    "from tqdm.notebook import tqdm as log_progress\n",
    "\n",
    "data = []\n",
    "for record in log_progress(records):\n",
    "    doc = Doc(record.text)\n",
    "    doc.segment(segmenter)\n",
    "    doc.tag_ner(ner_tagger)\n",
    "\n",
    "    data.append([len(doc.spans), len(doc.tokens), record])"
   ]
  },
  {
   "cell_type": "code",
   "execution_count": 37,
   "metadata": {
    "hidden": true
   },
   "outputs": [],
   "source": [
    "data = sorted(data, key=lambda _: _[0] / _[1], reverse=True)"
   ]
  },
  {
   "cell_type": "markdown",
   "metadata": {},
   "source": [
    "# readme"
   ]
  },
  {
   "cell_type": "code",
   "execution_count": 1,
   "metadata": {},
   "outputs": [],
   "source": [
    ">>> from natasha import (\n",
    "    Segmenter,\n",
    "    MorphVocab,\n",
    "    \n",
    "    NewsEmbedding,\n",
    "    NewsMorphTagger,\n",
    "    NewsSyntaxParser,\n",
    "    NewsNERTagger,\n",
    "    \n",
    "    PER,\n",
    "    NamesExtractor,\n",
    "\n",
    "    Doc\n",
    ")\n",
    "\n",
    "\n",
    ">>> segmenter = Segmenter()\n",
    ">>> morph_vocab = MorphVocab()\n",
    "\n",
    ">>> emb = NewsEmbedding()\n",
    ">>> morph_tagger = NewsMorphTagger(emb)\n",
    ">>> syntax_parser = NewsSyntaxParser(emb)\n",
    ">>> ner_tagger = NewsNERTagger(emb)\n",
    "\n",
    ">>> names_extractor = NamesExtractor(morph_vocab)"
   ]
  },
  {
   "cell_type": "code",
   "execution_count": 2,
   "metadata": {},
   "outputs": [
    {
     "data": {
      "text/plain": [
       "[DocToken(stop=5, text='Посол'),\n",
       " DocToken(start=6, stop=13, text='Израиля'),\n",
       " DocToken(start=14, stop=16, text='на'),\n",
       " DocToken(start=17, stop=24, text='Украине'),\n",
       " DocToken(start=25, stop=30, text='Йоэль')]"
      ]
     },
     "metadata": {},
     "output_type": "display_data"
    },
    {
     "data": {
      "text/plain": [
       "[DocSent(stop=218, text='Посол Израиля на Украине Йоэль Лион признался, чт..., tokens=[...]),\n",
       " DocSent(start=219, stop=257, text='Свое заявление он разместил в Twitter.', tokens=[...]),\n",
       " DocSent(start=258, stop=424, text='«Я не могу понять, как прославление тех, кто непо..., tokens=[...]),\n",
       " DocSent(start=425, stop=592, text='Украина не должна забывать о преступлениях, совер..., tokens=[...]),\n",
       " DocSent(start=593, stop=798, text='11 декабря Львовский областной совет принял решен..., tokens=[...])]"
      ]
     },
     "metadata": {},
     "output_type": "display_data"
    }
   ],
   "source": [
    ">>> text = 'Посол Израиля на Украине Йоэль Лион признался, что пришел в шок, узнав о решении властей Львовской области объявить 2019 год годом лидера запрещенной в России Организации украинских националистов (ОУН) Степана Бандеры. Свое заявление он разместил в Twitter. «Я не могу понять, как прославление тех, кто непосредственно принимал участие в ужасных антисемитских преступлениях, помогает бороться с антисемитизмом и ксенофобией. Украина не должна забывать о преступлениях, совершенных против украинских евреев, и никоим образом не отмечать их через почитание их исполнителей», — написал дипломат. 11 декабря Львовский областной совет принял решение провозгласить 2019 год в регионе годом Степана Бандеры в связи с празднованием 110-летия со дня рождения лидера ОУН (Бандера родился 1 января 1909 года). В июле аналогичное решение принял Житомирский областной совет. В начале месяца с предложением к президенту страны Петру Порошенко вернуть Бандере звание Героя Украины обратились депутаты Верховной Рады. Парламентарии уверены, что признание Бандеры национальным героем поможет в борьбе с подрывной деятельностью против Украины в информационном поле, а также остановит «распространение мифов, созданных российской пропагандой». Степан Бандера (1909-1959) был одним из лидеров Организации украинских националистов, выступающей за создание независимого государства на территориях с украиноязычным населением. В 2010 году в период президентства Виктора Ющенко Бандера был посмертно признан Героем Украины, однако впоследствии это решение было отменено судом. '\n",
    ">>> doc = Doc(text)\n",
    ">>> doc.segment(segmenter)\n",
    ">>> display(doc.tokens[:5])\n",
    ">>> display(doc.sents[:5])"
   ]
  },
  {
   "cell_type": "code",
   "execution_count": 3,
   "metadata": {},
   "outputs": [
    {
     "data": {
      "text/plain": [
       "[DocToken(stop=5, text='Посол', pos='NOUN', feats=<Anim,Nom,Masc,Sing>),\n",
       " DocToken(start=6, stop=13, text='Израиля', pos='PROPN', feats=<Inan,Gen,Masc,Sing>),\n",
       " DocToken(start=14, stop=16, text='на', pos='ADP'),\n",
       " DocToken(start=17, stop=24, text='Украине', pos='PROPN', feats=<Inan,Loc,Fem,Sing>),\n",
       " DocToken(start=25, stop=30, text='Йоэль', pos='PROPN', feats=<Anim,Nom,Masc,Sing>)]"
      ]
     },
     "metadata": {},
     "output_type": "display_data"
    },
    {
     "name": "stdout",
     "output_type": "stream",
     "text": [
      "               Посол NOUN|Animacy=Anim|Case=Nom|Gender=Masc|Number=Sing\n",
      "             Израиля PROPN|Animacy=Inan|Case=Gen|Gender=Masc|Number=Sing\n",
      "                  на ADP\n",
      "             Украине PROPN|Animacy=Inan|Case=Loc|Gender=Fem|Number=Sing\n",
      "               Йоэль PROPN|Animacy=Anim|Case=Nom|Gender=Masc|Number=Sing\n",
      "                Лион PROPN|Animacy=Anim|Case=Nom|Gender=Masc|Number=Sing\n",
      "           признался VERB|Aspect=Perf|Gender=Masc|Mood=Ind|Number=Sing|Tense=Past|VerbForm=Fin|Voice=Mid\n",
      "                   , PUNCT\n",
      "                 что SCONJ\n",
      "              пришел VERB|Aspect=Perf|Gender=Masc|Mood=Ind|Number=Sing|Tense=Past|VerbForm=Fin|Voice=Act\n",
      "                   в ADP\n",
      "                 шок NOUN|Animacy=Inan|Case=Acc|Gender=Masc|Number=Sing\n",
      "                   , PUNCT\n",
      "               узнав VERB|Aspect=Perf|Tense=Past|VerbForm=Conv|Voice=Act\n",
      "                   о ADP\n",
      "             решении NOUN|Animacy=Inan|Case=Loc|Gender=Neut|Number=Sing\n",
      "             властей NOUN|Animacy=Inan|Case=Gen|Gender=Fem|Number=Plur\n",
      "           Львовской ADJ|Case=Gen|Degree=Pos|Gender=Fem|Number=Sing\n",
      "             области NOUN|Animacy=Inan|Case=Gen|Gender=Fem|Number=Sing\n",
      "            объявить VERB|Aspect=Perf|VerbForm=Inf|Voice=Act\n",
      "                2019 ADJ\n",
      "                 год NOUN|Animacy=Inan|Case=Acc|Gender=Masc|Number=Sing\n",
      "               годом NOUN|Animacy=Inan|Case=Ins|Gender=Masc|Number=Sing\n",
      "              лидера NOUN|Animacy=Anim|Case=Gen|Gender=Masc|Number=Sing\n",
      "         запрещенной VERB|Aspect=Perf|Case=Gen|Gender=Fem|Number=Sing|Tense=Past|VerbForm=Part|Voice=Pass\n",
      "                   в ADP\n",
      "              России PROPN|Animacy=Inan|Case=Loc|Gender=Fem|Number=Sing\n",
      "         Организации PROPN|Animacy=Inan|Case=Gen|Gender=Fem|Number=Sing\n",
      "          украинских ADJ|Case=Gen|Degree=Pos|Number=Plur\n",
      "       националистов NOUN|Animacy=Anim|Case=Gen|Gender=Masc|Number=Plur\n",
      "                   ( PUNCT\n",
      "                 ОУН PROPN|Animacy=Inan|Case=Nom|Gender=Fem|Number=Sing\n",
      "                   ) PUNCT\n",
      "             Степана PROPN|Animacy=Anim|Case=Gen|Gender=Masc|Number=Sing\n",
      "             Бандеры PROPN|Animacy=Anim|Case=Gen|Gender=Masc|Number=Sing\n",
      "                   . PUNCT\n"
     ]
    }
   ],
   "source": [
    ">>> doc.tag_morph(morph_tagger)\n",
    ">>> display(doc.tokens[:5])\n",
    ">>> doc.sents[0].morph.print()"
   ]
  },
  {
   "cell_type": "code",
   "execution_count": 4,
   "metadata": {},
   "outputs": [
    {
     "data": {
      "text/plain": [
       "[DocToken(stop=5, text='Посол', pos='NOUN', feats=<Anim,Nom,Masc,Sing>, lemma='посол'),\n",
       " DocToken(start=6, stop=13, text='Израиля', pos='PROPN', feats=<Inan,Gen,Masc,Sing>, lemma='израиль'),\n",
       " DocToken(start=14, stop=16, text='на', pos='ADP', lemma='на'),\n",
       " DocToken(start=17, stop=24, text='Украине', pos='PROPN', feats=<Inan,Loc,Fem,Sing>, lemma='украина'),\n",
       " DocToken(start=25, stop=30, text='Йоэль', pos='PROPN', feats=<Anim,Nom,Masc,Sing>, lemma='йоэль')]"
      ]
     },
     "metadata": {},
     "output_type": "display_data"
    },
    {
     "data": {
      "text/plain": [
       "{'Посол': 'посол',\n",
       " 'Израиля': 'израиль',\n",
       " 'на': 'на',\n",
       " 'Украине': 'украина',\n",
       " 'Йоэль': 'йоэль',\n",
       " 'Лион': 'лион',\n",
       " 'признался': 'признаться',\n",
       " ',': ',',\n",
       " 'что': 'что',\n",
       " 'пришел': 'прийти',\n",
       " 'в': 'в',\n",
       " 'шок': 'шок',\n",
       " 'узнав': 'узнать',\n",
       " 'о': 'о',\n",
       " 'решении': 'решение',\n",
       " 'властей': 'власть',\n",
       " 'Львовской': 'львовский',\n",
       " 'области': 'область',\n",
       " 'объявить': 'объявить',\n",
       " '2019': '2019',\n",
       " 'год': 'год',\n",
       " 'годом': 'год',\n",
       " 'лидера': 'лидер',\n",
       " 'запрещенной': 'запретить',\n",
       " 'России': 'россия',\n",
       " 'Организации': 'организация',\n",
       " 'украинских': 'украинский',\n",
       " 'националистов': 'националист',\n",
       " '(': '(',\n",
       " 'ОУН': 'оун',\n",
       " ')': ')',\n",
       " 'Степана': 'степан',\n",
       " 'Бандеры': 'бандера',\n",
       " '.': '.',\n",
       " 'Свое': 'свой',\n",
       " 'заявление': 'заявление',\n",
       " 'он': 'он',\n",
       " 'разместил': 'разместить',\n",
       " 'Twitter': 'twitter',\n",
       " '«': '«',\n",
       " 'Я': 'я',\n",
       " 'не': 'не',\n",
       " 'могу': 'мочь',\n",
       " 'понять': 'понять',\n",
       " 'как': 'как',\n",
       " 'прославление': 'прославление',\n",
       " 'тех': 'тот',\n",
       " 'кто': 'кто',\n",
       " 'непосредственно': 'непосредственно',\n",
       " 'принимал': 'принимать',\n",
       " 'участие': 'участие',\n",
       " 'ужасных': 'ужасный',\n",
       " 'антисемитских': 'антисемитский',\n",
       " 'преступлениях': 'преступление',\n",
       " 'помогает': 'помогать',\n",
       " 'бороться': 'бороться',\n",
       " 'с': 'с',\n",
       " 'антисемитизмом': 'антисемитизм',\n",
       " 'и': 'и',\n",
       " 'ксенофобией': 'ксенофобия',\n",
       " 'Украина': 'украина',\n",
       " 'должна': 'должный',\n",
       " 'забывать': 'забывать',\n",
       " 'совершенных': 'совершить',\n",
       " 'против': 'против',\n",
       " 'евреев': 'еврей',\n",
       " 'никоим': 'никой',\n",
       " 'образом': 'образ',\n",
       " 'отмечать': 'отмечать',\n",
       " 'их': 'они',\n",
       " 'через': 'через',\n",
       " 'почитание': 'почитание',\n",
       " 'исполнителей': 'исполнитель',\n",
       " '»': '»',\n",
       " '—': '—',\n",
       " 'написал': 'написать',\n",
       " 'дипломат': 'дипломат',\n",
       " '11': '11',\n",
       " 'декабря': 'декабрь',\n",
       " 'Львовский': 'львовский',\n",
       " 'областной': 'областной',\n",
       " 'совет': 'совет',\n",
       " 'принял': 'принять',\n",
       " 'решение': 'решение',\n",
       " 'провозгласить': 'провозгласить',\n",
       " 'регионе': 'регион',\n",
       " 'связи': 'связь',\n",
       " 'празднованием': 'празднование',\n",
       " '110-летия': '110-летие',\n",
       " 'со': 'с',\n",
       " 'дня': 'день',\n",
       " 'рождения': 'рождение',\n",
       " 'Бандера': 'бандера',\n",
       " 'родился': 'родиться',\n",
       " '1': '1',\n",
       " 'января': 'январь',\n",
       " '1909': '1909',\n",
       " 'года': 'год',\n",
       " 'В': 'в',\n",
       " 'июле': 'июль',\n",
       " 'аналогичное': 'аналогичный',\n",
       " 'Житомирский': 'житомирский',\n",
       " 'начале': 'начало',\n",
       " 'месяца': 'месяц',\n",
       " 'предложением': 'предложение',\n",
       " 'к': 'к',\n",
       " 'президенту': 'президент',\n",
       " 'страны': 'страна',\n",
       " 'Петру': 'петр',\n",
       " 'Порошенко': 'порошенко',\n",
       " 'вернуть': 'вернуть',\n",
       " 'Бандере': 'бандера',\n",
       " 'звание': 'звание',\n",
       " 'Героя': 'герой',\n",
       " 'Украины': 'украина',\n",
       " 'обратились': 'обратиться',\n",
       " 'депутаты': 'депутат',\n",
       " 'Верховной': 'верховный',\n",
       " 'Рады': 'рада',\n",
       " 'Парламентарии': 'парламентарий',\n",
       " 'уверены': 'уверить',\n",
       " 'признание': 'признание',\n",
       " 'национальным': 'национальный',\n",
       " 'героем': 'герой',\n",
       " 'поможет': 'помочь',\n",
       " 'борьбе': 'борьба',\n",
       " 'подрывной': 'подрывной',\n",
       " 'деятельностью': 'деятельность',\n",
       " 'информационном': 'информационный',\n",
       " 'поле': 'поле',\n",
       " 'а': 'а',\n",
       " 'также': 'также',\n",
       " 'остановит': 'остановить',\n",
       " 'распространение': 'распространение',\n",
       " 'мифов': 'миф',\n",
       " 'созданных': 'создать',\n",
       " 'российской': 'российский',\n",
       " 'пропагандой': 'пропаганда',\n",
       " 'Степан': 'степан',\n",
       " '1909-1959': '1909-1959',\n",
       " 'был': 'быть',\n",
       " 'одним': 'один',\n",
       " 'из': 'из',\n",
       " 'лидеров': 'лидер',\n",
       " 'выступающей': 'выступать',\n",
       " 'за': 'за',\n",
       " 'создание': 'создание',\n",
       " 'независимого': 'независимый',\n",
       " 'государства': 'государство',\n",
       " 'территориях': 'территория',\n",
       " 'украиноязычным': 'украиноязычный',\n",
       " 'населением': 'население',\n",
       " '2010': '2010',\n",
       " 'году': 'год',\n",
       " 'период': 'период',\n",
       " 'президентства': 'президентство',\n",
       " 'Виктора': 'виктор',\n",
       " 'Ющенко': 'ющенко',\n",
       " 'посмертно': 'посмертно',\n",
       " 'признан': 'признать',\n",
       " 'Героем': 'герой',\n",
       " 'однако': 'однако',\n",
       " 'впоследствии': 'впоследствии',\n",
       " 'это': 'это',\n",
       " 'было': 'быть',\n",
       " 'отменено': 'отменить',\n",
       " 'судом': 'суд'}"
      ]
     },
     "execution_count": 4,
     "metadata": {},
     "output_type": "execute_result"
    }
   ],
   "source": [
    ">>> for token in doc.tokens:\n",
    ">>>     token.lemmatize(morph_vocab)\n",
    "    \n",
    ">>> display(doc.tokens[:5])\n",
    ">>> {_.text: _.lemma for _ in doc.tokens}"
   ]
  },
  {
   "cell_type": "code",
   "execution_count": 5,
   "metadata": {},
   "outputs": [
    {
     "data": {
      "text/plain": [
       "[DocToken(stop=5, text='Посол', id='1_1', head_id='1_7', rel='nsubj', pos='NOUN', feats=<Anim,Nom,Masc,Sing>, lemma='посол'),\n",
       " DocToken(start=6, stop=13, text='Израиля', id='1_2', head_id='1_1', rel='nmod', pos='PROPN', feats=<Inan,Gen,Masc,Sing>, lemma='израиль'),\n",
       " DocToken(start=14, stop=16, text='на', id='1_3', head_id='1_4', rel='case', pos='ADP', lemma='на'),\n",
       " DocToken(start=17, stop=24, text='Украине', id='1_4', head_id='1_1', rel='nmod', pos='PROPN', feats=<Inan,Loc,Fem,Sing>, lemma='украина'),\n",
       " DocToken(start=25, stop=30, text='Йоэль', id='1_5', head_id='1_1', rel='appos', pos='PROPN', feats=<Anim,Nom,Masc,Sing>, lemma='йоэль')]"
      ]
     },
     "metadata": {},
     "output_type": "display_data"
    },
    {
     "name": "stdout",
     "output_type": "stream",
     "text": [
      "        ┌──► Посол         nsubj\n",
      "        │    Израиля       \n",
      "        │ ┌► на            case\n",
      "        │ └─ Украине       \n",
      "        │ ┌─ Йоэль         \n",
      "        │ └► Лион          flat:name\n",
      "┌─────┌─└─── признался     \n",
      "│     │ ┌──► ,             punct\n",
      "│     │ │ ┌► что           mark\n",
      "│     └►└─└─ пришел        ccomp\n",
      "│     │   ┌► в             case\n",
      "│     └──►└─ шок           obl\n",
      "│         ┌► ,             punct\n",
      "│ ┌────►┌─└─ узнав         advcl\n",
      "│ │     │ ┌► о             case\n",
      "│ │ ┌───└►└─ решении       obl\n",
      "│ │ │ ┌─└──► властей       nmod\n",
      "│ │ │ │   ┌► Львовской     amod\n",
      "│ │ │ └──►└─ области       nmod\n",
      "│ └─└►┌─┌─── объявить      nmod\n",
      "│     │ │ ┌► 2019          amod\n",
      "│     │ └►└─ год           obj\n",
      "│     └──►┌─ годом         obl\n",
      "│   ┌─────└► лидера        nmod\n",
      "│   │ ┌►┌─── запрещенной   acl\n",
      "│   │ │ │ ┌► в             case\n",
      "│   │ │ └►└─ России        obl\n",
      "│ ┌─└►└─┌─── Организации   nmod\n",
      "│ │     │ ┌► украинских    amod\n",
      "│ │   ┌─└►└─ националистов nmod\n",
      "│ │   │   ┌► (             punct\n",
      "│ │   └►┌─└─ ОУН           parataxis\n",
      "│ │     └──► )             punct\n",
      "│ └──────►┌─ Степана       appos\n",
      "│         └► Бандеры       flat:name\n",
      "└──────────► .             punct\n"
     ]
    }
   ],
   "source": [
    ">>> doc.parse_syntax(syntax_parser)\n",
    ">>> display(doc.tokens[:5])\n",
    ">>> doc.sents[0].syntax.print()"
   ]
  },
  {
   "cell_type": "code",
   "execution_count": 6,
   "metadata": {},
   "outputs": [
    {
     "data": {
      "text/plain": [
       "[DocSpan(start=6, stop=13, type='LOC', text='Израиля', tokens=[...]),\n",
       " DocSpan(start=17, stop=24, type='LOC', text='Украине', tokens=[...]),\n",
       " DocSpan(start=25, stop=35, type='PER', text='Йоэль Лион', tokens=[...]),\n",
       " DocSpan(start=89, stop=106, type='LOC', text='Львовской области', tokens=[...]),\n",
       " DocSpan(start=152, stop=158, type='LOC', text='России', tokens=[...])]"
      ]
     },
     "metadata": {},
     "output_type": "display_data"
    },
    {
     "name": "stdout",
     "output_type": "stream",
     "text": [
      "Посол Израиля на Украине Йоэль Лион признался, что пришел в шок, узнав\n",
      "      LOC────    LOC──── PER───────                                   \n",
      " о решении властей Львовской области объявить 2019 год годом лидера \n",
      "                   LOC──────────────                                \n",
      "запрещенной в России Организации украинских националистов (ОУН) \n",
      "              LOC─── ORG─────────────────────────────────────── \n",
      "Степана Бандеры. Свое заявление он разместил в Twitter. «Я не могу \n",
      "PER────────────                                ORG────             \n",
      "понять, как прославление тех, кто непосредственно принимал участие в \n",
      "ужасных антисемитских преступлениях, помогает бороться с \n",
      "антисемитизмом и ксенофобией. Украина не должна забывать о \n",
      "                              LOC────                      \n",
      "преступлениях, совершенных против украинских евреев, и никоим образом \n",
      "не отмечать их через почитание их исполнителей», — написал дипломат. \n",
      "11 декабря Львовский областной совет принял решение провозгласить 2019\n",
      "           ORG──────────────────────                                  \n",
      " год в регионе годом Степана Бандеры в связи с празднованием 110-летия\n",
      "                     PER────────────                                  \n",
      " со дня рождения лидера ОУН (Бандера родился 1 января 1909 года). В \n",
      "                        ORG                                         \n",
      "июле аналогичное решение принял Житомирский областной совет. В начале \n",
      "                                ORG────────────────────────           \n",
      "месяца с предложением к президенту страны Петру Порошенко вернуть \n",
      "                                          PER────────────         \n",
      "Бандере звание Героя Украины обратились депутаты Верховной Рады. \n",
      "PER────              LOC────                     ORG───────────  \n",
      "Парламентарии уверены, что признание Бандеры национальным героем \n",
      "                                     PER────                     \n",
      "поможет в борьбе с подрывной деятельностью против Украины в \n",
      "                                                  LOC────   \n",
      "информационном поле, а также остановит «распространение мифов, \n",
      "созданных российской пропагандой». Степан Бандера (1909-1959) был \n",
      "                                   PER───────────                 \n",
      "одним из лидеров Организации украинских националистов, выступающей за \n",
      "                 ORG─────────────────────────────────                 \n",
      "создание независимого государства на территориях с украиноязычным \n",
      "населением. В 2010 году в период президентства Виктора Ющенко Бандера \n",
      "                                               PER─────────── PER──── \n",
      "был посмертно признан Героем Украины, однако впоследствии это решение \n",
      "                             LOC────                                  \n",
      "было отменено судом. \n"
     ]
    }
   ],
   "source": [
    ">>> doc.tag_ner(ner_tagger)\n",
    ">>> display(doc.spans[:5])\n",
    ">>> doc.ner.print()"
   ]
  },
  {
   "cell_type": "code",
   "execution_count": 7,
   "metadata": {},
   "outputs": [
    {
     "data": {
      "text/plain": [
       "[DocSpan(start=6, stop=13, type='LOC', text='Израиля', tokens=[...], normal='Израиль'),\n",
       " DocSpan(start=17, stop=24, type='LOC', text='Украине', tokens=[...], normal='Украина'),\n",
       " DocSpan(start=25, stop=35, type='PER', text='Йоэль Лион', tokens=[...], normal='Йоэль Лион'),\n",
       " DocSpan(start=89, stop=106, type='LOC', text='Львовской области', tokens=[...], normal='Львовская область'),\n",
       " DocSpan(start=152, stop=158, type='LOC', text='России', tokens=[...], normal='Россия')]"
      ]
     },
     "metadata": {},
     "output_type": "display_data"
    },
    {
     "data": {
      "text/plain": [
       "{'Израиля': 'Израиль',\n",
       " 'Украине': 'Украина',\n",
       " 'Львовской области': 'Львовская область',\n",
       " 'России': 'Россия',\n",
       " 'Организации украинских националистов (ОУН)': 'Организация украинских националистов (ОУН)',\n",
       " 'Степана Бандеры': 'Степан Бандера',\n",
       " 'Петру Порошенко': 'Петр Порошенко',\n",
       " 'Бандере': 'Бандера',\n",
       " 'Украины': 'Украина',\n",
       " 'Верховной Рады': 'Верховная Рада',\n",
       " 'Бандеры': 'Бандера',\n",
       " 'Организации украинских националистов': 'Организация украинских националистов',\n",
       " 'Виктора Ющенко': 'Виктор Ющенко'}"
      ]
     },
     "execution_count": 7,
     "metadata": {},
     "output_type": "execute_result"
    }
   ],
   "source": [
    ">>> for span in doc.spans:\n",
    ">>>    span.normalize(morph_vocab)\n",
    "\n",
    ">>> display(doc.spans[:5])\n",
    ">>> {_.text: _.normal for _ in doc.spans if _.text != _.normal}"
   ]
  },
  {
   "cell_type": "code",
   "execution_count": 8,
   "metadata": {},
   "outputs": [
    {
     "data": {
      "text/plain": [
       "[DocSpan(start=6, stop=13, type='LOC', text='Израиля', tokens=[...], normal='Израиль'),\n",
       " DocSpan(start=17, stop=24, type='LOC', text='Украине', tokens=[...], normal='Украина'),\n",
       " DocSpan(start=25, stop=35, type='PER', text='Йоэль Лион', tokens=[...], normal='Йоэль Лион', fact=DocFact(slots=[...])),\n",
       " DocSpan(start=89, stop=106, type='LOC', text='Львовской области', tokens=[...], normal='Львовская область'),\n",
       " DocSpan(start=152, stop=158, type='LOC', text='России', tokens=[...], normal='Россия')]"
      ]
     },
     "metadata": {},
     "output_type": "display_data"
    },
    {
     "data": {
      "text/plain": [
       "{'Йоэль Лион': {'first': 'Йоэль', 'last': 'Лион'},\n",
       " 'Степан Бандера': {'first': 'Степан', 'last': 'Бандера'},\n",
       " 'Петр Порошенко': {'first': 'Петр', 'last': 'Порошенко'},\n",
       " 'Бандера': {'last': 'Бандера'},\n",
       " 'Виктор Ющенко': {'first': 'Виктор', 'last': 'Ющенко'}}"
      ]
     },
     "execution_count": 8,
     "metadata": {},
     "output_type": "execute_result"
    }
   ],
   "source": [
    ">>> for span in doc.spans:\n",
    ">>>    if span.type == PER:\n",
    ">>>        span.extract_fact(names_extractor)\n",
    "\n",
    ">>> display(doc.spans[:5])\n",
    ">>> {_.normal: _.fact.as_dict for _ in doc.spans if _.type == PER}"
   ]
  },
  {
   "cell_type": "code",
   "execution_count": null,
   "metadata": {},
   "outputs": [],
   "source": []
  },
  {
   "cell_type": "code",
   "execution_count": null,
   "metadata": {},
   "outputs": [],
   "source": []
  },
  {
   "cell_type": "code",
   "execution_count": null,
   "metadata": {},
   "outputs": [],
   "source": []
  },
  {
   "cell_type": "markdown",
   "metadata": {
    "heading_collapsed": true
   },
   "source": [
    "# api"
   ]
  },
  {
   "cell_type": "code",
   "execution_count": null,
   "metadata": {
    "hidden": true
   },
   "outputs": [],
   "source": [
    "# doc = Doc('...')\n",
    "# doc.segment(segmenter)\n",
    "# doc.tag_morph(morph_tagger)\n",
    "# doc.parse_syntax(syntax_parser)\n",
    "# doc.tag_ner(ner_tagger)\n",
    "\n",
    "# for token in doc.tokens:\n",
    "#     token.lemmatize(morph_vocab)\n",
    "\n",
    "# doc.ner.show()\n",
    "\n",
    "# sent = doc.sents[0]\n",
    "# sent.morph.show()\n",
    "\n",
    "# for span in doc.spans:\n",
    "#     span.norm(morph_vocab)\n",
    "    \n",
    "# for span in doc.spans:\n",
    "#     for parser in [...]:\n",
    "#         if span.type == parser.type:\n",
    "#             span.parse(parser)"
   ]
  },
  {
   "cell_type": "code",
   "execution_count": 1,
   "metadata": {
    "hidden": true
   },
   "outputs": [],
   "source": [
    "%load_ext autoreload\n",
    "%autoreload 2\n",
    "%run -n main.py\n",
    "\n",
    "segmenter = Segmenter()\n",
    "morph_vocab = MorphVocab()\n",
    "\n",
    "emb = NewsEmbedding()\n",
    "morph_tagger = NewsMorphTagger(emb)\n",
    "syntax_parser = NewsSyntaxParser(emb)\n",
    "ner_tagger = NewsNERTagger(emb)\n",
    "\n",
    "names_extractor = NamesExtractor(morph_vocab)"
   ]
  },
  {
   "cell_type": "code",
   "execution_count": 1,
   "metadata": {
    "hidden": true
   },
   "outputs": [],
   "source": [
    "# text = 'Посол Израиля на Украине Йоэль Лион признался, что пришел в шок, узнав о решении властей Львовской области объявить 2019 год годом лидера запрещенной в России Организации украинских националистов (ОУН) Степана Бандеры. Свое заявление он разместил в Twitter. «Я не могу понять, как прославление тех, кто непосредственно принимал участие в ужасных антисемитских преступлениях, помогает бороться с антисемитизмом и ксенофобией. Украина не должна забывать о преступлениях, совершенных против украинских евреев, и никоим образом не отмечать их через почитание их исполнителей», — написал дипломат. 11 декабря Львовский областной совет принял решение провозгласить 2019 год в регионе годом Степана Бандеры в связи с празднованием 110-летия со дня рождения лидера ОУН (Бандера родился 1 января 1909 года). В июле аналогичное решение принял Житомирский областной совет. В начале месяца с предложением к президенту страны Петру Порошенко вернуть Бандере звание Героя Украины обратились депутаты Верховной Рады. Парламентарии уверены, что признание Бандеры национальным героем поможет в борьбе с подрывной деятельностью против Украины в информационном поле, а также остановит «распространение мифов, созданных российской пропагандой». Степан Бандера (1909-1959) был одним из лидеров Организации украинских националистов, выступающей за создание независимого государства на территориях с украиноязычным населением. В 2010 году в период президентства Виктора Ющенко Бандера был посмертно признан Героем Украины, однако впоследствии это решение было отменено судом. '\n",
    "# doc = Doc(text)\n",
    "# doc.segment(segmenter)\n",
    "# doc.tag_morph(morph_tagger)\n",
    "# doc.parse_syntax(syntax_parser)\n",
    "# doc.tag_ner(ner_tagger)\n",
    "\n",
    "# for span in doc.spans:\n",
    "#     span.normalize(morph_vocab)\n",
    "#     if span.type == PER:\n",
    "#         span.extract_fact(names_extractor)\n",
    "\n",
    "# doc.ner.print()\n",
    "\n",
    "# sent = doc.sents[-1]\n",
    "# sent.morph.print()\n",
    "# sent.syntax.print()\n",
    "\n",
    "# display(doc.spans)"
   ]
  },
  {
   "cell_type": "code",
   "execution_count": 19,
   "metadata": {
    "hidden": true,
    "scrolled": false
   },
   "outputs": [],
   "source": [
    "# from os.path import expanduser\n",
    "# from itertools import islice\n",
    "# from random import seed, sample\n",
    "\n",
    "# from corus import load_lenta\n",
    "\n",
    "# path = expanduser('~/proj/corus-data/lenta-ru-news.csv.gz')\n",
    "# records = load_lenta(path)\n",
    "# texts = [_.text for _ in islice(records, 1000)]\n",
    "\n",
    "# data = []\n",
    "# seed(3)\n",
    "# for text in sample(texts, 200):\n",
    "#     doc = Doc(text)\n",
    "#     doc.segment(segmenter)\n",
    "#     doc.tag_morph(morph_tagger)\n",
    "#     doc.parse_syntax(syntax_parser)\n",
    "#     doc.tag_ner(ner_tagger)\n",
    "\n",
    "#     for span in doc.spans:\n",
    "#         span.normalize(morph_vocab)\n",
    "#         if span.type == PER:\n",
    "#             span.extract_fact(names_extractor)\n",
    "\n",
    "#     a = -len(doc.sents)\n",
    "#     b = len({_.type for _ in doc.spans}) == 3\n",
    "#     c = sum(_.text != _.normal for _ in doc.spans)\n",
    "#     print(b, c, a)\n",
    "#     data.append([(b, c, a), text])"
   ]
  },
  {
   "cell_type": "code",
   "execution_count": 20,
   "metadata": {
    "hidden": true
   },
   "outputs": [],
   "source": [
    "items = sorted(data, reverse=True)"
   ]
  },
  {
   "cell_type": "code",
   "execution_count": 24,
   "metadata": {
    "hidden": true
   },
   "outputs": [
    {
     "data": {
      "text/plain": [
       "[(True, 24, -17),\n",
       " (True, 21, -14),\n",
       " (True, 19, -13),\n",
       " (True, 19, -19),\n",
       " (True, 18, -11),\n",
       " (True, 18, -15),\n",
       " (True, 18, -16),\n",
       " (True, 17, -11),\n",
       " (True, 16, -10),\n",
       " (True, 16, -12)]"
      ]
     },
     "execution_count": 24,
     "metadata": {},
     "output_type": "execute_result"
    }
   ],
   "source": [
    "[_[0] for _ in items[:10]]"
   ]
  },
  {
   "cell_type": "code",
   "execution_count": 26,
   "metadata": {
    "hidden": true
   },
   "outputs": [
    {
     "data": {
      "text/plain": [
       "[(True, 16, -10),\n",
       " 'Посол Израиля на Украине Йоэль Лион признался, что пришел в шок, узнав о решении властей Львовской области объявить 2019 год годом лидера запрещенной в России Организации украинских националистов (ОУН) Степана Бандеры. Свое заявление он разместил в Twitter. «Я не могу понять, как прославление тех, кто непосредственно принимал участие в ужасных антисемитских преступлениях, помогает бороться с антисемитизмом и ксенофобией. Украина не должна забывать о преступлениях, совершенных против украинских евреев, и никоим образом не отмечать их через почитание их исполнителей», — написал дипломат. 11 декабря Львовский областной совет принял решение провозгласить 2019 год в регионе годом Степана Бандеры в связи с празднованием 110-летия со дня рождения лидера ОУН (Бандера родился 1 января 1909 года). В июле аналогичное решение принял Житомирский областной совет. В начале месяца с предложением к президенту страны Петру Порошенко вернуть Бандере звание Героя Украины обратились депутаты Верховной Рады. Парламентарии уверены, что признание Бандеры национальным героем поможет в борьбе с подрывной деятельностью против Украины в информационном поле, а также остановит «распространение мифов, созданных российской пропагандой». Степан Бандера (1909-1959) был одним из лидеров Организации украинских националистов, выступающей за создание независимого государства на территориях с украиноязычным населением. В 2010 году в период президентства Виктора Ющенко Бандера был посмертно признан Героем Украины, однако впоследствии это решение было отменено судом. ']"
      ]
     },
     "execution_count": 26,
     "metadata": {},
     "output_type": "execute_result"
    }
   ],
   "source": [
    "items[8]"
   ]
  },
  {
   "cell_type": "markdown",
   "metadata": {
    "heading_collapsed": true
   },
   "source": [
    "# extractor"
   ]
  },
  {
   "cell_type": "code",
   "execution_count": 1,
   "metadata": {
    "hidden": true
   },
   "outputs": [],
   "source": [
    "import re\n",
    "from os.path import expanduser\n",
    "from collections import Counter\n",
    "\n",
    "from naeval.io import (\n",
    "    load_gz_lines,\n",
    "    parse_jl\n",
    ")\n",
    "from naeval.norm.markup import (\n",
    "    Markup,\n",
    "    show_markup\n",
    ")\n",
    "\n",
    "path = expanduser('~/proj/naeval/data/norm/dataset/persons.jl.gz')\n",
    "lines = load_gz_lines(path)\n",
    "items = parse_jl(lines)\n",
    "markups = (Markup.from_json(_) for _ in items)\n",
    "\n",
    "\n",
    "strings = Counter()\n",
    "for markup in markups:\n",
    "    for span in markup.spans:\n",
    "        string = re.sub(r'(\\w+)', lambda _: _.group(1).capitalize(), span.normal)\n",
    "        string = re.sub(r'\\b([А-Я])\\b', lambda _: _.group(1) + '.', string)\n",
    "        strings[string] += 1"
   ]
  },
  {
   "cell_type": "code",
   "execution_count": 2,
   "metadata": {
    "hidden": true
   },
   "outputs": [],
   "source": [
    "from natasha import NamesExtractor, MorphVocab\n",
    "\n",
    "morph_vocab = MorphVocab()\n",
    "extractor = NamesExtractor(morph_vocab)\n"
   ]
  },
  {
   "cell_type": "code",
   "execution_count": 13,
   "metadata": {
    "hidden": true,
    "scrolled": false
   },
   "outputs": [],
   "source": [
    "# from json import dumps\n",
    "# from random import seed, sample\n",
    "\n",
    "# for string, count in strings.most_common(1000):\n",
    "# # seed(1)\n",
    "# # for string in sample(sorted(strings), 100):\n",
    "#     match = extractor.parser.match(string)\n",
    "#     if not match:\n",
    "#         print(string)\n",
    "#         print(extractor.find(string))\n",
    "#         print()\n",
    "# #     if match:\n",
    "# #         print(string)\n",
    "# #         print(dumps(match.fact.as_json, ensure_ascii=False))\n",
    "# #         print()"
   ]
  },
  {
   "cell_type": "markdown",
   "metadata": {
    "heading_collapsed": true
   },
   "source": [
    "# norm"
   ]
  },
  {
   "cell_type": "code",
   "execution_count": 39,
   "metadata": {
    "hidden": true
   },
   "outputs": [],
   "source": [
    "from os.path import expanduser\n",
    "from naeval.io import (\n",
    "    load_gz_lines,\n",
    "    parse_jl\n",
    ")\n",
    "from naeval.norm.markup import (\n",
    "    Markup,\n",
    "    show_markup\n",
    ")\n",
    "\n",
    "markups = []\n",
    "path = expanduser('~/proj/naeval/data/norm/dataset/bsnlp.jl.gz')\n",
    "lines = load_gz_lines(path)\n",
    "items = parse_jl(lines)\n",
    "markups.extend(Markup.from_json(_) for _ in items)\n",
    "\n",
    "# path = expanduser('~/proj/naeval/data/norm/dataset/persons.jl.gz')\n",
    "# lines = load_gz_lines(path)\n",
    "# items = parse_jl(lines)\n",
    "# markups.extend(Markup.from_json(_) for _ in items)"
   ]
  },
  {
   "cell_type": "code",
   "execution_count": 2,
   "metadata": {
    "hidden": true
   },
   "outputs": [],
   "source": [
    "%load_ext autoreload\n",
    "%autoreload 2\n",
    "%run -n main.py\n",
    "\n",
    "segmenter = Segmenter()\n",
    "morph_vocab = MorphVocab()\n",
    "\n",
    "emb = NewsEmbedding()\n",
    "morph_tagger = NewsMorphTagger(emb)\n",
    "syntax_parser = NewsSyntaxParser(emb)\n",
    "ner_tagger = NewsNERTagger(emb)"
   ]
  },
  {
   "cell_type": "code",
   "execution_count": 41,
   "metadata": {
    "hidden": true
   },
   "outputs": [],
   "source": [
    "# %run -n main.py\n",
    "# markup = markups[0]\n",
    "# doc = Doc(markup.text)\n",
    "# doc.segment(segmenter)\n",
    "# doc.tag_morph(morph_tagger)\n",
    "# doc.parse_syntax(syntax_parser)\n",
    "# add_spans(doc, markup.spans)\n",
    "\n",
    "# for span in doc.spans:\n",
    "#     span.normalize(morph_vocab)\n",
    "    \n",
    "# doc.spans"
   ]
  },
  {
   "cell_type": "code",
   "execution_count": 42,
   "metadata": {
    "hidden": true,
    "scrolled": false
   },
   "outputs": [
    {
     "data": {
      "application/vnd.jupyter.widget-view+json": {
       "model_id": "c3bb75320817469690eaca668904faa2",
       "version_major": 2,
       "version_minor": 0
      },
      "text/plain": [
       "HBox(children=(FloatProgress(value=0.0, max=464.0), HTML(value='')))"
      ]
     },
     "metadata": {},
     "output_type": "display_data"
    },
    {
     "name": "stdout",
     "output_type": "stream",
     "text": [
      "\n"
     ]
    }
   ],
   "source": [
    "pairs = []\n",
    "for markup in log_progress(markups):\n",
    "    doc = Doc(markup.text)\n",
    "    doc.segment(segmenter)\n",
    "    doc.tag_morph(morph_tagger)\n",
    "    doc.parse_syntax(syntax_parser)\n",
    "    add_spans(doc, markup.spans)\n",
    "\n",
    "    for span in doc.spans:\n",
    "        span.normalize(morph_vocab)\n",
    "\n",
    "    for pred, target in zip(doc.spans, markup.spans):\n",
    "        pairs.append([pred, target])            "
   ]
  },
  {
   "cell_type": "code",
   "execution_count": 18,
   "metadata": {
    "hidden": true
   },
   "outputs": [],
   "source": [
    "# 464/464 [00:34<00:00, 13.37it/s]\n",
    "# 464/464 [00:38<00:00, 12.00it/s] + span normalize (11% more time)"
   ]
  },
  {
   "cell_type": "code",
   "execution_count": 49,
   "metadata": {
    "hidden": true
   },
   "outputs": [],
   "source": [
    "# items = set()\n",
    "# for pred, target in pairs:\n",
    "#     items.add((target.type, normal_word(pred.normal), normal_word(target.normal)))\n",
    "\n",
    "# counts = defaultdict(Counter)\n",
    "# for type, pred, target in items:\n",
    "#     counts[type]['total'] += 1\n",
    "#     if pred == target:\n",
    "#         counts[type]['correct'] += 1\n",
    "        \n",
    "# for type in counts:\n",
    "#     correct = counts[type]['correct']\n",
    "#     total = counts[type]['total']\n",
    "#     print(type, correct, total, correct / total)"
   ]
  },
  {
   "cell_type": "code",
   "execution_count": 27,
   "metadata": {
    "hidden": true
   },
   "outputs": [],
   "source": [
    "# bsnlp\n",
    "# PER 2129 2323 0.9164873009040034\n",
    "# LOC 3661 3787 0.966728280961183\n",
    "# ORG 3001 3045 0.9855500821018063\n",
    "\n",
    "# person 1000\n",
    "# PER 8381 10600 0.7906603773584906\n",
    "\n",
    "# non uniq\n",
    "# bsnlp\n",
    "# PER 333 391 0.8516624040920716\n",
    "# LOC 219 270 0.8111111111111111\n",
    "# ORG 455 494 0.9210526315789473"
   ]
  },
  {
   "cell_type": "code",
   "execution_count": 47,
   "metadata": {
    "hidden": true
   },
   "outputs": [],
   "source": [
    "# morph_vocab('Затулину')"
   ]
  },
  {
   "cell_type": "code",
   "execution_count": 48,
   "metadata": {
    "hidden": true,
    "scrolled": false
   },
   "outputs": [],
   "source": [
    "# from natasha.syntax import print_markup, SyntaxMarkup\n",
    "\n",
    "# uniq = {}\n",
    "# counts = Counter()\n",
    "# for pair in pairs:\n",
    "#     pred, target = pair\n",
    "#     if target.type == 'LOC':\n",
    "#         pred, target = normal_word(pred.normal), normal_word(target.normal)\n",
    "#         if pred != target:\n",
    "#             uniq[pred, target] = pair\n",
    "#             counts[pred, target] += 1\n",
    "\n",
    "# for key in uniq:\n",
    "#     count = counts[key]\n",
    "#     span, target = uniq[key]\n",
    "# #     if span.text != 'Европейской комиссией':\n",
    "# #         continue\n",
    "#     normal = span.normalize(morph_vocab)\n",
    "#     print([count, span.text, span.normal, target.normal])\n",
    "# #     print_markup(SyntaxMarkup(span.tokens))\n",
    "# #     print()"
   ]
  },
  {
   "cell_type": "code",
   "execution_count": null,
   "metadata": {
    "hidden": true
   },
   "outputs": [],
   "source": []
  },
  {
   "cell_type": "code",
   "execution_count": null,
   "metadata": {
    "hidden": true
   },
   "outputs": [],
   "source": []
  },
  {
   "cell_type": "code",
   "execution_count": null,
   "metadata": {
    "hidden": true
   },
   "outputs": [],
   "source": []
  },
  {
   "cell_type": "code",
   "execution_count": null,
   "metadata": {
    "hidden": true
   },
   "outputs": [],
   "source": []
  },
  {
   "cell_type": "markdown",
   "metadata": {
    "heading_collapsed": true
   },
   "source": [
    "# lemma"
   ]
  },
  {
   "cell_type": "code",
   "execution_count": 1,
   "metadata": {
    "hidden": true
   },
   "outputs": [],
   "source": [
    "from os.path import expanduser\n",
    "\n",
    "from naeval.const import NEWS, FICTION, WIKI, SOCIAL, POETRY\n",
    "from naeval.io import (\n",
    "    load_gz_lines,\n",
    "    parse_jl\n",
    ")\n",
    "from naeval.lemma.markup import (\n",
    "    Token, Markup,\n",
    "    show_markup, \n",
    "    show_markup_diff\n",
    ")\n",
    "\n",
    "\n",
    "datasets = {}\n",
    "for name in [NEWS, FICTION, WIKI, SOCIAL, POETRY]:\n",
    "    path = expanduser('~/proj/naeval/data/lemma/dataset/%s.jl.gz' % name)\n",
    "    lines = load_gz_lines(path)\n",
    "    items = parse_jl(lines)\n",
    "    datasets[name] = [Markup.from_json(_) for _ in items]\n",
    "    \n",
    "    \n",
    "def process_token(token, lemmatize):\n",
    "    text, _, pos, feats = token\n",
    "    lemma = lemmatize(text, pos, feats)\n",
    "    return Token(text, lemma, pos, feats)\n",
    "\n",
    "\n",
    "def process_markup(markup, lemmatize):\n",
    "    return Markup([\n",
    "        process_token(_, lemmatize)\n",
    "        for _ in markup.tokens\n",
    "    ])"
   ]
  },
  {
   "cell_type": "code",
   "execution_count": 77,
   "metadata": {
    "hidden": true,
    "scrolled": false
   },
   "outputs": [],
   "source": [
    "# %run -n main.py\n",
    "# morph = MorphAnalyzer()\n",
    "# lemmatize = Lemmatizer(morph)\n",
    "\n",
    "# total = 0\n",
    "# errs = []\n",
    "# for target in datasets[NEWS]:\n",
    "#     pred = process_markup(target, lemmatize)\n",
    "#     for a, b in zip(target.tokens, pred.tokens):\n",
    "#         total += 1\n",
    "#         if a.lemma != b.lemma:\n",
    "#             errs.append([a, b])\n",
    "# len(errs), total, 1 - len(errs) / total"
   ]
  },
  {
   "cell_type": "code",
   "execution_count": null,
   "metadata": {
    "hidden": true
   },
   "outputs": [],
   "source": [
    "# (451, 6498, 0.9305940289319791)\n",
    "# (395, 6498, 0.9392120652508464)\n",
    "# (322, 6498, 0.9504462911665128)\n",
    "\n",
    "# (257, 6498, 0.9604493690366267)\n",
    "# (181, 6498, 0.9721452754693752)\n",
    "# (150, 6498, 0.976915974145891)\n",
    "# just 35 fixable, other pymorpy errors"
   ]
  },
  {
   "cell_type": "code",
   "execution_count": 76,
   "metadata": {
    "hidden": true,
    "scrolled": false
   },
   "outputs": [],
   "source": [
    "# from collections import Counter\n",
    "# counts = Counter()\n",
    "# for a, b in errs:\n",
    "#     norms = {\n",
    "#         _.normal\n",
    "#         for _ in morph(a.text)\n",
    "#     }\n",
    "#     if a.lemma not in norms:\n",
    "#         # have a chance for correct answer\n",
    "#         continue\n",
    "\n",
    "#     print(a.text)\n",
    "#     print(a.lemma)\n",
    "#     print(b.lemma)\n",
    "#     print(b.pos, b.feats)\n",
    "\n",
    "#     print()\n",
    "#     forms = morph(a.text)\n",
    "#     for form in forms:\n",
    "#         print(form.normal, form.tag, form.pos, form.feats)\n",
    "#     print()\n"
   ]
  },
  {
   "cell_type": "code",
   "execution_count": 79,
   "metadata": {
    "hidden": true
   },
   "outputs": [
    {
     "name": "stdout",
     "output_type": "stream",
     "text": [
      "6348\t6498\t0.976915974145891\tnews\n",
      "17311\t17837\t0.9705107361103325\tfiction\n",
      "18857\t19539\t0.9650954501253902\twiki\n",
      "10657\t11117\t0.9586219303769002\tsocial\n",
      "13241\t13759\t0.9623519151101098\tpoetry\n"
     ]
    }
   ],
   "source": [
    "%run -n main.py\n",
    "morph = MorphAnalyzer()\n",
    "lemmatize = Lemmatizer(morph)\n",
    "\n",
    "for name in [NEWS, FICTION, WIKI, SOCIAL, POETRY]:\n",
    "    count, total = 0, 0\n",
    "    for target in datasets[name]:\n",
    "        pred = process_markup(target, lemmatize)\n",
    "        for a, b in zip(target.tokens, pred.tokens):\n",
    "            total += 1\n",
    "            if a.lemma == b.lemma:\n",
    "                count += 1\n",
    "    print(count, total, count / total, name, sep='\\t')"
   ]
  },
  {
   "cell_type": "code",
   "execution_count": null,
   "metadata": {
    "hidden": true
   },
   "outputs": [],
   "source": []
  }
 ],
 "metadata": {
  "kernelspec": {
   "display_name": "Python 3",
   "language": "python",
   "name": "python3"
  },
  "language_info": {
   "codemirror_mode": {
    "name": "ipython",
    "version": 3
   },
   "file_extension": ".py",
   "mimetype": "text/x-python",
   "name": "python",
   "nbconvert_exporter": "python",
   "pygments_lexer": "ipython3",
   "version": "3.6.9"
  }
 },
 "nbformat": 4,
 "nbformat_minor": 2
}
