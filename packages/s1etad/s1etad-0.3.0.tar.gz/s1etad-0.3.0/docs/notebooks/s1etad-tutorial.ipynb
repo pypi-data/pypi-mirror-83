{
 "cells": [
  {
   "cell_type": "markdown",
   "metadata": {},
   "source": [
    "# Basic usage"
   ]
  },
  {
   "cell_type": "markdown",
   "metadata": {},
   "source": [
    "## Notebook setup"
   ]
  },
  {
   "cell_type": "code",
   "execution_count": 1,
   "metadata": {},
   "outputs": [],
   "source": [
    "%matplotlib inline\n",
    "%load_ext autoreload\n",
    "%autoreload 2"
   ]
  },
  {
   "cell_type": "code",
   "execution_count": 2,
   "metadata": {},
   "outputs": [],
   "source": [
    "import sys\n",
    "sys.path.append('../..')"
   ]
  },
  {
   "cell_type": "code",
   "execution_count": 3,
   "metadata": {},
   "outputs": [],
   "source": [
    "import numpy as np\n",
    "import matplotlib.pyplot as plt"
   ]
  },
  {
   "cell_type": "code",
   "execution_count": 4,
   "metadata": {},
   "outputs": [],
   "source": [
    "import s1etad\n",
    "from s1etad import Sentinel1Etad, ECorrectionType"
   ]
  },
  {
   "cell_type": "markdown",
   "metadata": {},
   "source": [
    "## Sentinel1Etad product"
   ]
  },
  {
   "cell_type": "code",
   "execution_count": 5,
   "metadata": {},
   "outputs": [],
   "source": [
    "filename = '../../sample-products/S1B_IW_ETA__AXDV_20190805T162509_20190805T162536_017453_020D3A_____.SAFE'"
   ]
  },
  {
   "cell_type": "code",
   "execution_count": 6,
   "metadata": {},
   "outputs": [],
   "source": [
    "eta = Sentinel1Etad(filename)"
   ]
  },
  {
   "cell_type": "code",
   "execution_count": 7,
   "metadata": {},
   "outputs": [
    {
     "data": {
      "text/plain": [
       "Sentinel1Etad(\"../../sample-products/S1B_IW_ETA__AXDV_20190805T162509_20190805T162536_017453_020D3A_____.SAFE\")  # 0x7ffcab673950\n",
       "Sentinel-1 products list:\n",
       "  S1B_IW_SLC__1ADV_20190805T162509_20190805T162536_017453_020D3A_A857.SAFE\n",
       "Number of swaths: 3\n",
       "Swath list: IW1, IW2, IW3\n",
       "Grid sampling:\n",
       "  x: 8.081406101630269e-07\n",
       "  y: 0.028777788199999974\n",
       "  unit: s\n",
       "Grid spacing:\n",
       "  x: 200.0\n",
       "  y: 200.0\n",
       "  unit: m\n",
       "Processing settings:\n",
       "  troposphericDelayCorrection: True\n",
       "  ionosphericDelayCorrection: True\n",
       "  solidEarthTideCorrection: True\n",
       "  bistaticAzimuthCorrection: True\n",
       "  dopplerShiftRangeCorrection: True\n",
       "  FMMismatchAzimuthCorrection: True"
      ]
     },
     "execution_count": 7,
     "metadata": {},
     "output_type": "execute_result"
    }
   ],
   "source": [
    "eta"
   ]
  },
  {
   "cell_type": "markdown",
   "metadata": {},
   "source": [
    "### Check which corrections have been enabled"
   ]
  },
  {
   "cell_type": "code",
   "execution_count": 8,
   "metadata": {},
   "outputs": [
    {
     "data": {
      "text/plain": [
       "{'troposphericDelayCorrection': True,\n",
       " 'ionosphericDelayCorrection': True,\n",
       " 'solidEarthTideCorrection': True,\n",
       " 'bistaticAzimuthCorrection': True,\n",
       " 'dopplerShiftRangeCorrection': True,\n",
       " 'FMMismatchAzimuthCorrection': True}"
      ]
     },
     "execution_count": 8,
     "metadata": {},
     "output_type": "execute_result"
    }
   ],
   "source": [
    "eta.processing_setting()"
   ]
  },
  {
   "cell_type": "markdown",
   "metadata": {},
   "source": [
    "### The burst catalogue"
   ]
  },
  {
   "cell_type": "markdown",
   "metadata": {},
   "source": [
    "It is a pandas dataframe to allow easy filtering.\n",
    "\n",
    "See also use cases in the \"Use case 1: Selecting the bursts\" section for a more complete explaination on the burst catalogue and the query mechanism."
   ]
  },
  {
   "cell_type": "code",
   "execution_count": 9,
   "metadata": {},
   "outputs": [
    {
     "data": {
      "text/html": [
       "<div>\n",
       "<style scoped>\n",
       "    .dataframe tbody tr th:only-of-type {\n",
       "        vertical-align: middle;\n",
       "    }\n",
       "\n",
       "    .dataframe tbody tr th {\n",
       "        vertical-align: top;\n",
       "    }\n",
       "\n",
       "    .dataframe thead th {\n",
       "        text-align: right;\n",
       "    }\n",
       "</style>\n",
       "<table border=\"1\" class=\"dataframe\">\n",
       "  <thead>\n",
       "    <tr style=\"text-align: right;\">\n",
       "      <th></th>\n",
       "      <th>bIndex</th>\n",
       "      <th>pIndex</th>\n",
       "      <th>sIndex</th>\n",
       "      <th>productID</th>\n",
       "      <th>swathID</th>\n",
       "      <th>azimuthTimeMin</th>\n",
       "      <th>azimuthTimeMax</th>\n",
       "    </tr>\n",
       "  </thead>\n",
       "  <tbody>\n",
       "    <tr>\n",
       "      <th>0</th>\n",
       "      <td>1</td>\n",
       "      <td>1</td>\n",
       "      <td>1</td>\n",
       "      <td>S1B_IW_SLC__1ADV_20190805T162509_20190805T1625...</td>\n",
       "      <td>IW1</td>\n",
       "      <td>2019-08-05 16:25:09.836779</td>\n",
       "      <td>2019-08-05 16:25:13.002336</td>\n",
       "    </tr>\n",
       "    <tr>\n",
       "      <th>1</th>\n",
       "      <td>4</td>\n",
       "      <td>1</td>\n",
       "      <td>1</td>\n",
       "      <td>S1B_IW_SLC__1ADV_20190805T162509_20190805T1625...</td>\n",
       "      <td>IW1</td>\n",
       "      <td>2019-08-05 16:25:12.570669</td>\n",
       "      <td>2019-08-05 16:25:15.736226</td>\n",
       "    </tr>\n",
       "    <tr>\n",
       "      <th>2</th>\n",
       "      <td>7</td>\n",
       "      <td>1</td>\n",
       "      <td>1</td>\n",
       "      <td>S1B_IW_SLC__1ADV_20190805T162509_20190805T1625...</td>\n",
       "      <td>IW1</td>\n",
       "      <td>2019-08-05 16:25:15.333337</td>\n",
       "      <td>2019-08-05 16:25:18.498893</td>\n",
       "    </tr>\n",
       "    <tr>\n",
       "      <th>3</th>\n",
       "      <td>10</td>\n",
       "      <td>1</td>\n",
       "      <td>1</td>\n",
       "      <td>S1B_IW_SLC__1ADV_20190805T162509_20190805T1625...</td>\n",
       "      <td>IW1</td>\n",
       "      <td>2019-08-05 16:25:18.096004</td>\n",
       "      <td>2019-08-05 16:25:21.261561</td>\n",
       "    </tr>\n",
       "    <tr>\n",
       "      <th>4</th>\n",
       "      <td>13</td>\n",
       "      <td>1</td>\n",
       "      <td>1</td>\n",
       "      <td>S1B_IW_SLC__1ADV_20190805T162509_20190805T1625...</td>\n",
       "      <td>IW1</td>\n",
       "      <td>2019-08-05 16:25:20.858672</td>\n",
       "      <td>2019-08-05 16:25:24.024229</td>\n",
       "    </tr>\n",
       "  </tbody>\n",
       "</table>\n",
       "</div>"
      ],
      "text/plain": [
       "   bIndex  pIndex  sIndex                                          productID  \\\n",
       "0       1       1       1  S1B_IW_SLC__1ADV_20190805T162509_20190805T1625...   \n",
       "1       4       1       1  S1B_IW_SLC__1ADV_20190805T162509_20190805T1625...   \n",
       "2       7       1       1  S1B_IW_SLC__1ADV_20190805T162509_20190805T1625...   \n",
       "3      10       1       1  S1B_IW_SLC__1ADV_20190805T162509_20190805T1625...   \n",
       "4      13       1       1  S1B_IW_SLC__1ADV_20190805T162509_20190805T1625...   \n",
       "\n",
       "  swathID             azimuthTimeMin             azimuthTimeMax  \n",
       "0     IW1 2019-08-05 16:25:09.836779 2019-08-05 16:25:13.002336  \n",
       "1     IW1 2019-08-05 16:25:12.570669 2019-08-05 16:25:15.736226  \n",
       "2     IW1 2019-08-05 16:25:15.333337 2019-08-05 16:25:18.498893  \n",
       "3     IW1 2019-08-05 16:25:18.096004 2019-08-05 16:25:21.261561  \n",
       "4     IW1 2019-08-05 16:25:20.858672 2019-08-05 16:25:24.024229  "
      ]
     },
     "execution_count": 9,
     "metadata": {},
     "output_type": "execute_result"
    }
   ],
   "source": [
    "eta.burst_catalogue.head()"
   ]
  },
  {
   "cell_type": "markdown",
   "metadata": {},
   "source": [
    "**Tip**: the total number of bursts in a product can be retrieved as follows:"
   ]
  },
  {
   "cell_type": "code",
   "execution_count": 10,
   "metadata": {},
   "outputs": [
    {
     "name": "stdout",
     "output_type": "stream",
     "text": [
      "Total number of bursts: 27\n"
     ]
    }
   ],
   "source": [
    "print('Total number of bursts:', len(eta.burst_catalogue))"
   ]
  },
  {
   "cell_type": "markdown",
   "metadata": {},
   "source": [
    "## Swath objects"
   ]
  },
  {
   "cell_type": "markdown",
   "metadata": {},
   "source": [
    "### How many swaths are stored in a product?"
   ]
  },
  {
   "cell_type": "code",
   "execution_count": 11,
   "metadata": {},
   "outputs": [
    {
     "name": "stdout",
     "output_type": "stream",
     "text": [
      "Number of swaths: 3\n",
      "Swath list: ['IW1', 'IW2', 'IW3']\n"
     ]
    }
   ],
   "source": [
    "print('Number of swaths:', eta.number_of_swath)\n",
    "print('Swath list:', eta.swath_list)"
   ]
  },
  {
   "cell_type": "markdown",
   "metadata": {},
   "source": [
    "### How to retieve a Sentinel1EtadSwath object"
   ]
  },
  {
   "cell_type": "code",
   "execution_count": 12,
   "metadata": {},
   "outputs": [],
   "source": [
    "swath = eta['IW2']"
   ]
  },
  {
   "cell_type": "code",
   "execution_count": 13,
   "metadata": {},
   "outputs": [
    {
     "data": {
      "text/plain": [
       "Sentinel1EtadSwath(\"/IW2\")  0x7ffcab79c090\n",
       "Swaths ID: IW2\n",
       "Number of bursts: 9\n",
       "Burst list: [2, 5, 8, 11, 14, 17, 20, 23, 26]\n",
       "Sampling start:\n",
       "  x: 0.0003095178536924219\n",
       "  y: 0.9208892223996372\n",
       "  units: s\n",
       "Sampling:\n",
       "  x: 8.081406101630269e-07\n",
       "  y: 0.028777788199999974\n",
       "  units: s"
      ]
     },
     "execution_count": 13,
     "metadata": {},
     "output_type": "execute_result"
    }
   ],
   "source": [
    "swath"
   ]
  },
  {
   "cell_type": "markdown",
   "metadata": {},
   "source": [
    "## Burst objects"
   ]
  },
  {
   "cell_type": "code",
   "execution_count": 14,
   "metadata": {},
   "outputs": [],
   "source": [
    "burst = swath[2]"
   ]
  },
  {
   "cell_type": "code",
   "execution_count": 15,
   "metadata": {},
   "outputs": [
    {
     "data": {
      "text/plain": [
       "Sentinel1EtadBurst(\"/IW2/Burst0002\")  0x7ffcab79cd50\n",
       "Swaths ID: IW2\n",
       "Burst index: 2\n",
       "Shape: (112, 523)\n",
       "Sampling start:\n",
       "  x: 0.0003095178536924219\n",
       "  y: 0.9208892223996372\n",
       "  units: s\n",
       "Sampling:\n",
       "  x: 8.081406101630269e-07\n",
       "  y: 0.028777788199999974\n",
       "  units: s"
      ]
     },
     "execution_count": 15,
     "metadata": {},
     "output_type": "execute_result"
    }
   ],
   "source": [
    "burst"
   ]
  },
  {
   "cell_type": "markdown",
   "metadata": {},
   "source": [
    "**NOTE**: one can only get bursts whose index is present in the \"burst list\" of the swath"
   ]
  },
  {
   "cell_type": "code",
   "execution_count": 16,
   "metadata": {},
   "outputs": [
    {
     "data": {
      "text/plain": [
       "[2, 5, 8, 11, 14, 17, 20, 23, 26]"
      ]
     },
     "execution_count": 16,
     "metadata": {},
     "output_type": "execute_result"
    }
   ],
   "source": [
    "swath.burst_list"
   ]
  },
  {
   "cell_type": "code",
   "execution_count": 17,
   "metadata": {},
   "outputs": [
    {
     "name": "stdout",
     "output_type": "stream",
     "text": [
      "ERROR: Ops someting went wrong: IndexError('Burst0001 not found in /IW2')\n"
     ]
    }
   ],
   "source": [
    "try:\n",
    "    swath[1]\n",
    "except IndexError as exc:\n",
    "    print('ERROR: Ops someting went wrong:', repr(exc))"
   ]
  },
  {
   "cell_type": "markdown",
   "metadata": {},
   "source": [
    "## String representation"
   ]
  },
  {
   "cell_type": "markdown",
   "metadata": {},
   "source": [
    "Please note that the string representation of Sentinel1Etad object is a \"one-line\" string providing only basic information:"
   ]
  },
  {
   "cell_type": "code",
   "execution_count": 18,
   "metadata": {},
   "outputs": [
    {
     "name": "stdout",
     "output_type": "stream",
     "text": [
      "Product: Sentinel1Etad(\"S1B_IW_ETA__AXDV_20190805T162509_20190805T162536_017453_020D3A_____.SAFE\")\n",
      "Swath: Sentinel1EtadSwath(\"/IW2\")  0x7ffcab79c090\n",
      "Burst: Sentinel1EtadBurst(\"/IW2/Burst0002\")  0x7ffcab79cd50\n"
     ]
    }
   ],
   "source": [
    "print('Product:', str(eta))\n",
    "print('Swath:', str(swath))\n",
    "print('Burst:', str(burst))"
   ]
  },
  {
   "cell_type": "markdown",
   "metadata": {},
   "source": [
    "Anyway in Jupyer environments a richer representation is also available:"
   ]
  },
  {
   "cell_type": "code",
   "execution_count": 19,
   "metadata": {},
   "outputs": [
    {
     "data": {
      "text/plain": [
       "Sentinel1Etad(\"../../sample-products/S1B_IW_ETA__AXDV_20190805T162509_20190805T162536_017453_020D3A_____.SAFE\")  # 0x7ffcab673950\n",
       "Sentinel-1 products list:\n",
       "  S1B_IW_SLC__1ADV_20190805T162509_20190805T162536_017453_020D3A_A857.SAFE\n",
       "Number of swaths: 3\n",
       "Swath list: IW1, IW2, IW3\n",
       "Grid sampling:\n",
       "  x: 8.081406101630269e-07\n",
       "  y: 0.028777788199999974\n",
       "  unit: s\n",
       "Grid spacing:\n",
       "  x: 200.0\n",
       "  y: 200.0\n",
       "  unit: m\n",
       "Processing settings:\n",
       "  troposphericDelayCorrection: True\n",
       "  ionosphericDelayCorrection: True\n",
       "  solidEarthTideCorrection: True\n",
       "  bistaticAzimuthCorrection: True\n",
       "  dopplerShiftRangeCorrection: True\n",
       "  FMMismatchAzimuthCorrection: True"
      ]
     },
     "execution_count": 19,
     "metadata": {},
     "output_type": "execute_result"
    }
   ],
   "source": [
    "eta"
   ]
  },
  {
   "cell_type": "markdown",
   "metadata": {},
   "source": [
    "## Iteration"
   ]
  },
  {
   "cell_type": "markdown",
   "metadata": {},
   "source": [
    "It is possible to iterate over products and swats in the same way one does it with any ather python container."
   ]
  },
  {
   "cell_type": "code",
   "execution_count": 20,
   "metadata": {},
   "outputs": [
    {
     "name": "stdout",
     "output_type": "stream",
     "text": [
      "Sentinel1EtadSwath(\"/IW1\")  0x7ffcab7add10\n",
      "1 IW1 Sentinel1EtadBurst(\"/IW1/Burst0001\")  0x7ffcab7aded0\n",
      "4 IW1 Sentinel1EtadBurst(\"/IW1/Burst0004\")  0x7ffcab7b2390\n",
      "7 IW1 Sentinel1EtadBurst(\"/IW1/Burst0007\")  0x7ffcab7b2790\n",
      "10 IW1 Sentinel1EtadBurst(\"/IW1/Burst0010\")  0x7ffcab7b2b90\n",
      "13 IW1 Sentinel1EtadBurst(\"/IW1/Burst0013\")  0x7ffcab7a74d0\n",
      "16 IW1 Sentinel1EtadBurst(\"/IW1/Burst0016\")  0x7ffcab7a4190\n",
      "19 IW1 Sentinel1EtadBurst(\"/IW1/Burst0019\")  0x7ffcab7a47d0\n",
      "22 IW1 Sentinel1EtadBurst(\"/IW1/Burst0022\")  0x7ffcab7a3d10\n",
      "25 IW1 Sentinel1EtadBurst(\"/IW1/Burst0025\")  0x7ffcab7a4ed0\n",
      "\n",
      "Sentinel1EtadSwath(\"/IW2\")  0x7ffcab79c090\n",
      "2 IW2 Sentinel1EtadBurst(\"/IW2/Burst0002\")  0x7ffcab79cd50\n",
      "5 IW2 Sentinel1EtadBurst(\"/IW2/Burst0005\")  0x7ffcab7a4fd0\n",
      "8 IW2 Sentinel1EtadBurst(\"/IW2/Burst0008\")  0x7ffcab7a3f50\n",
      "11 IW2 Sentinel1EtadBurst(\"/IW2/Burst0011\")  0x7ffcab7a3410\n",
      "14 IW2 Sentinel1EtadBurst(\"/IW2/Burst0014\")  0x7ffcab7a4090\n",
      "17 IW2 Sentinel1EtadBurst(\"/IW2/Burst0017\")  0x7ffcab7a7f50\n",
      "20 IW2 Sentinel1EtadBurst(\"/IW2/Burst0020\")  0x7ffcab7a30d0\n",
      "23 IW2 Sentinel1EtadBurst(\"/IW2/Burst0023\")  0x7ffcab7a34d0\n",
      "26 IW2 Sentinel1EtadBurst(\"/IW2/Burst0026\")  0x7ffcab7a3050\n",
      "\n",
      "Sentinel1EtadSwath(\"/IW3\")  0x7ffcab79cc50\n",
      "3 IW3 Sentinel1EtadBurst(\"/IW3/Burst0003\")  0x7ffcab7a3350\n",
      "6 IW3 Sentinel1EtadBurst(\"/IW3/Burst0006\")  0x7ffcab7a4b90\n",
      "9 IW3 Sentinel1EtadBurst(\"/IW3/Burst0009\")  0x7ffcab79c910\n",
      "12 IW3 Sentinel1EtadBurst(\"/IW3/Burst0012\")  0x7ffcab79cdd0\n",
      "15 IW3 Sentinel1EtadBurst(\"/IW3/Burst0015\")  0x7ffcab79cb50\n",
      "18 IW3 Sentinel1EtadBurst(\"/IW3/Burst0018\")  0x7ffcab79c650\n",
      "21 IW3 Sentinel1EtadBurst(\"/IW3/Burst0021\")  0x7ffcab79c810\n",
      "24 IW3 Sentinel1EtadBurst(\"/IW3/Burst0024\")  0x7ffcab79c510\n",
      "27 IW3 Sentinel1EtadBurst(\"/IW3/Burst0027\")  0x7ffcab79c310\n",
      "\n"
     ]
    }
   ],
   "source": [
    "for swath in eta:\n",
    "    print(swath)\n",
    "    for burst in swath:\n",
    "        print(burst.burst_index, burst.swath_id, burst)\n",
    "    print()"
   ]
  },
  {
   "cell_type": "markdown",
   "metadata": {},
   "source": [
    "### How to iterate only on selected items"
   ]
  },
  {
   "cell_type": "markdown",
   "metadata": {},
   "source": [
    "It is also possible to iterate on a sub-set of the products swaths (or a sub-set of the swath bursts):"
   ]
  },
  {
   "cell_type": "code",
   "execution_count": 21,
   "metadata": {},
   "outputs": [
    {
     "name": "stdout",
     "output_type": "stream",
     "text": [
      " 1 IW1 Sentinel1EtadBurst(\"/IW1/Burst0001\")  0x7ffcab7aded0\n",
      " 7 IW1 Sentinel1EtadBurst(\"/IW1/Burst0007\")  0x7ffcab7b2790\n",
      "13 IW1 Sentinel1EtadBurst(\"/IW1/Burst0013\")  0x7ffcab7a74d0\n",
      "19 IW1 Sentinel1EtadBurst(\"/IW1/Burst0019\")  0x7ffcab7a47d0\n",
      "25 IW1 Sentinel1EtadBurst(\"/IW1/Burst0025\")  0x7ffcab7a4ed0\n",
      " 5 IW2 Sentinel1EtadBurst(\"/IW2/Burst0005\")  0x7ffcab7a4fd0\n",
      "11 IW2 Sentinel1EtadBurst(\"/IW2/Burst0011\")  0x7ffcab7a3410\n",
      "17 IW2 Sentinel1EtadBurst(\"/IW2/Burst0017\")  0x7ffcab7a7f50\n",
      "23 IW2 Sentinel1EtadBurst(\"/IW2/Burst0023\")  0x7ffcab7a34d0\n"
     ]
    }
   ],
   "source": [
    "for swath in eta.iter_swaths(['IW1', 'IW2']):  # no 'IW3'\n",
    "    # list of bursts\n",
    "    odd_bursts = [idx for idx in swath.burst_list if idx % 2 != 0]\n",
    "    for burst in swath.iter_bursts(odd_bursts):\n",
    "        print(f'{burst.burst_index:2} {burst.swath_id} {burst}')"
   ]
  },
  {
   "cell_type": "markdown",
   "metadata": {},
   "source": [
    "### How to iterate on query results"
   ]
  },
  {
   "cell_type": "markdown",
   "metadata": {},
   "source": [
    "The query mechanism is explained extensively in the following.\n",
    "\n",
    "Queries can be performed using the `Sentinel1Etad.query_burst` method.\n",
    "\n",
    "A simple example is a query for a specific swath:"
   ]
  },
  {
   "cell_type": "code",
   "execution_count": 22,
   "metadata": {},
   "outputs": [
    {
     "name": "stdout",
     "output_type": "stream",
     "text": [
      "Sentinel1EtadBurst(\"/IW3/Burst0003\")  0x7ffcab7a3350\n",
      "Sentinel1EtadBurst(\"/IW3/Burst0006\")  0x7ffcab7a4b90\n",
      "Sentinel1EtadBurst(\"/IW3/Burst0009\")  0x7ffcab79c910\n",
      "Sentinel1EtadBurst(\"/IW3/Burst0012\")  0x7ffcab79cdd0\n",
      "Sentinel1EtadBurst(\"/IW3/Burst0015\")  0x7ffcab79cb50\n",
      "Sentinel1EtadBurst(\"/IW3/Burst0018\")  0x7ffcab79c650\n",
      "Sentinel1EtadBurst(\"/IW3/Burst0021\")  0x7ffcab79c810\n",
      "Sentinel1EtadBurst(\"/IW3/Burst0024\")  0x7ffcab79c510\n",
      "Sentinel1EtadBurst(\"/IW3/Burst0027\")  0x7ffcab79c310\n"
     ]
    }
   ],
   "source": [
    "query_result = eta.query_burst(swath='IW3')\n",
    "\n",
    "for swath in eta.iter_swaths(query_result):\n",
    "    for burst in swath.iter_bursts(query_result):\n",
    "        print(burst)"
   ]
  }
 ],
 "metadata": {
  "kernelspec": {
   "display_name": "Python 3",
   "language": "python",
   "name": "python3"
  },
  "language_info": {
   "codemirror_mode": {
    "name": "ipython",
    "version": 3
   },
   "file_extension": ".py",
   "mimetype": "text/x-python",
   "name": "python",
   "nbconvert_exporter": "python",
   "pygments_lexer": "ipython3",
   "version": "3.7.9"
  },
  "toc-autonumbering": true
 },
 "nbformat": 4,
 "nbformat_minor": 4
}
