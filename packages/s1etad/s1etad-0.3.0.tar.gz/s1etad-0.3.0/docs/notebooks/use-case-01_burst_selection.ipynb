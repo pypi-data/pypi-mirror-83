{
 "cells": [
  {
   "cell_type": "markdown",
   "metadata": {
    "toc-hr-collapsed": false
   },
   "source": [
    "# Use case 1: selecting bursts"
   ]
  },
  {
   "cell_type": "markdown",
   "metadata": {},
   "source": [
    "## Notebook setup"
   ]
  },
  {
   "cell_type": "code",
   "execution_count": 1,
   "metadata": {},
   "outputs": [],
   "source": [
    "%matplotlib inline\n",
    "%load_ext autoreload\n",
    "%autoreload 2"
   ]
  },
  {
   "cell_type": "code",
   "execution_count": 2,
   "metadata": {},
   "outputs": [],
   "source": [
    "import sys\n",
    "sys.path.append('../..')"
   ]
  },
  {
   "cell_type": "code",
   "execution_count": 3,
   "metadata": {},
   "outputs": [],
   "source": [
    "import numpy as np\n",
    "import matplotlib.pyplot as plt"
   ]
  },
  {
   "cell_type": "code",
   "execution_count": 4,
   "metadata": {},
   "outputs": [],
   "source": [
    "import s1etad\n",
    "from s1etad import Sentinel1Etad, ECorrectionType"
   ]
  },
  {
   "cell_type": "markdown",
   "metadata": {},
   "source": [
    "## Open the dataset"
   ]
  },
  {
   "cell_type": "code",
   "execution_count": 5,
   "metadata": {},
   "outputs": [],
   "source": [
    "filename = '../../sample-products/S1B_IW_ETA__AXDV_20190805T162509_20190805T162536_017453_020D3A_____.SAFE'"
   ]
  },
  {
   "cell_type": "code",
   "execution_count": 6,
   "metadata": {},
   "outputs": [],
   "source": [
    "eta = Sentinel1Etad(filename)"
   ]
  },
  {
   "cell_type": "code",
   "execution_count": 7,
   "metadata": {},
   "outputs": [
    {
     "data": {
      "text/plain": [
       "Sentinel1Etad(\"../../sample-products/S1B_IW_ETA__AXDV_20190805T162509_20190805T162536_017453_020D3A_____.SAFE\")  # 0x7f8ccbe732d0\n",
       "Sentinel-1 products list:\n",
       "  S1B_IW_SLC__1ADV_20190805T162509_20190805T162536_017453_020D3A_A857.SAFE\n",
       "Number of swaths: 3\n",
       "Swath list: IW1, IW2, IW3\n",
       "Grid sampling:\n",
       "  x: 8.081406101630269e-07\n",
       "  y: 0.028777788199999974\n",
       "  unit: s\n",
       "Grid spacing:\n",
       "  x: 200.0\n",
       "  y: 200.0\n",
       "  unit: m\n",
       "Processing settings:\n",
       "  troposphericDelayCorrection: True\n",
       "  ionosphericDelayCorrection: True\n",
       "  solidEarthTideCorrection: True\n",
       "  bistaticAzimuthCorrection: True\n",
       "  dopplerShiftRangeCorrection: True\n",
       "  FMMismatchAzimuthCorrection: True"
      ]
     },
     "execution_count": 7,
     "metadata": {},
     "output_type": "execute_result"
    }
   ],
   "source": [
    "eta"
   ]
  },
  {
   "cell_type": "markdown",
   "metadata": {
    "toc-hr-collapsed": false
   },
   "source": [
    "## Selecting the burst by filtering in time"
   ]
  },
  {
   "cell_type": "markdown",
   "metadata": {},
   "source": [
    "The availability of the burst catalogue, allows to perform queries and filter the burst by performing time selection using the __first_time__ and __last_time__ keywords of the __query_burst__ method.\n",
    "\n",
    "If no time is provided then all the burst are selected:"
   ]
  },
  {
   "cell_type": "code",
   "execution_count": 8,
   "metadata": {},
   "outputs": [
    {
     "name": "stdout",
     "output_type": "stream",
     "text": [
      "Number of bursts: 27\n"
     ]
    },
    {
     "data": {
      "text/html": [
       "<div>\n",
       "<style scoped>\n",
       "    .dataframe tbody tr th:only-of-type {\n",
       "        vertical-align: middle;\n",
       "    }\n",
       "\n",
       "    .dataframe tbody tr th {\n",
       "        vertical-align: top;\n",
       "    }\n",
       "\n",
       "    .dataframe thead th {\n",
       "        text-align: right;\n",
       "    }\n",
       "</style>\n",
       "<table border=\"1\" class=\"dataframe\">\n",
       "  <thead>\n",
       "    <tr style=\"text-align: right;\">\n",
       "      <th></th>\n",
       "      <th>bIndex</th>\n",
       "      <th>pIndex</th>\n",
       "      <th>sIndex</th>\n",
       "      <th>productID</th>\n",
       "      <th>swathID</th>\n",
       "      <th>azimuthTimeMin</th>\n",
       "      <th>azimuthTimeMax</th>\n",
       "    </tr>\n",
       "  </thead>\n",
       "  <tbody>\n",
       "    <tr>\n",
       "      <th>0</th>\n",
       "      <td>1</td>\n",
       "      <td>1</td>\n",
       "      <td>1</td>\n",
       "      <td>S1B_IW_SLC__1ADV_20190805T162509_20190805T1625...</td>\n",
       "      <td>IW1</td>\n",
       "      <td>2019-08-05 16:25:09.836779</td>\n",
       "      <td>2019-08-05 16:25:13.002336</td>\n",
       "    </tr>\n",
       "    <tr>\n",
       "      <th>9</th>\n",
       "      <td>2</td>\n",
       "      <td>1</td>\n",
       "      <td>2</td>\n",
       "      <td>S1B_IW_SLC__1ADV_20190805T162509_20190805T1625...</td>\n",
       "      <td>IW2</td>\n",
       "      <td>2019-08-05 16:25:10.757668</td>\n",
       "      <td>2019-08-05 16:25:13.952003</td>\n",
       "    </tr>\n",
       "    <tr>\n",
       "      <th>18</th>\n",
       "      <td>3</td>\n",
       "      <td>1</td>\n",
       "      <td>3</td>\n",
       "      <td>S1B_IW_SLC__1ADV_20190805T162509_20190805T1625...</td>\n",
       "      <td>IW3</td>\n",
       "      <td>2019-08-05 16:25:11.736113</td>\n",
       "      <td>2019-08-05 16:25:14.930448</td>\n",
       "    </tr>\n",
       "    <tr>\n",
       "      <th>1</th>\n",
       "      <td>4</td>\n",
       "      <td>1</td>\n",
       "      <td>1</td>\n",
       "      <td>S1B_IW_SLC__1ADV_20190805T162509_20190805T1625...</td>\n",
       "      <td>IW1</td>\n",
       "      <td>2019-08-05 16:25:12.570669</td>\n",
       "      <td>2019-08-05 16:25:15.736226</td>\n",
       "    </tr>\n",
       "    <tr>\n",
       "      <th>10</th>\n",
       "      <td>5</td>\n",
       "      <td>1</td>\n",
       "      <td>2</td>\n",
       "      <td>S1B_IW_SLC__1ADV_20190805T162509_20190805T1625...</td>\n",
       "      <td>IW2</td>\n",
       "      <td>2019-08-05 16:25:13.520336</td>\n",
       "      <td>2019-08-05 16:25:16.714671</td>\n",
       "    </tr>\n",
       "  </tbody>\n",
       "</table>\n",
       "</div>"
      ],
      "text/plain": [
       "    bIndex  pIndex  sIndex                                          productID  \\\n",
       "0        1       1       1  S1B_IW_SLC__1ADV_20190805T162509_20190805T1625...   \n",
       "9        2       1       2  S1B_IW_SLC__1ADV_20190805T162509_20190805T1625...   \n",
       "18       3       1       3  S1B_IW_SLC__1ADV_20190805T162509_20190805T1625...   \n",
       "1        4       1       1  S1B_IW_SLC__1ADV_20190805T162509_20190805T1625...   \n",
       "10       5       1       2  S1B_IW_SLC__1ADV_20190805T162509_20190805T1625...   \n",
       "\n",
       "   swathID             azimuthTimeMin             azimuthTimeMax  \n",
       "0      IW1 2019-08-05 16:25:09.836779 2019-08-05 16:25:13.002336  \n",
       "9      IW2 2019-08-05 16:25:10.757668 2019-08-05 16:25:13.952003  \n",
       "18     IW3 2019-08-05 16:25:11.736113 2019-08-05 16:25:14.930448  \n",
       "1      IW1 2019-08-05 16:25:12.570669 2019-08-05 16:25:15.736226  \n",
       "10     IW2 2019-08-05 16:25:13.520336 2019-08-05 16:25:16.714671  "
      ]
     },
     "execution_count": 8,
     "metadata": {},
     "output_type": "execute_result"
    }
   ],
   "source": [
    "df = eta.query_burst()\n",
    "\n",
    "print(f\"Number of bursts: {len(df)}\")\n",
    "df.head()"
   ]
  },
  {
   "cell_type": "markdown",
   "metadata": {},
   "source": [
    "It is possible to reduce the selection by **start time** in this case the **stop time** is the last available burst:"
   ]
  },
  {
   "cell_type": "code",
   "execution_count": 9,
   "metadata": {},
   "outputs": [
    {
     "name": "stdout",
     "output_type": "stream",
     "text": [
      "Number of bursts: 4\n"
     ]
    },
    {
     "data": {
      "text/html": [
       "<div>\n",
       "<style scoped>\n",
       "    .dataframe tbody tr th:only-of-type {\n",
       "        vertical-align: middle;\n",
       "    }\n",
       "\n",
       "    .dataframe tbody tr th {\n",
       "        vertical-align: top;\n",
       "    }\n",
       "\n",
       "    .dataframe thead th {\n",
       "        text-align: right;\n",
       "    }\n",
       "</style>\n",
       "<table border=\"1\" class=\"dataframe\">\n",
       "  <thead>\n",
       "    <tr style=\"text-align: right;\">\n",
       "      <th></th>\n",
       "      <th>bIndex</th>\n",
       "      <th>pIndex</th>\n",
       "      <th>sIndex</th>\n",
       "      <th>productID</th>\n",
       "      <th>swathID</th>\n",
       "      <th>azimuthTimeMin</th>\n",
       "      <th>azimuthTimeMax</th>\n",
       "    </tr>\n",
       "  </thead>\n",
       "  <tbody>\n",
       "    <tr>\n",
       "      <th>25</th>\n",
       "      <td>24</td>\n",
       "      <td>1</td>\n",
       "      <td>3</td>\n",
       "      <td>S1B_IW_SLC__1ADV_20190805T162509_20190805T1625...</td>\n",
       "      <td>IW3</td>\n",
       "      <td>2019-08-05 16:25:31.017231</td>\n",
       "      <td>2019-08-05 16:25:34.240344</td>\n",
       "    </tr>\n",
       "    <tr>\n",
       "      <th>8</th>\n",
       "      <td>25</td>\n",
       "      <td>1</td>\n",
       "      <td>1</td>\n",
       "      <td>S1B_IW_SLC__1ADV_20190805T162509_20190805T1625...</td>\n",
       "      <td>IW1</td>\n",
       "      <td>2019-08-05 16:25:31.880565</td>\n",
       "      <td>2019-08-05 16:25:35.046122</td>\n",
       "    </tr>\n",
       "    <tr>\n",
       "      <th>17</th>\n",
       "      <td>26</td>\n",
       "      <td>1</td>\n",
       "      <td>2</td>\n",
       "      <td>S1B_IW_SLC__1ADV_20190805T162509_20190805T1625...</td>\n",
       "      <td>IW2</td>\n",
       "      <td>2019-08-05 16:25:32.830232</td>\n",
       "      <td>2019-08-05 16:25:36.024566</td>\n",
       "    </tr>\n",
       "    <tr>\n",
       "      <th>26</th>\n",
       "      <td>27</td>\n",
       "      <td>1</td>\n",
       "      <td>3</td>\n",
       "      <td>S1B_IW_SLC__1ADV_20190805T162509_20190805T1625...</td>\n",
       "      <td>IW3</td>\n",
       "      <td>2019-08-05 16:25:33.779899</td>\n",
       "      <td>2019-08-05 16:25:36.974233</td>\n",
       "    </tr>\n",
       "  </tbody>\n",
       "</table>\n",
       "</div>"
      ],
      "text/plain": [
       "    bIndex  pIndex  sIndex                                          productID  \\\n",
       "25      24       1       3  S1B_IW_SLC__1ADV_20190805T162509_20190805T1625...   \n",
       "8       25       1       1  S1B_IW_SLC__1ADV_20190805T162509_20190805T1625...   \n",
       "17      26       1       2  S1B_IW_SLC__1ADV_20190805T162509_20190805T1625...   \n",
       "26      27       1       3  S1B_IW_SLC__1ADV_20190805T162509_20190805T1625...   \n",
       "\n",
       "   swathID             azimuthTimeMin             azimuthTimeMax  \n",
       "25     IW3 2019-08-05 16:25:31.017231 2019-08-05 16:25:34.240344  \n",
       "8      IW1 2019-08-05 16:25:31.880565 2019-08-05 16:25:35.046122  \n",
       "17     IW2 2019-08-05 16:25:32.830232 2019-08-05 16:25:36.024566  \n",
       "26     IW3 2019-08-05 16:25:33.779899 2019-08-05 16:25:36.974233  "
      ]
     },
     "execution_count": 9,
     "metadata": {},
     "output_type": "execute_result"
    }
   ],
   "source": [
    "import dateutil\n",
    "first_time = dateutil.parser.parse('2019-08-05T16:25:30.117898')\n",
    "\n",
    "df = eta.query_burst(first_time=first_time)\n",
    "\n",
    "print(f\"Number of bursts: {len(df)}\")\n",
    "df.head()"
   ]
  },
  {
   "cell_type": "markdown",
   "metadata": {},
   "source": [
    "It is possible to reduce the selection by the **stop time** in this case the **start time** is the first available burst:"
   ]
  },
  {
   "cell_type": "code",
   "execution_count": 10,
   "metadata": {},
   "outputs": [
    {
     "name": "stdout",
     "output_type": "stream",
     "text": [
      "Number of bursts: 8\n"
     ]
    },
    {
     "data": {
      "text/html": [
       "<div>\n",
       "<style scoped>\n",
       "    .dataframe tbody tr th:only-of-type {\n",
       "        vertical-align: middle;\n",
       "    }\n",
       "\n",
       "    .dataframe tbody tr th {\n",
       "        vertical-align: top;\n",
       "    }\n",
       "\n",
       "    .dataframe thead th {\n",
       "        text-align: right;\n",
       "    }\n",
       "</style>\n",
       "<table border=\"1\" class=\"dataframe\">\n",
       "  <thead>\n",
       "    <tr style=\"text-align: right;\">\n",
       "      <th></th>\n",
       "      <th>bIndex</th>\n",
       "      <th>pIndex</th>\n",
       "      <th>sIndex</th>\n",
       "      <th>productID</th>\n",
       "      <th>swathID</th>\n",
       "      <th>azimuthTimeMin</th>\n",
       "      <th>azimuthTimeMax</th>\n",
       "    </tr>\n",
       "  </thead>\n",
       "  <tbody>\n",
       "    <tr>\n",
       "      <th>0</th>\n",
       "      <td>1</td>\n",
       "      <td>1</td>\n",
       "      <td>1</td>\n",
       "      <td>S1B_IW_SLC__1ADV_20190805T162509_20190805T1625...</td>\n",
       "      <td>IW1</td>\n",
       "      <td>2019-08-05 16:25:09.836779</td>\n",
       "      <td>2019-08-05 16:25:13.002336</td>\n",
       "    </tr>\n",
       "    <tr>\n",
       "      <th>9</th>\n",
       "      <td>2</td>\n",
       "      <td>1</td>\n",
       "      <td>2</td>\n",
       "      <td>S1B_IW_SLC__1ADV_20190805T162509_20190805T1625...</td>\n",
       "      <td>IW2</td>\n",
       "      <td>2019-08-05 16:25:10.757668</td>\n",
       "      <td>2019-08-05 16:25:13.952003</td>\n",
       "    </tr>\n",
       "    <tr>\n",
       "      <th>18</th>\n",
       "      <td>3</td>\n",
       "      <td>1</td>\n",
       "      <td>3</td>\n",
       "      <td>S1B_IW_SLC__1ADV_20190805T162509_20190805T1625...</td>\n",
       "      <td>IW3</td>\n",
       "      <td>2019-08-05 16:25:11.736113</td>\n",
       "      <td>2019-08-05 16:25:14.930448</td>\n",
       "    </tr>\n",
       "    <tr>\n",
       "      <th>1</th>\n",
       "      <td>4</td>\n",
       "      <td>1</td>\n",
       "      <td>1</td>\n",
       "      <td>S1B_IW_SLC__1ADV_20190805T162509_20190805T1625...</td>\n",
       "      <td>IW1</td>\n",
       "      <td>2019-08-05 16:25:12.570669</td>\n",
       "      <td>2019-08-05 16:25:15.736226</td>\n",
       "    </tr>\n",
       "    <tr>\n",
       "      <th>10</th>\n",
       "      <td>5</td>\n",
       "      <td>1</td>\n",
       "      <td>2</td>\n",
       "      <td>S1B_IW_SLC__1ADV_20190805T162509_20190805T1625...</td>\n",
       "      <td>IW2</td>\n",
       "      <td>2019-08-05 16:25:13.520336</td>\n",
       "      <td>2019-08-05 16:25:16.714671</td>\n",
       "    </tr>\n",
       "  </tbody>\n",
       "</table>\n",
       "</div>"
      ],
      "text/plain": [
       "    bIndex  pIndex  sIndex                                          productID  \\\n",
       "0        1       1       1  S1B_IW_SLC__1ADV_20190805T162509_20190805T1625...   \n",
       "9        2       1       2  S1B_IW_SLC__1ADV_20190805T162509_20190805T1625...   \n",
       "18       3       1       3  S1B_IW_SLC__1ADV_20190805T162509_20190805T1625...   \n",
       "1        4       1       1  S1B_IW_SLC__1ADV_20190805T162509_20190805T1625...   \n",
       "10       5       1       2  S1B_IW_SLC__1ADV_20190805T162509_20190805T1625...   \n",
       "\n",
       "   swathID             azimuthTimeMin             azimuthTimeMax  \n",
       "0      IW1 2019-08-05 16:25:09.836779 2019-08-05 16:25:13.002336  \n",
       "9      IW2 2019-08-05 16:25:10.757668 2019-08-05 16:25:13.952003  \n",
       "18     IW3 2019-08-05 16:25:11.736113 2019-08-05 16:25:14.930448  \n",
       "1      IW1 2019-08-05 16:25:12.570669 2019-08-05 16:25:15.736226  \n",
       "10     IW2 2019-08-05 16:25:13.520336 2019-08-05 16:25:16.714671  "
      ]
     },
     "execution_count": 10,
     "metadata": {},
     "output_type": "execute_result"
    }
   ],
   "source": [
    "last_time =  dateutil.parser.parse('2019-08-05T16:25:20.117899')\n",
    "\n",
    "df = eta.query_burst(last_time=last_time)\n",
    "\n",
    "print(f\"Number of bursts: {len(df)}\")\n",
    "df.head()"
   ]
  },
  {
   "cell_type": "markdown",
   "metadata": {},
   "source": [
    "It is possible to reduce the selection by the **start** and **stop time**:"
   ]
  },
  {
   "cell_type": "code",
   "execution_count": 11,
   "metadata": {},
   "outputs": [
    {
     "name": "stdout",
     "output_type": "stream",
     "text": [
      "Number of bursts: 1\n"
     ]
    },
    {
     "data": {
      "text/html": [
       "<div>\n",
       "<style scoped>\n",
       "    .dataframe tbody tr th:only-of-type {\n",
       "        vertical-align: middle;\n",
       "    }\n",
       "\n",
       "    .dataframe tbody tr th {\n",
       "        vertical-align: top;\n",
       "    }\n",
       "\n",
       "    .dataframe thead th {\n",
       "        text-align: right;\n",
       "    }\n",
       "</style>\n",
       "<table border=\"1\" class=\"dataframe\">\n",
       "  <thead>\n",
       "    <tr style=\"text-align: right;\">\n",
       "      <th></th>\n",
       "      <th>bIndex</th>\n",
       "      <th>pIndex</th>\n",
       "      <th>sIndex</th>\n",
       "      <th>productID</th>\n",
       "      <th>swathID</th>\n",
       "      <th>azimuthTimeMin</th>\n",
       "      <th>azimuthTimeMax</th>\n",
       "    </tr>\n",
       "  </thead>\n",
       "  <tbody>\n",
       "    <tr>\n",
       "      <th>23</th>\n",
       "      <td>18</td>\n",
       "      <td>1</td>\n",
       "      <td>3</td>\n",
       "      <td>S1B_IW_SLC__1ADV_20190805T162509_20190805T1625...</td>\n",
       "      <td>IW3</td>\n",
       "      <td>2019-08-05 16:25:25.520674</td>\n",
       "      <td>2019-08-05 16:25:28.715008</td>\n",
       "    </tr>\n",
       "  </tbody>\n",
       "</table>\n",
       "</div>"
      ],
      "text/plain": [
       "    bIndex  pIndex  sIndex                                          productID  \\\n",
       "23      18       1       3  S1B_IW_SLC__1ADV_20190805T162509_20190805T1625...   \n",
       "\n",
       "   swathID             azimuthTimeMin             azimuthTimeMax  \n",
       "23     IW3 2019-08-05 16:25:25.520674 2019-08-05 16:25:28.715008  "
      ]
     },
     "execution_count": 11,
     "metadata": {},
     "output_type": "execute_result"
    }
   ],
   "source": [
    "first_time = dateutil.parser.parse('2019-08-05T16:25:25.117898')\n",
    "last_time =  dateutil.parser.parse('2019-08-05T16:25:29.117899')\n",
    "\n",
    "# query the catalogues for of all the swaths\n",
    "df = eta.query_burst(first_time=first_time, last_time=last_time)\n",
    "print(f\"Number of bursts: {len(df)}\")\n",
    "df.head()"
   ]
  },
  {
   "cell_type": "markdown",
   "metadata": {},
   "source": [
    "## Selecting by swath (and time)"
   ]
  },
  {
   "cell_type": "markdown",
   "metadata": {},
   "source": [
    "The time selection can be combined with a selection by swath using the __swath__ keyword.\n",
    "If not used all the swath are used"
   ]
  },
  {
   "cell_type": "code",
   "execution_count": 12,
   "metadata": {},
   "outputs": [
    {
     "name": "stdout",
     "output_type": "stream",
     "text": [
      "Number of bursts: 9\n"
     ]
    },
    {
     "data": {
      "text/html": [
       "<div>\n",
       "<style scoped>\n",
       "    .dataframe tbody tr th:only-of-type {\n",
       "        vertical-align: middle;\n",
       "    }\n",
       "\n",
       "    .dataframe tbody tr th {\n",
       "        vertical-align: top;\n",
       "    }\n",
       "\n",
       "    .dataframe thead th {\n",
       "        text-align: right;\n",
       "    }\n",
       "</style>\n",
       "<table border=\"1\" class=\"dataframe\">\n",
       "  <thead>\n",
       "    <tr style=\"text-align: right;\">\n",
       "      <th></th>\n",
       "      <th>bIndex</th>\n",
       "      <th>pIndex</th>\n",
       "      <th>sIndex</th>\n",
       "      <th>productID</th>\n",
       "      <th>swathID</th>\n",
       "      <th>azimuthTimeMin</th>\n",
       "      <th>azimuthTimeMax</th>\n",
       "    </tr>\n",
       "  </thead>\n",
       "  <tbody>\n",
       "    <tr>\n",
       "      <th>0</th>\n",
       "      <td>1</td>\n",
       "      <td>1</td>\n",
       "      <td>1</td>\n",
       "      <td>S1B_IW_SLC__1ADV_20190805T162509_20190805T1625...</td>\n",
       "      <td>IW1</td>\n",
       "      <td>2019-08-05 16:25:09.836779</td>\n",
       "      <td>2019-08-05 16:25:13.002336</td>\n",
       "    </tr>\n",
       "    <tr>\n",
       "      <th>1</th>\n",
       "      <td>4</td>\n",
       "      <td>1</td>\n",
       "      <td>1</td>\n",
       "      <td>S1B_IW_SLC__1ADV_20190805T162509_20190805T1625...</td>\n",
       "      <td>IW1</td>\n",
       "      <td>2019-08-05 16:25:12.570669</td>\n",
       "      <td>2019-08-05 16:25:15.736226</td>\n",
       "    </tr>\n",
       "    <tr>\n",
       "      <th>2</th>\n",
       "      <td>7</td>\n",
       "      <td>1</td>\n",
       "      <td>1</td>\n",
       "      <td>S1B_IW_SLC__1ADV_20190805T162509_20190805T1625...</td>\n",
       "      <td>IW1</td>\n",
       "      <td>2019-08-05 16:25:15.333337</td>\n",
       "      <td>2019-08-05 16:25:18.498893</td>\n",
       "    </tr>\n",
       "    <tr>\n",
       "      <th>3</th>\n",
       "      <td>10</td>\n",
       "      <td>1</td>\n",
       "      <td>1</td>\n",
       "      <td>S1B_IW_SLC__1ADV_20190805T162509_20190805T1625...</td>\n",
       "      <td>IW1</td>\n",
       "      <td>2019-08-05 16:25:18.096004</td>\n",
       "      <td>2019-08-05 16:25:21.261561</td>\n",
       "    </tr>\n",
       "    <tr>\n",
       "      <th>4</th>\n",
       "      <td>13</td>\n",
       "      <td>1</td>\n",
       "      <td>1</td>\n",
       "      <td>S1B_IW_SLC__1ADV_20190805T162509_20190805T1625...</td>\n",
       "      <td>IW1</td>\n",
       "      <td>2019-08-05 16:25:20.858672</td>\n",
       "      <td>2019-08-05 16:25:24.024229</td>\n",
       "    </tr>\n",
       "    <tr>\n",
       "      <th>5</th>\n",
       "      <td>16</td>\n",
       "      <td>1</td>\n",
       "      <td>1</td>\n",
       "      <td>S1B_IW_SLC__1ADV_20190805T162509_20190805T1625...</td>\n",
       "      <td>IW1</td>\n",
       "      <td>2019-08-05 16:25:23.621340</td>\n",
       "      <td>2019-08-05 16:25:26.786896</td>\n",
       "    </tr>\n",
       "    <tr>\n",
       "      <th>6</th>\n",
       "      <td>19</td>\n",
       "      <td>1</td>\n",
       "      <td>1</td>\n",
       "      <td>S1B_IW_SLC__1ADV_20190805T162509_20190805T1625...</td>\n",
       "      <td>IW1</td>\n",
       "      <td>2019-08-05 16:25:26.355230</td>\n",
       "      <td>2019-08-05 16:25:29.549564</td>\n",
       "    </tr>\n",
       "    <tr>\n",
       "      <th>7</th>\n",
       "      <td>22</td>\n",
       "      <td>1</td>\n",
       "      <td>1</td>\n",
       "      <td>S1B_IW_SLC__1ADV_20190805T162509_20190805T1625...</td>\n",
       "      <td>IW1</td>\n",
       "      <td>2019-08-05 16:25:29.117897</td>\n",
       "      <td>2019-08-05 16:25:32.283454</td>\n",
       "    </tr>\n",
       "    <tr>\n",
       "      <th>8</th>\n",
       "      <td>25</td>\n",
       "      <td>1</td>\n",
       "      <td>1</td>\n",
       "      <td>S1B_IW_SLC__1ADV_20190805T162509_20190805T1625...</td>\n",
       "      <td>IW1</td>\n",
       "      <td>2019-08-05 16:25:31.880565</td>\n",
       "      <td>2019-08-05 16:25:35.046122</td>\n",
       "    </tr>\n",
       "  </tbody>\n",
       "</table>\n",
       "</div>"
      ],
      "text/plain": [
       "   bIndex  pIndex  sIndex                                          productID  \\\n",
       "0       1       1       1  S1B_IW_SLC__1ADV_20190805T162509_20190805T1625...   \n",
       "1       4       1       1  S1B_IW_SLC__1ADV_20190805T162509_20190805T1625...   \n",
       "2       7       1       1  S1B_IW_SLC__1ADV_20190805T162509_20190805T1625...   \n",
       "3      10       1       1  S1B_IW_SLC__1ADV_20190805T162509_20190805T1625...   \n",
       "4      13       1       1  S1B_IW_SLC__1ADV_20190805T162509_20190805T1625...   \n",
       "5      16       1       1  S1B_IW_SLC__1ADV_20190805T162509_20190805T1625...   \n",
       "6      19       1       1  S1B_IW_SLC__1ADV_20190805T162509_20190805T1625...   \n",
       "7      22       1       1  S1B_IW_SLC__1ADV_20190805T162509_20190805T1625...   \n",
       "8      25       1       1  S1B_IW_SLC__1ADV_20190805T162509_20190805T1625...   \n",
       "\n",
       "  swathID             azimuthTimeMin             azimuthTimeMax  \n",
       "0     IW1 2019-08-05 16:25:09.836779 2019-08-05 16:25:13.002336  \n",
       "1     IW1 2019-08-05 16:25:12.570669 2019-08-05 16:25:15.736226  \n",
       "2     IW1 2019-08-05 16:25:15.333337 2019-08-05 16:25:18.498893  \n",
       "3     IW1 2019-08-05 16:25:18.096004 2019-08-05 16:25:21.261561  \n",
       "4     IW1 2019-08-05 16:25:20.858672 2019-08-05 16:25:24.024229  \n",
       "5     IW1 2019-08-05 16:25:23.621340 2019-08-05 16:25:26.786896  \n",
       "6     IW1 2019-08-05 16:25:26.355230 2019-08-05 16:25:29.549564  \n",
       "7     IW1 2019-08-05 16:25:29.117897 2019-08-05 16:25:32.283454  \n",
       "8     IW1 2019-08-05 16:25:31.880565 2019-08-05 16:25:35.046122  "
      ]
     },
     "execution_count": 12,
     "metadata": {},
     "output_type": "execute_result"
    }
   ],
   "source": [
    "first_time = dateutil.parser.parse('2019-08-05T16:25:00.117898')\n",
    "last_time =  dateutil.parser.parse('2019-08-05T16:25:40.117899')\n",
    "\n",
    "# query the catalogue for a subset of the swaths\n",
    "df = eta.query_burst(first_time=first_time, last_time=last_time, swath='IW1')\n",
    "print(f\"Number of bursts: {len(df)}\")\n",
    "df"
   ]
  },
  {
   "cell_type": "markdown",
   "metadata": {},
   "source": [
    "Query the catalogue for a subset of the swaths:"
   ]
  },
  {
   "cell_type": "code",
   "execution_count": 13,
   "metadata": {},
   "outputs": [
    {
     "name": "stdout",
     "output_type": "stream",
     "text": [
      "Number of bursts: 18\n"
     ]
    },
    {
     "data": {
      "text/html": [
       "<div>\n",
       "<style scoped>\n",
       "    .dataframe tbody tr th:only-of-type {\n",
       "        vertical-align: middle;\n",
       "    }\n",
       "\n",
       "    .dataframe tbody tr th {\n",
       "        vertical-align: top;\n",
       "    }\n",
       "\n",
       "    .dataframe thead th {\n",
       "        text-align: right;\n",
       "    }\n",
       "</style>\n",
       "<table border=\"1\" class=\"dataframe\">\n",
       "  <thead>\n",
       "    <tr style=\"text-align: right;\">\n",
       "      <th></th>\n",
       "      <th>bIndex</th>\n",
       "      <th>pIndex</th>\n",
       "      <th>sIndex</th>\n",
       "      <th>productID</th>\n",
       "      <th>swathID</th>\n",
       "      <th>azimuthTimeMin</th>\n",
       "      <th>azimuthTimeMax</th>\n",
       "    </tr>\n",
       "  </thead>\n",
       "  <tbody>\n",
       "    <tr>\n",
       "      <th>0</th>\n",
       "      <td>1</td>\n",
       "      <td>1</td>\n",
       "      <td>1</td>\n",
       "      <td>S1B_IW_SLC__1ADV_20190805T162509_20190805T1625...</td>\n",
       "      <td>IW1</td>\n",
       "      <td>2019-08-05 16:25:09.836779</td>\n",
       "      <td>2019-08-05 16:25:13.002336</td>\n",
       "    </tr>\n",
       "    <tr>\n",
       "      <th>9</th>\n",
       "      <td>2</td>\n",
       "      <td>1</td>\n",
       "      <td>2</td>\n",
       "      <td>S1B_IW_SLC__1ADV_20190805T162509_20190805T1625...</td>\n",
       "      <td>IW2</td>\n",
       "      <td>2019-08-05 16:25:10.757668</td>\n",
       "      <td>2019-08-05 16:25:13.952003</td>\n",
       "    </tr>\n",
       "    <tr>\n",
       "      <th>1</th>\n",
       "      <td>4</td>\n",
       "      <td>1</td>\n",
       "      <td>1</td>\n",
       "      <td>S1B_IW_SLC__1ADV_20190805T162509_20190805T1625...</td>\n",
       "      <td>IW1</td>\n",
       "      <td>2019-08-05 16:25:12.570669</td>\n",
       "      <td>2019-08-05 16:25:15.736226</td>\n",
       "    </tr>\n",
       "    <tr>\n",
       "      <th>10</th>\n",
       "      <td>5</td>\n",
       "      <td>1</td>\n",
       "      <td>2</td>\n",
       "      <td>S1B_IW_SLC__1ADV_20190805T162509_20190805T1625...</td>\n",
       "      <td>IW2</td>\n",
       "      <td>2019-08-05 16:25:13.520336</td>\n",
       "      <td>2019-08-05 16:25:16.714671</td>\n",
       "    </tr>\n",
       "    <tr>\n",
       "      <th>2</th>\n",
       "      <td>7</td>\n",
       "      <td>1</td>\n",
       "      <td>1</td>\n",
       "      <td>S1B_IW_SLC__1ADV_20190805T162509_20190805T1625...</td>\n",
       "      <td>IW1</td>\n",
       "      <td>2019-08-05 16:25:15.333337</td>\n",
       "      <td>2019-08-05 16:25:18.498893</td>\n",
       "    </tr>\n",
       "  </tbody>\n",
       "</table>\n",
       "</div>"
      ],
      "text/plain": [
       "    bIndex  pIndex  sIndex                                          productID  \\\n",
       "0        1       1       1  S1B_IW_SLC__1ADV_20190805T162509_20190805T1625...   \n",
       "9        2       1       2  S1B_IW_SLC__1ADV_20190805T162509_20190805T1625...   \n",
       "1        4       1       1  S1B_IW_SLC__1ADV_20190805T162509_20190805T1625...   \n",
       "10       5       1       2  S1B_IW_SLC__1ADV_20190805T162509_20190805T1625...   \n",
       "2        7       1       1  S1B_IW_SLC__1ADV_20190805T162509_20190805T1625...   \n",
       "\n",
       "   swathID             azimuthTimeMin             azimuthTimeMax  \n",
       "0      IW1 2019-08-05 16:25:09.836779 2019-08-05 16:25:13.002336  \n",
       "9      IW2 2019-08-05 16:25:10.757668 2019-08-05 16:25:13.952003  \n",
       "1      IW1 2019-08-05 16:25:12.570669 2019-08-05 16:25:15.736226  \n",
       "10     IW2 2019-08-05 16:25:13.520336 2019-08-05 16:25:16.714671  \n",
       "2      IW1 2019-08-05 16:25:15.333337 2019-08-05 16:25:18.498893  "
      ]
     },
     "execution_count": 13,
     "metadata": {},
     "output_type": "execute_result"
    }
   ],
   "source": [
    "first_time = dateutil.parser.parse('2019-08-05T16:25:00.117898')\n",
    "last_time =  dateutil.parser.parse('2019-08-05T16:25:40.117899')\n",
    "\n",
    "df = eta.query_burst(first_time=first_time, last_time=last_time, swath=['IW1', 'IW2'])\n",
    "\n",
    "print(f\"Number of bursts: {len(df)}\")\n",
    "df.head()"
   ]
  },
  {
   "cell_type": "markdown",
   "metadata": {},
   "source": [
    "## Selecting by Sentinel-1 product name (swath and time)"
   ]
  },
  {
   "cell_type": "markdown",
   "metadata": {},
   "source": [
    "The **time** selection can be combined with a selection by **swath** using the **product_name** keyword."
   ]
  },
  {
   "cell_type": "code",
   "execution_count": 14,
   "metadata": {},
   "outputs": [
    {
     "name": "stdout",
     "output_type": "stream",
     "text": [
      "Number of bursts: 9\n"
     ]
    },
    {
     "data": {
      "text/html": [
       "<div>\n",
       "<style scoped>\n",
       "    .dataframe tbody tr th:only-of-type {\n",
       "        vertical-align: middle;\n",
       "    }\n",
       "\n",
       "    .dataframe tbody tr th {\n",
       "        vertical-align: top;\n",
       "    }\n",
       "\n",
       "    .dataframe thead th {\n",
       "        text-align: right;\n",
       "    }\n",
       "</style>\n",
       "<table border=\"1\" class=\"dataframe\">\n",
       "  <thead>\n",
       "    <tr style=\"text-align: right;\">\n",
       "      <th></th>\n",
       "      <th>bIndex</th>\n",
       "      <th>pIndex</th>\n",
       "      <th>sIndex</th>\n",
       "      <th>productID</th>\n",
       "      <th>swathID</th>\n",
       "      <th>azimuthTimeMin</th>\n",
       "      <th>azimuthTimeMax</th>\n",
       "    </tr>\n",
       "  </thead>\n",
       "  <tbody>\n",
       "    <tr>\n",
       "      <th>18</th>\n",
       "      <td>3</td>\n",
       "      <td>1</td>\n",
       "      <td>3</td>\n",
       "      <td>S1B_IW_SLC__1ADV_20190805T162509_20190805T1625...</td>\n",
       "      <td>IW3</td>\n",
       "      <td>2019-08-05 16:25:11.736113</td>\n",
       "      <td>2019-08-05 16:25:14.930448</td>\n",
       "    </tr>\n",
       "    <tr>\n",
       "      <th>19</th>\n",
       "      <td>6</td>\n",
       "      <td>1</td>\n",
       "      <td>3</td>\n",
       "      <td>S1B_IW_SLC__1ADV_20190805T162509_20190805T1625...</td>\n",
       "      <td>IW3</td>\n",
       "      <td>2019-08-05 16:25:14.470003</td>\n",
       "      <td>2019-08-05 16:25:17.693115</td>\n",
       "    </tr>\n",
       "    <tr>\n",
       "      <th>20</th>\n",
       "      <td>9</td>\n",
       "      <td>1</td>\n",
       "      <td>3</td>\n",
       "      <td>S1B_IW_SLC__1ADV_20190805T162509_20190805T1625...</td>\n",
       "      <td>IW3</td>\n",
       "      <td>2019-08-05 16:25:17.232671</td>\n",
       "      <td>2019-08-05 16:25:20.427005</td>\n",
       "    </tr>\n",
       "    <tr>\n",
       "      <th>21</th>\n",
       "      <td>12</td>\n",
       "      <td>1</td>\n",
       "      <td>3</td>\n",
       "      <td>S1B_IW_SLC__1ADV_20190805T162509_20190805T1625...</td>\n",
       "      <td>IW3</td>\n",
       "      <td>2019-08-05 16:25:19.995338</td>\n",
       "      <td>2019-08-05 16:25:23.189673</td>\n",
       "    </tr>\n",
       "    <tr>\n",
       "      <th>22</th>\n",
       "      <td>15</td>\n",
       "      <td>1</td>\n",
       "      <td>3</td>\n",
       "      <td>S1B_IW_SLC__1ADV_20190805T162509_20190805T1625...</td>\n",
       "      <td>IW3</td>\n",
       "      <td>2019-08-05 16:25:22.758006</td>\n",
       "      <td>2019-08-05 16:25:25.952341</td>\n",
       "    </tr>\n",
       "  </tbody>\n",
       "</table>\n",
       "</div>"
      ],
      "text/plain": [
       "    bIndex  pIndex  sIndex                                          productID  \\\n",
       "18       3       1       3  S1B_IW_SLC__1ADV_20190805T162509_20190805T1625...   \n",
       "19       6       1       3  S1B_IW_SLC__1ADV_20190805T162509_20190805T1625...   \n",
       "20       9       1       3  S1B_IW_SLC__1ADV_20190805T162509_20190805T1625...   \n",
       "21      12       1       3  S1B_IW_SLC__1ADV_20190805T162509_20190805T1625...   \n",
       "22      15       1       3  S1B_IW_SLC__1ADV_20190805T162509_20190805T1625...   \n",
       "\n",
       "   swathID             azimuthTimeMin             azimuthTimeMax  \n",
       "18     IW3 2019-08-05 16:25:11.736113 2019-08-05 16:25:14.930448  \n",
       "19     IW3 2019-08-05 16:25:14.470003 2019-08-05 16:25:17.693115  \n",
       "20     IW3 2019-08-05 16:25:17.232671 2019-08-05 16:25:20.427005  \n",
       "21     IW3 2019-08-05 16:25:19.995338 2019-08-05 16:25:23.189673  \n",
       "22     IW3 2019-08-05 16:25:22.758006 2019-08-05 16:25:25.952341  "
      ]
     },
     "execution_count": 14,
     "metadata": {},
     "output_type": "execute_result"
    }
   ],
   "source": [
    "first_time = dateutil.parser.parse('2019-08-05T16:25:00.117898')\n",
    "last_time =  dateutil.parser.parse('2019-08-05T16:25:40.117899')\n",
    "\n",
    "product_name='S1B_IW_SLC__1SDV_20190805T162509_20190805T162536_017453_020D3A_AAAA.SAFE'\n",
    "df = eta.query_burst(first_time=first_time, last_time=last_time, product_name=product_name, swath=['IW3'])\n",
    "\n",
    "print(f\"Number of bursts: {len(df)}\")\n",
    "df.head()"
   ]
  }
 ],
 "metadata": {
  "kernelspec": {
   "display_name": "Python 3",
   "language": "python",
   "name": "python3"
  },
  "language_info": {
   "codemirror_mode": {
    "name": "ipython",
    "version": 3
   },
   "file_extension": ".py",
   "mimetype": "text/x-python",
   "name": "python",
   "nbconvert_exporter": "python",
   "pygments_lexer": "ipython3",
   "version": "3.7.9"
  }
 },
 "nbformat": 4,
 "nbformat_minor": 4
}
