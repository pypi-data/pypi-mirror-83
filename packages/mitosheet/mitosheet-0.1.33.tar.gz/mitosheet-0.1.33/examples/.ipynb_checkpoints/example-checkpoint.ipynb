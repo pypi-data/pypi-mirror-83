{
 "cells": [
  {
   "cell_type": "code",
   "execution_count": 1,
   "metadata": {},
   "outputs": [
    {
     "data": {
      "application/vnd.jupyter.widget-view+json": {
       "model_id": "468d351de615473dbe5c5c1344ba7b7a",
       "version_major": 2,
       "version_minor": 0
      },
      "text/plain": [
       "MitoWidget(code_json='{\"imports\": \"from mitosheet import AVG,CLEAN,CONCAT,FIND,LEFT,LEN,LOWER,MID,MULTIPLY,PRO…"
      ]
     },
     "metadata": {},
     "output_type": "display_data"
    }
   ],
   "source": [
    "import mitosheet\n",
    "import pandas as pd\n",
    "df1 = pd.DataFrame(data={'A': [123], 'B': [123], 'D1': [123], 'E1': [123], 'F1': [123], 'G1': [123]})\n",
    "df2 = pd.DataFrame(data={'A': [123], 'B': ['HA1']})\n",
    "\n",
    "mitosheet.sheet(df1, df2)"
   ]
  }
 ],
 "metadata": {
  "kernelspec": {
   "display_name": "Python 3",
   "language": "python",
   "name": "python3"
  },
  "language_info": {
   "codemirror_mode": {
    "name": "ipython",
    "version": 3
   },
   "file_extension": ".py",
   "mimetype": "text/x-python",
   "name": "python",
   "nbconvert_exporter": "python",
   "pygments_lexer": "ipython3",
   "version": "3.8.5"
  },
  "widgets": {
   "application/vnd.jupyter.widget-state+json": {
    "state": {
     "468d351de615473dbe5c5c1344ba7b7a": {
      "model_module": "mitosheet",
      "model_module_version": "^0.1.30",
      "model_name": "ExampleModel",
      "state": {
       "_model_module_version": "^0.1.30",
       "_view_module_version": "^0.1.30",
       "analysis_name": "92117753-695f-4d78-b53a-0c8577e152c9",
       "code_json": "{\"imports\": \"from mitosheet import AVG,CLEAN,CONCAT,FIND,LEFT,LEN,LOWER,MID,MULTIPLY,PROPER,RIGHT,SUBSTITUTE,SUM,TRIM,UPPER\", \"code\": []}",
       "column_spreadsheet_code_json": "[{\"A\": \"\", \"B\": \"\", \"D1\": \"\", \"E1\": \"\", \"F1\": \"\", \"G1\": \"\"}, {\"A\": \"\", \"B\": \"\"}]",
       "df_names_json": "{\"df_names\": [\"df1\", \"df2\"]}",
       "layout": "IPY_MODEL_8b931ed981494d239cefda7cf4e81d5b",
       "sheet_json": "[{\"columns\": [\"A\", \"B\", \"D1\", \"E1\", \"F1\", \"G1\"], \"index\": [0], \"data\": [[123, 123, 123, 123, 123, 123]]}, {\"columns\": [\"A\", \"B\"], \"index\": [0], \"data\": [[123, \"HA1\"]]}]",
       "user_id": "nate",
       "value": "Hello World"
      }
     },
     "8b931ed981494d239cefda7cf4e81d5b": {
      "model_module": "@jupyter-widgets/base",
      "model_module_version": "1.2.0",
      "model_name": "LayoutModel",
      "state": {}
     }
    },
    "version_major": 2,
    "version_minor": 0
   }
  }
 },
 "nbformat": 4,
 "nbformat_minor": 4
}
