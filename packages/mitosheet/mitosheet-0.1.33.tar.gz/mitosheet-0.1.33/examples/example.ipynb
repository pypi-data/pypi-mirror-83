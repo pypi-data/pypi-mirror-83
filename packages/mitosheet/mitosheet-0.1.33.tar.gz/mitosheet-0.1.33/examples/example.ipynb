{
 "cells": [
  {
   "cell_type": "code",
   "execution_count": 8,
   "metadata": {},
   "outputs": [
    {
     "data": {
      "application/vnd.jupyter.widget-view+json": {
       "model_id": "6aad8bf4ec4b41fd893508b5a6869948",
       "version_major": 2,
       "version_minor": 0
      },
      "text/plain": [
       "MitoWidget(code_json='{\"imports\": \"from mitosheet import AVG,CLEAN,CONCAT,FIND,LEFT,LEN,LOWER,MID,MULTIPLY,PRO…"
      ]
     },
     "metadata": {},
     "output_type": "display_data"
    }
   ],
   "source": [
    "import mitosheet\n",
    "import pandas as pd\n",
    "df1 = pd.DataFrame(data={'A': [123], 'B': [123], 'D1': [123], 'E1': [123], 'F1': [123], 'G1': [123]})\n",
    "df2 = pd.DataFrame(data={'A': [123], 'B': ['HA1']})\n",
    "\n",
    "mitosheet.sheet(df1, df2)"
   ]
  },
  {
   "cell_type": "code",
   "execution_count": null,
   "metadata": {},
   "outputs": [],
   "source": [
    "# MITO CODE START (DO NOT EDIT)\n",
    "# SAVED-ANALYSIS-START8766287e-c96c-4e9d-8b31-e5c2b65ee030SAVED-ANALYSIS-END\n",
    "\n",
    "from mitosheet import *\n",
    "\n",
    "# Step 1\n",
    "\n",
    "temp_df = df2.drop_duplicates(subset='A')\n",
    "\n",
    "df3 = df1.merge(temp_df, left_on=['A'], right_on=['A'], how='left', suffixes=['_df1', '_df2'])\n",
    "\n",
    "# Step 2\n",
    "\n",
    "df3['H'] = 0\n",
    "\n",
    "# Step 3\n",
    "\n",
    "df3.rename(columns={\"G1\": \"nork\"}, inplace=True)\n",
    "\n",
    "# Step 4\n",
    "\n",
    "df3['H'] = 0\n",
    "\n",
    "# Step 5\n",
    "\n",
    "df3.rename(columns={\"D1\": \"123_\"}, inplace=True)\n",
    "\n",
    "# Step 6\n",
    "\n",
    "df3['H'] = 0\n",
    "  \n",
    "# MITO CODE END (DO NOT EDIT)"
   ]
  },
  {
   "cell_type": "code",
   "execution_count": null,
   "metadata": {},
   "outputs": [],
   "source": []
  }
 ],
 "metadata": {
  "kernelspec": {
   "display_name": "Python 3",
   "language": "python",
   "name": "python3"
  },
  "language_info": {
   "codemirror_mode": {
    "name": "ipython",
    "version": 3
   },
   "file_extension": ".py",
   "mimetype": "text/x-python",
   "name": "python",
   "nbconvert_exporter": "python",
   "pygments_lexer": "ipython3",
   "version": "3.8.5"
  },
  "widgets": {
   "application/vnd.jupyter.widget-state+json": {
    "state": {
     "1770f38edb214c9a8b361aecf6ae5d85": {
      "model_module": "@jupyter-widgets/base",
      "model_module_version": "1.2.0",
      "model_name": "LayoutModel",
      "state": {}
     },
     "256b6d20e4a2401694272a6fa4afd2e3": {
      "model_module": "@jupyter-widgets/base",
      "model_module_version": "1.2.0",
      "model_name": "LayoutModel",
      "state": {}
     },
     "463574694d44411f99cde6261450c22f": {
      "model_module": "mitosheet",
      "model_module_version": "^0.1.31",
      "model_name": "ExampleModel",
      "state": {
       "_model_module_version": "^0.1.31",
       "_view_module_version": "^0.1.31",
       "analysis_name": "bafcab43-36ef-453e-94a5-c8fc8a2ade4f",
       "code_json": "{\"imports\": \"from mitosheet import AVG,CLEAN,CONCAT,FIND,LEFT,LEN,LOWER,MID,MULTIPLY,PROPER,RIGHT,SUBSTITUTE,SUM,TRIM,UPPER\", \"code\": []}",
       "column_spreadsheet_code_json": "[{\"A\": \"\", \"B\": \"\", \"D1\": \"\", \"E1\": \"\", \"F1\": \"\", \"G1\": \"\"}, {\"A\": \"\", \"B\": \"\"}]",
       "df_names_json": "{\"df_names\": [\"df1\", \"df2\"]}",
       "layout": "IPY_MODEL_6dee8ff907774cc98ca29a041d1c1b6b",
       "sheet_json": "[{\"columns\": [\"A\", \"B\", \"D1\", \"E1\", \"F1\", \"G1\"], \"index\": [0], \"data\": [[123, 123, 123, 123, 123, 123]]}, {\"columns\": [\"A\", \"B\"], \"index\": [0], \"data\": [[123, \"HA1\"]]}]",
       "user_id": "nate",
       "value": "Hello World"
      }
     },
     "6aad8bf4ec4b41fd893508b5a6869948": {
      "model_module": "mitosheet",
      "model_module_version": "^0.1.31",
      "model_name": "ExampleModel",
      "state": {
       "_model_module_version": "^0.1.31",
       "_view_module_version": "^0.1.31",
       "analysis_name": "8766287e-c96c-4e9d-8b31-e5c2b65ee030",
       "code_json": "{\"imports\": \"from mitosheet import AVG,CLEAN,CONCAT,FIND,LEFT,LEN,LOWER,MID,MULTIPLY,PROPER,RIGHT,SUBSTITUTE,SUM,TRIM,UPPER\", \"code\": [\"# Step 1\", \"temp_df = df2.drop_duplicates(subset='A')\", \"df3 = df1.merge(temp_df, left_on=['A'], right_on=['A'], how='left', suffixes=['_df1', '_df2'])\", \"# Step 2\", \"df3['H'] = 0\", \"# Step 3\", \"df3.rename(columns={\\\"G1\\\": \\\"nork\\\"}, inplace=True)\", \"# Step 4\", \"df3['H'] = 0\", \"# Step 5\", \"df3.rename(columns={\\\"D1\\\": \\\"123_\\\"}, inplace=True)\", \"# Step 6\", \"df3['H'] = 0\"]}",
       "column_spreadsheet_code_json": "[{\"A\": \"\", \"B\": \"\", \"D1\": \"\", \"E1\": \"\", \"F1\": \"\", \"G1\": \"\"}, {\"A\": \"\", \"B\": \"\"}, {\"A\": \"\", \"B_df1\": \"\", \"E1\": \"\", \"F1\": \"\", \"B_df2\": \"\", \"H\": \"=0\", \"nork\": \"\", \"123_\": \"\"}]",
       "df_names_json": "{\"df_names\": [\"df1\", \"df2\"]}",
       "layout": "IPY_MODEL_7044f44e5ce94747afd48f36fbfee9d7",
       "sheet_json": "[{\"columns\": [\"A\", \"B\", \"D1\", \"E1\", \"F1\", \"G1\"], \"index\": [0], \"data\": [[123, 123, 123, 123, 123, 123]]}, {\"columns\": [\"A\", \"B\"], \"index\": [0], \"data\": [[123, \"HA1\"]]}, {\"columns\": [\"A\", \"B_df1\", \"123_\", \"E1\", \"F1\", \"nork\", \"B_df2\", \"H\"], \"index\": [0], \"data\": [[123, 123, 123, 123, 123, 123, \"HA1\", 0]]}]",
       "user_id": "nate",
       "value": "Hello World"
      }
     },
     "6dee8ff907774cc98ca29a041d1c1b6b": {
      "model_module": "@jupyter-widgets/base",
      "model_module_version": "1.2.0",
      "model_name": "LayoutModel",
      "state": {}
     },
     "7044f44e5ce94747afd48f36fbfee9d7": {
      "model_module": "@jupyter-widgets/base",
      "model_module_version": "1.2.0",
      "model_name": "LayoutModel",
      "state": {}
     },
     "78f3a19cda1f4feab24eff65c0f893ad": {
      "model_module": "mitosheet",
      "model_module_version": "^0.1.31",
      "model_name": "ExampleModel",
      "state": {
       "_model_module_version": "^0.1.31",
       "_view_module_version": "^0.1.31",
       "analysis_name": "e8e71961-34f7-4234-a6c7-1c7980d8b721",
       "code_json": "{\"imports\": \"from mitosheet import AVG,CLEAN,CONCAT,FIND,LEFT,LEN,LOWER,MID,MULTIPLY,PROPER,RIGHT,SUBSTITUTE,SUM,TRIM,UPPER\", \"code\": [\"# Step 1\", \"df1['C'] = df1['A'] * LEFT(df1['A'])\"]}",
       "column_spreadsheet_code_json": "[{\"A\": \"\", \"B\": \"\", \"C\": \"=A * LEFT(A)\"}, {\"A\": \"\", \"B\": \"\"}]",
       "df_names_json": "{\"df_names\": [\"df1\", \"df2\"]}",
       "layout": "IPY_MODEL_1770f38edb214c9a8b361aecf6ae5d85",
       "sheet_json": "[{\"columns\": [\"A\", \"B\", \"C\"], \"index\": [0], \"data\": [[123, 123, 123.0]]}, {\"columns\": [\"A\", \"B\"], \"index\": [0], \"data\": [[123, \"HA1\"]]}]",
       "user_id": "nate",
       "value": "Hello World"
      }
     },
     "916baa65dea64e2c85beab752af7b510": {
      "model_module": "mitosheet",
      "model_module_version": "^0.1.31",
      "model_name": "ExampleModel",
      "state": {
       "_model_module_version": "^0.1.31",
       "_view_module_version": "^0.1.31",
       "analysis_name": "deff9104-0fdc-47c5-97d0-b94296d9a681",
       "code_json": "{\"imports\": \"from mitosheet import AVG,CLEAN,CONCAT,FIND,LEFT,LEN,LOWER,MID,MULTIPLY,PROPER,RIGHT,SUBSTITUTE,SUM,TRIM,UPPER\", \"code\": []}",
       "column_spreadsheet_code_json": "[{\"A\": \"\", \"B\": \"\", \"D1\": \"\", \"E1\": \"\", \"F1\": \"\", \"G1\": \"\"}, {\"A\": \"\", \"B\": \"\"}]",
       "df_names_json": "{\"df_names\": [\"df1\", \"df2\"]}",
       "layout": "IPY_MODEL_92294329022f4cb79601def164fd7c7b",
       "sheet_json": "[{\"columns\": [\"A\", \"B\", \"D1\", \"E1\", \"F1\", \"G1\"], \"index\": [0], \"data\": [[123, 123, 123, 123, 123, 123]]}, {\"columns\": [\"A\", \"B\"], \"index\": [0], \"data\": [[123, \"HA1\"]]}]",
       "user_id": "nate",
       "value": "Hello World"
      }
     },
     "92294329022f4cb79601def164fd7c7b": {
      "model_module": "@jupyter-widgets/base",
      "model_module_version": "1.2.0",
      "model_name": "LayoutModel",
      "state": {}
     },
     "939c26d41f994cd4be18534e3878fd8e": {
      "model_module": "mitosheet",
      "model_module_version": "^0.1.31",
      "model_name": "ExampleModel",
      "state": {
       "_model_module_version": "^0.1.31",
       "_view_module_version": "^0.1.31",
       "analysis_name": "c340db65-1698-4559-82fc-440a0595a72b",
       "code_json": "{\"imports\": \"from mitosheet import AVG,CLEAN,CONCAT,FIND,LEFT,LEN,LOWER,MID,MULTIPLY,PROPER,RIGHT,SUBSTITUTE,SUM,TRIM,UPPER\", \"code\": [\"# Step 1\", \"temp_df = df2.drop_duplicates(subset='A')\", \"df1_tmp = df1.drop(['E1', 'D1', 'B', 'F1', 'G1'], axis=1)\", \"df3 = df1_tmp.merge(temp_df, left_on=['A'], right_on=['A'], how='left', suffixes=['_df1', '_df2'])\", \"# Step 2\", \"df3['C'] = 0\"]}",
       "column_spreadsheet_code_json": "[{\"A\": \"\", \"B\": \"\", \"D1\": \"\", \"E1\": \"\", \"F1\": \"\", \"G1\": \"\"}, {\"A\": \"\", \"B\": \"\"}, {\"A\": \"\", \"B\": \"\", \"C\": \"=0\"}]",
       "df_names_json": "{\"df_names\": [\"df1\", \"df2\"]}",
       "layout": "IPY_MODEL_e69895d033004fdcb82f9c17ef2febca",
       "sheet_json": "[{\"columns\": [\"A\", \"B\", \"D1\", \"E1\", \"F1\", \"G1\"], \"index\": [0], \"data\": [[123, 123, 123, 123, 123, 123]]}, {\"columns\": [\"A\", \"B\"], \"index\": [0], \"data\": [[123, \"HA1\"]]}, {\"columns\": [\"A\", \"B\", \"C\"], \"index\": [0], \"data\": [[123, \"HA1\", 0]]}]",
       "user_id": "nate",
       "value": "Hello World"
      }
     },
     "ba13e53618644553be65b5474fd57354": {
      "model_module": "mitosheet",
      "model_module_version": "^0.1.31",
      "model_name": "ExampleModel",
      "state": {
       "_model_module_version": "^0.1.31",
       "_view_module_version": "^0.1.31",
       "analysis_name": "e5f0f090-33bd-4e3a-9b82-02c3443ab74f",
       "code_json": "{\"imports\": \"from mitosheet import AVG,CLEAN,CONCAT,FIND,LEFT,LEN,LOWER,MID,MULTIPLY,PROPER,RIGHT,SUBSTITUTE,SUM,TRIM,UPPER\", \"code\": [\"# Step 1\", \"df1['C'] = LEFT(df1['A'])\"]}",
       "column_spreadsheet_code_json": "[{\"A\": \"\", \"B\": \"\", \"C\": \"=LEFT(A)\"}, {\"A\": \"\", \"B\": \"\"}]",
       "df_names_json": "{\"df_names\": [\"df1\", \"df2\"]}",
       "layout": "IPY_MODEL_256b6d20e4a2401694272a6fa4afd2e3",
       "sheet_json": "[{\"columns\": [\"A\", \"B\", \"C\"], \"index\": [0], \"data\": [[123, 123, 1.0]]}, {\"columns\": [\"A\", \"B\"], \"index\": [0], \"data\": [[123, \"HA1\"]]}]",
       "user_id": "nate",
       "value": "Hello World"
      }
     },
     "e69895d033004fdcb82f9c17ef2febca": {
      "model_module": "@jupyter-widgets/base",
      "model_module_version": "1.2.0",
      "model_name": "LayoutModel",
      "state": {}
     }
    },
    "version_major": 2,
    "version_minor": 0
   }
  }
 },
 "nbformat": 4,
 "nbformat_minor": 4
}
