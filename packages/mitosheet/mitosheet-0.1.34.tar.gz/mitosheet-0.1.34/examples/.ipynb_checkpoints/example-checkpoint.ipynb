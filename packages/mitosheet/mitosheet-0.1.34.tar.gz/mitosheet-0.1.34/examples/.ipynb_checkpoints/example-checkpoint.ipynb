{
 "cells": [
  {
   "cell_type": "code",
   "execution_count": null,
   "metadata": {},
   "outputs": [],
   "source": []
  }
 ],
 "metadata": {
  "kernelspec": {
   "display_name": "Python 3",
   "language": "python",
   "name": "python3"
  },
  "language_info": {
   "codemirror_mode": {
    "name": "ipython",
    "version": 3
   },
   "file_extension": ".py",
   "mimetype": "text/x-python",
   "name": "python",
   "nbconvert_exporter": "python",
   "pygments_lexer": "ipython3",
   "version": "3.8.5"
  },
  "widgets": {
   "application/vnd.jupyter.widget-state+json": {
    "state": {
     "06f2c8bb337d48258b87b629077d8334": {
      "model_module": "@jupyter-widgets/base",
      "model_module_version": "1.2.0",
      "model_name": "LayoutModel",
      "state": {}
     },
     "0c88df812eec4dc5a5d8032644027f3e": {
      "model_module": "@jupyter-widgets/base",
      "model_module_version": "1.2.0",
      "model_name": "LayoutModel",
      "state": {}
     },
     "2d3a7c152eb34f06abb0868b15bf74b0": {
      "model_module": "mitosheet",
      "model_module_version": "^0.1.34",
      "model_name": "ExampleModel",
      "state": {
       "_model_module_version": "^0.1.34",
       "_view_module_version": "^0.1.34",
       "analysis_name": "a26e97c4-2dd7-4e8f-83d3-5a2782a48c4d",
       "code_json": "{\"imports\": \"from mitosheet import AVG,CLEAN,CONCAT,FIND,LEFT,LEN,LOWER,MID,MULTIPLY,PROPER,RIGHT,SUBSTITUTE,SUM,TRIM,UPPER\", \"code\": []}",
       "column_spreadsheet_code_json": "[{\"A\": \"\", \"B\": \"\"}, {\"A\": \"\", \"B\": \"\"}]",
       "df_names_json": "{\"df_names\": [\"df1\", \"df2\"]}",
       "layout": "IPY_MODEL_fff89856dcf84faea7a802cd7cc1d7dd",
       "sheet_json": "[{\"columns\": [\"A\", \"B\"], \"index\": [0, 1], \"data\": [[1, 123], [2, 456]]}, {\"columns\": [\"A\", \"B\"], \"index\": [0, 1], \"data\": [[1, \"Ha\"], [1, \"Ha\"]]}]",
       "user_id": "nate",
       "value": "Hello World"
      }
     },
     "44826259ea5f413c95e7e13d2ba856a9": {
      "model_module": "@jupyter-widgets/base",
      "model_module_version": "1.2.0",
      "model_name": "LayoutModel",
      "state": {}
     },
     "7df36f6d528e4746aeb0e8bb784a1f42": {
      "model_module": "@jupyter-widgets/base",
      "model_module_version": "1.2.0",
      "model_name": "LayoutModel",
      "state": {}
     },
     "8dcc72ab54b743f8acc76045202c7fbc": {
      "model_module": "@jupyter-widgets/base",
      "model_module_version": "1.2.0",
      "model_name": "LayoutModel",
      "state": {}
     },
     "95c396ede11c4a63b3826f0835263a0d": {
      "model_module": "@jupyter-widgets/base",
      "model_module_version": "1.2.0",
      "model_name": "LayoutModel",
      "state": {}
     },
     "a296e3cfbca44ad8a951d3d2e8f0c487": {
      "model_module": "@jupyter-widgets/base",
      "model_module_version": "1.2.0",
      "model_name": "LayoutModel",
      "state": {}
     },
     "a2d73afd42554f4fba8d9511421c47fc": {
      "model_module": "@jupyter-widgets/base",
      "model_module_version": "1.2.0",
      "model_name": "LayoutModel",
      "state": {}
     },
     "a5dff10616e64c2b98673a6afacc78cb": {
      "model_module": "@jupyter-widgets/base",
      "model_module_version": "1.2.0",
      "model_name": "LayoutModel",
      "state": {}
     },
     "a6b91e55b01c4a4daf8b8f363e645460": {
      "model_module": "mitosheet",
      "model_module_version": "^0.1.34",
      "model_name": "ExampleModel",
      "state": {
       "_model_module_version": "^0.1.34",
       "_view_module_version": "^0.1.34",
       "analysis_name": "9ef0270d-83a5-4c70-8fc7-c434ef0fe177",
       "code_json": "{\"imports\": \"from mitosheet import AVG,CLEAN,CONCAT,FIND,LEFT,LEN,LOWER,MID,MULTIPLY,PROPER,RIGHT,SUBSTITUTE,SUM,TRIM,UPPER\", \"code\": []}",
       "column_spreadsheet_code_json": "[{\"A\": \"\", \"B\": \"\"}, {\"A\": \"\", \"B\": \"\"}]",
       "df_names_json": "{\"df_names\": [\"df1\", \"df2\"]}",
       "layout": "IPY_MODEL_7df36f6d528e4746aeb0e8bb784a1f42",
       "sheet_json": "[{\"columns\": [\"A\", \"B\"], \"index\": [0], \"data\": [[1, 123]]}, {\"columns\": [\"A\", \"B\"], \"index\": [0], \"data\": [[1, \"Ha\"]]}]",
       "user_id": "nate",
       "value": "Hello World"
      }
     },
     "b12d6aa2a7bc400e84c55bc90c3ebac9": {
      "model_module": "@jupyter-widgets/base",
      "model_module_version": "1.2.0",
      "model_name": "LayoutModel",
      "state": {}
     },
     "c98717d1cfbc4893ba9a800b555f652a": {
      "model_module": "@jupyter-widgets/base",
      "model_module_version": "1.2.0",
      "model_name": "LayoutModel",
      "state": {}
     },
     "d60345f3de79479889199c8bc0676a91": {
      "model_module": "mitosheet",
      "model_module_version": "^0.1.34",
      "model_name": "ExampleModel",
      "state": {
       "_model_module_version": "^0.1.34",
       "_view_module_version": "^0.1.34",
       "analysis_name": "a8899335-47e0-4f71-9282-2143979cd72e",
       "code_json": "{\"imports\": \"from mitosheet import AVG,CLEAN,CONCAT,FIND,LEFT,LEN,LOWER,MID,MULTIPLY,PROPER,RIGHT,SUBSTITUTE,SUM,TRIM,UPPER\", \"code\": []}",
       "column_spreadsheet_code_json": "[{\"A\": \"\", \"B\": \"\"}, {\"A\": \"\", \"B\": \"\"}]",
       "df_names_json": "{\"df_names\": [\"df1\", \"df2\"]}",
       "layout": "IPY_MODEL_8dcc72ab54b743f8acc76045202c7fbc",
       "sheet_json": "[{\"columns\": [\"A\", \"B\"], \"index\": [0, 1], \"data\": [[1, 123], [2, 456]]}, {\"columns\": [\"A\", \"B\"], \"index\": [0, 1], \"data\": [[1, \"Ha\"], [1, \"Ha1\"]]}]",
       "user_id": "nate",
       "value": "Hello World"
      }
     },
     "fff89856dcf84faea7a802cd7cc1d7dd": {
      "model_module": "@jupyter-widgets/base",
      "model_module_version": "1.2.0",
      "model_name": "LayoutModel",
      "state": {}
     }
    },
    "version_major": 2,
    "version_minor": 0
   }
  }
 },
 "nbformat": 4,
 "nbformat_minor": 4
}
