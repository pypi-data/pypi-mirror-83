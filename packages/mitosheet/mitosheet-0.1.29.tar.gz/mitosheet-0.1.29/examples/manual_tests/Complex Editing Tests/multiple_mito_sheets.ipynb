{
 "cells": [
  {
   "cell_type": "code",
   "execution_count": null,
   "metadata": {},
   "outputs": [],
   "source": [
    "\"\"\"\n",
    "This file tests some complex analysis with Mito, where mulitple mito instances\n",
    "exist in the same workbook. \n",
    "\n",
    "Instructions:\n",
    "1. Select File > Run All Cells.\n",
    "2. For each Mito workbook:\n",
    "    1. Add a new column. \n",
    "    2. Edit each new column to be = Nums + 1\n",
    "    3. Check they update correctly, and code gets generated in the correct cell.\n",
    "\"\"\"\n",
    "import mitosheet\n",
    "import pandas as pd\n",
    "df = pd.DataFrame(data={'Nums': [1, 2, 3]})\n",
    "\n",
    "# MITO CODE START (DO NOT EDIT)\n",
    "# SAVED-ANALYSIS-START[{\"Nums\":\"\",\"B\":\"=0\"}]SAVED-ANALYSIS-END\n",
    "\n",
    "from mitosheet import AVG,CLEAN,CONCAT,FIND,LEFT,LEN,LOWER,MID,MULTIPLY,PROPER,RIGHT,SUBSTITUTE,SUM,TRIM,UPPER\n",
    "\n",
    "def mito_analysis(df1):\n",
    "    df1['B'] = 0\n",
    "\n",
    "mito_analysis(df)\n",
    "  \n",
    "# MITO CODE END (DO NOT EDIT)\n",
    "\n",
    "mitosheet.sheet(df)"
   ]
  },
  {
   "cell_type": "code",
   "execution_count": null,
   "metadata": {},
   "outputs": [],
   "source": [
    "df1 = pd.DataFrame(data={'Nums': [1, 2, 3]})\n",
    "mitosheet.sheet(df1)"
   ]
  },
  {
   "cell_type": "code",
   "execution_count": null,
   "metadata": {},
   "outputs": [],
   "source": [
    "df2 = pd.DataFrame(data={'Nums': [1, 2, 3]})\n",
    "mitosheet.sheet(df2)"
   ]
  }
 ],
 "metadata": {
  "kernelspec": {
   "display_name": "Python 3",
   "language": "python",
   "name": "python3"
  },
  "language_info": {
   "codemirror_mode": {
    "name": "ipython",
    "version": 3
   },
   "file_extension": ".py",
   "mimetype": "text/x-python",
   "name": "python",
   "nbconvert_exporter": "python",
   "pygments_lexer": "ipython3",
   "version": "3.8.5"
  },
  "widgets": {
   "application/vnd.jupyter.widget-state+json": {
    "state": {},
    "version_major": 2,
    "version_minor": 0
   }
  }
 },
 "nbformat": 4,
 "nbformat_minor": 4
}
