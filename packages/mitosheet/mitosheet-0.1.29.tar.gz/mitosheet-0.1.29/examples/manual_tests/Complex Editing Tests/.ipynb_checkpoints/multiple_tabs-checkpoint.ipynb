{
 "cells": [
  {
   "cell_type": "code",
   "execution_count": null,
   "metadata": {},
   "outputs": [],
   "source": [
    "\"\"\"\n",
    "This file tests some complex analysis with Mito, where mulitple mito instances\n",
    "exist in the same workbook. \n",
    "\n",
    "Instructions:\n",
    "- Run this cell. \n",
    "- Add a new column to the nums sheet. Set it equal to nums+100.\n",
    "- Switch to the strs sheet. Add a new column. Set it equal to LEFT(A).\n",
    "- Switch back to the nums sheet. Make sure the column you defined above is still there + correct. \n",
    "- Switch back to the strs sheet. Make sure you new column is correctly defined there as well. \n",
    "- Rerun this cell. Make sure your new columns still exist. \n",
    "- Edit the columns you defined to make sure the column formulas are redefined properly!\n",
    "\"\"\"\n",
    "import mitosheet\n",
    "import pandas as pd\n",
    "nums = pd.DataFrame(data={'nums': [1, 2, 3]})\n",
    "strs = pd.DataFrame(data={'strs': ['abc', 'def', 'ghi']})\n",
    "mitosheet.sheet(nums, strs)"
   ]
  }
 ],
 "metadata": {
  "kernelspec": {
   "display_name": "Python 3",
   "language": "python",
   "name": "python3"
  },
  "language_info": {
   "codemirror_mode": {
    "name": "ipython",
    "version": 3
   },
   "file_extension": ".py",
   "mimetype": "text/x-python",
   "name": "python",
   "nbconvert_exporter": "python",
   "pygments_lexer": "ipython3",
   "version": "3.8.5"
  },
  "widgets": {
   "application/vnd.jupyter.widget-state+json": {
    "state": {
     "08a242501d72478ab702d5de7acc9b35": {
      "model_module": "mitosheet",
      "model_module_version": "^0.1.24",
      "model_name": "ExampleModel",
      "state": {
       "_model_module_version": "^0.1.24",
       "_view_module_version": "^0.1.24",
       "code_json": "{\"imports\": \"from mitosheet import AVG,CLEAN,CONCATENATE,FIND,LEFT,LEN,LOWER,MID,MULTIPLY,PROPER,RIGHT,SUBSTITUTE,SUM,TRIM,UPPER\", \"code\": [\"df1['B'] = df1['nums'] + 100\", \"df2['B'] = RIGHT(df2['strs'])\"]}",
       "column_spreadsheet_code_json": "[{\"nums\": \"\", \"B\": \"=nums + 100\"}, {\"strs\": \"\", \"B\": \"=RIGHT(strs)\"}]",
       "df_name": "",
       "df_names": "{\"dfNames\":[\"nums\",\" strs\"]}",
       "layout": "IPY_MODEL_d8af31d5517e4e1d80f708ad41668596",
       "sheet_json": "[{\"columns\": [\"nums\", \"B\"], \"index\": [0, 1, 2], \"data\": [[1, 101], [2, 102], [3, 103]]}, {\"columns\": [\"strs\", \"B\"], \"index\": [0, 1, 2], \"data\": [[\"abc\", \"c\"], [\"def\", \"f\"], [\"ghi\", \"i\"]]}]",
       "user_id": "nate",
       "value": "Hello World"
      }
     },
     "1fd23c4daf5e482c9f9bee349de50e40": {
      "model_module": "mitosheet",
      "model_module_version": "^0.1.24",
      "model_name": "ExampleModel",
      "state": {
       "_model_module_version": "^0.1.24",
       "_view_module_version": "^0.1.24",
       "code_json": "{\"code\": \"0\"}",
       "column_spreadsheet_code_json": "[{\"nums\": \"\"}, {\"strs\": \"\"}]",
       "df_name": "",
       "df_names": "{\"dfNames\":[\"nums\",\" strs\"]}",
       "layout": "IPY_MODEL_b3c9e28ac98e4a47a834a689374c0321",
       "sheet_json": "[{\"columns\": [\"nums\"], \"index\": [0, 1, 2], \"data\": [[1], [2], [3]]}, {\"columns\": [\"strs\"], \"index\": [0, 1, 2], \"data\": [[\"abc\"], [\"def\"], [\"ghi\"]]}]",
       "user_id": "nate",
       "value": "Hello World"
      }
     },
     "22ebf0c5be67419b926f6c4262c4a450": {
      "model_module": "@jupyter-widgets/base",
      "model_module_version": "1.2.0",
      "model_name": "LayoutModel",
      "state": {}
     },
     "4f796b6bb4ae482ead50ab6e50e5770a": {
      "model_module": "@jupyter-widgets/base",
      "model_module_version": "1.2.0",
      "model_name": "LayoutModel",
      "state": {}
     },
     "6679e027df41458bbba313ce4189ea3a": {
      "model_module": "mitosheet",
      "model_module_version": "^0.1.24",
      "model_name": "ExampleModel",
      "state": {
       "_model_module_version": "^0.1.24",
       "_view_module_version": "^0.1.24",
       "code_json": "{\"imports\": \"from mitosheet import AVG,CLEAN,CONCATENATE,FIND,LEFT,LEN,LOWER,MID,MULTIPLY,PROPER,RIGHT,SUBSTITUTE,SUM,TRIM,UPPER\", \"code\": [\"df1['B'] = df1['nums'] + 100\", \"df2['B'] = RIGHT(df2['strs'], 2)\"]}",
       "column_spreadsheet_code_json": "[{\"nums\": \"\", \"B\": \"=nums + 100\"}, {\"strs\": \"\", \"B\": \"=RIGHT(strs, 2)\"}]",
       "df_name": "",
       "df_names": "{\"dfNames\":[\"nums\",\" strs\"]}",
       "layout": "IPY_MODEL_22ebf0c5be67419b926f6c4262c4a450",
       "sheet_json": "[{\"columns\": [\"nums\", \"B\"], \"index\": [0, 1, 2], \"data\": [[1, 101], [2, 102], [3, 103]]}, {\"columns\": [\"strs\", \"B\"], \"index\": [0, 1, 2], \"data\": [[\"abc\", \"bc\"], [\"def\", \"ef\"], [\"ghi\", \"hi\"]]}]",
       "user_id": "nate",
       "value": "Hello World"
      }
     },
     "b3c9e28ac98e4a47a834a689374c0321": {
      "model_module": "@jupyter-widgets/base",
      "model_module_version": "1.2.0",
      "model_name": "LayoutModel",
      "state": {}
     },
     "cbad53c63aa945ccae282294e02292fb": {
      "model_module": "mitosheet",
      "model_module_version": "^0.1.24",
      "model_name": "ExampleModel",
      "state": {
       "_model_module_version": "^0.1.24",
       "_view_module_version": "^0.1.24",
       "code_json": "{\"code\": \"0\"}",
       "column_spreadsheet_code_json": "[{\"nums\": \"\"}, {\"strs\": \"\"}]",
       "df_name": "",
       "df_names": "{\"dfNames\":[\"nums\",\" strs\"]}",
       "layout": "IPY_MODEL_4f796b6bb4ae482ead50ab6e50e5770a",
       "sheet_json": "[{\"columns\": [\"nums\"], \"index\": [0, 1, 2], \"data\": [[1], [2], [3]]}, {\"columns\": [\"strs\"], \"index\": [0, 1, 2], \"data\": [[\"abc\"], [\"def\"], [\"ghi\"]]}]",
       "user_id": "nate",
       "value": "Hello World"
      }
     },
     "d8af31d5517e4e1d80f708ad41668596": {
      "model_module": "@jupyter-widgets/base",
      "model_module_version": "1.2.0",
      "model_name": "LayoutModel",
      "state": {}
     }
    },
    "version_major": 2,
    "version_minor": 0
   }
  }
 },
 "nbformat": 4,
 "nbformat_minor": 4
}
