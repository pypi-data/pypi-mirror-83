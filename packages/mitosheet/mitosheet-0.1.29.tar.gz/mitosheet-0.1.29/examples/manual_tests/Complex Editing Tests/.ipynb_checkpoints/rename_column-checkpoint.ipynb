{
 "cells": [
  {
   "cell_type": "code",
   "execution_count": null,
   "metadata": {},
   "outputs": [],
   "source": [
    "\"\"\"\n",
    "This file tests renaming a column in Mito, and then rerunning this analysis.\n",
    "\n",
    "Instructions:\n",
    "1. Run this cell. \n",
    "2. Add a column, click on the column header, and try setting it to \"123\", \"ha ha\" and \"123!\" (w/o quotes), and they should register as invalid. \n",
    "3. Then set the column to \"ABC\"\n",
    "4. This should update in the sheet.\n",
    "5. Then rerun the top cell, it should still be renamed. \n",
    "6. Run the generated code cell and check the resulting data frame, and make sure the header has been updated.\n",
    "\"\"\"\n",
    "import mitosheet\n",
    "import pandas as pd\n",
    "df = pd.DataFrame(data={'Data': [1, 2, 3]})\n",
    "mitosheet.sheet(df)"
   ]
  }
 ],
 "metadata": {
  "kernelspec": {
   "display_name": "Python 3",
   "language": "python",
   "name": "python3"
  },
  "language_info": {
   "codemirror_mode": {
    "name": "ipython",
    "version": 3
   },
   "file_extension": ".py",
   "mimetype": "text/x-python",
   "name": "python",
   "nbconvert_exporter": "python",
   "pygments_lexer": "ipython3",
   "version": "3.8.5"
  },
  "widgets": {
   "application/vnd.jupyter.widget-state+json": {
    "state": {
     "08c82ecb2baa4816a17b472e430ee094": {
      "model_module": "mitosheet",
      "model_module_version": "^0.1.26",
      "model_name": "ExampleModel",
      "state": {
       "_model_module_version": "^0.1.26",
       "_view_module_version": "^0.1.26",
       "analysis_name": "43c6ebe6-919b-4d6c-aa77-f184ac7cc734",
       "code_json": "{\"imports\": \"from mitosheet import AVG,CLEAN,CONCAT,FIND,LEFT,LEN,LOWER,MID,MULTIPLY,PROPER,RIGHT,SUBSTITUTE,SUM,TRIM,UPPER\", \"code\": [\"# Step 1\", \"df['B'] = 0\", \"# Step 2\", \"df.rename(columns={\\\"B\\\": \\\"ABC\\\"}, inplace=True)\", \"# Step 3\", \"df['ABC'] = 0\"]}",
       "column_spreadsheet_code_json": "[{\"Data\": \"\", \"ABC\": \"=0\"}]",
       "df_names_json": "{\"df_names\": [\"df\"]}",
       "layout": "IPY_MODEL_cb02deeae49740b5a8b8d77d238b308b",
       "sheet_json": "[{\"columns\": [\"Data\", \"ABC\"], \"index\": [0, 1, 2], \"data\": [[1, 0], [2, 0], [3, 0]]}]",
       "user_id": "nate",
       "value": "Hello World"
      }
     },
     "8152055331d14515955c4c51b907ee25": {
      "model_module": "mitosheet",
      "model_module_version": "^0.1.26",
      "model_name": "ExampleModel",
      "state": {
       "_model_module_version": "^0.1.26",
       "_view_module_version": "^0.1.26",
       "analysis_name": "c323af6b-3db9-4c2b-a049-0b9f8109b60c",
       "code_json": "{\"imports\": \"from mitosheet import AVG,CLEAN,CONCAT,FIND,LEFT,LEN,LOWER,MID,MULTIPLY,PROPER,RIGHT,SUBSTITUTE,SUM,TRIM,UPPER\", \"code\": [\"# Step 1\", \"df['B'] = 0\", \"# Step 2\", \"df.rename(columns={\\\"B\\\": \\\"ABC\\\"}, inplace=True)\"]}",
       "column_spreadsheet_code_json": "[{\"Data\": \"\", \"ABC\": \"=0\"}]",
       "df_names_json": "{\"df_names\": [\"df\"]}",
       "layout": "IPY_MODEL_8474530c3a3d4016a905917b3fabca28",
       "sheet_json": "[{\"columns\": [\"Data\", \"ABC\"], \"index\": [0, 1, 2], \"data\": [[1, 0], [2, 0], [3, 0]]}]",
       "user_id": "nate",
       "value": "Hello World"
      }
     },
     "8474530c3a3d4016a905917b3fabca28": {
      "model_module": "@jupyter-widgets/base",
      "model_module_version": "1.2.0",
      "model_name": "LayoutModel",
      "state": {}
     },
     "cb02deeae49740b5a8b8d77d238b308b": {
      "model_module": "@jupyter-widgets/base",
      "model_module_version": "1.2.0",
      "model_name": "LayoutModel",
      "state": {}
     }
    },
    "version_major": 2,
    "version_minor": 0
   }
  }
 },
 "nbformat": 4,
 "nbformat_minor": 4
}
