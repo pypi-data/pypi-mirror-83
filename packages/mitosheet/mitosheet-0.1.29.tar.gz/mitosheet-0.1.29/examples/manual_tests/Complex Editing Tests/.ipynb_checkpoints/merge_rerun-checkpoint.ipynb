{
 "cells": [
  {
   "cell_type": "code",
   "execution_count": null,
   "metadata": {},
   "outputs": [],
   "source": [
    "\"\"\"\n",
    "This file tests some repetitive merging functionality with Mito, where\n",
    "the merged sheet is then used as part of another merge\n",
    "\n",
    "Instructions:\n",
    "1. Run this cell\n",
    "2. Click the merge button in the toolbar and merge df1 and df2 together on Key1 and Key2, respectivly\n",
    "3. Check that a new sheet, df3, is created and that it contains only 4 rows. The first row should read: A, 1, A, 5. \n",
    "4. Rerun this cell. \n",
    "5. Check that the sheet, df3, is still there. \n",
    "6. On Sheet df1, create a new column and set it equal to column Key1\n",
    "7. On Sheet df2, create a new column and set it equal to column Key2 \n",
    "8. On df3, create a new column and set it to =CONCAT(Key1, Key2)\n",
    "9. Take a look at each sheet, rerun the codeblock and make sure that each sheet did not change. Make sure you can edit the columns you made above. \n",
    "10. Open the Merge modal\n",
    "    1. Set First Sheet to df1\n",
    "    2. Set Second Sheet to df3\n",
    "    3. Check to make sure that the keys automatically updated to Key1 and Key1\n",
    "    4. Click Merge\n",
    "11. Check the new sheet exists. \n",
    "\"\"\"\n",
    "\n",
    "    \n",
    "import pandas as pd\n",
    "import mitosheet\n",
    "df1 = pd.DataFrame(data={'Key1': ['A', 'B', 'C', 'D'], 'value': [1,2,3,4]})\n",
    "df2 = pd.DataFrame(data={'Key2': ['A', 'A', 'B', 'B'], 'value': [5,6,7,8]})\n",
    "mitosheet.sheet(df1, df2)"
   ]
  }
 ],
 "metadata": {
  "kernelspec": {
   "display_name": "Python 3",
   "language": "python",
   "name": "python3"
  },
  "language_info": {
   "codemirror_mode": {
    "name": "ipython",
    "version": 3
   },
   "file_extension": ".py",
   "mimetype": "text/x-python",
   "name": "python",
   "nbconvert_exporter": "python",
   "pygments_lexer": "ipython3",
   "version": "3.8.5"
  },
  "widgets": {
   "application/vnd.jupyter.widget-state+json": {
    "state": {
     "692f47d48c474d5c95169b0a312ab4ba": {
      "model_module": "@jupyter-widgets/base",
      "model_module_version": "1.2.0",
      "model_name": "LayoutModel",
      "state": {}
     },
     "72cc91242211455b8db6bf02c9c8c6d1": {
      "model_module": "@jupyter-widgets/base",
      "model_module_version": "1.2.0",
      "model_name": "LayoutModel",
      "state": {}
     },
     "774638f9ff954f51b08ad56274a650c9": {
      "model_module": "@jupyter-widgets/base",
      "model_module_version": "1.2.0",
      "model_name": "LayoutModel",
      "state": {}
     },
     "97b1ddf9654f4722b4aa65e13b3aff9c": {
      "model_module": "mitosheet",
      "model_module_version": "^0.1.26",
      "model_name": "ExampleModel",
      "state": {
       "_model_module_version": "^0.1.26",
       "_view_module_version": "^0.1.26",
       "analysis_name": "7a5af206-b430-4050-a3f2-7c998f75f51c",
       "code_json": "{\"imports\": \"from mitosheet import AVG,CLEAN,CONCAT,FIND,LEFT,LEN,LOWER,MID,MULTIPLY,PROPER,RIGHT,SUBSTITUTE,SUM,TRIM,UPPER\", \"code\": [\"# Step 1\", \"temp_df = df2.drop_duplicates(subset='Key2')\", \"df3 = df1.merge(df2, left_on=['Key1'], right_on=['Key2'], how='left')\", \"# Step 2\", \"df1['C'] = 0\", \"df2['C'] = 0\", \"df3['E'] = 100\", \"# Step 3\", \"temp_df = df3.drop_duplicates(subset='Key1')\", \"df4 = df1.merge(df3, left_on=['Key1'], right_on=['Key1'], how='left')\", \"# Step 4\", \"df1['C'] = 0\", \"df2['C'] = 0\", \"df3['E'] = 100\"]}",
       "column_spreadsheet_code_json": "[{\"Key1\": \"\", \"value\": \"\", \"C\": \"=0\"}, {\"Key2\": \"\", \"value\": \"\", \"C\": \"=0\"}, {\"Key1\": \"\", \"value_x\": \"\", \"Key2\": \"\", \"value_y\": \"\", \"E\": \"=100\"}, {\"Key1\": \"\", \"value\": \"\", \"C\": \"\", \"value_x\": \"\", \"Key2\": \"\", \"value_y\": \"\", \"E\": \"\"}]",
       "df_names_json": "{\"df_names\": [\"df1\", \"df2\", \"df3\"]}",
       "layout": "IPY_MODEL_72cc91242211455b8db6bf02c9c8c6d1",
       "sheet_json": "[{\"columns\": [\"Key1\", \"value\", \"C\"], \"index\": [0, 1, 2, 3], \"data\": [[\"A\", 1, 0], [\"B\", 2, 0], [\"C\", 3, 0], [\"D\", 4, 0]]}, {\"columns\": [\"Key2\", \"value\", \"C\"], \"index\": [0, 1, 2, 3], \"data\": [[\"A\", 5, 0], [\"A\", 6, 0], [\"B\", 7, 0], [\"B\", 8, 0]]}, {\"columns\": [\"Key1\", \"value_x\", \"Key2\", \"value_y\", \"E\"], \"index\": [0, 1, 2, 3], \"data\": [[\"A\", 1, \"A\", 5.0, 100], [\"B\", 2, \"B\", 7.0, 100], [\"C\", 3, \"undefined\", \"undefined\", 100], [\"D\", 4, \"undefined\", \"undefined\", 100]]}, {\"columns\": [\"Key1\", \"value\", \"C\", \"value_x\", \"Key2\", \"value_y\", \"E\"], \"index\": [0, 1, 2, 3], \"data\": [[\"A\", 1, 0, 1, \"A\", 5.0, 100], [\"B\", 2, 0, 2, \"B\", 7.0, 100], [\"C\", 3, 0, 3, \"undefined\", \"undefined\", 100], [\"D\", 4, 0, 4, \"undefined\", \"undefined\", 100]]}]",
       "user_id": "nate",
       "value": "Hello World"
      }
     },
     "dd0512c6aabe48d1b72f5fccd1259c86": {
      "model_module": "mitosheet",
      "model_module_version": "^0.1.26",
      "model_name": "ExampleModel",
      "state": {
       "_model_module_version": "^0.1.26",
       "_view_module_version": "^0.1.26",
       "analysis_name": "524db525-b630-45c9-a517-0c63bf293b70",
       "code_json": "{\"imports\": \"from mitosheet import AVG,CLEAN,CONCAT,FIND,LEFT,LEN,LOWER,MID,MULTIPLY,PROPER,RIGHT,SUBSTITUTE,SUM,TRIM,UPPER\", \"code\": [\"# Step 1\", \"temp_df = df2.drop_duplicates(subset='Key2')\", \"df3 = df1.merge(df2, left_on=['Key1'], right_on=['Key2'], how='left')\", \"# Step 2\", \"df1['C'] = 0\", \"df2['C'] = 0\", \"df3['E'] = 0\"]}",
       "column_spreadsheet_code_json": "[{\"Key1\": \"\", \"value\": \"\", \"C\": \"=0\"}, {\"Key2\": \"\", \"value\": \"\", \"C\": \"=0\"}, {\"Key1\": \"\", \"value_x\": \"\", \"Key2\": \"\", \"value_y\": \"\", \"E\": \"=0\"}]",
       "df_names_json": "{\"df_names\": [\"df1\", \"df2\"]}",
       "layout": "IPY_MODEL_692f47d48c474d5c95169b0a312ab4ba",
       "sheet_json": "[{\"columns\": [\"Key1\", \"value\", \"C\"], \"index\": [0, 1, 2, 3], \"data\": [[\"A\", 1, 0], [\"B\", 2, 0], [\"C\", 3, 0], [\"D\", 4, 0]]}, {\"columns\": [\"Key2\", \"value\", \"C\"], \"index\": [0, 1, 2, 3], \"data\": [[\"A\", 5, 0], [\"A\", 6, 0], [\"B\", 7, 0], [\"B\", 8, 0]]}, {\"columns\": [\"Key1\", \"value_x\", \"Key2\", \"value_y\", \"E\"], \"index\": [0, 1, 2, 3], \"data\": [[\"A\", 1, \"A\", 5.0, 0], [\"B\", 2, \"B\", 7.0, 0], [\"C\", 3, \"undefined\", \"undefined\", 0], [\"D\", 4, \"undefined\", \"undefined\", 0]]}]",
       "user_id": "nate",
       "value": "Hello World"
      }
     },
     "f10df58322f549708db222d3f071af99": {
      "model_module": "mitosheet",
      "model_module_version": "^0.1.26",
      "model_name": "ExampleModel",
      "state": {
       "_model_module_version": "^0.1.26",
       "_view_module_version": "^0.1.26",
       "analysis_name": "a6ccf5cb-0b45-48c9-8407-5fe52dc93854",
       "code_json": "{\"imports\": \"from mitosheet import AVG,CLEAN,CONCAT,FIND,LEFT,LEN,LOWER,MID,MULTIPLY,PROPER,RIGHT,SUBSTITUTE,SUM,TRIM,UPPER\", \"code\": [\"# Step 1\", \"temp_df = df2.drop_duplicates(subset='Key2')\", \"df3 = df1.merge(df2, left_on=['Key1'], right_on=['Key2'], how='left')\", \"# Step 2\", \"df1['C'] = 0\", \"df3['F'] = 0\", \"df3['E'] = 0\", \"# Step 3\", \"temp_df = df3.drop_duplicates(subset='Key1')\", \"df4 = df1.merge(df3, left_on=['Key1'], right_on=['Key1'], how='left')\", \"# Step 4\", \"df1['C'] = 0\", \"df3['F'] = 0\", \"df3['E'] = 0\"]}",
       "column_spreadsheet_code_json": "[{\"Key1\": \"\", \"value\": \"\", \"C\": \"=0\"}, {\"Key2\": \"\", \"value\": \"\"}, {\"Key1\": \"\", \"value_x\": \"\", \"Key2\": \"\", \"value_y\": \"\", \"E\": \"=0\", \"F\": \"=0\"}, {\"Key1\": \"\", \"value\": \"\", \"C\": \"\", \"value_x\": \"\", \"Key2\": \"\", \"value_y\": \"\", \"E\": \"\", \"F\": \"\"}]",
       "df_names_json": "{\"df_names\": [\"df1\", \"df2\"]}",
       "layout": "IPY_MODEL_774638f9ff954f51b08ad56274a650c9",
       "sheet_json": "[{\"columns\": [\"Key1\", \"value\", \"C\"], \"index\": [0, 1, 2, 3], \"data\": [[\"A\", 1, 0], [\"B\", 2, 0], [\"C\", 3, 0], [\"D\", 4, 0]]}, {\"columns\": [\"Key2\", \"value\"], \"index\": [0, 1, 2, 3], \"data\": [[\"A\", 5], [\"A\", 6], [\"B\", 7], [\"B\", 8]]}, {\"columns\": [\"Key1\", \"value_x\", \"Key2\", \"value_y\", \"E\", \"F\"], \"index\": [0, 1, 2, 3], \"data\": [[\"A\", 1, \"A\", 5.0, 0, 0], [\"B\", 2, \"B\", 7.0, 0, 0], [\"C\", 3, \"undefined\", \"undefined\", 0, 0], [\"D\", 4, \"undefined\", \"undefined\", 0, 0]]}, {\"columns\": [\"Key1\", \"value\", \"C\", \"value_x\", \"Key2\", \"value_y\", \"E\", \"F\"], \"index\": [0, 1, 2, 3], \"data\": [[\"A\", 1, 0, 1, \"A\", 5.0, 0, 0], [\"B\", 2, 0, 2, \"B\", 7.0, 0, 0], [\"C\", 3, 0, 3, \"undefined\", \"undefined\", 0, 0], [\"D\", 4, 0, 4, \"undefined\", \"undefined\", 0, 0]]}]",
       "user_id": "nate",
       "value": "Hello World"
      }
     }
    },
    "version_major": 2,
    "version_minor": 0
   }
  }
 },
 "nbformat": 4,
 "nbformat_minor": 4
}
