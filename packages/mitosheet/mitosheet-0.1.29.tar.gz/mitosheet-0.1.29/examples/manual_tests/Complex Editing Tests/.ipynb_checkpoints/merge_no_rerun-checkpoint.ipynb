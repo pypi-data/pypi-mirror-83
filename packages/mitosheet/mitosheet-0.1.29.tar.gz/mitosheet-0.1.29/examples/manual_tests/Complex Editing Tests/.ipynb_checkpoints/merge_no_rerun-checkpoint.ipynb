{
 "cells": [
  {
   "cell_type": "code",
   "execution_count": null,
   "metadata": {},
   "outputs": [],
   "source": [
    "\"\"\"\n",
    "This file tests where mulitple mito instances exist in the same workbook, \n",
    "and we merge them together (sucessfully!)\n",
    "\n",
    "Instructions:\n",
    "- Run this cell.\n",
    "- Make sure you can switch between sheets.\n",
    "- Use the merge modal to merge the first and last sheet. The id should appear as the default options!\n",
    "- Go to the first sheet. Add a new column, and calculate the length of the first name. Then, calculate the length of the length of the first name.\n",
    "- Go to the second sheet. Add a new column and make a new column that is 1 if the person is a DR, and 0 otherwise.\n",
    "- Go to the new merged sheet, and use any functions necessary to get each name in the format:\n",
    "    \n",
    "        Nate R\n",
    "        \n",
    "- Then, edit the formulas you made in the last step to the:\n",
    "\n",
    "        NATE RUSH\n",
    "        \n",
    "- Then, rerun this cell again. Make sure you can switch between sheets and the formulas are still defined properly.\n",
    "\"\"\"\n",
    "import mitosheet\n",
    "import pandas as pd\n",
    "first = pd.DataFrame(data={'id': [1, 2, 3], 'first_name': ['nate', 'aaron', 'jake']})\n",
    "last = pd.DataFrame(data={'id': [1, 2, 3], 'last_name': ['rush', 'Diamond-Reivich', 'diamond-reivich']})\n",
    "mitosheet.sheet(first, last)"
   ]
  }
 ],
 "metadata": {
  "kernelspec": {
   "display_name": "Python 3",
   "language": "python",
   "name": "python3"
  },
  "language_info": {
   "codemirror_mode": {
    "name": "ipython",
    "version": 3
   },
   "file_extension": ".py",
   "mimetype": "text/x-python",
   "name": "python",
   "nbconvert_exporter": "python",
   "pygments_lexer": "ipython3",
   "version": "3.8.5"
  },
  "widgets": {
   "application/vnd.jupyter.widget-state+json": {
    "state": {
     "45af143f00874e859efc827c5db0ce99": {
      "model_module": "mitosheet",
      "model_module_version": "^0.1.25",
      "model_name": "ExampleModel",
      "state": {
       "_model_module_version": "^0.1.25",
       "_view_module_version": "^0.1.25",
       "code_json": "{\"imports\": \"from mitosheet import AVG,CLEAN,CONCAT,FIND,LEFT,LEN,LOWER,MID,MULTIPLY,PROPER,RIGHT,SUBSTITUTE,SUM,TRIM,UPPER\", \"code\": [\"# Edit the sheet to create the analysis!\", \"pass\"]}",
       "column_spreadsheet_code_json": "[{\"id\": \"\", \"first_name\": \"\"}, {\"id\": \"\", \"last_name\": \"\"}]",
       "df_name": "",
       "df_names": "{\"dfNames\":[\"first\",\"last\"]}",
       "layout": "IPY_MODEL_f311f721dfc1408b832a7f41249bdf17",
       "sheet_json": "[{\"columns\": [\"id\", \"first_name\"], \"index\": [0, 1, 2], \"data\": [[1, \"nate\"], [2, \"aaron\"], [3, \"jake\"]]}, {\"columns\": [\"id\", \"last_name\"], \"index\": [0, 1, 2], \"data\": [[1, \"rush\"], [2, \"Diamond-Reivich\"], [3, \"diamond-reivich\"]]}]",
       "user_id": "nate",
       "value": "Hello World"
      }
     },
     "6c44857ee55d4e57ba291f0d84765daa": {
      "model_module": "@jupyter-widgets/base",
      "model_module_version": "1.2.0",
      "model_name": "LayoutModel",
      "state": {}
     },
     "6ebd89b93bc942d9b15a9df5dff0293d": {
      "model_module": "@jupyter-widgets/base",
      "model_module_version": "1.2.0",
      "model_name": "LayoutModel",
      "state": {}
     },
     "8a0e39fa1f5f45de8e6ae90f8b97b566": {
      "model_module": "mitosheet",
      "model_module_version": "^0.1.25",
      "model_name": "ExampleModel",
      "state": {
       "_model_module_version": "^0.1.25",
       "_view_module_version": "^0.1.25",
       "code_json": "{\"imports\": \"from mitosheet import AVG,CLEAN,CONCAT,FIND,LEFT,LEN,LOWER,MID,MULTIPLY,PROPER,RIGHT,SUBSTITUTE,SUM,TRIM,UPPER\", \"code\": [\"temp_df = df2.drop_duplicates(subset='id')\\n    df3 = df1.merge(df2, left_on=['id'], right_on=['id'], how='left')\", \"df1['C'] = LEN(LEN(df1['first_name']))\", \"df2['C'] = SUBSTITUTE(FIND(df2['last_name'], \\\"-\\\"), \\\"8\\\", \\\"1\\\")\", \"df3['D'] = PROPER(CONCAT(df3['last_name'], \\\" \\\", df3['first_name']))\"]}",
       "column_spreadsheet_code_json": "[{\"id\": \"\", \"first_name\": \"\", \"C\": \"=LEN(LEN(first_name))\"}, {\"id\": \"\", \"last_name\": \"\", \"C\": \"=SUBSTITUTE(FIND(last_name, \\\"-\\\"), \\\"8\\\", \\\"1\\\")\"}, {\"id\": \"\", \"first_name\": \"\", \"last_name\": \"\", \"D\": \"=PROPER(CONCAT(last_name, \\\" \\\", first_name))\"}]",
       "df_name": "",
       "df_names": "{\"dfNames\":[\"first\",\"last\"]}",
       "layout": "IPY_MODEL_fb9ecf918aed49e0895aef0ef1657fe1",
       "sheet_json": "[{\"columns\": [\"id\", \"first_name\", \"C\"], \"index\": [0, 1, 2], \"data\": [[1, \"nate\", 1], [2, \"aaron\", 1], [3, \"jake\", 1]]}, {\"columns\": [\"id\", \"last_name\", \"C\"], \"index\": [0, 1, 2], \"data\": [[1, \"rush\", 0], [2, \"Diamond-Reivich\", 1], [3, \"diamond-reivich\", 1]]}, {\"columns\": [\"id\", \"first_name\", \"last_name\", \"D\"], \"index\": [0, 1, 2], \"data\": [[1, \"nate\", \"rush\", \"Rush Nate\"], [2, \"aaron\", \"Diamond-Reivich\", \"Diamond-Reivich Aaron\"], [3, \"jake\", \"diamond-reivich\", \"Diamond-Reivich Jake\"]]}]",
       "user_id": "nate",
       "value": "Hello World"
      }
     },
     "bd094819be1242049bbbf451d790e579": {
      "model_module": "mitosheet",
      "model_module_version": "^0.1.25",
      "model_name": "ExampleModel",
      "state": {
       "_model_module_version": "^0.1.25",
       "_view_module_version": "^0.1.25",
       "code_json": "{\"imports\": \"from mitosheet import AVG,CLEAN,CONCAT,FIND,LEFT,LEN,LOWER,MID,MULTIPLY,PROPER,RIGHT,SUBSTITUTE,SUM,TRIM,UPPER\", \"code\": [\"# Edit the sheet to create the analysis!\", \"pass\"]}",
       "column_spreadsheet_code_json": "[{\"id\": \"\", \"first_name\": \"\", \"C\": \"=LEN(LEN(first_name))\"}, {\"id\": \"\", \"last_name\": \"\", \"C\": \"=SUBSTITUTE(FIND(last_name, \\\"-\\\"), \\\"8\\\", \\\"1\\\")\"}, {\"id\": \"\", \"first_name\": \"\", \"last_name\": \"\", \"D\": \"=PROPER(CONCAT(last_name, \\\" \\\", first_name))\"}]",
       "df_name": "",
       "df_names": "{\"dfNames\":[\"df1\",\"df2\",\"df3\"]}",
       "layout": "IPY_MODEL_6c44857ee55d4e57ba291f0d84765daa",
       "sheet_json": "[{\"columns\": [\"id\", \"first_name\", \"C\"], \"index\": [0, 1, 2], \"data\": [[1, \"nate\", 1], [2, \"aaron\", 1], [3, \"jake\", 1]]}, {\"columns\": [\"id\", \"last_name\", \"C\"], \"index\": [0, 1, 2], \"data\": [[1, \"rush\", 0], [2, \"Diamond-Reivich\", 1], [3, \"diamond-reivich\", 1]]}, {\"columns\": [\"id\", \"first_name\", \"last_name\", \"D\"], \"index\": [0, 1, 2], \"data\": [[1, \"nate\", \"rush\", \"Rush Nate\"], [2, \"aaron\", \"Diamond-Reivich\", \"Diamond-Reivich Aaron\"], [3, \"jake\", \"diamond-reivich\", \"Diamond-Reivich Jake\"]]}]",
       "user_id": "nate",
       "value": "Hello World"
      }
     },
     "e44f32a48d6244c8ae01aa2ca4d5214d": {
      "model_module": "@jupyter-widgets/base",
      "model_module_version": "1.2.0",
      "model_name": "LayoutModel",
      "state": {}
     },
     "f311f721dfc1408b832a7f41249bdf17": {
      "model_module": "@jupyter-widgets/base",
      "model_module_version": "1.2.0",
      "model_name": "LayoutModel",
      "state": {}
     },
     "f9dbcf166a3d4916beaf3f8d7f0c488c": {
      "model_module": "mitosheet",
      "model_module_version": "^0.1.25",
      "model_name": "ExampleModel",
      "state": {
       "_model_module_version": "^0.1.25",
       "_view_module_version": "^0.1.25",
       "code_json": "{\"imports\": \"from mitosheet import AVG,CLEAN,CONCAT,FIND,LEFT,LEN,LOWER,MID,MULTIPLY,PROPER,RIGHT,SUBSTITUTE,SUM,TRIM,UPPER\", \"code\": [\"# Edit the sheet to create the analysis!\", \"pass\"]}",
       "column_spreadsheet_code_json": "[{\"id\": \"\", \"first_name\": \"\"}, {\"id\": \"\", \"last_name\": \"\"}]",
       "df_name": "",
       "df_names": "{\"dfNames\":[\"first\",\"last\"]}",
       "layout": "IPY_MODEL_e44f32a48d6244c8ae01aa2ca4d5214d",
       "sheet_json": "[{\"columns\": [\"id\", \"first_name\"], \"index\": [0, 1, 2], \"data\": [[1, \"nate\"], [2, \"aaron\"], [3, \"jake\"]]}, {\"columns\": [\"id\", \"last_name\"], \"index\": [0, 1, 2], \"data\": [[1, \"rush\"], [2, \"Diamond-Reivich\"], [3, \"diamond-reivich\"]]}]",
       "user_id": "nate",
       "value": "Hello World"
      }
     },
     "fb9ecf918aed49e0895aef0ef1657fe1": {
      "model_module": "@jupyter-widgets/base",
      "model_module_version": "1.2.0",
      "model_name": "LayoutModel",
      "state": {}
     }
    },
    "version_major": 2,
    "version_minor": 0
   }
  }
 },
 "nbformat": 4,
 "nbformat_minor": 4
}
