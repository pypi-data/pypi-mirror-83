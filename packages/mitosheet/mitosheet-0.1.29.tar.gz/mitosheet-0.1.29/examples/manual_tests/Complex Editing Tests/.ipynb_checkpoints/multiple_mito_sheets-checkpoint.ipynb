{
 "cells": [
  {
   "cell_type": "code",
   "execution_count": null,
   "metadata": {},
   "outputs": [],
   "source": [
    "\"\"\"\n",
    "This file tests some complex analysis with Mito, where mulitple mito instances\n",
    "exist in the same workbook. \n",
    "\n",
    "Instructions:\n",
    "1. Select File > Run All Cells.\n",
    "2. For each Mito workbook:\n",
    "    1. Add a new column. \n",
    "    2. Edit each new column to be = Nums + 1\n",
    "    3. Check they update correctly, and code gets generated in the correct cell.\n",
    "\"\"\"\n",
    "import mitosheet\n",
    "import pandas as pd\n",
    "df = pd.DataFrame(data={'Nums': [1, 2, 3]})\n",
    "\n",
    "# MITO CODE START (DO NOT EDIT)\n",
    "# SAVED-ANALYSIS-START[{\"Nums\":\"\",\"B\":\"=0\"}]SAVED-ANALYSIS-END\n",
    "\n",
    "from mitosheet import AVG,CLEAN,CONCAT,FIND,LEFT,LEN,LOWER,MID,MULTIPLY,PROPER,RIGHT,SUBSTITUTE,SUM,TRIM,UPPER\n",
    "\n",
    "def mito_analysis(df1):\n",
    "    df1['B'] = 0\n",
    "\n",
    "mito_analysis(df)\n",
    "  \n",
    "# MITO CODE END (DO NOT EDIT)\n",
    "\n",
    "mitosheet.sheet(df)"
   ]
  },
  {
   "cell_type": "code",
   "execution_count": null,
   "metadata": {},
   "outputs": [],
   "source": [
    "df1 = pd.DataFrame(data={'Nums': [1, 2, 3]})\n",
    "mitosheet.sheet(df1)"
   ]
  },
  {
   "cell_type": "code",
   "execution_count": null,
   "metadata": {},
   "outputs": [],
   "source": [
    "df2 = pd.DataFrame(data={'Nums': [1, 2, 3]})\n",
    "mitosheet.sheet(df2)"
   ]
  }
 ],
 "metadata": {
  "kernelspec": {
   "display_name": "Python 3",
   "language": "python",
   "name": "python3"
  },
  "language_info": {
   "codemirror_mode": {
    "name": "ipython",
    "version": 3
   },
   "file_extension": ".py",
   "mimetype": "text/x-python",
   "name": "python",
   "nbconvert_exporter": "python",
   "pygments_lexer": "ipython3",
   "version": "3.8.5"
  },
  "widgets": {
   "application/vnd.jupyter.widget-state+json": {
    "state": {
     "1fe798dd71af454da84e7535d9b470bb": {
      "model_module": "mitosheet",
      "model_module_version": "^0.1.24",
      "model_name": "ExampleModel",
      "state": {
       "_model_module_version": "^0.1.24",
       "_view_module_version": "^0.1.24",
       "code_json": "{\"imports\": \"from mitosheet import AVG,CLEAN,CONCAT,FIND,LEFT,LEN,LOWER,MID,MULTIPLY,PROPER,RIGHT,SUBSTITUTE,SUM,TRIM,UPPER\", \"code\": [\"df1['B'] = 0\"]}",
       "column_spreadsheet_code_json": "[{\"Nums\": \"\", \"B\": \"=0\"}]",
       "df_name": "",
       "df_names": "",
       "layout": "IPY_MODEL_5cc4530554034d43afbbd740661b3ece",
       "sheet_json": "[{\"columns\": [\"Nums\", \"B\"], \"index\": [0, 1, 2], \"data\": [[1, 0], [2, 0], [3, 0]]}]",
       "user_id": "nate",
       "value": "Hello World"
      }
     },
     "270a57b7c06b4f469a60754c1d0c30ee": {
      "model_module": "mitosheet",
      "model_module_version": "^0.1.24",
      "model_name": "ExampleModel",
      "state": {
       "_model_module_version": "^0.1.24",
       "_view_module_version": "^0.1.24",
       "code_json": "{\"imports\": \"from mitosheet import AVG,CLEAN,CONCAT,FIND,LEFT,LEN,LOWER,MID,MULTIPLY,PROPER,RIGHT,SUBSTITUTE,SUM,TRIM,UPPER\", \"code\": [\"df1['C'] = AVG(df1['Nums'], df1['B'])\"]}",
       "column_spreadsheet_code_json": "[{\"Nums\": \"\", \"B\": \"\", \"C\": \"=avg(Nums, B)\"}]",
       "df_name": "",
       "df_names": "",
       "layout": "IPY_MODEL_eb493bc4397c476a839d664ad8fa9e73",
       "sheet_json": "[{\"columns\": [\"Nums\", \"B\", \"C\"], \"index\": [0, 1, 2], \"data\": [[1, 0, 0.5], [2, 0, 1.0], [3, 0, 1.5]]}]",
       "user_id": "nate",
       "value": "Hello World"
      }
     },
     "5cc4530554034d43afbbd740661b3ece": {
      "model_module": "@jupyter-widgets/base",
      "model_module_version": "1.2.0",
      "model_name": "LayoutModel",
      "state": {}
     },
     "9420017f934640348169b1988d876565": {
      "model_module": "mitosheet",
      "model_module_version": "^0.1.24",
      "model_name": "ExampleModel",
      "state": {
       "_model_module_version": "^0.1.24",
       "_view_module_version": "^0.1.24",
       "code_json": "{\"imports\": \"from mitosheet import AVG,CLEAN,CONCAT,FIND,LEFT,LEN,LOWER,MID,MULTIPLY,PROPER,RIGHT,SUBSTITUTE,SUM,TRIM,UPPER\", \"code\": [\"# Edit the sheet to create the analysis!\", \"pass\"]}",
       "column_spreadsheet_code_json": "[{\"Nums\": \"\", \"B\": \"=0\"}]",
       "df_name": "",
       "df_names": "{\"dfNames\":[\"df\"]}",
       "layout": "IPY_MODEL_a3d56382d8904ed3861f61f6e77d27dd",
       "sheet_json": "[{\"columns\": [\"Nums\", \"B\"], \"index\": [0, 1, 2], \"data\": [[1, 0], [2, 0], [3, 0]]}]",
       "user_id": "nate",
       "value": "Hello World"
      }
     },
     "a3d56382d8904ed3861f61f6e77d27dd": {
      "model_module": "@jupyter-widgets/base",
      "model_module_version": "1.2.0",
      "model_name": "LayoutModel",
      "state": {}
     },
     "c12c0ab704e54a0bbd690e9bc42fb129": {
      "model_module": "@jupyter-widgets/base",
      "model_module_version": "1.2.0",
      "model_name": "LayoutModel",
      "state": {}
     },
     "c4228c76d5814342a2dc1eff4fcbf61a": {
      "model_module": "mitosheet",
      "model_module_version": "^0.1.24",
      "model_name": "ExampleModel",
      "state": {
       "_model_module_version": "^0.1.24",
       "_view_module_version": "^0.1.24",
       "code_json": "{\"imports\": \"from mitosheet import AVG,CLEAN,CONCAT,FIND,LEFT,LEN,LOWER,MID,MULTIPLY,PROPER,RIGHT,SUBSTITUTE,SUM,TRIM,UPPER\", \"code\": [\"# Edit the sheet to create the analysis!\", \"pass\"]}",
       "column_spreadsheet_code_json": "[{\"Nums\": \"\", \"C\": \"\"}]",
       "df_name": "",
       "df_names": "",
       "layout": "IPY_MODEL_c12c0ab704e54a0bbd690e9bc42fb129",
       "sheet_json": "[{\"columns\": [\"Nums\", \"C\"], \"index\": [0, 1, 2], \"data\": [[1, 1.0], [2, 2.0], [3, 3.0]]}]",
       "user_id": "nate",
       "value": "Hello World"
      }
     },
     "eb493bc4397c476a839d664ad8fa9e73": {
      "model_module": "@jupyter-widgets/base",
      "model_module_version": "1.2.0",
      "model_name": "LayoutModel",
      "state": {}
     }
    },
    "version_major": 2,
    "version_minor": 0
   }
  }
 },
 "nbformat": 4,
 "nbformat_minor": 4
}
