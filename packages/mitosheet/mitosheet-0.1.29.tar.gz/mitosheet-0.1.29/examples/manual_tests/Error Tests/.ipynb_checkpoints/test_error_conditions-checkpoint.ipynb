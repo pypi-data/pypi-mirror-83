{
 "cells": [
  {
   "cell_type": "code",
   "execution_count": null,
   "metadata": {},
   "outputs": [],
   "source": [
    "\"\"\"\n",
    "This file should test some common error conditions,\n",
    "and make sure mito can detect and handle them.\n",
    "\n",
    "Instructions:\n",
    "- Run this cell. \n",
    "- Make a new column.\n",
    "- Reference cell A1 instead of A, get an error correcting this. \n",
    "- Reference column B, get a circular reference error. \n",
    "- Write =FUNC(A), get a function does not exist error.\n",
    "- Write =SUM(C), get a column does not exist error.\n",
    "\"\"\"\n",
    "import mitosheet\n",
    "import pandas as pd\n",
    "\n",
    "df = pd.DataFrame(data={'A': [\"Jake Diamond-Revich\", \"Aaron Diamond-Reivich\", \"Nate Rush\"]})\n",
    "mitosheet.sheet(df)"
   ]
  }
 ],
 "metadata": {
  "kernelspec": {
   "display_name": "Python 3",
   "language": "python",
   "name": "python3"
  },
  "language_info": {
   "codemirror_mode": {
    "name": "ipython",
    "version": 3
   },
   "file_extension": ".py",
   "mimetype": "text/x-python",
   "name": "python",
   "nbconvert_exporter": "python",
   "pygments_lexer": "ipython3",
   "version": "3.8.5"
  },
  "widgets": {
   "application/vnd.jupyter.widget-state+json": {
    "state": {
     "1a4a877dc6fc4c35b4a4ee01623612b8": {
      "model_module": "@jupyter-widgets/base",
      "model_module_version": "1.2.0",
      "model_name": "LayoutModel",
      "state": {}
     },
     "5c30c6d9c7a74f3da18a81e75b6e327b": {
      "model_module": "mitosheet",
      "model_module_version": "^0.1.21",
      "model_name": "ExampleModel",
      "state": {
       "_model_module_version": "^0.1.21",
       "_view_module_version": "^0.1.21",
       "code_json": "{\"code\": \"0\"}",
       "column_spreadsheet_code_json": "{\"A\": \"\"}",
       "df_name": "df",
       "layout": "IPY_MODEL_1a4a877dc6fc4c35b4a4ee01623612b8",
       "sheet_json": "{\"columns\": [\"A\"], \"index\": [0, 1, 2], \"data\": [[\"Jake Diamond-Revich\"], [\"Aaron Diamond-Reivich\"], [\"Nate Rush\"]]}",
       "user_id": "nate",
       "value": "Hello World"
      }
     }
    },
    "version_major": 2,
    "version_minor": 0
   }
  }
 },
 "nbformat": 4,
 "nbformat_minor": 4
}
