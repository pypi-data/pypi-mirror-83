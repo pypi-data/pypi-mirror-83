{
 "cells": [
  {
   "cell_type": "code",
   "execution_count": null,
   "metadata": {},
   "outputs": [],
   "source": [
    "\"\"\"\n",
    "This file tests some basic interactions with mito, including editing the sheet\n",
    "and repeating the analysis.\n",
    "\n",
    "Instructions:\n",
    "1. Run this cell.\n",
    "2. Add a column, and set it equal to =SUM(Nums, 100)\n",
    "3. Check the values are correctly computed [101, 102, 103].\n",
    "4. Click the Rerun analysis button, and rerun the analysis on Nums.csv.\n",
    "5. Make sure the nums are [3, 4, 5] and B is [104, 105, 106].\n",
    "\"\"\"\n",
    "import mitosheet\n",
    "import pandas as pd\n",
    "df = pd.DataFrame(data={'Nums': [1, 2, 3]})\n",
    "mitosheet.sheet(df)"
   ]
  }
 ],
 "metadata": {
  "kernelspec": {
   "display_name": "Python 3",
   "language": "python",
   "name": "python3"
  },
  "language_info": {
   "codemirror_mode": {
    "name": "ipython",
    "version": 3
   },
   "file_extension": ".py",
   "mimetype": "text/x-python",
   "name": "python",
   "nbconvert_exporter": "python",
   "pygments_lexer": "ipython3",
   "version": "3.8.5"
  },
  "widgets": {
   "application/vnd.jupyter.widget-state+json": {
    "state": {},
    "version_major": 2,
    "version_minor": 0
   }
  }
 },
 "nbformat": 4,
 "nbformat_minor": 4
}
