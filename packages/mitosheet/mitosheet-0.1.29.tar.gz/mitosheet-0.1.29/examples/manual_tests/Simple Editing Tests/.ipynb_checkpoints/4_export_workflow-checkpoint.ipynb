{
 "cells": [
  {
   "cell_type": "code",
   "execution_count": null,
   "metadata": {},
   "outputs": [],
   "source": [
    "\"\"\"\n",
    "This file tests some basic interactions with mito: a workflow ending in an export.\n",
    "\n",
    "Instructions:\n",
    "- Run this cell. \n",
    "- Add three new columns, and set them equal to =Str, =Int, and =Float respectively.\n",
    "- Click the export button. \n",
    "- Open the exported CSV in Excel, and make sure the data exported correctly (all columns should be replicated!).\n",
    "\"\"\"\n",
    "import mitosheet\n",
    "import pandas as pd\n",
    "df = pd.DataFrame(data={'Str': ['Hi', 'Aaron'], 'Int': [1, 2], 'Float': [1.2, 2.1]})\n",
    "mitosheet.sheet(df)"
   ]
  }
 ],
 "metadata": {
  "kernelspec": {
   "display_name": "Python 3",
   "language": "python",
   "name": "python3"
  },
  "language_info": {
   "codemirror_mode": {
    "name": "ipython",
    "version": 3
   },
   "file_extension": ".py",
   "mimetype": "text/x-python",
   "name": "python",
   "nbconvert_exporter": "python",
   "pygments_lexer": "ipython3",
   "version": "3.8.5"
  },
  "widgets": {
   "application/vnd.jupyter.widget-state+json": {
    "state": {
     "0ba2d4cd9eaf4795a1d2c693fa934ec1": {
      "model_module": "@jupyter-widgets/base",
      "model_module_version": "1.2.0",
      "model_name": "LayoutModel",
      "state": {}
     },
     "950da3788c6a49dcb750020f99939c45": {
      "model_module": "mitosheet",
      "model_module_version": "^0.1.21",
      "model_name": "ExampleModel",
      "state": {
       "_model_module_version": "^0.1.21",
       "_view_module_version": "^0.1.21",
       "code_json": "{\"code\": \"0\"}",
       "column_spreadsheet_code_json": "{\"Str\": \"\", \"Int\": \"\", \"Float\": \"\"}",
       "df_name": "df",
       "layout": "IPY_MODEL_0ba2d4cd9eaf4795a1d2c693fa934ec1",
       "sheet_json": "{\"columns\": [\"Str\", \"Int\", \"Float\"], \"index\": [0, 1], \"data\": [[\"Hi\", 1, 1.2], [\"Aaron\", 2, 2.1]]}",
       "user_id": "nate",
       "value": "Hello World"
      }
     },
     "a4d088296c0e4f43b8168efe773d68b0": {
      "model_module": "mitosheet",
      "model_module_version": "^0.1.21",
      "model_name": "ExampleModel",
      "state": {
       "_model_module_version": "^0.1.21",
       "_view_module_version": "^0.1.21",
       "code_json": "{\"imports\": \"from mitosheet import AVG,CLEAN,CONCATENATE,FIND,LEFT,LEN,LOWER,MID,MULTIPLY,PROPER,RIGHT,SUBSTITUTE,SUM,TRIM,UPPER\", \"code\": [\"df['F'] = df['Float']\", \"df['E'] = df['Int']\", \"df['D'] = df['Str']\"]}",
       "column_spreadsheet_code_json": "{\"Str\": \"\", \"Int\": \"\", \"Float\": \"\", \"D\": \"=Str\", \"E\": \"=Int\", \"F\": \"=Float\"}",
       "df_name": "df",
       "layout": "IPY_MODEL_a7ef3f3bb52344ba88411bfc4bbb9f59",
       "sheet_json": "{\"columns\": [\"Str\", \"Int\", \"Float\", \"D\", \"E\", \"F\"], \"index\": [0, 1], \"data\": [[\"Hi\", 1, 1.2, \"Hi\", 1, 1.2], [\"Aaron\", 2, 2.1, \"Aaron\", 2, 2.1]]}",
       "user_id": "nate",
       "value": "Hello World"
      }
     },
     "a7ef3f3bb52344ba88411bfc4bbb9f59": {
      "model_module": "@jupyter-widgets/base",
      "model_module_version": "1.2.0",
      "model_name": "LayoutModel",
      "state": {}
     }
    },
    "version_major": 2,
    "version_minor": 0
   }
  }
 },
 "nbformat": 4,
 "nbformat_minor": 4
}
