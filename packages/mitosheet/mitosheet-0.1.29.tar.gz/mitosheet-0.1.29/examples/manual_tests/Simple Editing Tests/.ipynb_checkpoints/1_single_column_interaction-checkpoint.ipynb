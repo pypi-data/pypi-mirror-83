{
 "cells": [
  {
   "cell_type": "code",
   "execution_count": null,
   "metadata": {},
   "outputs": [],
   "source": [
    "\"\"\"\n",
    "This file tests some basic interactions with mito, including editing the sheet\n",
    "and repeating the analysis.\n",
    "\n",
    "Instructions:\n",
    "1. Run this cell.\n",
    "2. Add a column, and set it equal to =SUM(Nums, 100)\n",
    "3. Check the values are correctly computed [101, 102, 103].\n",
    "4. Click the Rerun analysis button, and rerun the analysis on Nums.csv.\n",
    "5. Make sure the nums are [3, 4, 5] and B is [104, 105, 106].\n",
    "\"\"\"\n",
    "import mitosheet\n",
    "import pandas as pd\n",
    "df = pd.DataFrame(data={'Nums': [1, 2, 3]})\n",
    "mitosheet.sheet(df)"
   ]
  }
 ],
 "metadata": {
  "kernelspec": {
   "display_name": "Python 3",
   "language": "python",
   "name": "python3"
  },
  "language_info": {
   "codemirror_mode": {
    "name": "ipython",
    "version": 3
   },
   "file_extension": ".py",
   "mimetype": "text/x-python",
   "name": "python",
   "nbconvert_exporter": "python",
   "pygments_lexer": "ipython3",
   "version": "3.8.5"
  },
  "widgets": {
   "application/vnd.jupyter.widget-state+json": {
    "state": {
     "16ec7c1fd2d546e5aaa8dc0d7aceb1d7": {
      "model_module": "mitosheet",
      "model_module_version": "^0.1.21",
      "model_name": "ExampleModel",
      "state": {
       "_model_module_version": "^0.1.21",
       "_view_module_version": "^0.1.21",
       "code_json": "{\"code\": \"0\"}",
       "column_spreadsheet_code_json": "{\"Nums\": \"\", \"B\": \"\"}",
       "df_name": "",
       "layout": "IPY_MODEL_ae2709adebc74610a96550108ff95202",
       "sheet_json": "{\"columns\": [\"Nums\", \"B\"], \"index\": [0, 1, 2], \"data\": [[1, 101], [2, 102], [3, 103]]}",
       "user_id": "nate",
       "value": "Hello World"
      }
     },
     "23bc414443af4c9f9178125d8db56560": {
      "model_module": "mitosheet",
      "model_module_version": "^0.1.21",
      "model_name": "ExampleModel",
      "state": {
       "_model_module_version": "^0.1.21",
       "_view_module_version": "^0.1.21",
       "code_json": "{\"imports\": \"from mitosheet import AVG,CLEAN,CONCATENATE,FIND,LEFT,LEN,LOWER,MID,MULTIPLY,PROPER,RIGHT,SUBSTITUTE,SUM,TRIM,UPPER\", \"code\": [\"df['B'] = 0\"]}",
       "column_spreadsheet_code_json": "{\"nums\": \"\", \"B\": \"=0\"}",
       "df_name": "",
       "layout": "IPY_MODEL_9e6228cf724747c48a42a6571a7c6d9d",
       "sheet_json": "{\"columns\": [\"nums\", \"B\"], \"index\": [0, 1, 2], \"data\": [[1, 0], [2, 0], [3, 0]]}",
       "user_id": "nate",
       "value": "Hello World"
      }
     },
     "3206896b991247c081a20f5c55c01c2f": {
      "model_module": "@jupyter-widgets/base",
      "model_module_version": "1.2.0",
      "model_name": "LayoutModel",
      "state": {}
     },
     "348635231fa14e808fa58b7e84913e4b": {
      "model_module": "mitosheet",
      "model_module_version": "^0.1.21",
      "model_name": "ExampleModel",
      "state": {
       "_model_module_version": "^0.1.21",
       "_view_module_version": "^0.1.21",
       "code_json": "",
       "column_spreadsheet_code_json": "",
       "df_name": "",
       "layout": "IPY_MODEL_e7008db739b94a2da691852c5e435c12",
       "sheet_json": "",
       "user_id": "nate",
       "value": "Hello World"
      }
     },
     "378ace9031d4413d9b7cd208b1e45a6f": {
      "model_module": "mitosheet",
      "model_module_version": "^0.1.21",
      "model_name": "ExampleModel",
      "state": {
       "_model_module_version": "^0.1.21",
       "_view_module_version": "^0.1.21",
       "code_json": "{\"code\": \"0\"}",
       "column_spreadsheet_code_json": "{\"Nums\": \"\", \"B\": \"\"}",
       "df_name": "",
       "layout": "IPY_MODEL_601be2a5d675447996341e678887ecfc",
       "sheet_json": "{\"columns\": [\"Nums\", \"B\"], \"index\": [0, 1, 2], \"data\": [[4, 0], [5, 0], [6, 0]]}",
       "user_id": "nate",
       "value": "Hello World"
      }
     },
     "4cb401c5ece541948600f9941fb17407": {
      "model_module": "@jupyter-widgets/base",
      "model_module_version": "1.2.0",
      "model_name": "LayoutModel",
      "state": {}
     },
     "52488734d717484aa7697786c5e126c6": {
      "model_module": "@jupyter-widgets/base",
      "model_module_version": "1.2.0",
      "model_name": "LayoutModel",
      "state": {}
     },
     "5c29311401904d7fa522b31cc0a70b9f": {
      "model_module": "mitosheet",
      "model_module_version": "^0.1.21",
      "model_name": "ExampleModel",
      "state": {
       "_model_module_version": "^0.1.21",
       "_view_module_version": "^0.1.21",
       "code_json": "{\"code\": \"0\"}",
       "column_spreadsheet_code_json": "{\"Nums\": \"\", \"B\": \"\"}",
       "df_name": "",
       "layout": "IPY_MODEL_4cb401c5ece541948600f9941fb17407",
       "sheet_json": "{\"columns\": [\"Nums\", \"B\"], \"index\": [0, 1, 2], \"data\": [[4, 104], [5, 105], [6, 106]]}",
       "user_id": "nate",
       "value": "Hello World"
      }
     },
     "601be2a5d675447996341e678887ecfc": {
      "model_module": "@jupyter-widgets/base",
      "model_module_version": "1.2.0",
      "model_name": "LayoutModel",
      "state": {}
     },
     "696837ecff3341f397e0b8102c03cc0d": {
      "model_module": "@jupyter-widgets/base",
      "model_module_version": "1.2.0",
      "model_name": "LayoutModel",
      "state": {}
     },
     "991fa05814464c398a34bb9b9e5b65f7": {
      "model_module": "mitosheet",
      "model_module_version": "^0.1.21",
      "model_name": "ExampleModel",
      "state": {
       "_model_module_version": "^0.1.21",
       "_view_module_version": "^0.1.21",
       "code_json": "{\"code\": \"0\"}",
       "column_spreadsheet_code_json": "{\"Nums\": \"\"}",
       "df_name": "",
       "layout": "IPY_MODEL_f2c3281b1deb4cbbad16ed8dcc57072c",
       "sheet_json": "{\"columns\": [\"Nums\"], \"index\": [0, 1, 2], \"data\": [[1], [2], [3]]}",
       "user_id": "nate",
       "value": "Hello World"
      }
     },
     "9c00ef1aec584759858a2e64ad45da8b": {
      "model_module": "@jupyter-widgets/base",
      "model_module_version": "1.2.0",
      "model_name": "LayoutModel",
      "state": {}
     },
     "9e6228cf724747c48a42a6571a7c6d9d": {
      "model_module": "@jupyter-widgets/base",
      "model_module_version": "1.2.0",
      "model_name": "LayoutModel",
      "state": {}
     },
     "ae2709adebc74610a96550108ff95202": {
      "model_module": "@jupyter-widgets/base",
      "model_module_version": "1.2.0",
      "model_name": "LayoutModel",
      "state": {}
     },
     "c9f0785ef69d4b878633494b6c13b28b": {
      "model_module": "mitosheet",
      "model_module_version": "^0.1.21",
      "model_name": "ExampleModel",
      "state": {
       "_model_module_version": "^0.1.21",
       "_view_module_version": "^0.1.21",
       "code_json": "{\"imports\": \"from mitosheet import AVG,CLEAN,CONCATENATE,FIND,LEFT,LEN,LOWER,MID,MULTIPLY,PROPER,RIGHT,SUBSTITUTE,SUM,TRIM,UPPER\", \"code\": [\"df['B'] = SUM(df['Nums'], 100)\"]}",
       "column_spreadsheet_code_json": "{\"Nums\": \"\", \"B\": \"=SUM(Nums, 100)\"}",
       "df_name": "",
       "layout": "IPY_MODEL_3206896b991247c081a20f5c55c01c2f",
       "sheet_json": "{\"columns\": [\"Nums\", \"B\"], \"index\": [0, 1, 2], \"data\": [[1, 101], [2, 102], [3, 103]]}",
       "user_id": "nate",
       "value": "Hello World"
      }
     },
     "caa5a34680c24651a6f98ab511ddf8e5": {
      "model_module": "mitosheet",
      "model_module_version": "^0.1.21",
      "model_name": "ExampleModel",
      "state": {
       "_model_module_version": "^0.1.21",
       "_view_module_version": "^0.1.21",
       "code_json": "",
       "column_spreadsheet_code_json": "",
       "df_name": "",
       "layout": "IPY_MODEL_52488734d717484aa7697786c5e126c6",
       "sheet_json": "",
       "user_id": "nate",
       "value": "Hello World"
      }
     },
     "ccb667a452ab4021b5dc5793ec929983": {
      "model_module": "mitosheet",
      "model_module_version": "^0.1.21",
      "model_name": "ExampleModel",
      "state": {
       "_model_module_version": "^0.1.21",
       "_view_module_version": "^0.1.21",
       "code_json": "{\"imports\": \"from mitosheet import AVG,CLEAN,CONCATENATE,FIND,LEFT,LEN,LOWER,MID,MULTIPLY,PROPER,RIGHT,SUBSTITUTE,SUM,TRIM,UPPER\", \"code\": [\"df['B'] = SUM(df['Nums'], 100)\"]}",
       "column_spreadsheet_code_json": "{\"Nums\": \"\", \"B\": \"=SUM(Nums, 100)\"}",
       "df_name": "",
       "layout": "IPY_MODEL_696837ecff3341f397e0b8102c03cc0d",
       "sheet_json": "{\"columns\": [\"Nums\", \"B\"], \"index\": [0, 1, 2], \"data\": [[1, 101], [2, 102], [3, 103]]}",
       "user_id": "nate",
       "value": "Hello World"
      }
     },
     "e7008db739b94a2da691852c5e435c12": {
      "model_module": "@jupyter-widgets/base",
      "model_module_version": "1.2.0",
      "model_name": "LayoutModel",
      "state": {}
     },
     "e7c9d37f43cb45f1b01accac113e964a": {
      "model_module": "mitosheet",
      "model_module_version": "^0.1.21",
      "model_name": "ExampleModel",
      "state": {
       "_model_module_version": "^0.1.21",
       "_view_module_version": "^0.1.21",
       "code_json": "{\"code\": \"0\"}",
       "column_spreadsheet_code_json": "{\"Nums\": \"\", \"B\": \"\"}",
       "df_name": "",
       "layout": "IPY_MODEL_9c00ef1aec584759858a2e64ad45da8b",
       "sheet_json": "{\"columns\": [\"Nums\", \"B\"], \"index\": [0, 1, 2], \"data\": [[1, 101], [2, 102], [3, 103]]}",
       "user_id": "nate",
       "value": "Hello World"
      }
     },
     "f2c3281b1deb4cbbad16ed8dcc57072c": {
      "model_module": "@jupyter-widgets/base",
      "model_module_version": "1.2.0",
      "model_name": "LayoutModel",
      "state": {}
     }
    },
    "version_major": 2,
    "version_minor": 0
   }
  }
 },
 "nbformat": 4,
 "nbformat_minor": 4
}
