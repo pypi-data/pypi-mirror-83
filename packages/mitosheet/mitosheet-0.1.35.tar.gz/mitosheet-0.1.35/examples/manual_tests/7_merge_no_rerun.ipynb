{
 "cells": [
  {
   "cell_type": "code",
   "execution_count": 2,
   "metadata": {},
   "outputs": [
    {
     "data": {
      "application/vnd.jupyter.widget-view+json": {
       "model_id": "209639df262d4d57b62c578fa9000549",
       "version_major": 2,
       "version_minor": 0
      },
      "text/plain": [
       "MitoWidget(code_json='{\"imports\": \"from mitosheet import AVG,CLEAN,CONCAT,FIND,LEFT,LEN,LOWER,MID,MULTIPLY,PRO…"
      ]
     },
     "metadata": {},
     "output_type": "display_data"
    }
   ],
   "source": [
    "\"\"\"\n",
    "This file tests where mulitple mito instances exist in the same workbook, \n",
    "and we merge them together (sucessfully!)\n",
    "\n",
    "Instructions:\n",
    "1. Run this cell.\n",
    "2. Make sure you can switch between sheets.\n",
    "3. Use the merge modal to merge the first and last sheet. The id should appear as the default options! Merge the sheets.\n",
    "4. Go to the first sheet. Add a new column, and calculate the length of the first name. Then, calculate the length of the length of the first name.\n",
    "5. Go to the second sheet. Add a new column and make a new column that is 1 if the person is a DR, and 0 otherwise.\n",
    "6. Go to the new merged sheet, and use any functions necessary to get each name in the format:\n",
    "    \n",
    "        Nate R\n",
    "        \n",
    "7. Then, edit the formulas you made in the last step to the:\n",
    "\n",
    "        NATE RUSH\n",
    "        \n",
    "8. Then, rerun this cell again. Make sure you can switch between sheets and the formulas are still defined properly.\n",
    "\"\"\"\n",
    "import mitosheet\n",
    "import pandas as pd\n",
    "first = pd.DataFrame(data={'id': [1, 2, 3], 'first_name': ['nate', 'aaron', 'jake']})\n",
    "last = pd.DataFrame(data={'id': [1, 2, 3], 'last_name': ['rush', 'Diamond-Reivich', 'diamond-reivich']})\n",
    "mitosheet.sheet(first, last)"
   ]
  },
  {
   "cell_type": "code",
   "execution_count": null,
   "metadata": {},
   "outputs": [],
   "source": []
  }
 ],
 "metadata": {
  "kernelspec": {
   "display_name": "Python 3",
   "language": "python",
   "name": "python3"
  },
  "language_info": {
   "codemirror_mode": {
    "name": "ipython",
    "version": 3
   },
   "file_extension": ".py",
   "mimetype": "text/x-python",
   "name": "python",
   "nbconvert_exporter": "python",
   "pygments_lexer": "ipython3",
   "version": "3.8.5"
  },
  "widgets": {
   "application/vnd.jupyter.widget-state+json": {
    "state": {
     "0efbbfb730ff437d9b1119d0174d2585": {
      "model_module": "mitosheet",
      "model_module_version": "^0.1.34",
      "model_name": "ExampleModel",
      "state": {
       "_model_module_version": "^0.1.34",
       "_view_module_version": "^0.1.34",
       "analysis_name": "6528d262-e205-4dc7-a2bc-24143e16376a",
       "code_json": "{\"imports\": \"from mitosheet import AVG,CLEAN,CONCAT,FIND,LEFT,LEN,LOWER,MID,MULTIPLY,PROPER,RIGHT,SUBSTITUTE,SUM,TRIM,UPPER\", \"code\": [\"# Step 1\", \"temp_df = last.drop_duplicates(subset='id')\", \"last_tmp = temp_df.drop(['last_name'], axis=1)\", \"df3 = first.merge(last_tmp, left_on=['id'], right_on=['id'], how='left', suffixes=['_first', '_last'])\"]}",
       "column_spreadsheet_code_json": "[{\"id\": \"\", \"first_name\": \"\"}, {\"id\": \"\", \"last_name\": \"\"}, {\"id\": \"\", \"first_name\": \"\"}]",
       "df_names_json": "{\"df_names\": [\"first\", \"last\"]}",
       "layout": "IPY_MODEL_3db99c378c8048abbde9dcd3bff98436",
       "sheet_json": "[{\"columns\": [\"id\", \"first_name\"], \"index\": [0, 1, 2], \"data\": [[1, \"nate\"], [2, \"aaron\"], [3, \"jake\"]]}, {\"columns\": [\"id\", \"last_name\"], \"index\": [0, 1, 2], \"data\": [[1, \"rush\"], [2, \"Diamond-Reivich\"], [3, \"diamond-reivich\"]]}, {\"columns\": [\"id\", \"first_name\"], \"index\": [0, 1, 2], \"data\": [[1, \"nate\"], [2, \"aaron\"], [3, \"jake\"]]}]",
       "user_id": "nate",
       "value": "Hello World"
      }
     },
     "209639df262d4d57b62c578fa9000549": {
      "model_module": "mitosheet",
      "model_module_version": "^0.1.34",
      "model_name": "ExampleModel",
      "state": {
       "_model_module_version": "^0.1.34",
       "_view_module_version": "^0.1.34",
       "analysis_name": "deb16edc-87ef-404e-a719-6c8eeba5b990",
       "code_json": "{\"imports\": \"from mitosheet import AVG,CLEAN,CONCAT,FIND,LEFT,LEN,LOWER,MID,MULTIPLY,PROPER,RIGHT,SUBSTITUTE,SUM,TRIM,UPPER\", \"code\": []}",
       "column_spreadsheet_code_json": "[{\"id\": \"\", \"first_name\": \"\"}, {\"id\": \"\", \"last_name\": \"\"}]",
       "df_names_json": "{\"df_names\": [\"first\", \"last\"]}",
       "layout": "IPY_MODEL_5dc051f9d12d46f3bcfdb17c71ec3376",
       "sheet_json": "[{\"columns\": [\"id\", \"first_name\"], \"index\": [0, 1, 2], \"data\": [[1, \"nate\"], [2, \"aaron\"], [3, \"jake\"]]}, {\"columns\": [\"id\", \"last_name\"], \"index\": [0, 1, 2], \"data\": [[1, \"rush\"], [2, \"Diamond-Reivich\"], [3, \"diamond-reivich\"]]}]",
       "user_id": "nate",
       "value": "Hello World"
      }
     },
     "3db99c378c8048abbde9dcd3bff98436": {
      "model_module": "@jupyter-widgets/base",
      "model_module_version": "1.2.0",
      "model_name": "LayoutModel",
      "state": {}
     },
     "5dc051f9d12d46f3bcfdb17c71ec3376": {
      "model_module": "@jupyter-widgets/base",
      "model_module_version": "1.2.0",
      "model_name": "LayoutModel",
      "state": {}
     }
    },
    "version_major": 2,
    "version_minor": 0
   }
  }
 },
 "nbformat": 4,
 "nbformat_minor": 4
}
