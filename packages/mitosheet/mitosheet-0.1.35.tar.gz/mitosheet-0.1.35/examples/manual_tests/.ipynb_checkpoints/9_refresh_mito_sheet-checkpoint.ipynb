{
 "cells": [
  {
   "cell_type": "code",
   "execution_count": 2,
   "metadata": {},
   "outputs": [
    {
     "data": {
      "application/vnd.jupyter.widget-view+json": {
       "model_id": "d468f5ca9916497b95ae4d0b91493189",
       "version_major": 2,
       "version_minor": 0
      },
      "text/plain": [
       "MitoWidget(code_json='{\"imports\": \"from mitosheet import AVG,CLEAN,CONCAT,FIND,LEFT,LEN,LOWER,MID,MULTIPLY,PRO…"
      ]
     },
     "metadata": {},
     "output_type": "display_data"
    }
   ],
   "source": [
    "\"\"\"\n",
    "This file tests some complex analysis with Mito, where mulitple mito instances\n",
    "exist in the same workbook. \n",
    "\n",
    "Instructions:\n",
    "1. Run this cell. Save the workbook.\n",
    "2. Refresh the page. Make sure the mito sheet reappears.\n",
    "3. Add a column, and set it to = Nums + 1.\n",
    "4. Check the values are correct, and that sheet tab has the correct data frame name at the bottom.\n",
    "5. Update the formula in B to = Nums + 2, and check it updates the sheet and codeblock correctly.  \n",
    "\"\"\"\n",
    "import mitosheet\n",
    "import pandas as pd\n",
    "df = pd.DataFrame(data={'Nums': [1, 2, 3]})\n",
    "mitosheet.sheet(df)"
   ]
  },
  {
   "cell_type": "code",
   "execution_count": null,
   "metadata": {},
   "outputs": [],
   "source": []
  }
 ],
 "metadata": {
  "kernelspec": {
   "display_name": "Python 3",
   "language": "python",
   "name": "python3"
  },
  "language_info": {
   "codemirror_mode": {
    "name": "ipython",
    "version": 3
   },
   "file_extension": ".py",
   "mimetype": "text/x-python",
   "name": "python",
   "nbconvert_exporter": "python",
   "pygments_lexer": "ipython3",
   "version": "3.8.5"
  },
  "widgets": {
   "application/vnd.jupyter.widget-state+json": {
    "state": {
     "0398c7ea0980427c9bac9f88c30d1b18": {
      "model_module": "mitosheet",
      "model_module_version": "^0.1.29",
      "model_name": "ExampleModel",
      "state": {
       "_model_module_version": "^0.1.29",
       "_view_module_version": "^0.1.29",
       "analysis_name": "d550ff6c-e862-461a-a040-88cc59747692",
       "code_json": "{\"imports\": \"from mitosheet import AVG,CLEAN,CONCAT,FIND,LEFT,LEN,LOWER,MID,MULTIPLY,PROPER,RIGHT,SUBSTITUTE,SUM,TRIM,UPPER\", \"code\": []}",
       "column_spreadsheet_code_json": "[{\"Nums\": \"\"}]",
       "df_names_json": "{\"df_names\": [\"df\"]}",
       "layout": "IPY_MODEL_928f9efdb38144a98a6084989e917ba4",
       "sheet_json": "[{\"columns\": [\"Nums\"], \"index\": [0, 1, 2], \"data\": [[1], [2], [3]]}]",
       "user_id": "nate",
       "value": "Hello World"
      }
     },
     "928f9efdb38144a98a6084989e917ba4": {
      "model_module": "@jupyter-widgets/base",
      "model_module_version": "1.2.0",
      "model_name": "LayoutModel",
      "state": {}
     },
     "d468f5ca9916497b95ae4d0b91493189": {
      "model_module": "mitosheet",
      "model_module_version": "^0.1.29",
      "model_name": "ExampleModel",
      "state": {
       "_model_module_version": "^0.1.29",
       "_view_module_version": "^0.1.29",
       "analysis_name": "e0453151-3d99-4268-85fb-8486b257b2c3",
       "code_json": "{\"imports\": \"from mitosheet import AVG,CLEAN,CONCAT,FIND,LEFT,LEN,LOWER,MID,MULTIPLY,PROPER,RIGHT,SUBSTITUTE,SUM,TRIM,UPPER\", \"code\": []}",
       "column_spreadsheet_code_json": "[{\"Nums\": \"\"}]",
       "df_names_json": "{\"df_names\": [\"df1\", \"df2\"]}",
       "layout": "IPY_MODEL_efa0b5562ab94c518642fcd0025b22e6",
       "sheet_json": "[{\"columns\": [\"Nums\"], \"index\": [0, 1, 2], \"data\": [[1], [2], [3]]}]",
       "user_id": "nate",
       "value": "Hello World"
      }
     },
     "efa0b5562ab94c518642fcd0025b22e6": {
      "model_module": "@jupyter-widgets/base",
      "model_module_version": "1.2.0",
      "model_name": "LayoutModel",
      "state": {}
     }
    },
    "version_major": 2,
    "version_minor": 0
   }
  }
 },
 "nbformat": 4,
 "nbformat_minor": 4
}
