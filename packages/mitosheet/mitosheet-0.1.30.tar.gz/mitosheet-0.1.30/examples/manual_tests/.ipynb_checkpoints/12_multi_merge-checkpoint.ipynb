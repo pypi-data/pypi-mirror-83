{
 "cells": [
  {
   "cell_type": "code",
   "execution_count": null,
   "metadata": {},
   "outputs": [],
   "source": [
    "\"\"\"\n",
    "This file should test merging mulitple times. \n",
    "\n",
    "Instructions:\n",
    "- Run this cell. \n",
    "- Merge df1, df2 on Key1, Key2 to generate df3.\n",
    "- Merge df1, df3 on Key1, Key2 to generate df4.\n",
    "- Run the generated code below, and then print out df4, and make sure it is the same as the sheet.\n",
    "\"\"\"\n",
    "import pandas as pd\n",
    "import mitosheet\n",
    "df1 = pd.DataFrame(data={'Key1': ['A', 'B', 'C', 'D'], 'value': [1,2,3,4]})\n",
    "df2 = pd.DataFrame(data={'Key2': ['A', 'A', 'B', 'B'], 'value': [5,6,7,8]})\n",
    "mitosheet.sheet(df1, df2)"
   ]
  }
 ],
 "metadata": {
  "kernelspec": {
   "display_name": "Python 3",
   "language": "python",
   "name": "python3"
  },
  "language_info": {
   "codemirror_mode": {
    "name": "ipython",
    "version": 3
   },
   "file_extension": ".py",
   "mimetype": "text/x-python",
   "name": "python",
   "nbconvert_exporter": "python",
   "pygments_lexer": "ipython3",
   "version": "3.8.5"
  },
  "widgets": {
   "application/vnd.jupyter.widget-state+json": {
    "state": {
     "ada84ee04b0d44cb9aa516dc867a76c9": {
      "model_module": "@jupyter-widgets/base",
      "model_module_version": "1.2.0",
      "model_name": "LayoutModel",
      "state": {}
     },
     "f312b382fb78420a88f6ef88fcb35473": {
      "model_module": "mitosheet",
      "model_module_version": "^0.1.29",
      "model_name": "ExampleModel",
      "state": {
       "_model_module_version": "^0.1.29",
       "_view_module_version": "^0.1.29",
       "analysis_name": "7e76a68a-a636-4643-87ec-62ab0552bc29",
       "code_json": "{\"imports\": \"from mitosheet import AVG,CLEAN,CONCAT,FIND,LEFT,LEN,LOWER,MID,MULTIPLY,PROPER,RIGHT,SUBSTITUTE,SUM,TRIM,UPPER\", \"code\": [\"# Step 1\", \"temp_df = df2.drop_duplicates(subset='Key2')\", \"df3 = df1.merge(temp_df, left_on=['Key1'], right_on=['Key2'], how='left')\"]}",
       "column_spreadsheet_code_json": "[{\"Key1\": \"\", \"value\": \"\"}, {\"Key2\": \"\", \"value\": \"\"}, {\"Key1\": \"\", \"value_x\": \"\", \"Key2\": \"\", \"value_y\": \"\"}]",
       "df_names_json": "{\"df_names\": [\"df1\", \"df2\"]}",
       "layout": "IPY_MODEL_ada84ee04b0d44cb9aa516dc867a76c9",
       "sheet_json": "[{\"columns\": [\"Key1\", \"value\"], \"index\": [0, 1, 2, 3], \"data\": [[\"A\", 1], [\"B\", 2], [\"C\", 3], [\"D\", 4]]}, {\"columns\": [\"Key2\", \"value\"], \"index\": [0, 1, 2, 3], \"data\": [[\"A\", 5], [\"A\", 6], [\"B\", 7], [\"B\", 8]]}, {\"columns\": [\"Key1\", \"value_x\", \"Key2\", \"value_y\"], \"index\": [0, 1, 2, 3], \"data\": [[\"A\", 1, \"A\", 5.0], [\"B\", 2, \"B\", 7.0], [\"C\", 3, \"undefined\", \"undefined\"], [\"D\", 4, \"undefined\", \"undefined\"]]}]",
       "user_id": "nate",
       "value": "Hello World"
      }
     }
    },
    "version_major": 2,
    "version_minor": 0
   }
  }
 },
 "nbformat": 4,
 "nbformat_minor": 4
}
