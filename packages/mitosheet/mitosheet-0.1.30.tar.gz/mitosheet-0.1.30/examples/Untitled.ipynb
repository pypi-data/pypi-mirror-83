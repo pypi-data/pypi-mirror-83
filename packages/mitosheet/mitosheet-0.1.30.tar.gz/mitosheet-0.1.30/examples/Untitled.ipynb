{
 "cells": [
  {
   "cell_type": "code",
   "execution_count": 33,
   "metadata": {},
   "outputs": [
    {
     "data": {
      "application/vnd.jupyter.widget-view+json": {
       "model_id": "4d3050bf7be242119c823257a756923a",
       "version_major": 2,
       "version_minor": 0
      },
      "text/plain": [
       "MitoWidget(code_json='{\"imports\": \"from mitosheet import AVG,CLEAN,CONCAT,FIND,LEFT,LEN,LOWER,MID,MULTIPLY,PRO…"
      ]
     },
     "metadata": {},
     "output_type": "display_data"
    }
   ],
   "source": [
    "import mitosheet\n",
    "import pandas as pd\n",
    "df = pd.DataFrame(data={'A': [123]})\n",
    "mitosheet.sheet(df)"
   ]
  },
  {
   "cell_type": "code",
   "execution_count": null,
   "metadata": {},
   "outputs": [],
   "source": [
    "# MITO CODE START (DO NOT EDIT)\n",
    "# SAVED-ANALYSIS-STARTf6e72ff6-bdfc-401e-86cf-a2a04b382863SAVED-ANALYSIS-END\n",
    "\n",
    "from mitosheet import *\n",
    "\n",
    "# Step 1\n",
    "\n",
    "df['B'] = df['A'] + 100\n",
    "\n",
    "df['C'] = df['B'] *2\n",
    "\n",
    "df['D'] = df['C'] + 10\n",
    "\n",
    "# Step 2\n",
    "\n",
    "temp_df = df.drop_duplicates(subset='A')\n",
    "\n",
    "df2 = df.merge(df, left_on=['A'], right_on=['A'], how='left')\n",
    "\n",
    "# Step 3\n",
    "\n",
    "df['B'] = df['A'] + 100\n",
    "\n",
    "df['C'] = df['B'] *2\n",
    "\n",
    "df['D'] = df['C'] + 10\n",
    "  \n",
    "# MITO CODE END (DO NOT EDIT)"
   ]
  }
 ],
 "metadata": {
  "kernelspec": {
   "display_name": "Python 3",
   "language": "python",
   "name": "python3"
  },
  "language_info": {
   "codemirror_mode": {
    "name": "ipython",
    "version": 3
   },
   "file_extension": ".py",
   "mimetype": "text/x-python",
   "name": "python",
   "nbconvert_exporter": "python",
   "pygments_lexer": "ipython3",
   "version": "3.8.5"
  },
  "widgets": {
   "application/vnd.jupyter.widget-state+json": {
    "state": {
     "05bf25ec46334f3898a0a9133ebf520b": {
      "model_module": "mitosheet",
      "model_module_version": "^0.1.28",
      "model_name": "ExampleModel",
      "state": {
       "_model_module_version": "^0.1.28",
       "_view_module_version": "^0.1.28",
       "analysis_name": "08fd8eb9-848a-4b7a-8f44-cb39fd61dce6",
       "code_json": "{\"imports\": \"from mitosheet import AVG,CLEAN,CONCAT,FIND,LEFT,LEN,LOWER,MID,MULTIPLY,PROPER,RIGHT,SUBSTITUTE,SUM,TRIM,UPPER\", \"code\": []}",
       "column_spreadsheet_code_json": "[{\"A\": \"\"}]",
       "df_names_json": "{\"df_names\": [\"df\"]}",
       "layout": "IPY_MODEL_5a21ee8117b34aa49374ed78c1c864b1",
       "sheet_json": "[{\"columns\": [\"A\"], \"index\": [0], \"data\": [[123]]}]",
       "user_id": "nate",
       "value": "Hello World"
      }
     },
     "07494b00ddae46b592d6f4326d483249": {
      "model_module": "mitosheet",
      "model_module_version": "^0.1.28",
      "model_name": "ExampleModel",
      "state": {
       "_model_module_version": "^0.1.28",
       "_view_module_version": "^0.1.28",
       "analysis_name": "d84331e5-bc0b-4780-834c-4ee9e4646736",
       "code_json": "{\"imports\": \"from mitosheet import AVG,CLEAN,CONCAT,FIND,LEFT,LEN,LOWER,MID,MULTIPLY,PROPER,RIGHT,SUBSTITUTE,SUM,TRIM,UPPER\", \"code\": []}",
       "column_spreadsheet_code_json": "[{\"A\": \"\"}]",
       "df_names_json": "{\"df_names\": [\"df\"]}",
       "layout": "IPY_MODEL_0f709545ef964bca93279c958255ee18",
       "sheet_json": "[{\"columns\": [\"A\"], \"index\": [0], \"data\": [[123]]}]",
       "user_id": "nate",
       "value": "Hello World"
      }
     },
     "0aa9831f65e249f98ebfab3e1d979e8c": {
      "model_module": "@jupyter-widgets/base",
      "model_module_version": "1.2.0",
      "model_name": "LayoutModel",
      "state": {}
     },
     "0b87dc6fac8b4c01baab6100d3a2b817": {
      "model_module": "mitosheet",
      "model_module_version": "^0.1.28",
      "model_name": "ExampleModel",
      "state": {
       "_model_module_version": "^0.1.28",
       "_view_module_version": "^0.1.28",
       "analysis_name": "71014be4-69c4-486c-a33a-3a43e3e9bea3",
       "code_json": "{\"imports\": \"from mitosheet import AVG,CLEAN,CONCAT,FIND,LEFT,LEN,LOWER,MID,MULTIPLY,PROPER,RIGHT,SUBSTITUTE,SUM,TRIM,UPPER\", \"code\": [\"# Step 1\", \"df['B'] = df['A'] + 100\", \"df['C'] = df['B'] *2\"]}",
       "column_spreadsheet_code_json": "[{\"A\": \"\", \"B\": \"=A + 100\", \"C\": \"=B *2\"}]",
       "df_names_json": "{\"df_names\": [\"df\"]}",
       "layout": "IPY_MODEL_bcb27d8a0a644791811cc9e3fd1637c9",
       "sheet_json": "[{\"columns\": [\"A\", \"B\", \"C\"], \"index\": [0], \"data\": [[123, 223, 446]]}]",
       "user_id": "nate",
       "value": "Hello World"
      }
     },
     "0f709545ef964bca93279c958255ee18": {
      "model_module": "@jupyter-widgets/base",
      "model_module_version": "1.2.0",
      "model_name": "LayoutModel",
      "state": {}
     },
     "10aa966d3a944df082847c2a3e20bb51": {
      "model_module": "mitosheet",
      "model_module_version": "^0.1.28",
      "model_name": "ExampleModel",
      "state": {
       "_model_module_version": "^0.1.28",
       "_view_module_version": "^0.1.28",
       "analysis_name": "9e5ddc6a-89b1-43cd-8a73-2742103bb10b",
       "code_json": "{\"imports\": \"from mitosheet import AVG,CLEAN,CONCAT,FIND,LEFT,LEN,LOWER,MID,MULTIPLY,PROPER,RIGHT,SUBSTITUTE,SUM,TRIM,UPPER\", \"code\": [\"# Step 1\", \"df['C'] = TRIM(100)\", \"df['D'] = df['C'] + 10\", \"df['B'] = df['C'] + 10 + 1\"]}",
       "column_spreadsheet_code_json": "[{\"A\": \"\", \"B\": \"=C + 10 + 1\", \"C\": \"=TRIM(100)\", \"D\": \"=C + 10\"}]",
       "df_names_json": "{\"df_names\": [\"df\"]}",
       "layout": "IPY_MODEL_f076dcd80781459889c3aa4bcdfecc25",
       "sheet_json": "[{\"columns\": [\"A\", \"B\", \"C\", \"D\"], \"index\": [0], \"data\": [[123, 111.0, 100.0, 110.0]]}]",
       "user_id": "nate",
       "value": "Hello World"
      }
     },
     "1166f6e5b356450aa12cac4182b89b40": {
      "model_module": "@jupyter-widgets/base",
      "model_module_version": "1.2.0",
      "model_name": "LayoutModel",
      "state": {}
     },
     "13a7e8166916433c96d9b340c7b86b9c": {
      "model_module": "@jupyter-widgets/base",
      "model_module_version": "1.2.0",
      "model_name": "LayoutModel",
      "state": {}
     },
     "1f9c328fb22049d1bca39be935cc41dc": {
      "model_module": "mitosheet",
      "model_module_version": "^0.1.28",
      "model_name": "ExampleModel",
      "state": {
       "_model_module_version": "^0.1.28",
       "_view_module_version": "^0.1.28",
       "analysis_name": "4c2cd79a-a0b6-4e96-9447-9bad80bf4718",
       "code_json": "{\"imports\": \"from mitosheet import AVG,CLEAN,CONCAT,FIND,LEFT,LEN,LOWER,MID,MULTIPLY,PROPER,RIGHT,SUBSTITUTE,SUM,TRIM,UPPER\", \"code\": [\"# Step 1\", \"df['B'] = AVG(100)\"]}",
       "column_spreadsheet_code_json": "[{\"A\": \"\", \"B\": \"=AVG(100)\"}]",
       "df_names_json": "{\"df_names\": [\"df\"]}",
       "layout": "IPY_MODEL_a89d532526504e6db5879404b14ce15c",
       "sheet_json": "[{\"columns\": [\"A\", \"B\"], \"index\": [0], \"data\": [[123, 100.0]]}]",
       "user_id": "nate",
       "value": "Hello World"
      }
     },
     "2094a056269c488d84021b964426726c": {
      "model_module": "@jupyter-widgets/base",
      "model_module_version": "1.2.0",
      "model_name": "LayoutModel",
      "state": {}
     },
     "2290cae3784b4ec283ff7cc72747c662": {
      "model_module": "@jupyter-widgets/base",
      "model_module_version": "1.2.0",
      "model_name": "LayoutModel",
      "state": {}
     },
     "274ed80e2a624330a8e559724d31dbd9": {
      "model_module": "@jupyter-widgets/base",
      "model_module_version": "1.2.0",
      "model_name": "LayoutModel",
      "state": {}
     },
     "28087aa8033a47ba89d9ca5e6f399d85": {
      "model_module": "mitosheet",
      "model_module_version": "^0.1.28",
      "model_name": "ExampleModel",
      "state": {
       "_model_module_version": "^0.1.28",
       "_view_module_version": "^0.1.28",
       "analysis_name": "46d4e422-2b59-40aa-b430-6dca84902524",
       "code_json": "{\"imports\": \"from mitosheet import AVG,CLEAN,CONCAT,FIND,LEFT,LEN,LOWER,MID,MULTIPLY,PROPER,RIGHT,SUBSTITUTE,SUM,TRIM,UPPER\", \"code\": [\"# Step 1\", \"df['B'] = df['A'] + 100\"]}",
       "column_spreadsheet_code_json": "[{\"A\": \"\", \"B\": \"=A + 100\"}]",
       "df_names_json": "{\"df_names\": [\"df\"]}",
       "layout": "IPY_MODEL_f3ec2a112ea84973874396c3d5761a82",
       "sheet_json": "[{\"columns\": [\"A\", \"B\"], \"index\": [0], \"data\": [[123, 223]]}]",
       "user_id": "nate",
       "value": "Hello World"
      }
     },
     "2831c265c60f4f33ad35535f963d5d4d": {
      "model_module": "@jupyter-widgets/base",
      "model_module_version": "1.2.0",
      "model_name": "LayoutModel",
      "state": {}
     },
     "30a0f5b8783f409a80821d159484d0d1": {
      "model_module": "@jupyter-widgets/base",
      "model_module_version": "1.2.0",
      "model_name": "LayoutModel",
      "state": {}
     },
     "32441a19097847f8b8c82e36f75c329b": {
      "model_module": "@jupyter-widgets/base",
      "model_module_version": "1.2.0",
      "model_name": "LayoutModel",
      "state": {}
     },
     "33aaf486adbd4fcc925d6646bb6989c0": {
      "model_module": "mitosheet",
      "model_module_version": "^0.1.28",
      "model_name": "ExampleModel",
      "state": {
       "_model_module_version": "^0.1.28",
       "_view_module_version": "^0.1.28",
       "analysis_name": "45941c81-b22e-45d4-bb3e-5345b24f5e02",
       "code_json": "{\"imports\": \"from mitosheet import AVG,CLEAN,CONCAT,FIND,LEFT,LEN,LOWER,MID,MULTIPLY,PROPER,RIGHT,SUBSTITUTE,SUM,TRIM,UPPER\", \"code\": [\"# Step 1\", \"df['B'] = df['A'] + 1\"]}",
       "column_spreadsheet_code_json": "[{\"A\": \"\", \"B\": \"=A + 1\"}]",
       "df_names_json": "{\"df_names\": [\"df\"]}",
       "layout": "IPY_MODEL_2290cae3784b4ec283ff7cc72747c662",
       "sheet_json": "[{\"columns\": [\"A\", \"B\"], \"index\": [0], \"data\": [[123, 124]]}]",
       "user_id": "nate",
       "value": "Hello World"
      }
     },
     "3543ebf817594652869bd331d4f4b298": {
      "model_module": "@jupyter-widgets/base",
      "model_module_version": "1.2.0",
      "model_name": "LayoutModel",
      "state": {}
     },
     "439475b7e0b74ac2b1bdb459330e6710": {
      "model_module": "mitosheet",
      "model_module_version": "^0.1.28",
      "model_name": "ExampleModel",
      "state": {
       "_model_module_version": "^0.1.28",
       "_view_module_version": "^0.1.28",
       "analysis_name": "b9536a5d-8d56-4d0d-95ef-64fa4b09b848",
       "code_json": "{\"imports\": \"from mitosheet import AVG,CLEAN,CONCAT,FIND,LEFT,LEN,LOWER,MID,MULTIPLY,PROPER,RIGHT,SUBSTITUTE,SUM,TRIM,UPPER\", \"code\": [\"# Step 1\", \"df['B'] = df['A'] + 10\", \"df['C'] = df['A'] + 10\"]}",
       "column_spreadsheet_code_json": "[{\"A\": \"\", \"B\": \"=A + 10\", \"C\": \"=A + 10\"}]",
       "df_names_json": "{\"df_names\": [\"df\"]}",
       "layout": "IPY_MODEL_bcc891d9c29f40549b604f3dbf658647",
       "sheet_json": "[{\"columns\": [\"A\", \"B\", \"C\"], \"index\": [0], \"data\": [[123, 133, 133]]}]",
       "user_id": "nate",
       "value": "Hello World"
      }
     },
     "49f84853ee9e4ccc89764c0b5aa8b84c": {
      "model_module": "@jupyter-widgets/base",
      "model_module_version": "1.2.0",
      "model_name": "LayoutModel",
      "state": {}
     },
     "4d3050bf7be242119c823257a756923a": {
      "model_module": "mitosheet",
      "model_module_version": "^0.1.28",
      "model_name": "ExampleModel",
      "state": {
       "_model_module_version": "^0.1.28",
       "_view_module_version": "^0.1.28",
       "analysis_name": "f6e72ff6-bdfc-401e-86cf-a2a04b382863",
       "code_json": "{\"imports\": \"from mitosheet import AVG,CLEAN,CONCAT,FIND,LEFT,LEN,LOWER,MID,MULTIPLY,PROPER,RIGHT,SUBSTITUTE,SUM,TRIM,UPPER\", \"code\": [\"# Step 1\", \"df['B'] = df['A'] + 100\", \"df['C'] = df['B'] *2\", \"df['D'] = df['C'] + 10\", \"# Step 2\", \"temp_df = df.drop_duplicates(subset='A')\", \"df2 = df.merge(df, left_on=['A'], right_on=['A'], how='left')\", \"# Step 3\", \"df['B'] = df['A'] + 100\", \"df['C'] = df['B'] *2\", \"df['D'] = df['C'] + 10\"]}",
       "column_spreadsheet_code_json": "[{\"A\": \"\", \"B\": \"=A + 100\", \"C\": \"=B *2\", \"D\": \"=C + 10\"}, {\"A\": \"\", \"B_x\": \"\", \"C_x\": \"\", \"D_x\": \"\", \"B_y\": \"\", \"C_y\": \"\", \"D_y\": \"\"}]",
       "df_names_json": "{\"df_names\": [\"df\"]}",
       "layout": "IPY_MODEL_897c2dae96fb4f7797b3aeb7794b11b3",
       "sheet_json": "[{\"columns\": [\"A\", \"B\", \"C\", \"D\"], \"index\": [0], \"data\": [[123, 223, 446, 456]]}, {\"columns\": [\"A\", \"B_x\", \"C_x\", \"D_x\", \"B_y\", \"C_y\", \"D_y\"], \"index\": [0], \"data\": [[123, 223, 446, 456, 223, 446, 456]]}]",
       "user_id": "nate",
       "value": "Hello World"
      }
     },
     "4e01309a8c964feeaa3d3d42609c3435": {
      "model_module": "mitosheet",
      "model_module_version": "^0.1.28",
      "model_name": "ExampleModel",
      "state": {
       "_model_module_version": "^0.1.28",
       "_view_module_version": "^0.1.28",
       "analysis_name": "35b32d20-8be7-46ad-b9ac-fddf9161d2a8",
       "code_json": "{\"imports\": \"from mitosheet import AVG,CLEAN,CONCAT,FIND,LEFT,LEN,LOWER,MID,MULTIPLY,PROPER,RIGHT,SUBSTITUTE,SUM,TRIM,UPPER\", \"code\": [\"# Step 1\", \"df['B'] = df['A'] + 10\", \"df['C'] = df['A'] + 10\"]}",
       "column_spreadsheet_code_json": "[{\"A\": \"\", \"B\": \"=A + 10\", \"C\": \"=A + 10\"}]",
       "df_names_json": "{\"df_names\": [\"df\"]}",
       "layout": "IPY_MODEL_30a0f5b8783f409a80821d159484d0d1",
       "sheet_json": "[{\"columns\": [\"A\", \"B\", \"C\"], \"index\": [0], \"data\": [[123, 133, 133]]}]",
       "user_id": "nate",
       "value": "Hello World"
      }
     },
     "504686fd72a24493bd8bb44e348bc18d": {
      "model_module": "mitosheet",
      "model_module_version": "^0.1.28",
      "model_name": "ExampleModel",
      "state": {
       "_model_module_version": "^0.1.28",
       "_view_module_version": "^0.1.28",
       "analysis_name": "871c1c8d-e4b3-439f-87bc-7bf94985f4d2",
       "code_json": "{\"imports\": \"from mitosheet import AVG,CLEAN,CONCAT,FIND,LEFT,LEN,LOWER,MID,MULTIPLY,PROPER,RIGHT,SUBSTITUTE,SUM,TRIM,UPPER\", \"code\": [\"# Step 1\", \"df['B'] = df['A'] + 100\"]}",
       "column_spreadsheet_code_json": "[{\"A\": \"\", \"B\": \"=A + 100\"}]",
       "df_names_json": "{\"df_names\": [\"df\"]}",
       "layout": "IPY_MODEL_49f84853ee9e4ccc89764c0b5aa8b84c",
       "sheet_json": "[{\"columns\": [\"A\", \"B\"], \"index\": [0], \"data\": [[123, 223]]}]",
       "user_id": "nate",
       "value": "Hello World"
      }
     },
     "50b796adcf5e4821b94e7994a222aba7": {
      "model_module": "@jupyter-widgets/base",
      "model_module_version": "1.2.0",
      "model_name": "LayoutModel",
      "state": {}
     },
     "5320940da93448bbbcf3e11de5a9fa9f": {
      "model_module": "@jupyter-widgets/base",
      "model_module_version": "1.2.0",
      "model_name": "LayoutModel",
      "state": {}
     },
     "574f44d6bbbc42ca8c9a029b976038ba": {
      "model_module": "mitosheet",
      "model_module_version": "^0.1.28",
      "model_name": "ExampleModel",
      "state": {
       "_model_module_version": "^0.1.28",
       "_view_module_version": "^0.1.28",
       "analysis_name": "ff5a2cff-cffa-4df8-8391-c905a56a27a0",
       "code_json": "{\"imports\": \"from mitosheet import AVG,CLEAN,CONCAT,FIND,LEFT,LEN,LOWER,MID,MULTIPLY,PROPER,RIGHT,SUBSTITUTE,SUM,TRIM,UPPER\", \"code\": [\"# Step 1\", \"df['B'] = df['A'] + 1\"]}",
       "column_spreadsheet_code_json": "[{\"A\": \"\", \"B\": \"=A + 1\"}]",
       "df_names_json": "{\"df_names\": [\"df\"]}",
       "layout": "IPY_MODEL_dcec2a01162043098bca61c829decbdc",
       "sheet_json": "[{\"columns\": [\"A\", \"B\"], \"index\": [0], \"data\": [[123, 124]]}]",
       "user_id": "nate",
       "value": "Hello World"
      }
     },
     "5852d021c01945ae8b07d553ec2f5403": {
      "model_module": "@jupyter-widgets/base",
      "model_module_version": "1.2.0",
      "model_name": "LayoutModel",
      "state": {}
     },
     "58f17cfd5b1a471fbdfa8bd655bdad85": {
      "model_module": "@jupyter-widgets/base",
      "model_module_version": "1.2.0",
      "model_name": "LayoutModel",
      "state": {}
     },
     "5a21ee8117b34aa49374ed78c1c864b1": {
      "model_module": "@jupyter-widgets/base",
      "model_module_version": "1.2.0",
      "model_name": "LayoutModel",
      "state": {}
     },
     "5d52567426474477a7c682efa469be69": {
      "model_module": "@jupyter-widgets/base",
      "model_module_version": "1.2.0",
      "model_name": "LayoutModel",
      "state": {}
     },
     "60b945434bf24adc8f6361f4273d1a26": {
      "model_module": "mitosheet",
      "model_module_version": "^0.1.28",
      "model_name": "ExampleModel",
      "state": {
       "_model_module_version": "^0.1.28",
       "_view_module_version": "^0.1.28",
       "analysis_name": "ea63421d-4d79-4224-8eb2-4fc404f2fabf",
       "code_json": "{\"imports\": \"from mitosheet import AVG,CLEAN,CONCAT,FIND,LEFT,LEN,LOWER,MID,MULTIPLY,PROPER,RIGHT,SUBSTITUTE,SUM,TRIM,UPPER\", \"code\": [\"# Step 1\", \"df['C'] = 0\", \"df['B'] = df['A'] + 10\"]}",
       "column_spreadsheet_code_json": "[{\"A\": \"\", \"B\": \"=A + 10\", \"C\": \"=0\"}]",
       "df_names_json": "{\"df_names\": [\"df\"]}",
       "layout": "IPY_MODEL_e5191a818043409eafded6f39a964ce5",
       "sheet_json": "[{\"columns\": [\"A\", \"B\", \"C\"], \"index\": [0], \"data\": [[123, 133, 0]]}]",
       "user_id": "nate",
       "value": "Hello World"
      }
     },
     "65167266672b467fa024a21d2249cdf5": {
      "model_module": "mitosheet",
      "model_module_version": "^0.1.28",
      "model_name": "ExampleModel",
      "state": {
       "_model_module_version": "^0.1.28",
       "_view_module_version": "^0.1.28",
       "analysis_name": "1696a209-3deb-4829-8f1c-4071bccd79e5",
       "code_json": "{\"imports\": \"from mitosheet import AVG,CLEAN,CONCAT,FIND,LEFT,LEN,LOWER,MID,MULTIPLY,PROPER,RIGHT,SUBSTITUTE,SUM,TRIM,UPPER\", \"code\": [\"# Step 1\", \"df['B'] = df['A'] + 10\"]}",
       "column_spreadsheet_code_json": "[{\"A\": \"\", \"B\": \"=A + 10\"}]",
       "df_names_json": "{\"df_names\": [\"df\"]}",
       "layout": "IPY_MODEL_5d52567426474477a7c682efa469be69",
       "sheet_json": "[{\"columns\": [\"A\", \"B\"], \"index\": [0], \"data\": [[123, 133]]}]",
       "user_id": "nate",
       "value": "Hello World"
      }
     },
     "66ade70b2e0a4f94bd3fb7049758e131": {
      "model_module": "mitosheet",
      "model_module_version": "^0.1.28",
      "model_name": "ExampleModel",
      "state": {
       "_model_module_version": "^0.1.28",
       "_view_module_version": "^0.1.28",
       "analysis_name": "6c3e4e8b-c71d-4679-a319-0aa7541cefc6",
       "code_json": "{\"imports\": \"from mitosheet import AVG,CLEAN,CONCAT,FIND,LEFT,LEN,LOWER,MID,MULTIPLY,PROPER,RIGHT,SUBSTITUTE,SUM,TRIM,UPPER\", \"code\": [\"# Step 1\", \"df['B'] = df['A'] + 10\", \"df['C'] = df['A'] + 10 + 1\"]}",
       "column_spreadsheet_code_json": "[{\"A\": \"\", \"B\": \"=A + 10\", \"C\": \"=A + 10 + 1\"}]",
       "df_names_json": "{\"df_names\": [\"df\"]}",
       "layout": "IPY_MODEL_1166f6e5b356450aa12cac4182b89b40",
       "sheet_json": "[{\"columns\": [\"A\", \"B\", \"C\"], \"index\": [0], \"data\": [[123, 133, 134]]}]",
       "user_id": "nate",
       "value": "Hello World"
      }
     },
     "6af221697fad4c60b9de66202a3706f6": {
      "model_module": "@jupyter-widgets/base",
      "model_module_version": "1.2.0",
      "model_name": "LayoutModel",
      "state": {}
     },
     "76097ceb4b454867a9eee2b6e68072a2": {
      "model_module": "@jupyter-widgets/base",
      "model_module_version": "1.2.0",
      "model_name": "LayoutModel",
      "state": {}
     },
     "78105d4d35894826ab582a6c2f44a93e": {
      "model_module": "mitosheet",
      "model_module_version": "^0.1.28",
      "model_name": "ExampleModel",
      "state": {
       "_model_module_version": "^0.1.28",
       "_view_module_version": "^0.1.28",
       "analysis_name": "24d53ece-44e5-4951-bd85-959afab7de33",
       "code_json": "{\"imports\": \"from mitosheet import AVG,CLEAN,CONCAT,FIND,LEFT,LEN,LOWER,MID,MULTIPLY,PROPER,RIGHT,SUBSTITUTE,SUM,TRIM,UPPER\", \"code\": [\"# Step 1\", \"df['C'] = 0\", \"df['B'] = 555\"]}",
       "column_spreadsheet_code_json": "[{\"A\": \"\", \"B\": \"=555\", \"C\": \"=0\"}]",
       "df_names_json": "{\"df_names\": [\"df\"]}",
       "layout": "IPY_MODEL_2094a056269c488d84021b964426726c",
       "sheet_json": "[{\"columns\": [\"A\", \"B\", \"C\"], \"index\": [0], \"data\": [[123, 555, 0]]}]",
       "user_id": "nate",
       "value": "Hello World"
      }
     },
     "7c872ecb730f46a5ab9752a844bc6559": {
      "model_module": "@jupyter-widgets/base",
      "model_module_version": "1.2.0",
      "model_name": "LayoutModel",
      "state": {}
     },
     "84d6e06f583d44d1b9ff233325c99b43": {
      "model_module": "mitosheet",
      "model_module_version": "^0.1.28",
      "model_name": "ExampleModel",
      "state": {
       "_model_module_version": "^0.1.28",
       "_view_module_version": "^0.1.28",
       "analysis_name": "d75ce284-71a8-4917-99d8-51a8ea2f233e",
       "code_json": "{\"imports\": \"from mitosheet import AVG,CLEAN,CONCAT,FIND,LEFT,LEN,LOWER,MID,MULTIPLY,PROPER,RIGHT,SUBSTITUTE,SUM,TRIM,UPPER\", \"code\": [\"# Step 1\", \"df['C'] = 0\", \"df['B'] = df['A']+1\"]}",
       "column_spreadsheet_code_json": "[{\"A\": \"\", \"B\": \"=A+1\", \"C\": \"=0\"}]",
       "df_names_json": "{\"df_names\": [\"df\"]}",
       "layout": "IPY_MODEL_32441a19097847f8b8c82e36f75c329b",
       "sheet_json": "[{\"columns\": [\"A\", \"B\", \"C\"], \"index\": [0], \"data\": [[123, 124, 0]]}]",
       "user_id": "nate",
       "value": "Hello World"
      }
     },
     "88f7e49aeb1f478097f3738781ab6659": {
      "model_module": "mitosheet",
      "model_module_version": "^0.1.28",
      "model_name": "ExampleModel",
      "state": {
       "_model_module_version": "^0.1.28",
       "_view_module_version": "^0.1.28",
       "analysis_name": "34216c60-7cb8-482e-85ce-2b3439428d3c",
       "code_json": "{\"imports\": \"from mitosheet import AVG,CLEAN,CONCAT,FIND,LEFT,LEN,LOWER,MID,MULTIPLY,PROPER,RIGHT,SUBSTITUTE,SUM,TRIM,UPPER\", \"code\": [\"# Step 1\", \"df['D'] = 0\", \"df['C'] = 100 + 1\", \"df['B'] = df['A'] + 1\"]}",
       "column_spreadsheet_code_json": "[{\"A\": \"\", \"B\": \"=A + 1\", \"C\": \"=100 + 1\", \"D\": \"=0\"}]",
       "df_names_json": "{\"df_names\": [\"df\"]}",
       "layout": "IPY_MODEL_58f17cfd5b1a471fbdfa8bd655bdad85",
       "sheet_json": "[{\"columns\": [\"A\", \"B\", \"C\", \"D\"], \"index\": [0], \"data\": [[123, 124, 101, 0]]}]",
       "user_id": "nate",
       "value": "Hello World"
      }
     },
     "897c2dae96fb4f7797b3aeb7794b11b3": {
      "model_module": "@jupyter-widgets/base",
      "model_module_version": "1.2.0",
      "model_name": "LayoutModel",
      "state": {}
     },
     "8b0343fc54004a44afaf252b873f1a65": {
      "model_module": "mitosheet",
      "model_module_version": "^0.1.28",
      "model_name": "ExampleModel",
      "state": {
       "_model_module_version": "^0.1.28",
       "_view_module_version": "^0.1.28",
       "analysis_name": "db8f6f18-ae79-4613-8689-8abedb18a06e",
       "code_json": "{\"imports\": \"from mitosheet import AVG,CLEAN,CONCAT,FIND,LEFT,LEN,LOWER,MID,MULTIPLY,PROPER,RIGHT,SUBSTITUTE,SUM,TRIM,UPPER\", \"code\": []}",
       "column_spreadsheet_code_json": "[{\"A\": \"\"}]",
       "df_names_json": "{\"df_names\": [\"df\"]}",
       "layout": "IPY_MODEL_5320940da93448bbbcf3e11de5a9fa9f",
       "sheet_json": "[{\"columns\": [\"A\"], \"index\": [0], \"data\": [[123]]}]",
       "user_id": "nate",
       "value": "Hello World"
      }
     },
     "8d66a10ea7804ff7992b1d23dee3304f": {
      "model_module": "mitosheet",
      "model_module_version": "^0.1.28",
      "model_name": "ExampleModel",
      "state": {
       "_model_module_version": "^0.1.28",
       "_view_module_version": "^0.1.28",
       "analysis_name": "4ee46ded-5e0e-4358-950a-dd12d1a3e559",
       "code_json": "{\"imports\": \"from mitosheet import AVG,CLEAN,CONCAT,FIND,LEFT,LEN,LOWER,MID,MULTIPLY,PROPER,RIGHT,SUBSTITUTE,SUM,TRIM,UPPER\", \"code\": [\"# Step 1\", \"df['C'] = 0\", \"df['B'] = df['A'] + 1\"]}",
       "column_spreadsheet_code_json": "[{\"A\": \"\", \"B\": \"=A + 1\", \"C\": \"=0\"}]",
       "df_names_json": "{\"df_names\": [\"df\"]}",
       "layout": "IPY_MODEL_aec6af443d9e4f0b8efa93192c913240",
       "sheet_json": "[{\"columns\": [\"A\", \"B\", \"C\"], \"index\": [0], \"data\": [[123, 124, 0]]}]",
       "user_id": "nate",
       "value": "Hello World"
      }
     },
     "9d1f5a375b884cd7aec1a978ca4d0bfb": {
      "model_module": "mitosheet",
      "model_module_version": "^0.1.28",
      "model_name": "ExampleModel",
      "state": {
       "_model_module_version": "^0.1.28",
       "_view_module_version": "^0.1.28",
       "analysis_name": "ce8e636c-8298-477c-9a4e-0fdf90b3256d",
       "code_json": "{\"imports\": \"from mitosheet import AVG,CLEAN,CONCAT,FIND,LEFT,LEN,LOWER,MID,MULTIPLY,PROPER,RIGHT,SUBSTITUTE,SUM,TRIM,UPPER\", \"code\": [\"# Step 1\", \"df['B'] = df['A'] + 100\", \"df['C'] = df['B'] *2\", \"df['D'] = df['C'] + 10\"]}",
       "column_spreadsheet_code_json": "[{\"A\": \"\", \"B\": \"=A + 100\", \"C\": \"=B *2\", \"D\": \"=C + 10\"}]",
       "df_names_json": "{\"df_names\": [\"df\"]}",
       "layout": "IPY_MODEL_76097ceb4b454867a9eee2b6e68072a2",
       "sheet_json": "[{\"columns\": [\"A\", \"B\", \"C\", \"D\"], \"index\": [0], \"data\": [[123, 223, 446, 456]]}]",
       "user_id": "nate",
       "value": "Hello World"
      }
     },
     "a0aa913a5856485e987cd47bc756a985": {
      "model_module": "mitosheet",
      "model_module_version": "^0.1.28",
      "model_name": "ExampleModel",
      "state": {
       "_model_module_version": "^0.1.28",
       "_view_module_version": "^0.1.28",
       "analysis_name": "42920afd-6aa0-4432-b235-2fe2bd3d165c",
       "code_json": "{\"imports\": \"from mitosheet import AVG,CLEAN,CONCAT,FIND,LEFT,LEN,LOWER,MID,MULTIPLY,PROPER,RIGHT,SUBSTITUTE,SUM,TRIM,UPPER\", \"code\": [\"# Step 1\", \"df['D'] = 100\", \"df['B'] = df['A'] * 1\", \"df['C'] = df['B'] + 1\"]}",
       "column_spreadsheet_code_json": "[{\"A\": \"\", \"B\": \"=A * 1\", \"C\": \"=B + 1\", \"D\": \"=100\"}]",
       "df_names_json": "{\"df_names\": [\"df\"]}",
       "layout": "IPY_MODEL_3543ebf817594652869bd331d4f4b298",
       "sheet_json": "[{\"columns\": [\"A\", \"B\", \"C\", \"D\"], \"index\": [0], \"data\": [[123, 123, 124, 100]]}]",
       "user_id": "nate",
       "value": "Hello World"
      }
     },
     "a2721fc34ed34857934934b0885ff664": {
      "model_module": "mitosheet",
      "model_module_version": "^0.1.28",
      "model_name": "ExampleModel",
      "state": {
       "_model_module_version": "^0.1.28",
       "_view_module_version": "^0.1.28",
       "analysis_name": "3182aa26-ed54-44e5-a4d8-6c98d332987a",
       "code_json": "{\"imports\": \"from mitosheet import AVG,CLEAN,CONCAT,FIND,LEFT,LEN,LOWER,MID,MULTIPLY,PROPER,RIGHT,SUBSTITUTE,SUM,TRIM,UPPER\", \"code\": [\"# Step 1\", \"df['B'] =  100 * 20 + 10\"]}",
       "column_spreadsheet_code_json": "[{\"A\": \"\", \"B\": \"= 100 * 20 + 10\"}]",
       "df_names_json": "{\"df_names\": [\"df\"]}",
       "layout": "IPY_MODEL_0aa9831f65e249f98ebfab3e1d979e8c",
       "sheet_json": "[{\"columns\": [\"A\", \"B\"], \"index\": [0], \"data\": [[123, 2010]]}]",
       "user_id": "nate",
       "value": "Hello World"
      }
     },
     "a52a3c5cd5ac447f88ee2b6a049280bf": {
      "model_module": "@jupyter-widgets/base",
      "model_module_version": "1.2.0",
      "model_name": "LayoutModel",
      "state": {}
     },
     "a89d532526504e6db5879404b14ce15c": {
      "model_module": "@jupyter-widgets/base",
      "model_module_version": "1.2.0",
      "model_name": "LayoutModel",
      "state": {}
     },
     "ac3658fb0e9640319aa554dd0b7c314f": {
      "model_module": "mitosheet",
      "model_module_version": "^0.1.28",
      "model_name": "ExampleModel",
      "state": {
       "_model_module_version": "^0.1.28",
       "_view_module_version": "^0.1.28",
       "analysis_name": "8807ded3-ba9b-4775-8852-f2b0de00f0f0",
       "code_json": "{\"imports\": \"from mitosheet import AVG,CLEAN,CONCAT,FIND,LEFT,LEN,LOWER,MID,MULTIPLY,PROPER,RIGHT,SUBSTITUTE,SUM,TRIM,UPPER\", \"code\": [\"# Step 1\", \"df['C'] = 0\", \"df['B'] = df['A'] + 10\"]}",
       "column_spreadsheet_code_json": "[{\"A\": \"\", \"B\": \"=A + 10\", \"C\": \"=0\"}]",
       "df_names_json": "{\"df_names\": [\"df\"]}",
       "layout": "IPY_MODEL_c5123b0baa2c4a61930e2ab4240c3904",
       "sheet_json": "[{\"columns\": [\"A\", \"B\", \"C\"], \"index\": [0], \"data\": [[123, 133, 0]]}]",
       "user_id": "nate",
       "value": "Hello World"
      }
     },
     "aec6af443d9e4f0b8efa93192c913240": {
      "model_module": "@jupyter-widgets/base",
      "model_module_version": "1.2.0",
      "model_name": "LayoutModel",
      "state": {}
     },
     "b797d5a03c254894b7f3e17b78d25e80": {
      "model_module": "mitosheet",
      "model_module_version": "^0.1.28",
      "model_name": "ExampleModel",
      "state": {
       "_model_module_version": "^0.1.28",
       "_view_module_version": "^0.1.28",
       "analysis_name": "2965ef2c-9e8f-45bb-9a01-b70343fa1346",
       "code_json": "{\"imports\": \"from mitosheet import AVG,CLEAN,CONCAT,FIND,LEFT,LEN,LOWER,MID,MULTIPLY,PROPER,RIGHT,SUBSTITUTE,SUM,TRIM,UPPER\", \"code\": [\"# Step 1\", \"df['B'] = 0\"]}",
       "column_spreadsheet_code_json": "[{\"A\": \"\", \"B\": \"=0\"}]",
       "df_names_json": "{\"df_names\": [\"df\"]}",
       "layout": "IPY_MODEL_2831c265c60f4f33ad35535f963d5d4d",
       "sheet_json": "[{\"columns\": [\"A\", \"B\"], \"index\": [0], \"data\": [[123, 0]]}]",
       "user_id": "nate",
       "value": "Hello World"
      }
     },
     "bcb27d8a0a644791811cc9e3fd1637c9": {
      "model_module": "@jupyter-widgets/base",
      "model_module_version": "1.2.0",
      "model_name": "LayoutModel",
      "state": {}
     },
     "bcc891d9c29f40549b604f3dbf658647": {
      "model_module": "@jupyter-widgets/base",
      "model_module_version": "1.2.0",
      "model_name": "LayoutModel",
      "state": {}
     },
     "bcd8f15983a741768d67b7065a86fa92": {
      "model_module": "mitosheet",
      "model_module_version": "^0.1.28",
      "model_name": "ExampleModel",
      "state": {
       "_model_module_version": "^0.1.28",
       "_view_module_version": "^0.1.28",
       "analysis_name": "abd24796-acce-45ff-89c2-cb9fca3f4f4d",
       "code_json": "{\"imports\": \"from mitosheet import AVG,CLEAN,CONCAT,FIND,LEFT,LEN,LOWER,MID,MULTIPLY,PROPER,RIGHT,SUBSTITUTE,SUM,TRIM,UPPER\", \"code\": [\"# Step 1\", \"df['D'] = 0\", \"df['C'] = 100 + 1\", \"df['B'] = df['A'] + 1\"]}",
       "column_spreadsheet_code_json": "[{\"A\": \"\", \"B\": \"=A + 1\", \"C\": \"=100 + 1\", \"D\": \"=0\"}]",
       "df_names_json": "{\"df_names\": [\"df\"]}",
       "layout": "IPY_MODEL_7c872ecb730f46a5ab9752a844bc6559",
       "sheet_json": "[{\"columns\": [\"A\", \"B\", \"C\", \"D\"], \"index\": [0], \"data\": [[123, 124, 101, 0]]}]",
       "user_id": "nate",
       "value": "Hello World"
      }
     },
     "c4af0ee936244f77ab58ef53e0948209": {
      "model_module": "mitosheet",
      "model_module_version": "^0.1.28",
      "model_name": "ExampleModel",
      "state": {
       "_model_module_version": "^0.1.28",
       "_view_module_version": "^0.1.28",
       "analysis_name": "739c88bc-fd90-4e05-8a61-0c2d44f6b151",
       "code_json": "{\"imports\": \"from mitosheet import AVG,CLEAN,CONCAT,FIND,LEFT,LEN,LOWER,MID,MULTIPLY,PROPER,RIGHT,SUBSTITUTE,SUM,TRIM,UPPER\", \"code\": [\"# Step 1\", \"df['B'] = df['A'] + 100\"]}",
       "column_spreadsheet_code_json": "[{\"A\": \"\", \"B\": \"=A + 100\"}]",
       "df_names_json": "{\"df_names\": [\"df\"]}",
       "layout": "IPY_MODEL_274ed80e2a624330a8e559724d31dbd9",
       "sheet_json": "[{\"columns\": [\"A\", \"B\"], \"index\": [0], \"data\": [[123, 223]]}]",
       "user_id": "nate",
       "value": "Hello World"
      }
     },
     "c5123b0baa2c4a61930e2ab4240c3904": {
      "model_module": "@jupyter-widgets/base",
      "model_module_version": "1.2.0",
      "model_name": "LayoutModel",
      "state": {}
     },
     "d03a9b95c008408287cd80e2578f0358": {
      "model_module": "mitosheet",
      "model_module_version": "^0.1.28",
      "model_name": "ExampleModel",
      "state": {
       "_model_module_version": "^0.1.28",
       "_view_module_version": "^0.1.28",
       "analysis_name": "c7c20601-17c3-42be-905f-ee6bd3405b4b",
       "code_json": "{\"imports\": \"from mitosheet import AVG,CLEAN,CONCAT,FIND,LEFT,LEN,LOWER,MID,MULTIPLY,PROPER,RIGHT,SUBSTITUTE,SUM,TRIM,UPPER\", \"code\": [\"# Step 1\", \"df['C'] = 0\", \"df['B'] = 55\"]}",
       "column_spreadsheet_code_json": "[{\"A\": \"\", \"B\": \"=55\", \"C\": \"=0\"}]",
       "df_names_json": "{\"df_names\": [\"df\"]}",
       "layout": "IPY_MODEL_50b796adcf5e4821b94e7994a222aba7",
       "sheet_json": "[{\"columns\": [\"A\", \"B\", \"C\"], \"index\": [0], \"data\": [[123, 55, 0]]}]",
       "user_id": "nate",
       "value": "Hello World"
      }
     },
     "d898de6877c043128f919e77c91797f5": {
      "model_module": "mitosheet",
      "model_module_version": "^0.1.28",
      "model_name": "ExampleModel",
      "state": {
       "_model_module_version": "^0.1.28",
       "_view_module_version": "^0.1.28",
       "analysis_name": "f771ef59-3f0e-4bfe-8f53-4d3862863327",
       "code_json": "{\"imports\": \"from mitosheet import AVG,CLEAN,CONCAT,FIND,LEFT,LEN,LOWER,MID,MULTIPLY,PROPER,RIGHT,SUBSTITUTE,SUM,TRIM,UPPER\", \"code\": [\"# Step 1\", \"df['D'] = 0\", \"df['C'] = 100 + 1\", \"df['B'] = df['A'] + 1\"]}",
       "column_spreadsheet_code_json": "[{\"A\": \"\", \"B\": \"=A + 1\", \"C\": \"=100 + 1\", \"D\": \"=0\"}]",
       "df_names_json": "{\"df_names\": [\"df\"]}",
       "layout": "IPY_MODEL_a52a3c5cd5ac447f88ee2b6a049280bf",
       "sheet_json": "[{\"columns\": [\"A\", \"B\", \"C\", \"D\"], \"index\": [0], \"data\": [[123, 124, 101, 0]]}]",
       "user_id": "nate",
       "value": "Hello World"
      }
     },
     "d8ce53ebb0aa4598a86692c4dcb5f53e": {
      "model_module": "@jupyter-widgets/base",
      "model_module_version": "1.2.0",
      "model_name": "LayoutModel",
      "state": {}
     },
     "d9ac9ffd35d54d19838ec67d58326300": {
      "model_module": "mitosheet",
      "model_module_version": "^0.1.28",
      "model_name": "ExampleModel",
      "state": {
       "_model_module_version": "^0.1.28",
       "_view_module_version": "^0.1.28",
       "analysis_name": "19ba14b5-9059-4da8-a5fe-a56f5f5cad86",
       "code_json": "{\"imports\": \"from mitosheet import AVG,CLEAN,CONCAT,FIND,LEFT,LEN,LOWER,MID,MULTIPLY,PROPER,RIGHT,SUBSTITUTE,SUM,TRIM,UPPER\", \"code\": [\"# Step 1\", \"df['B'] = df['A'] + 10\"]}",
       "column_spreadsheet_code_json": "[{\"A\": \"\", \"B\": \"=A + 10\"}]",
       "df_names_json": "{\"df_names\": [\"df\"]}",
       "layout": "IPY_MODEL_d8ce53ebb0aa4598a86692c4dcb5f53e",
       "sheet_json": "[{\"columns\": [\"A\", \"B\"], \"index\": [0], \"data\": [[123, 133]]}]",
       "user_id": "nate",
       "value": "Hello World"
      }
     },
     "dcec2a01162043098bca61c829decbdc": {
      "model_module": "@jupyter-widgets/base",
      "model_module_version": "1.2.0",
      "model_name": "LayoutModel",
      "state": {}
     },
     "deaa2fa20eed43c689f73a92ade10dbf": {
      "model_module": "mitosheet",
      "model_module_version": "^0.1.28",
      "model_name": "ExampleModel",
      "state": {
       "_model_module_version": "^0.1.28",
       "_view_module_version": "^0.1.28",
       "analysis_name": "ca2399c8-0970-461d-9bd2-3e5e288120f9",
       "code_json": "{\"imports\": \"from mitosheet import AVG,CLEAN,CONCAT,FIND,LEFT,LEN,LOWER,MID,MULTIPLY,PROPER,RIGHT,SUBSTITUTE,SUM,TRIM,UPPER\", \"code\": [\"# Step 1\", \"df['C'] = 0\", \"df['B'] = df['A'] + 10\"]}",
       "column_spreadsheet_code_json": "[{\"A\": \"\", \"B\": \"=A + 10\", \"C\": \"=0\"}]",
       "df_names_json": "{\"df_names\": [\"df\"]}",
       "layout": "IPY_MODEL_fc4f2f1e18bf4a23860ca243f1b48a18",
       "sheet_json": "[{\"columns\": [\"A\", \"B\", \"C\"], \"index\": [0], \"data\": [[123, 133, 0]]}]",
       "user_id": "nate",
       "value": "Hello World"
      }
     },
     "e228c27f55444689964afa07a0d2d297": {
      "model_module": "mitosheet",
      "model_module_version": "^0.1.28",
      "model_name": "ExampleModel",
      "state": {
       "_model_module_version": "^0.1.28",
       "_view_module_version": "^0.1.28",
       "analysis_name": "736f0822-7ad5-4943-8fe0-c8cde4032f89",
       "code_json": "{\"imports\": \"from mitosheet import AVG,CLEAN,CONCAT,FIND,LEFT,LEN,LOWER,MID,MULTIPLY,PROPER,RIGHT,SUBSTITUTE,SUM,TRIM,UPPER\", \"code\": [\"# Step 1\", \"df['B'] = df['A'] + 100\"]}",
       "column_spreadsheet_code_json": "[{\"A\": \"\", \"B\": \"=A + 100\"}]",
       "df_names_json": "{\"df_names\": [\"df\"]}",
       "layout": "IPY_MODEL_6af221697fad4c60b9de66202a3706f6",
       "sheet_json": "[{\"columns\": [\"A\", \"B\"], \"index\": [0], \"data\": [[123, 223]]}]",
       "user_id": "nate",
       "value": "Hello World"
      }
     },
     "e5191a818043409eafded6f39a964ce5": {
      "model_module": "@jupyter-widgets/base",
      "model_module_version": "1.2.0",
      "model_name": "LayoutModel",
      "state": {}
     },
     "f076dcd80781459889c3aa4bcdfecc25": {
      "model_module": "@jupyter-widgets/base",
      "model_module_version": "1.2.0",
      "model_name": "LayoutModel",
      "state": {}
     },
     "f2a97b80605a41fbbd546a4d82af1916": {
      "model_module": "mitosheet",
      "model_module_version": "^0.1.28",
      "model_name": "ExampleModel",
      "state": {
       "_model_module_version": "^0.1.28",
       "_view_module_version": "^0.1.28",
       "analysis_name": "ae9e4d24-af29-4495-a011-b6325ca76e77",
       "code_json": "{\"imports\": \"from mitosheet import AVG,CLEAN,CONCAT,FIND,LEFT,LEN,LOWER,MID,MULTIPLY,PROPER,RIGHT,SUBSTITUTE,SUM,TRIM,UPPER\", \"code\": [\"# Step 1\", \"df['B'] = df['A'] + 100\", \"df['C'] = df['B'] *2\", \"df['D'] = df['C'] + 10\", \"# Step 2\", \"temp_df = df.drop_duplicates(subset='A')\", \"df2 = df.merge(df, left_on=['A'], right_on=['A'], how='left')\", \"# Step 3\", \"df['B'] = df['A'] + 100\", \"df['C'] = df['B'] *2\", \"df['D'] = df['C'] + 10\"]}",
       "column_spreadsheet_code_json": "[{\"A\": \"\", \"B\": \"=A + 100\", \"C\": \"=B *2\", \"D\": \"=C + 10\"}, {\"A\": \"\", \"B_x\": \"\", \"C_x\": \"\", \"D_x\": \"\", \"B_y\": \"\", \"C_y\": \"\", \"D_y\": \"\"}]",
       "df_names_json": "{\"df_names\": [\"df\"]}",
       "layout": "IPY_MODEL_13a7e8166916433c96d9b340c7b86b9c",
       "sheet_json": "[{\"columns\": [\"A\", \"B\", \"C\", \"D\"], \"index\": [0], \"data\": [[123, 223, 446, 456]]}, {\"columns\": [\"A\", \"B_x\", \"C_x\", \"D_x\", \"B_y\", \"C_y\", \"D_y\"], \"index\": [0], \"data\": [[123, 223, 446, 456, 223, 446, 456]]}]",
       "user_id": "nate",
       "value": "Hello World"
      }
     },
     "f3ec2a112ea84973874396c3d5761a82": {
      "model_module": "@jupyter-widgets/base",
      "model_module_version": "1.2.0",
      "model_name": "LayoutModel",
      "state": {}
     },
     "f7c4cba3d07343569d45e5c507981ded": {
      "model_module": "mitosheet",
      "model_module_version": "^0.1.28",
      "model_name": "ExampleModel",
      "state": {
       "_model_module_version": "^0.1.28",
       "_view_module_version": "^0.1.28",
       "analysis_name": "bf4b6707-a80b-42c2-98b2-f1368cd0334f",
       "code_json": "{\"imports\": \"from mitosheet import AVG,CLEAN,CONCAT,FIND,LEFT,LEN,LOWER,MID,MULTIPLY,PROPER,RIGHT,SUBSTITUTE,SUM,TRIM,UPPER\", \"code\": [\"# Step 1\", \"df['D'] = 0\", \"df['C'] = 100 + 1\", \"df['B'] = df['A'] + 1\"]}",
       "column_spreadsheet_code_json": "[{\"A\": \"\", \"B\": \"=A + 1\", \"C\": \"=100 + 1\", \"D\": \"=0\"}]",
       "df_names_json": "{\"df_names\": [\"df\"]}",
       "layout": "IPY_MODEL_5852d021c01945ae8b07d553ec2f5403",
       "sheet_json": "[{\"columns\": [\"A\", \"B\", \"C\", \"D\"], \"index\": [0], \"data\": [[123, 124, 101, 0]]}]",
       "user_id": "nate",
       "value": "Hello World"
      }
     },
     "fc4f2f1e18bf4a23860ca243f1b48a18": {
      "model_module": "@jupyter-widgets/base",
      "model_module_version": "1.2.0",
      "model_name": "LayoutModel",
      "state": {}
     }
    },
    "version_major": 2,
    "version_minor": 0
   }
  }
 },
 "nbformat": 4,
 "nbformat_minor": 4
}
