{
 "cells": [
  {
   "cell_type": "markdown",
   "metadata": {
    "ExecuteTime": {
     "end_time": "2020-09-19T06:43:48.662532Z",
     "start_time": "2020-09-19T06:43:48.659841Z"
    },
    "papermill": {
     "duration": 0.013052,
     "end_time": "2020-09-20T06:43:08.393200",
     "exception": false,
     "start_time": "2020-09-20T06:43:08.380148",
     "status": "completed"
    },
    "tags": []
   },
   "source": [
    "# snm3C Mapping Summary\n",
    "\n",
    "This notebook provides a quick overview of some key mapping metrics. You can customize it by yourself.\n",
    "\n",
    "[**See documentation about mapping metrics here.**](https://app.gitbook.com/@hq-1/s/mc/mapping-summary-and-metrics)"
   ]
  },
  {
   "cell_type": "markdown",
   "metadata": {
    "papermill": {
     "duration": 0.012818,
     "end_time": "2020-09-20T06:43:08.418558",
     "exception": false,
     "start_time": "2020-09-20T06:43:08.405740",
     "status": "completed"
    },
    "tags": []
   },
   "source": [
    "## Parameters"
   ]
  },
  {
   "cell_type": "markdown",
   "metadata": {
    "papermill": {
     "duration": 0.012095,
     "end_time": "2020-09-20T06:43:08.443365",
     "exception": false,
     "start_time": "2020-09-20T06:43:08.431270",
     "status": "completed"
    },
    "tags": []
   },
   "source": [
    "## Prepare"
   ]
  },
  {
   "cell_type": "code",
   "execution_count": null,
   "metadata": {
    "execution": {
     "iopub.execute_input": "2020-09-20T06:43:08.471259Z",
     "iopub.status.busy": "2020-09-20T06:43:08.470818Z",
     "iopub.status.idle": "2020-09-20T06:43:08.472795Z",
     "shell.execute_reply": "2020-09-20T06:43:08.472414Z"
    },
    "papermill": {
     "duration": 0.017513,
     "end_time": "2020-09-20T06:43:08.472904",
     "exception": false,
     "start_time": "2020-09-20T06:43:08.455391",
     "status": "completed"
    },
    "tags": [
     "parameters"
    ]
   },
   "outputs": [],
   "source": [
    "output_dir = ''\n",
    "plate_col = 'Plate'\n",
    "color_quantile = (0.05, 0.95)"
   ]
  },
  {
   "cell_type": "markdown",
   "metadata": {
    "papermill": {
     "duration": 0.081021,
     "end_time": "2020-09-20T06:43:08.597949",
     "exception": false,
     "start_time": "2020-09-20T06:43:08.516928",
     "status": "completed"
    },
    "tags": []
   },
   "source": [
    "### Import"
   ]
  },
  {
   "cell_type": "code",
   "execution_count": null,
   "metadata": {
    "execution": {
     "iopub.execute_input": "2020-09-20T06:43:08.629212Z",
     "iopub.status.busy": "2020-09-20T06:43:08.628770Z",
     "iopub.status.idle": "2020-09-20T06:43:09.330297Z",
     "shell.execute_reply": "2020-09-20T06:43:09.329892Z"
    },
    "papermill": {
     "duration": 0.719417,
     "end_time": "2020-09-20T06:43:09.330413",
     "exception": false,
     "start_time": "2020-09-20T06:43:08.610996",
     "status": "completed"
    },
    "tags": []
   },
   "outputs": [],
   "source": [
    "import pathlib\n",
    "\n",
    "import matplotlib.pyplot as plt\n",
    "import pandas as pd\n",
    "import seaborn as sns\n",
    "from cemba_data.mapping import cutoff_vs_cell_remain, plot_on_plate\n",
    "from cemba_data.utilities import get_configuration\n",
    "\n",
    "\n",
    "def distplot_and_plate_view(data, hue, color_quantile=color_quantile):\n",
    "    fig1, (vmin, vmax) = cutoff_vs_cell_remain(data=data[hue].dropna(), \n",
    "                                               bins=50, kde=False,\n",
    "                                               xlim_quantile=color_quantile)\n",
    "\n",
    "    fig2, plate_names, plate_datas = plot_on_plate(\n",
    "        data=data,\n",
    "        hue=hue,\n",
    "        groupby=plate_col,\n",
    "        vmin=vmin,\n",
    "        vmax=vmax,\n",
    "        aggregation_func=lambda i: i.mean())\n",
    "    return"
   ]
  },
  {
   "cell_type": "code",
   "execution_count": null,
   "metadata": {
    "execution": {
     "iopub.execute_input": "2020-09-20T06:43:09.359220Z",
     "iopub.status.busy": "2020-09-20T06:43:09.358806Z",
     "iopub.status.idle": "2020-09-20T06:43:09.360506Z",
     "shell.execute_reply": "2020-09-20T06:43:09.360842Z"
    },
    "papermill": {
     "duration": 0.017582,
     "end_time": "2020-09-20T06:43:09.360953",
     "exception": false,
     "start_time": "2020-09-20T06:43:09.343371",
     "status": "completed"
    },
    "tags": []
   },
   "outputs": [],
   "source": [
    "# plot defaults\n",
    "sns.set_context(context='notebook')\n",
    "plt.rc('figure', dpi=200)"
   ]
  },
  {
   "cell_type": "markdown",
   "metadata": {
    "papermill": {
     "duration": 0.012735,
     "end_time": "2020-09-20T06:43:09.386471",
     "exception": false,
     "start_time": "2020-09-20T06:43:09.373736",
     "status": "completed"
    },
    "tags": []
   },
   "source": [
    "### Load"
   ]
  },
  {
   "cell_type": "code",
   "execution_count": null,
   "metadata": {
    "execution": {
     "iopub.execute_input": "2020-09-20T06:43:09.414831Z",
     "iopub.status.busy": "2020-09-20T06:43:09.414412Z",
     "iopub.status.idle": "2020-09-20T06:43:09.422037Z",
     "shell.execute_reply": "2020-09-20T06:43:09.422359Z"
    },
    "papermill": {
     "duration": 0.023678,
     "end_time": "2020-09-20T06:43:09.422470",
     "exception": false,
     "start_time": "2020-09-20T06:43:09.398792",
     "status": "completed"
    },
    "tags": []
   },
   "outputs": [],
   "source": [
    "output_dir = pathlib.Path(output_dir)\n",
    "mapping_summary = pd.read_csv(output_dir / 'stats/MappingSummary.csv.gz', index_col=0)\n",
    "config = get_configuration(output_dir / 'mapping_config.ini')"
   ]
  },
  {
   "cell_type": "code",
   "execution_count": null,
   "metadata": {
    "execution": {
     "iopub.execute_input": "2020-09-20T06:43:09.452013Z",
     "iopub.status.busy": "2020-09-20T06:43:09.451612Z",
     "iopub.status.idle": "2020-09-20T06:43:09.454194Z",
     "shell.execute_reply": "2020-09-20T06:43:09.453839Z"
    },
    "papermill": {
     "duration": 0.019325,
     "end_time": "2020-09-20T06:43:09.454285",
     "exception": false,
     "start_time": "2020-09-20T06:43:09.434960",
     "status": "completed"
    },
    "tags": []
   },
   "outputs": [],
   "source": [
    "mapping_summary.columns"
   ]
  },
  {
   "cell_type": "markdown",
   "metadata": {
    "papermill": {
     "duration": 0.013345,
     "end_time": "2020-09-20T06:43:09.481343",
     "exception": false,
     "start_time": "2020-09-20T06:43:09.467998",
     "status": "completed"
    },
    "tags": []
   },
   "source": [
    "## Summary"
   ]
  },
  {
   "cell_type": "code",
   "execution_count": null,
   "metadata": {
    "execution": {
     "iopub.execute_input": "2020-09-20T06:43:09.512454Z",
     "iopub.status.busy": "2020-09-20T06:43:09.512034Z",
     "iopub.status.idle": "2020-09-20T06:43:09.730624Z",
     "shell.execute_reply": "2020-09-20T06:43:09.729833Z"
    },
    "papermill": {
     "duration": 0.236161,
     "end_time": "2020-09-20T06:43:09.730763",
     "exception": true,
     "start_time": "2020-09-20T06:43:09.494602",
     "status": "failed"
    },
    "tags": [],
    "pycharm": {
     "name": "#%%\n"
    }
   },
   "outputs": [],
   "source": [
    "# conventional basic check, change as you need\n",
    "mccc_cutoff = 0.03\n",
    "high_mccc = mapping_summary['mCCCFrac'] > mccc_cutoff\n",
    "\n",
    "miseq_guess = mapping_summary['FinalmCReads'].mean() < 50000\n",
    "reads_cutoff = 100 if miseq_guess else 500000\n",
    "low_reads = mapping_summary['FinalmCReads'] < reads_cutoff\n",
    "\n",
    "success = ~high_mccc & ~low_reads\n",
    "n_cell = mapping_summary.shape[0]\n",
    "n_plate = mapping_summary['Plate'].unique().size\n",
    "total_wells = n_plate * 384"
   ]
  },
  {
   "cell_type": "code",
   "execution_count": null,
   "metadata": {
    "papermill": {
     "duration": null,
     "end_time": null,
     "exception": null,
     "start_time": null,
     "status": "pending"
    },
    "tags": []
   },
   "outputs": [],
   "source": [
    "print(f\"\"\"\n",
    "This library seems to be a {'MiSeq' if miseq_guess else 'NovaSeq'} library.\n",
    "\n",
    "Cells\n",
    "    {n_plate}\\t plates\n",
    "    {total_wells}\\t wells (total cell number in theory)\n",
    "\n",
    "    {n_cell} ({n_cell / total_wells * 100:.1f}%)\\t cells having mapping metric\n",
    "    {success.sum()} ({success.sum() / total_wells * 100:.1f}%)\\t cells passed basic QC (mCCC and # of final reads)\n",
    "    {high_mccc.sum()} ({high_mccc.sum() / total_wells * 100:.1f}%)\\tcells having high mCCC frac (> {mccc_cutoff})\n",
    "    {low_reads.sum()} ({low_reads.sum() / total_wells * 100:.1f}%)\\tcells having low number of final mC reads (< {reads_cutoff}).\n",
    "\n",
    "Reads\n",
    "    {mapping_summary['CellInputReadPairs'].sum()*2:.0f}\\tTotal Input Reads (R1 & R2)\n",
    "    {mapping_summary['CellInputReadPairs'].mean()*2:.0f}\\tAverage Input Reads for cells having metric (R1 & R2)\n",
    "    {mapping_summary['FinalmCReads'].sum():.0f}\\tTotal Final Reads (R1 & R2)\n",
    "    {mapping_summary['FinalmCReads'].mean():.0f}\\tAverage Final Reads for cells having metric (R1 & R2)\n",
    "\n",
    "    {mapping_summary['R1MappingRate'].mean():.1f}%\\tAverage R1 Mapping Rate for cells having metric\n",
    "    {mapping_summary['R2MappingRate'].mean():.1f}%\\tAverage R2 Mapping Rate for cells having metric\n",
    "    {mapping_summary['R1DuplicationRate'].mean():.1f}%\\tAverage R1 PCR Duplicate Rate for cells having metric\n",
    "    {mapping_summary['R2DuplicationRate'].mean():.1f}%\\tAverage R2 PCR Duplicate Rate for cells having metric\n",
    "\n",
    "Contacts\n",
    "    {mapping_summary['CisLongRatio'].mean(): .2f}\\tAverage Cis Long Contacts ratio for cells having metric\n",
    "    {mapping_summary['TransRatio'].mean(): .2f}\\tAverage Trans Contacts ratio for cells having metric\n",
    "\"\"\")"
   ]
  },
  {
   "cell_type": "markdown",
   "metadata": {
    "papermill": {
     "duration": null,
     "end_time": null,
     "exception": null,
     "start_time": null,
     "status": "pending"
    },
    "tags": [],
    "pycharm": {
     "name": "#%% md\n"
    }
   },
   "source": [
    "## mC Fraction\n",
    "\n",
    "### mCCC"
   ]
  },
  {
   "cell_type": "code",
   "execution_count": null,
   "metadata": {
    "papermill": {
     "duration": null,
     "end_time": null,
     "exception": null,
     "start_time": null,
     "status": "pending"
    },
    "tags": [],
    "pycharm": {
     "name": "#%%\n"
    }
   },
   "outputs": [],
   "source": [
    "distplot_and_plate_view(mapping_summary, hue='mCCCFrac')"
   ]
  },
  {
   "cell_type": "markdown",
   "metadata": {
    "ExecuteTime": {
     "end_time": "2020-09-19T06:46:57.783339Z",
     "start_time": "2020-09-19T06:46:57.781357Z"
    },
    "papermill": {
     "duration": null,
     "end_time": null,
     "exception": null,
     "start_time": null,
     "status": "pending"
    },
    "tags": [],
    "pycharm": {
     "name": "#%% md\n"
    }
   },
   "source": [
    "### mCH"
   ]
  },
  {
   "cell_type": "code",
   "execution_count": null,
   "metadata": {
    "papermill": {
     "duration": null,
     "end_time": null,
     "exception": null,
     "start_time": null,
     "status": "pending"
    },
    "tags": [],
    "pycharm": {
     "name": "#%%\n"
    }
   },
   "outputs": [],
   "source": [
    "distplot_and_plate_view(mapping_summary, hue='mCHFrac')"
   ]
  },
  {
   "cell_type": "markdown",
   "metadata": {
    "papermill": {
     "duration": null,
     "end_time": null,
     "exception": null,
     "start_time": null,
     "status": "pending"
    },
    "tags": [],
    "pycharm": {
     "name": "#%% md\n"
    }
   },
   "source": [
    "### mCG"
   ]
  },
  {
   "cell_type": "code",
   "execution_count": null,
   "metadata": {
    "papermill": {
     "duration": null,
     "end_time": null,
     "exception": null,
     "start_time": null,
     "status": "pending"
    },
    "tags": [],
    "pycharm": {
     "name": "#%%\n"
    }
   },
   "outputs": [],
   "source": [
    "distplot_and_plate_view(mapping_summary, hue='mCGFrac')"
   ]
  },
  {
   "cell_type": "markdown",
   "metadata": {
    "papermill": {
     "duration": null,
     "end_time": null,
     "exception": null,
     "start_time": null,
     "status": "pending"
    },
    "tags": []
   },
   "source": [
    "## FASTQ Metric"
   ]
  },
  {
   "cell_type": "markdown",
   "metadata": {
    "papermill": {
     "duration": null,
     "end_time": null,
     "exception": null,
     "start_time": null,
     "status": "pending"
    },
    "tags": [],
    "pycharm": {
     "name": "#%% md\n"
    }
   },
   "source": [
    "### CellInputReadPairs"
   ]
  },
  {
   "cell_type": "code",
   "execution_count": null,
   "metadata": {
    "papermill": {
     "duration": null,
     "end_time": null,
     "exception": null,
     "start_time": null,
     "status": "pending"
    },
    "tags": [],
    "pycharm": {
     "name": "#%%\n"
    }
   },
   "outputs": [],
   "source": [
    "distplot_and_plate_view(mapping_summary, hue='CellInputReadPairs')"
   ]
  },
  {
   "cell_type": "markdown",
   "metadata": {
    "papermill": {
     "duration": null,
     "end_time": null,
     "exception": null,
     "start_time": null,
     "status": "pending"
    },
    "tags": [],
    "pycharm": {
     "name": "#%% md\n"
    }
   },
   "source": [
    "## Cell Barcode Portion"
   ]
  },
  {
   "cell_type": "code",
   "execution_count": null,
   "metadata": {
    "papermill": {
     "duration": null,
     "end_time": null,
     "exception": null,
     "start_time": null,
     "status": "pending"
    },
    "tags": [],
    "pycharm": {
     "name": "#%%\n"
    }
   },
   "outputs": [],
   "source": [
    "distplot_and_plate_view(mapping_summary, hue='CellBarcodeRatio')"
   ]
  },
  {
   "cell_type": "markdown",
   "metadata": {
    "papermill": {
     "duration": null,
     "end_time": null,
     "exception": null,
     "start_time": null,
     "status": "pending"
    },
    "tags": [],
    "pycharm": {
     "name": "#%% md\n"
    }
   },
   "source": [
    "## Mapping Rate\n",
    "\n",
    "### R1 Mapping Rate"
   ]
  },
  {
   "cell_type": "code",
   "execution_count": null,
   "metadata": {
    "papermill": {
     "duration": null,
     "end_time": null,
     "exception": null,
     "start_time": null,
     "status": "pending"
    },
    "tags": [],
    "pycharm": {
     "name": "#%%\n"
    }
   },
   "outputs": [],
   "source": [
    "distplot_and_plate_view(mapping_summary, hue='R1MappingRate')"
   ]
  },
  {
   "cell_type": "markdown",
   "metadata": {
    "papermill": {
     "duration": null,
     "end_time": null,
     "exception": null,
     "start_time": null,
     "status": "pending"
    },
    "tags": [],
    "pycharm": {
     "name": "#%% md\n"
    }
   },
   "source": [
    "### R2 Mapping Rate"
   ]
  },
  {
   "cell_type": "code",
   "execution_count": null,
   "metadata": {
    "papermill": {
     "duration": null,
     "end_time": null,
     "exception": null,
     "start_time": null,
     "status": "pending"
    },
    "scrolled": true,
    "tags": [],
    "pycharm": {
     "name": "#%%\n"
    }
   },
   "outputs": [],
   "source": [
    "distplot_and_plate_view(mapping_summary, hue='R2MappingRate')"
   ]
  },
  {
   "cell_type": "markdown",
   "metadata": {
    "papermill": {
     "duration": null,
     "end_time": null,
     "exception": null,
     "start_time": null,
     "status": "pending"
    },
    "tags": []
   },
   "source": [
    "## PCR Duplication Rate"
   ]
  },
  {
   "cell_type": "markdown",
   "metadata": {
    "papermill": {
     "duration": null,
     "end_time": null,
     "exception": null,
     "start_time": null,
     "status": "pending"
    },
    "tags": [],
    "pycharm": {
     "name": "#%% md\n"
    }
   },
   "source": [
    "### R1 PCR Duplication Rate"
   ]
  },
  {
   "cell_type": "code",
   "execution_count": null,
   "metadata": {
    "papermill": {
     "duration": null,
     "end_time": null,
     "exception": null,
     "start_time": null,
     "status": "pending"
    },
    "tags": [],
    "pycharm": {
     "name": "#%%\n"
    }
   },
   "outputs": [],
   "source": [
    "distplot_and_plate_view(mapping_summary, hue='R1DuplicationRate')"
   ]
  },
  {
   "cell_type": "markdown",
   "metadata": {
    "papermill": {
     "duration": null,
     "end_time": null,
     "exception": null,
     "start_time": null,
     "status": "pending"
    },
    "tags": [],
    "pycharm": {
     "name": "#%% md\n"
    }
   },
   "source": [
    "### R2 PCR Duplication Rate"
   ]
  },
  {
   "cell_type": "code",
   "execution_count": null,
   "metadata": {
    "papermill": {
     "duration": null,
     "end_time": null,
     "exception": null,
     "start_time": null,
     "status": "pending"
    },
    "tags": [],
    "pycharm": {
     "name": "#%%\n"
    }
   },
   "outputs": [],
   "source": [
    "distplot_and_plate_view(mapping_summary, hue='R2DuplicationRate')"
   ]
  },
  {
   "cell_type": "markdown",
   "metadata": {
    "papermill": {
     "duration": null,
     "end_time": null,
     "exception": null,
     "start_time": null,
     "status": "pending"
    },
    "tags": [],
    "pycharm": {
     "name": "#%% md\n"
    }
   },
   "source": [
    "## Final mC Reads"
   ]
  },
  {
   "cell_type": "code",
   "execution_count": null,
   "outputs": [],
   "source": [
    "distplot_and_plate_view(mapping_summary, hue='FinalmCReads')"
   ],
   "metadata": {
    "collapsed": false,
    "pycharm": {
     "name": "#%%\n"
    }
   }
  },
  {
   "cell_type": "markdown",
   "source": [
    "## Chromatin Contacts"
   ],
   "metadata": {
    "collapsed": false
   }
  },
  {
   "cell_type": "markdown",
   "source": [
    "### Cis-long Counts"
   ],
   "metadata": {
    "collapsed": false
   }
  },
  {
   "cell_type": "code",
   "execution_count": null,
   "outputs": [],
   "source": [
    "distplot_and_plate_view(mapping_summary, hue='CisLongContact')"
   ],
   "metadata": {
    "collapsed": false,
    "pycharm": {
     "name": "#%%\n"
    }
   }
  },
  {
   "cell_type": "markdown",
   "source": [
    "### Trans Counts"
   ],
   "metadata": {
    "collapsed": false
   }
  },
  {
   "cell_type": "code",
   "execution_count": null,
   "outputs": [],
   "source": [
    "distplot_and_plate_view(mapping_summary, hue='TransContact')"
   ],
   "metadata": {
    "collapsed": false,
    "pycharm": {
     "name": "#%%\n"
    }
   }
  },
  {
   "cell_type": "markdown",
   "metadata": {},
   "source": [
    "## Chromatin Contacts Ratio"
   ]
  },
  {
   "cell_type": "markdown",
   "metadata": {},
   "source": [
    "### Cis-long Ratio"
   ]
  },
  {
   "cell_type": "code",
   "execution_count": null,
   "metadata": {},
   "outputs": [],
   "source": [
    "distplot_and_plate_view(mapping_summary, hue='CisLongRatio')"
   ]
  },
  {
   "cell_type": "markdown",
   "metadata": {},
   "source": [
    "### Trans Ratio"
   ]
  },
  {
   "cell_type": "code",
   "execution_count": null,
   "metadata": {},
   "outputs": [],
   "source": [
    "distplot_and_plate_view(mapping_summary, hue='TransRatio')"
   ]
  },
  {
   "cell_type": "markdown",
   "metadata": {
    "papermill": {
     "duration": null,
     "end_time": null,
     "exception": null,
     "start_time": null,
     "status": "pending"
    },
    "tags": []
   },
   "source": [
    "## Mapping config"
   ]
  },
  {
   "cell_type": "code",
   "execution_count": null,
   "metadata": {
    "papermill": {
     "duration": null,
     "end_time": null,
     "exception": null,
     "start_time": null,
     "status": "pending"
    },
    "tags": []
   },
   "outputs": [],
   "source": [
    "config"
   ]
  },
  {
   "cell_type": "code",
   "execution_count": null,
   "metadata": {
    "papermill": {
     "duration": null,
     "end_time": null,
     "exception": null,
     "start_time": null,
     "status": "pending"
    },
    "tags": []
   },
   "outputs": [],
   "source": []
  }
 ],
 "metadata": {
  "hide_input": false,
  "kernelspec": {
   "display_name": "Python 3",
   "language": "python",
   "name": "python3"
  },
  "language_info": {
   "codemirror_mode": {
    "name": "ipython",
    "version": 3
   },
   "file_extension": ".py",
   "mimetype": "text/x-python",
   "name": "python",
   "nbconvert_exporter": "python",
   "pygments_lexer": "ipython3",
   "version": "3.7.6"
  },
  "papermill": {
   "duration": 3.073546,
   "end_time": "2020-09-20T06:43:10.236870",
   "environment_variables": {},
   "exception": true,
   "input_path": "/home/hanliu/miniconda3/envs/apple/lib/python3.7/site-packages/cemba_data/files/mapping_summary_template/m3c_template.ipynb",
   "output_path": "/home/hanliu/project/mapping_example/miseq_mapping/m3C/stats/MappingSummary.ipynb",
   "parameters": {
    "output_dir": "/home/hanliu/project/mapping_example/miseq_mapping/m3C"
   },
   "start_time": "2020-09-20T06:43:07.163324",
   "version": "2.1.3"
  },
  "pycharm": {
   "stem_cell": {
    "cell_type": "raw",
    "source": [],
    "metadata": {
     "collapsed": false
    }
   }
  },
  "toc": {
   "base_numbering": 1,
   "nav_menu": {},
   "number_sections": true,
   "sideBar": true,
   "skip_h1_title": true,
   "title_cell": "Table of Contents",
   "title_sidebar": "Contents",
   "toc_cell": false,
   "toc_position": {},
   "toc_section_display": true,
   "toc_window_display": true
  }
 },
 "nbformat": 4,
 "nbformat_minor": 4
}