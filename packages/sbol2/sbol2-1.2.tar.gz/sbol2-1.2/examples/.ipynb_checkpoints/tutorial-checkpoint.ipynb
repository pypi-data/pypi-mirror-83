{
 "cells": [
  {
   "cell_type": "markdown",
   "metadata": {},
   "source": [
    "# Introduction\n",
    "\n",
    "1. Create an account on SynBioHub\n",
    "2. Make sure you've downloaded `parts.xml` and it is placed somewhere convenient on your computer.\n",
    "3. Make sure you've downloaded `results.txt` and it is placed somewhere convenient on your computer.\n",
    "4. Install SBOL library in language of choice"
   ]
  },
  {
   "cell_type": "markdown",
   "metadata": {},
   "source": [
    "# Getting a Device from an SBOL Compliant XML"
   ]
  },
  {
   "cell_type": "code",
   "execution_count": null,
   "metadata": {},
   "outputs": [],
   "source": [
    "import sbol2\n",
    "\n",
    "# Set the default namespace (e.g. “http://my_namespace.org”)\n",
    "sbol2.setHomespace('http://sys-bio.org')\n",
    "# Create a new SBOL document\n",
    "doc = sbol2.Document()\n",
    "# Load some generic parts from `parts.xml` into another Document\n",
    "doc.read('../test/resources/tutorial/parts.xml')"
   ]
  },
  {
   "cell_type": "code",
   "execution_count": null,
   "metadata": {},
   "outputs": [],
   "source": [
    "# Inspect the Document\n",
    "for obj in doc:\n",
    "    print(obj.displayId, obj.type)"
   ]
  },
  {
   "cell_type": "markdown",
   "metadata": {},
   "source": [
    "# Getting a Device from Synbiohub"
   ]
  },
  {
   "cell_type": "code",
   "execution_count": null,
   "metadata": {},
   "outputs": [],
   "source": [
    "# Start an interface to igem’s public part shop on SynBioHub. Located at `https://synbiohub.org/public/igem`\n",
    "igem = sbol2.PartShop('https://synbiohub.org/public/igem')\n",
    "# Search the part shop for parts from the iGEM interlab study using the search term `interlab`\n",
    "records = igem.search('promoter')\n",
    "for r in records:\n",
    "    print(r.identity)"
   ]
  },
  {
   "cell_type": "code",
   "execution_count": null,
   "metadata": {},
   "outputs": [],
   "source": [
    "# Import the medium strength device into your document\n",
    "igem.pull('https://synbiohub.org/public/igem/BBa_R0040/1', doc)\n",
    "for cd in doc.componentDefinitions:\n",
    "    print(cd)"
   ]
  },
  {
   "cell_type": "markdown",
   "metadata": {},
   "source": [
    "# Extracting ComponentDefinitions from a Pre-existing Device"
   ]
  },
  {
   "cell_type": "code",
   "execution_count": null,
   "metadata": {},
   "outputs": [],
   "source": [
    "# Extract the medium strength promoter `Medium_2016Interlab` from your document.\n",
    "promoter = doc.componentDefinitions['https://synbiohub.org/public/igem/BBa_R0040/1']\n",
    "\n",
    "# Extract the ribosomal binding site (rbs) `Q2` from your document.\n",
    "rbs = doc.componentDefinitions['Q2']\n",
    "\n",
    "# Extract the coding region (cds) `LuxR` from your document.\n",
    "cds = doc.componentDefinitions['LuxR']\n",
    "\n",
    "# Extract the terminator `ECK120010818` from your document.\n",
    "term = doc.componentDefinitions['ECK120010818']"
   ]
  },
  {
   "cell_type": "markdown",
   "metadata": {},
   "source": [
    "# Creating a New Device"
   ]
  },
  {
   "cell_type": "code",
   "execution_count": null,
   "metadata": {},
   "outputs": [],
   "source": [
    "# Create a new empty device named `my_device`\n",
    "my_device = doc.componentDefinitions.create('my_device')\n",
    "\n",
    "# Assemble the new device from the promoter, rbs, cds, and terminator from above.\n",
    "my_device.assemblePrimaryStructure([promoter, rbs, cds, term], sbol2.IGEM_STANDARD_ASSEMBLY)"
   ]
  },
  {
   "cell_type": "code",
   "execution_count": null,
   "metadata": {},
   "outputs": [],
   "source": [
    "# Inspect the primary structure\n",
    "for cd in my_device.getPrimaryStructure():\n",
    "    print(cd.displayId)"
   ]
  },
  {
   "cell_type": "code",
   "execution_count": null,
   "metadata": {},
   "outputs": [],
   "source": [
    "# Compile the sequence for the new device\n",
    "nucleotides = my_device.compile()\n",
    "seq = my_device.sequence\n",
    "print(seq.elements)\n"
   ]
  },
  {
   "cell_type": "code",
   "execution_count": null,
   "metadata": {},
   "outputs": [],
   "source": [
    "# Set the role of the device with the Sequence Ontology term `gene`\n",
    "my_device.roles = [sbol2.SO_GENE]"
   ]
  },
  {
   "cell_type": "code",
   "execution_count": null,
   "metadata": {},
   "outputs": [],
   "source": [
    "print(my_device.roles)"
   ]
  },
  {
   "cell_type": "code",
   "execution_count": null,
   "metadata": {},
   "outputs": [],
   "source": [
    "my_device.roles = [sbol2.SO + '0000444']"
   ]
  },
  {
   "cell_type": "code",
   "execution_count": null,
   "metadata": {},
   "outputs": [],
   "source": [
    "my_device.roles"
   ]
  },
  {
   "cell_type": "code",
   "execution_count": null,
   "metadata": {},
   "outputs": [],
   "source": []
  }
 ],
 "metadata": {
  "kernelspec": {
   "display_name": "Python 3",
   "language": "python",
   "name": "python3"
  },
  "language_info": {
   "codemirror_mode": {
    "name": "ipython",
    "version": 3
   },
   "file_extension": ".py",
   "mimetype": "text/x-python",
   "name": "python",
   "nbconvert_exporter": "python",
   "pygments_lexer": "ipython3",
   "version": "3.8.0"
  }
 },
 "nbformat": 4,
 "nbformat_minor": 2
}
